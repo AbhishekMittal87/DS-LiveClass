{
 "cells": [
  {
   "cell_type": "code",
   "execution_count": 1,
   "id": "03c4812c",
   "metadata": {},
   "outputs": [],
   "source": [
    "import sqlite3"
   ]
  },
  {
   "cell_type": "code",
   "execution_count": 3,
   "id": "9a957aab",
   "metadata": {},
   "outputs": [],
   "source": [
    "#Adding data in table\n",
    "db=sqlite3.connect(\"C:/Users/Admin/sports_database.db\")\n",
    "cur=db.cursor()"
   ]
  },
  {
   "cell_type": "code",
   "execution_count": 4,
   "id": "6b1d3168",
   "metadata": {},
   "outputs": [
    {
     "data": {
      "text/plain": [
       "<sqlite3.Cursor at 0x1c4db87eb20>"
      ]
     },
     "execution_count": 4,
     "metadata": {},
     "output_type": "execute_result"
    }
   ],
   "source": [
    "#Constraints----\n",
    "#Unique – enter only unique values, no duplicate values\n",
    "#Not null – no black values can be inserted in table\n",
    "cur.execute(\"create table sport (id int primary key, sportname text unique, dateofevent date, country text not null)\")"
   ]
  },
  {
   "cell_type": "code",
   "execution_count": 5,
   "id": "bf602f5e",
   "metadata": {},
   "outputs": [
    {
     "data": {
      "text/plain": [
       "<sqlite3.Cursor at 0x1c4db87eb20>"
      ]
     },
     "execution_count": 5,
     "metadata": {},
     "output_type": "execute_result"
    }
   ],
   "source": [
    "cur.execute(\"insert into sport values (1,'cricket','2021-11-9','England')\")"
   ]
  },
  {
   "cell_type": "code",
   "execution_count": 6,
   "id": "f057cb3d",
   "metadata": {},
   "outputs": [],
   "source": [
    "#this line will throw error as sportname is duplicate – unique constraint failed\n",
    "#cur.execute(“insert into sport values(2,’cricket’,’2018-08-02’,’SriLanka’)”)"
   ]
  },
  {
   "cell_type": "code",
   "execution_count": 7,
   "id": "b23a3332",
   "metadata": {},
   "outputs": [
    {
     "name": "stdout",
     "output_type": "stream",
     "text": [
      "1 record(s) inserted\n"
     ]
    }
   ],
   "source": [
    "cur.execute(\"insert into sport values(2,'Tennis','2018-08-02','SriLanka')\")\n",
    "print(cur.rowcount, \"record(s) inserted\")"
   ]
  },
  {
   "cell_type": "code",
   "execution_count": 8,
   "id": "7de6c16e",
   "metadata": {},
   "outputs": [
    {
     "data": {
      "text/plain": [
       "[(1, 'cricket', '2021-11-9', 'England'),\n",
       " (2, 'Tennis', '2018-08-02', 'SriLanka')]"
      ]
     },
     "execution_count": 8,
     "metadata": {},
     "output_type": "execute_result"
    }
   ],
   "source": [
    "results=cur.execute('select * from sport')\n",
    "results.fetchall()"
   ]
  },
  {
   "cell_type": "code",
   "execution_count": 10,
   "id": "efa5a181",
   "metadata": {},
   "outputs": [],
   "source": [
    "#this query throw error : not null constraint : can not leave any field blank\n",
    "#cur.execute(“insert into sport value(3,’Football’,’2022-05-30’,NULL)”)\n",
    "Results=cur.execute(\"insert into sport values(3,'Football','2022-05-30','Australia')\")\n",
    "db.commit()"
   ]
  },
  {
   "cell_type": "code",
   "execution_count": 11,
   "id": "169f08bd",
   "metadata": {},
   "outputs": [
    {
     "data": {
      "text/plain": [
       "[(1, 'cricket', '2021-11-9', 'England'),\n",
       " (2, 'Tennis', '2018-08-02', 'SriLanka'),\n",
       " (3, 'Football', '2022-05-30', 'Australia')]"
      ]
     },
     "execution_count": 11,
     "metadata": {},
     "output_type": "execute_result"
    }
   ],
   "source": [
    "results=cur.execute('select *from sport')\n",
    "results.fetchall()"
   ]
  },
  {
   "cell_type": "code",
   "execution_count": 12,
   "id": "c0a337ce",
   "metadata": {},
   "outputs": [],
   "source": [
    "#Employee database with DB and Python programmatically"
   ]
  },
  {
   "cell_type": "code",
   "execution_count": 67,
   "id": "3772e410",
   "metadata": {},
   "outputs": [],
   "source": [
    "import sqlite3"
   ]
  },
  {
   "cell_type": "code",
   "execution_count": 74,
   "id": "a868ba66",
   "metadata": {},
   "outputs": [],
   "source": [
    "con=sqlite3.connect(\"C:/Users/Admin/emp_database2.db\")"
   ]
  },
  {
   "cell_type": "code",
   "execution_count": 75,
   "id": "a7f3592d",
   "metadata": {},
   "outputs": [],
   "source": [
    "def sql_table(con):\n",
    "    cur=con.cursor()\n",
    "    cur.execute(\"create table employee (id integer primary key, name text, salary real, department text,position text, hiredate date)\")"
   ]
  },
  {
   "cell_type": "code",
   "execution_count": 76,
   "id": "c988e030",
   "metadata": {},
   "outputs": [],
   "source": [
    "#calling function\n",
    "sql_table(con)"
   ]
  },
  {
   "cell_type": "code",
   "execution_count": 77,
   "id": "cbcd9f02",
   "metadata": {},
   "outputs": [
    {
     "data": {
      "text/plain": [
       "<sqlite3.Cursor at 0x1c6ba4eae30>"
      ]
     },
     "execution_count": 77,
     "metadata": {},
     "output_type": "execute_result"
    }
   ],
   "source": [
    "cur=con.cursor()\n",
    "cur.execute(\"insert into employee values(1,'Jack',9000,'HR','Manager','2019-07-09')\")"
   ]
  },
  {
   "cell_type": "code",
   "execution_count": 78,
   "id": "cdb3b8f6",
   "metadata": {},
   "outputs": [],
   "source": [
    "con.commit;"
   ]
  },
  {
   "cell_type": "code",
   "execution_count": 79,
   "id": "5f97d329",
   "metadata": {},
   "outputs": [
    {
     "data": {
      "text/plain": [
       "[(1, 'Jack', 9000.0, 'HR', 'Manager', '2019-07-09')]"
      ]
     },
     "execution_count": 79,
     "metadata": {},
     "output_type": "execute_result"
    }
   ],
   "source": [
    "results=cur.execute(\"select * from employee\")\n",
    "results.fetchall()"
   ]
  },
  {
   "cell_type": "markdown",
   "id": "13f28fc6",
   "metadata": {},
   "source": [
    "We can also pass values/arguments to an INSERT statement in the execute() method. You can use the question mark (?) as a placeholder for each value. The syntax of the INSERT will be like the following:"
   ]
  },
  {
   "cell_type": "markdown",
   "id": "2c43ea37",
   "metadata": {},
   "source": [
    "cur.execute(‘’’insert into employee(id,name,salary,department,position,hiredate) values(?,?,?,?,?,?)’’’,entities)\n",
    "entities=(2,’John’4000,’IT’,’Engineer’,’2018-02-06’)"
   ]
  },
  {
   "cell_type": "code",
   "execution_count": 80,
   "id": "2238d0b3",
   "metadata": {},
   "outputs": [],
   "source": [
    "def sql_insert(con,entities):\n",
    "    cur=con.cursor()\n",
    "    cur.execute('insert into employee(id,name,salary,department,position,hiredate) values(?,?,?,?,?,?)', entities)"
   ]
  },
  {
   "cell_type": "code",
   "execution_count": 81,
   "id": "c47683c9",
   "metadata": {},
   "outputs": [],
   "source": [
    "entities=(2,'Andrew',7000,'IT','Engineer','2015-04-06')"
   ]
  },
  {
   "cell_type": "code",
   "execution_count": 82,
   "id": "593704bf",
   "metadata": {},
   "outputs": [],
   "source": [
    "#calling sql insert to insert the data\n",
    "sql_insert(con,entities)"
   ]
  },
  {
   "cell_type": "code",
   "execution_count": 83,
   "id": "a98d83b5",
   "metadata": {},
   "outputs": [],
   "source": [
    "entities=(3,'Thomas', 6000, 'HR', 'Manager', '2016-06-14')"
   ]
  },
  {
   "cell_type": "code",
   "execution_count": 84,
   "id": "d75e75d6",
   "metadata": {},
   "outputs": [],
   "source": [
    "sql_insert(con,entities)"
   ]
  },
  {
   "cell_type": "code",
   "execution_count": 85,
   "id": "7350da07",
   "metadata": {},
   "outputs": [
    {
     "data": {
      "text/plain": [
       "[(1, 'Jack', 9000.0, 'HR', 'Manager', '2019-07-09'),\n",
       " (2, 'Andrew', 7000.0, 'IT', 'Engineer', '2015-04-06'),\n",
       " (3, 'Thomas', 6000.0, 'HR', 'Manager', '2016-06-14')]"
      ]
     },
     "execution_count": 85,
     "metadata": {},
     "output_type": "execute_result"
    }
   ],
   "source": [
    "results=cur.execute(\"select * from employee\")\n",
    "results.fetchall()"
   ]
  },
  {
   "cell_type": "code",
   "execution_count": 86,
   "id": "fb9afd08",
   "metadata": {},
   "outputs": [],
   "source": [
    "entities=(4, 'Rudolf', 8000, 'IT', 'Engineer', '2012-08-23')"
   ]
  },
  {
   "cell_type": "code",
   "execution_count": 87,
   "id": "a7dc051e",
   "metadata": {},
   "outputs": [],
   "source": [
    "sql_insert(con,entities)"
   ]
  },
  {
   "cell_type": "code",
   "execution_count": 88,
   "id": "2aaf9d12",
   "metadata": {},
   "outputs": [],
   "source": [
    "entities=(5,'Suzen', 10000, 'Sales', 'Sales Executive', '2018-02-19')"
   ]
  },
  {
   "cell_type": "code",
   "execution_count": 89,
   "id": "4b1045fb",
   "metadata": {},
   "outputs": [],
   "source": [
    "sql_insert(con,entities)"
   ]
  },
  {
   "cell_type": "code",
   "execution_count": 90,
   "id": "651a5093",
   "metadata": {},
   "outputs": [
    {
     "data": {
      "text/plain": [
       "[(1, 'Jack', 9000.0, 'HR', 'Manager', '2019-07-09'),\n",
       " (2, 'Andrew', 7000.0, 'IT', 'Engineer', '2015-04-06'),\n",
       " (3, 'Thomas', 6000.0, 'HR', 'Manager', '2016-06-14'),\n",
       " (4, 'Rudolf', 8000.0, 'IT', 'Engineer', '2012-08-23'),\n",
       " (5, 'Suzen', 10000.0, 'Sales', 'Sales Executive', '2018-02-19')]"
      ]
     },
     "execution_count": 90,
     "metadata": {},
     "output_type": "execute_result"
    }
   ],
   "source": [
    "results=cur.execute(\"select * from employee\")\n",
    "results.fetchall()"
   ]
  },
  {
   "cell_type": "code",
   "execution_count": 91,
   "id": "1530c9a3",
   "metadata": {},
   "outputs": [],
   "source": [
    "def sql_update(con):\n",
    "    cur=con.cursor()\n",
    "    cur.execute('update employee set name=\"Martin\" where id=1')\n",
    "    con.commit()\n",
    "sql_update(con)"
   ]
  },
  {
   "cell_type": "code",
   "execution_count": 92,
   "id": "e394acb5",
   "metadata": {},
   "outputs": [
    {
     "data": {
      "text/plain": [
       "[(1, 'Martin', 9000.0, 'HR', 'Manager', '2019-07-09'),\n",
       " (2, 'Andrew', 7000.0, 'IT', 'Engineer', '2015-04-06'),\n",
       " (3, 'Thomas', 6000.0, 'HR', 'Manager', '2016-06-14'),\n",
       " (4, 'Rudolf', 8000.0, 'IT', 'Engineer', '2012-08-23'),\n",
       " (5, 'Suzen', 10000.0, 'Sales', 'Sales Executive', '2018-02-19')]"
      ]
     },
     "execution_count": 92,
     "metadata": {},
     "output_type": "execute_result"
    }
   ],
   "source": [
    "results=cur.execute(\"select * from employee\")\n",
    "results.fetchall()"
   ]
  },
  {
   "cell_type": "code",
   "execution_count": 93,
   "id": "07e61544",
   "metadata": {},
   "outputs": [
    {
     "data": {
      "text/plain": [
       "[(1, 'Martin'), (2, 'Andrew'), (3, 'Thomas'), (4, 'Rudolf'), (5, 'Suzen')]"
      ]
     },
     "execution_count": 93,
     "metadata": {},
     "output_type": "execute_result"
    }
   ],
   "source": [
    "results=cur.execute(\"select id,name from employee\")\n",
    "results.fetchall()"
   ]
  },
  {
   "cell_type": "code",
   "execution_count": 94,
   "id": "203088f8",
   "metadata": {},
   "outputs": [
    {
     "data": {
      "text/plain": [
       "[(1, 'Martin'), (5, 'Suzen')]"
      ]
     },
     "execution_count": 94,
     "metadata": {},
     "output_type": "execute_result"
    }
   ],
   "source": [
    "results=cur.execute(\"select id, name from employee where salary >8000\")\n",
    "results.fetchall()"
   ]
  },
  {
   "cell_type": "code",
   "execution_count": 95,
   "id": "6448a8e2",
   "metadata": {},
   "outputs": [
    {
     "data": {
      "text/plain": [
       "[(1, 'Martin'), (3, 'Thomas')]"
      ]
     },
     "execution_count": 95,
     "metadata": {},
     "output_type": "execute_result"
    }
   ],
   "source": [
    "results=cur.execute(\"select id, name from employee where department in ('HR')\")\n",
    "results.fetchall()"
   ]
  },
  {
   "cell_type": "code",
   "execution_count": 96,
   "id": "6a70f13a",
   "metadata": {},
   "outputs": [
    {
     "data": {
      "text/plain": [
       "(6000.0,)"
      ]
     },
     "execution_count": 96,
     "metadata": {},
     "output_type": "execute_result"
    }
   ],
   "source": [
    "results=cur.execute(\"select min(salary) from employee\")\n",
    "results.fetchone()"
   ]
  },
  {
   "cell_type": "code",
   "execution_count": 97,
   "id": "a8a3258e",
   "metadata": {},
   "outputs": [
    {
     "data": {
      "text/plain": [
       "(5,)"
      ]
     },
     "execution_count": 97,
     "metadata": {},
     "output_type": "execute_result"
    }
   ],
   "source": [
    "results=cur.execute(\"select count(id) from employee\")\n",
    "results.fetchone()"
   ]
  },
  {
   "cell_type": "code",
   "execution_count": 98,
   "id": "09c0bee9",
   "metadata": {},
   "outputs": [
    {
     "data": {
      "text/plain": [
       "[('HR',), ('IT',), ('Sales',)]"
      ]
     },
     "execution_count": 98,
     "metadata": {},
     "output_type": "execute_result"
    }
   ],
   "source": [
    "results=cur.execute(\"select distinct (department)  from employee\")\n",
    "results.fetchall()"
   ]
  },
  {
   "cell_type": "code",
   "execution_count": 99,
   "id": "30605980",
   "metadata": {},
   "outputs": [
    {
     "data": {
      "text/plain": [
       "[(3,)]"
      ]
     },
     "execution_count": 99,
     "metadata": {},
     "output_type": "execute_result"
    }
   ],
   "source": [
    "results=cur.execute(\"select count(distinct (department))  from employee\")\n",
    "results.fetchall()"
   ]
  },
  {
   "cell_type": "code",
   "execution_count": 100,
   "id": "c36ee593",
   "metadata": {},
   "outputs": [
    {
     "data": {
      "text/plain": [
       "[(15000.0, 'Engineer'), (15000.0, 'Manager'), (10000.0, 'Sales Executive')]"
      ]
     },
     "execution_count": 100,
     "metadata": {},
     "output_type": "execute_result"
    }
   ],
   "source": [
    "results=cur.execute(\"select sum(salary), position from employee group by position\")\n",
    "results.fetchall()"
   ]
  },
  {
   "cell_type": "code",
   "execution_count": 101,
   "id": "af063606",
   "metadata": {},
   "outputs": [
    {
     "data": {
      "text/plain": [
       "[(15000.0, 'HR'), (15000.0, 'IT'), (10000.0, 'Sales')]"
      ]
     },
     "execution_count": 101,
     "metadata": {},
     "output_type": "execute_result"
    }
   ],
   "source": [
    "results=cur.execute(\"select sum(salary), department from employee group by department\")\n",
    "results.fetchall()"
   ]
  },
  {
   "cell_type": "code",
   "execution_count": 102,
   "id": "06e9a9de",
   "metadata": {},
   "outputs": [],
   "source": [
    "def sql_query(sql):\n",
    "    cur=con.cursor()\n",
    "    results=cur.execute(sql)\n",
    "    return results"
   ]
  },
  {
   "cell_type": "code",
   "execution_count": 103,
   "id": "43b4db78",
   "metadata": {},
   "outputs": [],
   "source": [
    "#make query\n",
    "sql=\"select * from employee\""
   ]
  },
  {
   "cell_type": "code",
   "execution_count": 104,
   "id": "6d89776c",
   "metadata": {},
   "outputs": [
    {
     "data": {
      "text/plain": [
       "[(1, 'Martin', 9000.0, 'HR', 'Manager', '2019-07-09'),\n",
       " (2, 'Andrew', 7000.0, 'IT', 'Engineer', '2015-04-06'),\n",
       " (3, 'Thomas', 6000.0, 'HR', 'Manager', '2016-06-14'),\n",
       " (4, 'Rudolf', 8000.0, 'IT', 'Engineer', '2012-08-23'),\n",
       " (5, 'Suzen', 10000.0, 'Sales', 'Sales Executive', '2018-02-19')]"
      ]
     },
     "execution_count": 104,
     "metadata": {},
     "output_type": "execute_result"
    }
   ],
   "source": [
    "#pass query in function\n",
    "respond=sql_query(sql)\n",
    "respond.fetchall()"
   ]
  },
  {
   "cell_type": "code",
   "execution_count": 105,
   "id": "47af50cc",
   "metadata": {},
   "outputs": [],
   "source": [
    "sql=\"select id,name,position from employee\""
   ]
  },
  {
   "cell_type": "code",
   "execution_count": 106,
   "id": "b66e65da",
   "metadata": {},
   "outputs": [
    {
     "data": {
      "text/plain": [
       "[(1, 'Martin', 'Manager'),\n",
       " (2, 'Andrew', 'Engineer'),\n",
       " (3, 'Thomas', 'Manager'),\n",
       " (4, 'Rudolf', 'Engineer'),\n",
       " (5, 'Suzen', 'Sales Executive')]"
      ]
     },
     "execution_count": 106,
     "metadata": {},
     "output_type": "execute_result"
    }
   ],
   "source": [
    "#pass query in function\n",
    "respond=sql_query(sql)\n",
    "respond.fetchall()"
   ]
  },
  {
   "cell_type": "code",
   "execution_count": 107,
   "id": "74433f2b",
   "metadata": {},
   "outputs": [],
   "source": [
    "#SQLite3 Executemany (Bulk insert)\n",
    "#We can use the executemany statement to insert multiple rows at once.\n",
    "entities=[(4, 'Joseph', 4000, 'Account','CA','2016-12-05'),(5,'Maria',10000,'Sales','Sales Executive','2018-05-25')]"
   ]
  },
  {
   "cell_type": "code",
   "execution_count": 111,
   "id": "c3a7069d",
   "metadata": {},
   "outputs": [
    {
     "ename": "ProgrammingError",
     "evalue": "Cannot operate on a closed database.",
     "output_type": "error",
     "traceback": [
      "\u001b[1;31m---------------------------------------------------------------------------\u001b[0m",
      "\u001b[1;31mProgrammingError\u001b[0m                          Traceback (most recent call last)",
      "Input \u001b[1;32mIn [111]\u001b[0m, in \u001b[0;36m<cell line: 1>\u001b[1;34m()\u001b[0m\n\u001b[1;32m----> 1\u001b[0m \u001b[43mcur\u001b[49m\u001b[38;5;241;43m.\u001b[39;49m\u001b[43mexecutemany\u001b[49m\u001b[43m(\u001b[49m\u001b[38;5;124;43m'\u001b[39;49m\u001b[38;5;124;43mupdate into employee(id,name,salary,department,position,hiredate) values(?,?,?,?,?,?)\u001b[39;49m\u001b[38;5;124;43m'\u001b[39;49m\u001b[43m,\u001b[49m\u001b[43m \u001b[49m\u001b[43mentities\u001b[49m\u001b[43m)\u001b[49m\n",
      "\u001b[1;31mProgrammingError\u001b[0m: Cannot operate on a closed database."
     ]
    }
   ],
   "source": [
    "cur.executemany('update into employee(id,name,salary,department,position,hiredate) values(?,?,?,?,?,?)', entities)"
   ]
  },
  {
   "cell_type": "code",
   "execution_count": 112,
   "id": "702bf0e9",
   "metadata": {},
   "outputs": [
    {
     "ename": "ProgrammingError",
     "evalue": "Cannot operate on a closed database.",
     "output_type": "error",
     "traceback": [
      "\u001b[1;31m---------------------------------------------------------------------------\u001b[0m",
      "\u001b[1;31mProgrammingError\u001b[0m                          Traceback (most recent call last)",
      "Input \u001b[1;32mIn [112]\u001b[0m, in \u001b[0;36m<cell line: 1>\u001b[1;34m()\u001b[0m\n\u001b[1;32m----> 1\u001b[0m results\u001b[38;5;241m=\u001b[39m\u001b[43mcur\u001b[49m\u001b[38;5;241;43m.\u001b[39;49m\u001b[43mexecute\u001b[49m\u001b[43m(\u001b[49m\u001b[38;5;124;43m\"\u001b[39;49m\u001b[38;5;124;43mSelect * from employee\u001b[39;49m\u001b[38;5;124;43m\"\u001b[39;49m\u001b[43m)\u001b[49m\n\u001b[0;32m      2\u001b[0m \u001b[38;5;28;01mfor\u001b[39;00m row \u001b[38;5;129;01min\u001b[39;00m results:\n\u001b[0;32m      3\u001b[0m     \u001b[38;5;28mprint\u001b[39m(row)\n",
      "\u001b[1;31mProgrammingError\u001b[0m: Cannot operate on a closed database."
     ]
    }
   ],
   "source": [
    "results=cur.execute(\"Select * from employee\")\n",
    "for row in results:\n",
    "    print(row)"
   ]
  },
  {
   "cell_type": "code",
   "execution_count": 110,
   "id": "32066fc4",
   "metadata": {},
   "outputs": [],
   "source": [
    "con.close()"
   ]
  },
  {
   "cell_type": "code",
   "execution_count": 113,
   "id": "e07d40d5",
   "metadata": {},
   "outputs": [],
   "source": [
    "import sqlite3"
   ]
  },
  {
   "cell_type": "code",
   "execution_count": 153,
   "id": "2f30f9a0",
   "metadata": {},
   "outputs": [],
   "source": [
    "db=sqlite3.connect(\"C://Users/Admin/student_course_database2.db\")\n",
    "cur=db.cursor()"
   ]
  },
  {
   "cell_type": "code",
   "execution_count": 154,
   "id": "16e6ac46",
   "metadata": {},
   "outputs": [
    {
     "data": {
      "text/plain": [
       "<sqlite3.Cursor at 0x1c6ba654030>"
      ]
     },
     "execution_count": 154,
     "metadata": {},
     "output_type": "execute_result"
    }
   ],
   "source": [
    "cur.execute(\"create table course(courseid int primary key,coursename text,duration int)\")"
   ]
  },
  {
   "cell_type": "code",
   "execution_count": 155,
   "id": "37bd7848",
   "metadata": {},
   "outputs": [
    {
     "data": {
      "text/plain": [
       "<sqlite3.Cursor at 0x1c6ba654030>"
      ]
     },
     "execution_count": 155,
     "metadata": {},
     "output_type": "execute_result"
    }
   ],
   "source": [
    "cur.execute(\"create table student(roll_no int primary key, studentname text,age int, courseid int, foreign key(courseid) references course(courseid))\")"
   ]
  },
  {
   "cell_type": "code",
   "execution_count": 156,
   "id": "8e2b9d55",
   "metadata": {},
   "outputs": [
    {
     "name": "stdout",
     "output_type": "stream",
     "text": [
      "3 record(s) inserted\n"
     ]
    }
   ],
   "source": [
    "cur.execute(\"insert into course values(78, 'Data science',12), (56, 'Python course',4), (101, 'Database',7)\")\n",
    "print(cur.rowcount, \"record(s) inserted\")\n",
    "db.commit;"
   ]
  },
  {
   "cell_type": "code",
   "execution_count": 157,
   "id": "92cd711d",
   "metadata": {},
   "outputs": [
    {
     "name": "stdout",
     "output_type": "stream",
     "text": [
      "4 record(s) inserted \n"
     ]
    }
   ],
   "source": [
    "cur.execute(\"insert into student values(1, 'Jack',22,78), (2, 'John', 21,56), (3, 'Rudolf',18,78), (4, 'Jim',21,56)\")\n",
    "print(cur.rowcount,\"record(s) inserted \")\n",
    "db.commit;"
   ]
  },
  {
   "cell_type": "code",
   "execution_count": 158,
   "id": "7bce56a5",
   "metadata": {},
   "outputs": [
    {
     "data": {
      "text/plain": [
       "[(78, 'Data science', 12), (56, 'Python course', 4), (101, 'Database', 7)]"
      ]
     },
     "execution_count": 158,
     "metadata": {},
     "output_type": "execute_result"
    }
   ],
   "source": [
    "results=cur.execute('select * from course')\n",
    "results.fetchall()"
   ]
  },
  {
   "cell_type": "code",
   "execution_count": 159,
   "id": "4691db36",
   "metadata": {},
   "outputs": [
    {
     "data": {
      "text/plain": [
       "[(1, 'Jack', 22, 78),\n",
       " (2, 'John', 21, 56),\n",
       " (3, 'Rudolf', 18, 78),\n",
       " (4, 'Jim', 21, 56)]"
      ]
     },
     "execution_count": 159,
     "metadata": {},
     "output_type": "execute_result"
    }
   ],
   "source": [
    "results=cur.execute('select * from student')\n",
    "results.fetchall()"
   ]
  },
  {
   "cell_type": "code",
   "execution_count": 164,
   "id": "8bc8aa5a",
   "metadata": {},
   "outputs": [
    {
     "name": "stdout",
     "output_type": "stream",
     "text": [
      "(78,)\n"
     ]
    }
   ],
   "source": [
    "results=cur.execute('select courseid from course where coursename=\"Data science\"')\n",
    "for i in results:\n",
    "    print(i)"
   ]
  },
  {
   "cell_type": "code",
   "execution_count": 165,
   "id": "bc5ffe5e",
   "metadata": {},
   "outputs": [
    {
     "data": {
      "text/plain": [
       "[(1, 'Jack', 22, 78), (3, 'Rudolf', 18, 78)]"
      ]
     },
     "execution_count": 165,
     "metadata": {},
     "output_type": "execute_result"
    }
   ],
   "source": [
    "results=cur.execute('select * from student where courseid=(select courseid from course where coursename=\"Data science\")')\n",
    "results.fetchall()"
   ]
  },
  {
   "cell_type": "code",
   "execution_count": 166,
   "id": "eabd198a",
   "metadata": {},
   "outputs": [
    {
     "data": {
      "text/plain": [
       "[(2, 'John', 21, 56), (4, 'Jim', 21, 56)]"
      ]
     },
     "execution_count": 166,
     "metadata": {},
     "output_type": "execute_result"
    }
   ],
   "source": [
    "results=cur.execute('select * from student where courseid=(select courseid from course where coursename=\"Python course\")')\n",
    "results.fetchall()"
   ]
  },
  {
   "cell_type": "code",
   "execution_count": 167,
   "id": "77e9ec53",
   "metadata": {},
   "outputs": [],
   "source": [
    "#Join\n",
    "#Different types of SQL Joins\n",
    "#(Inner) Join: Returns records that havematching value in both tables\n",
    "#Left (outer) join : Returns all records from the left able and the matched records from the right table\n",
    "#Right (outer) join : Returns all recordsfrom the right table, and the matched records from the left table.\n",
    "#Full (outer) join : Returnds all records when there is a match in either left or right table\n",
    "#INNER JOIN"
   ]
  },
  {
   "cell_type": "code",
   "execution_count": 170,
   "id": "8dec78bd",
   "metadata": {},
   "outputs": [],
   "source": [
    "sql = \"SELECT student.roll_no, student.studentname, course.courseid, course.coursename FROM student INNER JOIN course ON student.courseid = course.courseid\""
   ]
  },
  {
   "cell_type": "code",
   "execution_count": 171,
   "id": "774cc044",
   "metadata": {},
   "outputs": [
    {
     "name": "stdout",
     "output_type": "stream",
     "text": [
      "(1, 'Jack', 78, 'Data science')\n",
      "(2, 'John', 56, 'Python course')\n",
      "(3, 'Rudolf', 78, 'Data science')\n",
      "(4, 'Jim', 56, 'Python course')\n"
     ]
    }
   ],
   "source": [
    "results = cur.execute(sql)\n",
    "for row in results:\n",
    "    print(row)"
   ]
  },
  {
   "cell_type": "code",
   "execution_count": 172,
   "id": "96fb6747",
   "metadata": {},
   "outputs": [],
   "source": [
    "#LEFT JOIN\n",
    "sql = \"SELECT student.roll_no, student.studentname, course.courseid, course.coursename FROM student LEFT JOIN course ON student.courseid = course.courseid\""
   ]
  },
  {
   "cell_type": "code",
   "execution_count": 173,
   "id": "f458c012",
   "metadata": {},
   "outputs": [
    {
     "name": "stdout",
     "output_type": "stream",
     "text": [
      "(1, 'Jack', 78, 'Data science')\n",
      "(2, 'John', 56, 'Python course')\n",
      "(3, 'Rudolf', 78, 'Data science')\n",
      "(4, 'Jim', 56, 'Python course')\n"
     ]
    }
   ],
   "source": [
    "results = cur.execute(sql)\n",
    "for row in results:\n",
    "    print(row)"
   ]
  },
  {
   "cell_type": "code",
   "execution_count": 174,
   "id": "c6fe2b3e",
   "metadata": {},
   "outputs": [],
   "source": [
    "sql = \"SELECT student.roll_no, student.studentname, course.courseid, course.coursename FROM course LEFT JOIN student ON student.courseid = course.courseid\""
   ]
  },
  {
   "cell_type": "code",
   "execution_count": 175,
   "id": "0142cf74",
   "metadata": {},
   "outputs": [
    {
     "name": "stdout",
     "output_type": "stream",
     "text": [
      "(1, 'Jack', 78, 'Data science')\n",
      "(3, 'Rudolf', 78, 'Data science')\n",
      "(2, 'John', 56, 'Python course')\n",
      "(4, 'Jim', 56, 'Python course')\n",
      "(None, None, 101, 'Database')\n"
     ]
    }
   ],
   "source": [
    "results = cur.execute(sql)\n",
    "for row in results:\n",
    "    print(row)"
   ]
  },
  {
   "cell_type": "code",
   "execution_count": null,
   "id": "7cda93d5",
   "metadata": {},
   "outputs": [],
   "source": []
  }
 ],
 "metadata": {
  "kernelspec": {
   "display_name": "Python 3 (ipykernel)",
   "language": "python",
   "name": "python3"
  },
  "language_info": {
   "codemirror_mode": {
    "name": "ipython",
    "version": 3
   },
   "file_extension": ".py",
   "mimetype": "text/x-python",
   "name": "python",
   "nbconvert_exporter": "python",
   "pygments_lexer": "ipython3",
   "version": "3.9.12"
  }
 },
 "nbformat": 4,
 "nbformat_minor": 5
}
