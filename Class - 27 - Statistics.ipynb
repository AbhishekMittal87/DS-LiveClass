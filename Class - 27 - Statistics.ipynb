{
 "cells": [
  {
   "cell_type": "markdown",
   "id": "7b30aba0",
   "metadata": {},
   "source": [
    "Basic Statistics\n",
    "The science of collecting, organizing, presenting, analyzing, and interpreting data to assist in making more effective decisions.\n",
    "Statistics: “a bunch of mathematics used to summarize, analyze, and interpret a group of numbers of observations\n",
    "Independent and Dependent Variable\n",
    "Variables are defiend as the properties or kinds of characteristics of certain events or objects.\n",
    "Independent variables are variables that are manipulated or are changed and whose effects are measured and compared. The other name for independent variables is Predictor(s).\n",
    "The independent variables are called as such because independent variables predict or forecast that values of the dependent variable.\n",
    "Dependent variables refer to that type of variable that measures the affect of the independent variable(s). We can also say that the dependent variables are the types of variables that are completely dependent on the independent variable(s). The other name for the dependent variable is the Predicted variable(s).\n",
    "Independent and Dependent Variables contd…\n",
    "Independent variables are also called\n",
    "Controlled variable\n",
    "Explanatory variable\n",
    "Input variable\n",
    "Dependent variables are also called\n",
    "Response variable,\n",
    "Measured variable,\n",
    "Observed variable,\n",
    "Outcome variable,\n",
    "Output variable,\n",
    "Example 1\n",
    "Steve loves gardening,. He decides to experiment to help him determine which fertilizer would be ideal for faster plant growth. He added different brands of fertilizer to different plans and observed their growth over time.\n",
    "The dependent variable Steve will be working with is the increase in the height of each plant (from each separate brand). The independent variable would be the fertilizer brand.\n",
    "Example2\n",
    "Response variable: Yes or No to the Question “Do you smoke?”\n",
    "Explanatory variable: Gender (Female or Male)\n",
    "Example3\n",
    "Response Variable: Weight\n",
    "Explanatory variable: Diet\n",
    "Types of variables/Data\n",
    "Data:-\n",
    "1 Catergorical \n",
    "Example\n",
    "Martial Status\n",
    "Political Party\n",
    "Eye Color\n",
    "(defined categories)\n",
    "2Numerical \n",
    "2a Discrete\n",
    "Examples:\n",
    "Number of Children\n",
    "Defects per hour (Counted Items)\n",
    "2b Continuous\n",
    "Examples\n",
    "Weight\n",
    "Voltage\n",
    "(Measured characteristics)\n",
    "1.Numerical Data\n",
    "Numerical data can be subdivided into two types:\n",
    "1.1Discrete Data\n",
    "Discrete data refers to the measure of things in whole numbers (integers), For example, the number of purchased made by a customer in a year. Since the number of things that a person buys cannot be three and a half, or four and a third – it must be a whole number life four or five things – this kind of data falls under the discrete category.\n",
    "1.2 Continuous data\n",
    "In contrast to discrete data, continuous data includes all numbers possible between any tow integers or whole numbers. For example the height of something. It could be 9.2345 inches or 9.7219 inches, or any other fraction between the two whole numbers nine and ten.\n",
    "2.Catergorical/Nominal Data (non numeric data)\n",
    "This type of data is non-numeric\n",
    "We use it to quantify things in categories like gender, ethnicity, nationality, political party, etc.\n",
    "Gender ---Male,Female\n",
    "Country ---US,UK,UAE\n",
    "We can assign numbers to the categories, but the numbers would not, in that case, represent their value per say.\n",
    "They will only separate one type from the other – type one from type two or three.\n",
    "For example, while calclulating india’s population, Bangalore could be city number one, Mumbai number two and so on\n",
    "3.Ordinal Data\n",
    "Ordinal data is an amalgamation of numerical and categorical data. Simply put, this data type consists of categories that are in order.\n",
    "The intervals between categories are not known.\n",
    "Movie or music ratings that use stars to denote quality.\n",
    "Numbers simply represent the good and bad categories.\n",
    "A movie with a 5-star rating is obviously very good as opposed to a movie with only 1-star, which, very likely, is terrible.\n",
    "Note that the numbers in this example do denote value.\n",
    "Mathematically speaking, 5 is greater that 1. This difference in value is used to differentiate good films from bad. Good films receive a higher rating of 4 or 5, while bad films only get a lower rating of 1 or 2.\n",
    "Interval Data\n",
    "Data is this level can be orderedas it is in a range of values and meaningful differences between the data points can be calculated. Eg: Temperature in Celsius, Year of Birth\n",
    "Types of statistics\n",
    "Descriptive statistics are procedures used to summarize, organize, and make sense of a set of scores or observations.\n",
    "Inferential statistics – procesures used that allow researchers to infer or generalize, observations made with samples to the larger population from wich they were selected.\n"
   ]
  },
  {
   "cell_type": "code",
   "execution_count": 10,
   "id": "9ba7a57f",
   "metadata": {},
   "outputs": [],
   "source": [
    "import numpy as np\n",
    "import warnings\n",
    "warnings.filterwarnings('ignore')"
   ]
  },
  {
   "cell_type": "code",
   "execution_count": 11,
   "id": "68615f01",
   "metadata": {},
   "outputs": [
    {
     "data": {
      "text/plain": [
       "array([34, 56, 37, 12, 19, 90, 88])"
      ]
     },
     "execution_count": 11,
     "metadata": {},
     "output_type": "execute_result"
    }
   ],
   "source": [
    "a=np.array([34,56,37,12,19,90,88])\n",
    "a"
   ]
  },
  {
   "cell_type": "code",
   "execution_count": 12,
   "id": "d748ceaf",
   "metadata": {},
   "outputs": [
    {
     "data": {
      "text/plain": [
       "48.0"
      ]
     },
     "execution_count": 12,
     "metadata": {},
     "output_type": "execute_result"
    }
   ],
   "source": [
    "np.mean(a)"
   ]
  },
  {
   "cell_type": "code",
   "execution_count": 13,
   "id": "791693ff",
   "metadata": {},
   "outputs": [
    {
     "data": {
      "text/plain": [
       "37.0"
      ]
     },
     "execution_count": 13,
     "metadata": {},
     "output_type": "execute_result"
    }
   ],
   "source": [
    "np.median(a)"
   ]
  },
  {
   "cell_type": "code",
   "execution_count": 41,
   "id": "9425bdf9",
   "metadata": {},
   "outputs": [
    {
     "data": {
      "text/plain": [
       "90"
      ]
     },
     "execution_count": 41,
     "metadata": {},
     "output_type": "execute_result"
    }
   ],
   "source": [
    "a.max()"
   ]
  },
  {
   "cell_type": "code",
   "execution_count": 42,
   "id": "e345fbc9",
   "metadata": {},
   "outputs": [
    {
     "data": {
      "text/plain": [
       "12"
      ]
     },
     "execution_count": 42,
     "metadata": {},
     "output_type": "execute_result"
    }
   ],
   "source": [
    "a.min()"
   ]
  },
  {
   "cell_type": "code",
   "execution_count": 43,
   "id": "ca01cc2e",
   "metadata": {},
   "outputs": [
    {
     "data": {
      "text/plain": [
       "78"
      ]
     },
     "execution_count": 43,
     "metadata": {},
     "output_type": "execute_result"
    }
   ],
   "source": [
    "range_of_a=a.max()-a.min()\n",
    "range_of_a"
   ]
  },
  {
   "cell_type": "code",
   "execution_count": 48,
   "id": "0bd55013",
   "metadata": {},
   "outputs": [
    {
     "data": {
      "text/plain": [
       "840.2857142857143"
      ]
     },
     "execution_count": 48,
     "metadata": {},
     "output_type": "execute_result"
    }
   ],
   "source": [
    "np.var(a)"
   ]
  },
  {
   "cell_type": "code",
   "execution_count": 53,
   "id": "18c099fe",
   "metadata": {},
   "outputs": [
    {
     "data": {
      "text/plain": [
       "840.29"
      ]
     },
     "execution_count": 53,
     "metadata": {},
     "output_type": "execute_result"
    }
   ],
   "source": [
    "round(np.var(a),2)"
   ]
  },
  {
   "cell_type": "code",
   "execution_count": 50,
   "id": "049b836e",
   "metadata": {},
   "outputs": [
    {
     "data": {
      "text/plain": [
       "28.987682113023702"
      ]
     },
     "execution_count": 50,
     "metadata": {},
     "output_type": "execute_result"
    }
   ],
   "source": [
    "f=np.std(a)\n",
    "f"
   ]
  },
  {
   "cell_type": "code",
   "execution_count": 51,
   "id": "7e4757b4",
   "metadata": {},
   "outputs": [
    {
     "data": {
      "text/plain": [
       "28.99"
      ]
     },
     "execution_count": 51,
     "metadata": {},
     "output_type": "execute_result"
    }
   ],
   "source": [
    "(round(f,2))"
   ]
  },
  {
   "cell_type": "code",
   "execution_count": 14,
   "id": "d07e9997",
   "metadata": {},
   "outputs": [
    {
     "data": {
      "text/plain": [
       "array([100, 200, 300, 400, 500, 600])"
      ]
     },
     "execution_count": 14,
     "metadata": {},
     "output_type": "execute_result"
    }
   ],
   "source": [
    "b=np.array([100,200,300,400,500,600])\n",
    "b"
   ]
  },
  {
   "cell_type": "code",
   "execution_count": 15,
   "id": "b3dcde34",
   "metadata": {},
   "outputs": [
    {
     "data": {
      "text/plain": [
       "350.0"
      ]
     },
     "execution_count": 15,
     "metadata": {},
     "output_type": "execute_result"
    }
   ],
   "source": [
    "np.mean(b)"
   ]
  },
  {
   "cell_type": "code",
   "execution_count": 16,
   "id": "2410a5a0",
   "metadata": {},
   "outputs": [
    {
     "data": {
      "text/plain": [
       "350.0"
      ]
     },
     "execution_count": 16,
     "metadata": {},
     "output_type": "execute_result"
    }
   ],
   "source": [
    "np.median(b)"
   ]
  },
  {
   "cell_type": "code",
   "execution_count": 19,
   "id": "c9c2ea29",
   "metadata": {},
   "outputs": [
    {
     "data": {
      "text/plain": [
       "array([[23, 45],\n",
       "       [66, 44]])"
      ]
     },
     "execution_count": 19,
     "metadata": {},
     "output_type": "execute_result"
    }
   ],
   "source": [
    "p=np.array([[23,45],[66,44]])\n",
    "p"
   ]
  },
  {
   "cell_type": "code",
   "execution_count": 20,
   "id": "382d4046",
   "metadata": {},
   "outputs": [
    {
     "data": {
      "text/plain": [
       "array([44.5, 44.5])"
      ]
     },
     "execution_count": 20,
     "metadata": {},
     "output_type": "execute_result"
    }
   ],
   "source": [
    "np.mean(p,axis=0) #columnwise"
   ]
  },
  {
   "cell_type": "code",
   "execution_count": 21,
   "id": "32f1bbde",
   "metadata": {},
   "outputs": [
    {
     "data": {
      "text/plain": [
       "array([34., 55.])"
      ]
     },
     "execution_count": 21,
     "metadata": {},
     "output_type": "execute_result"
    }
   ],
   "source": [
    "np.mean(p,axis=1) #rowwise"
   ]
  },
  {
   "cell_type": "code",
   "execution_count": 22,
   "id": "9b12f87b",
   "metadata": {},
   "outputs": [
    {
     "data": {
      "text/plain": [
       "array([[12, 15, 16],\n",
       "       [66, 77, 88],\n",
       "       [34, 33, 99]])"
      ]
     },
     "execution_count": 22,
     "metadata": {},
     "output_type": "execute_result"
    }
   ],
   "source": [
    "j=np.array([[12,15,16],[66,77,88],[34,33,99]])\n",
    "j"
   ]
  },
  {
   "cell_type": "code",
   "execution_count": 23,
   "id": "50377458",
   "metadata": {},
   "outputs": [
    {
     "data": {
      "text/plain": [
       "array([37.33333333, 41.66666667, 67.66666667])"
      ]
     },
     "execution_count": 23,
     "metadata": {},
     "output_type": "execute_result"
    }
   ],
   "source": [
    "np.mean(j,axis=0) #(columnwise)"
   ]
  },
  {
   "cell_type": "code",
   "execution_count": 24,
   "id": "61d63277",
   "metadata": {},
   "outputs": [
    {
     "data": {
      "text/plain": [
       "array([14.33333333, 77.        , 55.33333333])"
      ]
     },
     "execution_count": 24,
     "metadata": {},
     "output_type": "execute_result"
    }
   ],
   "source": [
    "np.mean(j,axis=1)"
   ]
  },
  {
   "cell_type": "code",
   "execution_count": 25,
   "id": "83ab4717",
   "metadata": {},
   "outputs": [
    {
     "data": {
      "text/plain": [
       "array([34., 33., 88.])"
      ]
     },
     "execution_count": 25,
     "metadata": {},
     "output_type": "execute_result"
    }
   ],
   "source": [
    "np.median(j,axis=0)"
   ]
  },
  {
   "cell_type": "code",
   "execution_count": 27,
   "id": "411b1696",
   "metadata": {},
   "outputs": [
    {
     "data": {
      "text/plain": [
       "array([15., 77., 34.])"
      ]
     },
     "execution_count": 27,
     "metadata": {},
     "output_type": "execute_result"
    }
   ],
   "source": [
    "np.median(j,axis=1)"
   ]
  },
  {
   "cell_type": "code",
   "execution_count": 31,
   "id": "ecf8d228",
   "metadata": {},
   "outputs": [],
   "source": [
    "import numpy as np\n",
    "import pandas as pd\n",
    "import scipy\n",
    "from scipy import stats\n",
    "from scipy.stats import percentileofscore"
   ]
  },
  {
   "cell_type": "code",
   "execution_count": 32,
   "id": "ea185f7c",
   "metadata": {},
   "outputs": [
    {
     "data": {
      "text/html": [
       "<div>\n",
       "<style scoped>\n",
       "    .dataframe tbody tr th:only-of-type {\n",
       "        vertical-align: middle;\n",
       "    }\n",
       "\n",
       "    .dataframe tbody tr th {\n",
       "        vertical-align: top;\n",
       "    }\n",
       "\n",
       "    .dataframe thead th {\n",
       "        text-align: right;\n",
       "    }\n",
       "</style>\n",
       "<table border=\"1\" class=\"dataframe\">\n",
       "  <thead>\n",
       "    <tr style=\"text-align: right;\">\n",
       "      <th></th>\n",
       "      <th>Name</th>\n",
       "      <th>Gender</th>\n",
       "      <th>DOB</th>\n",
       "      <th>Maths</th>\n",
       "      <th>Physics</th>\n",
       "      <th>Chemistry</th>\n",
       "      <th>English</th>\n",
       "      <th>Biology</th>\n",
       "      <th>Economics</th>\n",
       "      <th>History</th>\n",
       "      <th>Civics</th>\n",
       "    </tr>\n",
       "  </thead>\n",
       "  <tbody>\n",
       "    <tr>\n",
       "      <th>0</th>\n",
       "      <td>John</td>\n",
       "      <td>M</td>\n",
       "      <td>05-04-1988</td>\n",
       "      <td>55</td>\n",
       "      <td>45</td>\n",
       "      <td>56</td>\n",
       "      <td>87</td>\n",
       "      <td>21</td>\n",
       "      <td>52</td>\n",
       "      <td>89</td>\n",
       "      <td>65</td>\n",
       "    </tr>\n",
       "    <tr>\n",
       "      <th>1</th>\n",
       "      <td>Suresh</td>\n",
       "      <td>M</td>\n",
       "      <td>04-05-1987</td>\n",
       "      <td>75</td>\n",
       "      <td>96</td>\n",
       "      <td>78</td>\n",
       "      <td>64</td>\n",
       "      <td>90</td>\n",
       "      <td>61</td>\n",
       "      <td>58</td>\n",
       "      <td>2</td>\n",
       "    </tr>\n",
       "    <tr>\n",
       "      <th>2</th>\n",
       "      <td>Ramesh</td>\n",
       "      <td>M</td>\n",
       "      <td>25-05-1989</td>\n",
       "      <td>25</td>\n",
       "      <td>54</td>\n",
       "      <td>89</td>\n",
       "      <td>76</td>\n",
       "      <td>95</td>\n",
       "      <td>87</td>\n",
       "      <td>56</td>\n",
       "      <td>74</td>\n",
       "    </tr>\n",
       "    <tr>\n",
       "      <th>3</th>\n",
       "      <td>Jessica</td>\n",
       "      <td>F</td>\n",
       "      <td>12-08-1990</td>\n",
       "      <td>78</td>\n",
       "      <td>96</td>\n",
       "      <td>86</td>\n",
       "      <td>63</td>\n",
       "      <td>54</td>\n",
       "      <td>89</td>\n",
       "      <td>75</td>\n",
       "      <td>45</td>\n",
       "    </tr>\n",
       "    <tr>\n",
       "      <th>4</th>\n",
       "      <td>Jennifer</td>\n",
       "      <td>F</td>\n",
       "      <td>02-09-1989</td>\n",
       "      <td>58</td>\n",
       "      <td>96</td>\n",
       "      <td>78</td>\n",
       "      <td>46</td>\n",
       "      <td>96</td>\n",
       "      <td>77</td>\n",
       "      <td>83</td>\n",
       "      <td>53</td>\n",
       "    </tr>\n",
       "    <tr>\n",
       "      <th>5</th>\n",
       "      <td>Annu</td>\n",
       "      <td>F</td>\n",
       "      <td>05-04-1988</td>\n",
       "      <td>45</td>\n",
       "      <td>87</td>\n",
       "      <td>52</td>\n",
       "      <td>89</td>\n",
       "      <td>55</td>\n",
       "      <td>89</td>\n",
       "      <td>87</td>\n",
       "      <td>52</td>\n",
       "    </tr>\n",
       "    <tr>\n",
       "      <th>6</th>\n",
       "      <td>pooja</td>\n",
       "      <td>F</td>\n",
       "      <td>04-05-1987</td>\n",
       "      <td>55</td>\n",
       "      <td>64</td>\n",
       "      <td>61</td>\n",
       "      <td>58</td>\n",
       "      <td>75</td>\n",
       "      <td>58</td>\n",
       "      <td>64</td>\n",
       "      <td>61</td>\n",
       "    </tr>\n",
       "    <tr>\n",
       "      <th>7</th>\n",
       "      <td>Ritesh</td>\n",
       "      <td>M</td>\n",
       "      <td>25-05-1989</td>\n",
       "      <td>54</td>\n",
       "      <td>76</td>\n",
       "      <td>87</td>\n",
       "      <td>56</td>\n",
       "      <td>25</td>\n",
       "      <td>56</td>\n",
       "      <td>76</td>\n",
       "      <td>87</td>\n",
       "    </tr>\n",
       "    <tr>\n",
       "      <th>8</th>\n",
       "      <td>Farha</td>\n",
       "      <td>F</td>\n",
       "      <td>12-08-1990</td>\n",
       "      <td>55</td>\n",
       "      <td>63</td>\n",
       "      <td>89</td>\n",
       "      <td>75</td>\n",
       "      <td>78</td>\n",
       "      <td>75</td>\n",
       "      <td>63</td>\n",
       "      <td>89</td>\n",
       "    </tr>\n",
       "    <tr>\n",
       "      <th>9</th>\n",
       "      <td>Mukesh</td>\n",
       "      <td>M</td>\n",
       "      <td>02-09-1989</td>\n",
       "      <td>96</td>\n",
       "      <td>46</td>\n",
       "      <td>77</td>\n",
       "      <td>83</td>\n",
       "      <td>58</td>\n",
       "      <td>83</td>\n",
       "      <td>46</td>\n",
       "      <td>77</td>\n",
       "    </tr>\n",
       "  </tbody>\n",
       "</table>\n",
       "</div>"
      ],
      "text/plain": [
       "       Name Gender         DOB  Maths  Physics  Chemistry  English  Biology  \\\n",
       "0      John      M  05-04-1988     55       45         56       87       21   \n",
       "1    Suresh      M  04-05-1987     75       96         78       64       90   \n",
       "2    Ramesh      M  25-05-1989     25       54         89       76       95   \n",
       "3   Jessica      F  12-08-1990     78       96         86       63       54   \n",
       "4  Jennifer      F  02-09-1989     58       96         78       46       96   \n",
       "5      Annu      F  05-04-1988     45       87         52       89       55   \n",
       "6     pooja      F  04-05-1987     55       64         61       58       75   \n",
       "7    Ritesh      M  25-05-1989     54       76         87       56       25   \n",
       "8     Farha      F  12-08-1990     55       63         89       75       78   \n",
       "9    Mukesh      M  02-09-1989     96       46         77       83       58   \n",
       "\n",
       "   Economics  History  Civics  \n",
       "0         52       89      65  \n",
       "1         61       58       2  \n",
       "2         87       56      74  \n",
       "3         89       75      45  \n",
       "4         77       83      53  \n",
       "5         89       87      52  \n",
       "6         58       64      61  \n",
       "7         56       76      87  \n",
       "8         75       63      89  \n",
       "9         83       46      77  "
      ]
     },
     "execution_count": 32,
     "metadata": {},
     "output_type": "execute_result"
    }
   ],
   "source": [
    "#github/dataset1\n",
    "df=pd.read_csv('student_marks.csv')\n",
    "df"
   ]
  },
  {
   "cell_type": "code",
   "execution_count": 33,
   "id": "d452c036",
   "metadata": {},
   "outputs": [
    {
     "data": {
      "text/plain": [
       "59.6"
      ]
     },
     "execution_count": 33,
     "metadata": {},
     "output_type": "execute_result"
    }
   ],
   "source": [
    "df['Maths'].mean()"
   ]
  },
  {
   "cell_type": "code",
   "execution_count": 34,
   "id": "01d31f1d",
   "metadata": {},
   "outputs": [
    {
     "data": {
      "text/plain": [
       "69.7"
      ]
     },
     "execution_count": 34,
     "metadata": {},
     "output_type": "execute_result"
    }
   ],
   "source": [
    "df['English'].mean()"
   ]
  },
  {
   "cell_type": "code",
   "execution_count": 35,
   "id": "35eb6b57",
   "metadata": {},
   "outputs": [
    {
     "data": {
      "text/plain": [
       "75.3"
      ]
     },
     "execution_count": 35,
     "metadata": {},
     "output_type": "execute_result"
    }
   ],
   "source": [
    "df['Chemistry'].mean()"
   ]
  },
  {
   "cell_type": "code",
   "execution_count": 36,
   "id": "f38b5360",
   "metadata": {},
   "outputs": [
    {
     "data": {
      "text/plain": [
       "55.0"
      ]
     },
     "execution_count": 36,
     "metadata": {},
     "output_type": "execute_result"
    }
   ],
   "source": [
    "df['Maths'].median()"
   ]
  },
  {
   "cell_type": "code",
   "execution_count": 37,
   "id": "f45b6f33",
   "metadata": {},
   "outputs": [
    {
     "data": {
      "text/plain": [
       "63.0"
      ]
     },
     "execution_count": 37,
     "metadata": {},
     "output_type": "execute_result"
    }
   ],
   "source": [
    "df['Civics'].median()"
   ]
  },
  {
   "cell_type": "code",
   "execution_count": 38,
   "id": "f7d78743",
   "metadata": {},
   "outputs": [
    {
     "data": {
      "text/plain": [
       "0    55\n",
       "Name: Maths, dtype: int64"
      ]
     },
     "execution_count": 38,
     "metadata": {},
     "output_type": "execute_result"
    }
   ],
   "source": [
    "df['Maths'].mode()"
   ]
  },
  {
   "cell_type": "code",
   "execution_count": 39,
   "id": "74c6e69b",
   "metadata": {},
   "outputs": [
    {
     "data": {
      "text/plain": [
       "0    96\n",
       "Name: Physics, dtype: int64"
      ]
     },
     "execution_count": 39,
     "metadata": {},
     "output_type": "execute_result"
    }
   ],
   "source": [
    "df['Physics'].mode()"
   ]
  },
  {
   "cell_type": "markdown",
   "id": "d1ab251b",
   "metadata": {},
   "source": [
    "Descriptive statistics contid….\n",
    "Descriptive statistics\n",
    "1.Measures of center\n",
    "1a.Mean\n",
    "2b.Median\n",
    "2c.Mode\n",
    "2.Measures of dispersion\n",
    "2a.Range\n",
    "2b.Percentiles/Quartiles\n",
    "2c.IQR\n",
    "2d.Variance\n",
    "2e.Standard Deviation\n",
    "2f.Skewness\n",
    "2g.Kurtosis\n",
    "\n",
    "Mean\n",
    "The average of the given values. To compute mean, sum all the values and divide the sum by the number of values.\n",
    "MEAN = X = x/n\n",
    "\n",
    "Median\n",
    "The Median is the middle value for a dataset that has been arranged in order of magnitude.\n",
    "If the total number of values is odd then \n",
    "Median = (n+1)th/2 term\n",
    "If the total number of values is even then\n",
    "Median = ((n/2)th term + (n/2+1)th term)th term\n",
    "Median = (1+2)/2=1.5\n",
    "Median is 1.5\n",
    "\n",
    "Mode\n",
    "The value in a data set that occurs most often or most frequenctly.\n",
    "Example: 2,3,3,3,4,4,4,4,7,7,8,8,8\n",
    "Mode=4\n",
    "\n",
    "Descriptive statistics\n",
    "2.Measures of dispersion\n",
    "2a.Range\n",
    "\tLargest value and smallest value.\n",
    "\n",
    "2d.Variance\n",
    "\n",
    "\n",
    "2e.Standard Deviation\n",
    "\n",
    "Variance\n",
    "\n",
    "Variance measures how far is the sum of squared distances from each point to the mean i.e the dispersion around the mean.\n",
    "Variance is the average of all squared deviations.\n",
    "\n",
    "x-)2(square)/n for populations (=mean)\n",
    "\n",
    "Standard deviation is …\n",
    "The square root of variance.\n",
    "\n",
    "S = XXsquare\n",
    "\n",
    "Where s = the standard deviation of a sample\n",
    "Means “sum of” \n",
    "X = each value in the data set\n",
    "X = mean of all values in the data set\n",
    "N= number of values in the data set\n",
    "\n",
    "For eg:{3,5,6,9,10} are the values in dataset.\n",
    "\n",
    "Mean = (3+5+6+9+10)/5=6.6\n",
    "Variance=[(3-6.6)2 + (5-6.6)2 + (6-6.6)2+(9-6.6)2+(10-6.6)2]/5\n",
    "=(12.96+2.56+0.36+5.76+11.56)/5=33.2/5=6.64\n",
    "Standard Deviation=Variance=6.64=2.576\n"
   ]
  },
  {
   "cell_type": "code",
   "execution_count": 40,
   "id": "d6517ea6",
   "metadata": {},
   "outputs": [
    {
     "data": {
      "text/plain": [
       "29166.666666666668"
      ]
     },
     "execution_count": 40,
     "metadata": {},
     "output_type": "execute_result"
    }
   ],
   "source": [
    "np.var(b)"
   ]
  },
  {
   "cell_type": "code",
   "execution_count": 54,
   "id": "94daf04f",
   "metadata": {},
   "outputs": [
    {
     "data": {
      "text/plain": [
       "29166.67"
      ]
     },
     "execution_count": 54,
     "metadata": {},
     "output_type": "execute_result"
    }
   ],
   "source": [
    "round(np.var(b),2)"
   ]
  },
  {
   "cell_type": "code",
   "execution_count": 55,
   "id": "8c5d5454",
   "metadata": {},
   "outputs": [
    {
     "data": {
      "text/plain": [
       "170.78251276599332"
      ]
     },
     "execution_count": 55,
     "metadata": {},
     "output_type": "execute_result"
    }
   ],
   "source": [
    "np.std(b)"
   ]
  },
  {
   "cell_type": "code",
   "execution_count": 56,
   "id": "d8514375",
   "metadata": {},
   "outputs": [
    {
     "data": {
      "text/plain": [
       "170.78"
      ]
     },
     "execution_count": 56,
     "metadata": {},
     "output_type": "execute_result"
    }
   ],
   "source": [
    "round(np.std(b),2)"
   ]
  },
  {
   "cell_type": "code",
   "execution_count": 58,
   "id": "e04aecd1",
   "metadata": {},
   "outputs": [
    {
     "data": {
      "text/plain": [
       "500"
      ]
     },
     "execution_count": 58,
     "metadata": {},
     "output_type": "execute_result"
    }
   ],
   "source": [
    "rang=b.max()-b.min()\n",
    "rang"
   ]
  }
 ],
 "metadata": {
  "kernelspec": {
   "display_name": "Python 3 (ipykernel)",
   "language": "python",
   "name": "python3"
  },
  "language_info": {
   "codemirror_mode": {
    "name": "ipython",
    "version": 3
   },
   "file_extension": ".py",
   "mimetype": "text/x-python",
   "name": "python",
   "nbconvert_exporter": "python",
   "pygments_lexer": "ipython3",
   "version": "3.9.12"
  }
 },
 "nbformat": 4,
 "nbformat_minor": 5
}
