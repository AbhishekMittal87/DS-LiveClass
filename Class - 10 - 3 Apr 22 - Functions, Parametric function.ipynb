{
 "cells": [
  {
   "cell_type": "code",
   "execution_count": 1,
   "id": "fce89b83",
   "metadata": {},
   "outputs": [],
   "source": [
    "#Functions\n",
    "#Built in Function\n",
    "#User-defined function\n",
    "#Lambda  functions/amonymous\n",
    "#Help(), print(),float(),str(),type(),range(),min(),max(),len(),input(),list()"
   ]
  },
  {
   "cell_type": "code",
   "execution_count": 2,
   "id": "fa4ec0c8",
   "metadata": {},
   "outputs": [],
   "source": [
    "#help()\n",
    "#help(keywards)\n",
    "#help(modules)"
   ]
  },
  {
   "cell_type": "code",
   "execution_count": 3,
   "id": "1b5ef36d",
   "metadata": {},
   "outputs": [
    {
     "data": {
      "text/plain": [
       "22"
      ]
     },
     "execution_count": 3,
     "metadata": {},
     "output_type": "execute_result"
    }
   ],
   "source": [
    "k = [40,90,22,78,30,67]\n",
    "min(k)"
   ]
  },
  {
   "cell_type": "code",
   "execution_count": 4,
   "id": "c1dbef7b",
   "metadata": {},
   "outputs": [
    {
     "data": {
      "text/plain": [
       "90"
      ]
     },
     "execution_count": 4,
     "metadata": {},
     "output_type": "execute_result"
    }
   ],
   "source": [
    "max(k)"
   ]
  },
  {
   "cell_type": "code",
   "execution_count": 5,
   "id": "0d7b5cdd",
   "metadata": {},
   "outputs": [],
   "source": [
    "def hello():\n",
    "    print(\"Functions in python\")"
   ]
  },
  {
   "cell_type": "code",
   "execution_count": 6,
   "id": "5efc6ed3",
   "metadata": {},
   "outputs": [
    {
     "name": "stdout",
     "output_type": "stream",
     "text": [
      "Functions in python\n"
     ]
    }
   ],
   "source": [
    "#calling a function\n",
    "hello()"
   ]
  },
  {
   "cell_type": "code",
   "execution_count": 7,
   "id": "e85749f8",
   "metadata": {},
   "outputs": [
    {
     "data": {
      "text/plain": [
       "34"
      ]
     },
     "execution_count": 7,
     "metadata": {},
     "output_type": "execute_result"
    }
   ],
   "source": [
    "p=[34,67,89,90,100]\n",
    "min(p)"
   ]
  },
  {
   "cell_type": "markdown",
   "id": "b2e74df0",
   "metadata": {},
   "source": [
    "Functions in python"
   ]
  },
  {
   "cell_type": "markdown",
   "id": "e7f97fe0",
   "metadata": {},
   "source": [
    "User defined function"
   ]
  },
  {
   "cell_type": "code",
   "execution_count": 8,
   "id": "98ab837c",
   "metadata": {},
   "outputs": [],
   "source": [
    "def functionname ():\n",
    "    print(\"I am learning user defined functions\")"
   ]
  },
  {
   "cell_type": "code",
   "execution_count": 9,
   "id": "1ad311ac",
   "metadata": {},
   "outputs": [
    {
     "name": "stdout",
     "output_type": "stream",
     "text": [
      "I am learning user defined functions\n"
     ]
    }
   ],
   "source": [
    "functionname()"
   ]
  },
  {
   "cell_type": "code",
   "execution_count": 10,
   "id": "46e6ab5d",
   "metadata": {},
   "outputs": [],
   "source": [
    "def function1():\n",
    "    print(\"Creating function1\")"
   ]
  },
  {
   "cell_type": "code",
   "execution_count": 11,
   "id": "c802ed29",
   "metadata": {},
   "outputs": [
    {
     "name": "stdout",
     "output_type": "stream",
     "text": [
      "Creating function1\n"
     ]
    }
   ],
   "source": [
    "function1()"
   ]
  },
  {
   "cell_type": "code",
   "execution_count": 12,
   "id": "d7b112f9",
   "metadata": {},
   "outputs": [],
   "source": [
    "def function2():\n",
    "    print(\"Inside function2\")"
   ]
  },
  {
   "cell_type": "code",
   "execution_count": 13,
   "id": "d9550ca4",
   "metadata": {},
   "outputs": [
    {
     "name": "stdout",
     "output_type": "stream",
     "text": [
      "Inside function2\n"
     ]
    }
   ],
   "source": [
    "function2()"
   ]
  },
  {
   "cell_type": "code",
   "execution_count": 14,
   "id": "e9b5dae2",
   "metadata": {},
   "outputs": [
    {
     "name": "stdout",
     "output_type": "stream",
     "text": [
      "Sum= 98\n"
     ]
    }
   ],
   "source": [
    "def addfunction():\n",
    "\ta=90\n",
    "\tb=8\n",
    "\tc=a+b\n",
    "\tprint(\"Sum=\",c)\n",
    "addfunction()"
   ]
  },
  {
   "cell_type": "code",
   "execution_count": 15,
   "id": "c28ea2cd",
   "metadata": {},
   "outputs": [
    {
     "name": "stdout",
     "output_type": "stream",
     "text": [
      "Multiply= 390\n"
     ]
    }
   ],
   "source": [
    "def multiplyfunc():\n",
    "    a=78\n",
    "    b=5\n",
    "    c=a*b\n",
    "    print(\"Multiply=\",c)\n",
    "multiplyfunc()"
   ]
  },
  {
   "cell_type": "code",
   "execution_count": 16,
   "id": "5d08668c",
   "metadata": {},
   "outputs": [],
   "source": [
    "def areaofrectangle():\n",
    "    length=56\n",
    "    breadth=4\n",
    "    area=length*breadth\n",
    "    print=(\"Area of rectangle\",area)\n",
    "    print=(\"Area of rectangle with length=\", \"length\", \"and breadth\", \"is\", area)"
   ]
  },
  {
   "cell_type": "code",
   "execution_count": 22,
   "id": "7e328acb",
   "metadata": {},
   "outputs": [],
   "source": [
    "areaofrectangle()"
   ]
  },
  {
   "cell_type": "code",
   "execution_count": 20,
   "id": "1b09b25a",
   "metadata": {},
   "outputs": [],
   "source": [
    "def areaoftriangle():\n",
    "    base=30\n",
    "    height=15\n",
    "    areaoftriangle=(1/2)*base*height\n",
    "    print(\"Area of triangle=\", areaoftriangle)"
   ]
  },
  {
   "cell_type": "code",
   "execution_count": 21,
   "id": "c6f45330",
   "metadata": {},
   "outputs": [
    {
     "name": "stdout",
     "output_type": "stream",
     "text": [
      "Area of triangle= 225.0\n"
     ]
    }
   ],
   "source": [
    "areaoftriangle()"
   ]
  },
  {
   "cell_type": "code",
   "execution_count": 23,
   "id": "68712988",
   "metadata": {},
   "outputs": [],
   "source": [
    "def area_circle():\n",
    "    pi=3.14\n",
    "    radius=25\n",
    "    circlearea=pi*(radius**2)\n",
    "    print(\"Area of circle=\",circlearea)"
   ]
  },
  {
   "cell_type": "code",
   "execution_count": 24,
   "id": "97b00df3",
   "metadata": {},
   "outputs": [
    {
     "name": "stdout",
     "output_type": "stream",
     "text": [
      "Area of circle= 1962.5\n"
     ]
    }
   ],
   "source": [
    "area_circle()"
   ]
  },
  {
   "cell_type": "code",
   "execution_count": 25,
   "id": "1d5ad8ee",
   "metadata": {},
   "outputs": [
    {
     "name": "stdout",
     "output_type": "stream",
     "text": [
      "Area of circle= 1962\n"
     ]
    }
   ],
   "source": [
    "def area_circle():\n",
    "    pi=3.14\n",
    "    radius=25\n",
    "    circlearea=pi*(radius**2)\n",
    "    print(\"Area of circle=\",int(circlearea))\n",
    "area_circle()"
   ]
  },
  {
   "cell_type": "code",
   "execution_count": 28,
   "id": "cb65d11f",
   "metadata": {},
   "outputs": [
    {
     "name": "stdout",
     "output_type": "stream",
     "text": [
      "Enter the radius value67\n",
      "Area of circle= 14095\n"
     ]
    }
   ],
   "source": [
    "def area_circle():\n",
    "    pi=3.14\n",
    "    radius=int(input(\"Enter the radius value\"))\n",
    "    circlearea=pi*(radius**2)\n",
    "    print(\"Area of circle=\",round(circlearea))\n",
    "area_circle()"
   ]
  },
  {
   "cell_type": "code",
   "execution_count": 29,
   "id": "fb433bdf",
   "metadata": {},
   "outputs": [],
   "source": [
    "def sumfunction():\n",
    "    number1=50\n",
    "    number2=100\n",
    "    result=number1+number2\n",
    "    print(result)"
   ]
  },
  {
   "cell_type": "code",
   "execution_count": 30,
   "id": "5fbcb644",
   "metadata": {},
   "outputs": [
    {
     "name": "stdout",
     "output_type": "stream",
     "text": [
      "150\n"
     ]
    }
   ],
   "source": [
    "sumfunction()"
   ]
  },
  {
   "cell_type": "code",
   "execution_count": 31,
   "id": "5765c05b",
   "metadata": {},
   "outputs": [],
   "source": [
    "#return = for print result(print(result) or return result are same)\n",
    "def sumfunction():\n",
    "    number1=50\n",
    "    number2=100\n",
    "    result=number1+number2\n",
    "    return result"
   ]
  },
  {
   "cell_type": "code",
   "execution_count": 32,
   "id": "120db4fe",
   "metadata": {},
   "outputs": [
    {
     "data": {
      "text/plain": [
       "150"
      ]
     },
     "execution_count": 32,
     "metadata": {},
     "output_type": "execute_result"
    }
   ],
   "source": [
    "sumfunction()"
   ]
  },
  {
   "cell_type": "code",
   "execution_count": 37,
   "id": "b486378a",
   "metadata": {},
   "outputs": [],
   "source": [
    "def substractf():\n",
    "    a=100\n",
    "    b=80\n",
    "    c=a-b\n",
    "    return c"
   ]
  },
  {
   "cell_type": "code",
   "execution_count": 38,
   "id": "f78fdd8b",
   "metadata": {},
   "outputs": [],
   "source": [
    "p=substractf()"
   ]
  },
  {
   "cell_type": "code",
   "execution_count": 39,
   "id": "5f257a8c",
   "metadata": {},
   "outputs": [
    {
     "data": {
      "text/plain": [
       "20"
      ]
     },
     "execution_count": 39,
     "metadata": {},
     "output_type": "execute_result"
    }
   ],
   "source": [
    "p"
   ]
  },
  {
   "cell_type": "code",
   "execution_count": 40,
   "id": "60c2a50f",
   "metadata": {},
   "outputs": [],
   "source": [
    "def substractf():\n",
    "    a=100\n",
    "    b=80\n",
    "    c=a-b\n",
    "    return b"
   ]
  },
  {
   "cell_type": "code",
   "execution_count": 41,
   "id": "f6c8507d",
   "metadata": {},
   "outputs": [
    {
     "data": {
      "text/plain": [
       "80"
      ]
     },
     "execution_count": 41,
     "metadata": {},
     "output_type": "execute_result"
    }
   ],
   "source": [
    "substractf()"
   ]
  },
  {
   "cell_type": "code",
   "execution_count": 42,
   "id": "9d11b446",
   "metadata": {},
   "outputs": [],
   "source": [
    "#2 return command not possible \n",
    "def substractf():\n",
    "    a=100\n",
    "    b=80\n",
    "    c=a-b\n",
    "    return b\n",
    "    return c"
   ]
  },
  {
   "cell_type": "code",
   "execution_count": 43,
   "id": "86f8fabb",
   "metadata": {},
   "outputs": [
    {
     "data": {
      "text/plain": [
       "80"
      ]
     },
     "execution_count": 43,
     "metadata": {},
     "output_type": "execute_result"
    }
   ],
   "source": [
    "substractf()"
   ]
  },
  {
   "cell_type": "code",
   "execution_count": 44,
   "id": "28009510",
   "metadata": {},
   "outputs": [],
   "source": [
    "def testfunction():\n",
    "    for i in ['A','B','C','D']:\n",
    "        print(i)"
   ]
  },
  {
   "cell_type": "code",
   "execution_count": 47,
   "id": "b9e7fe0a",
   "metadata": {},
   "outputs": [
    {
     "name": "stdout",
     "output_type": "stream",
     "text": [
      "A\n",
      "B\n",
      "C\n",
      "D\n"
     ]
    }
   ],
   "source": [
    "testfunction()"
   ]
  },
  {
   "cell_type": "code",
   "execution_count": 52,
   "id": "3640f0d2",
   "metadata": {},
   "outputs": [],
   "source": [
    "def testf1():\n",
    "    list1=[]\n",
    "    for i in [100,200,300,400]:\n",
    "        list1.append(i)\n",
    "        print(list1)\n",
    "    print(list1)"
   ]
  },
  {
   "cell_type": "code",
   "execution_count": 53,
   "id": "6c12a245",
   "metadata": {},
   "outputs": [
    {
     "name": "stdout",
     "output_type": "stream",
     "text": [
      "[100]\n",
      "[100, 200]\n",
      "[100, 200, 300]\n",
      "[100, 200, 300, 400]\n",
      "[100, 200, 300, 400]\n"
     ]
    }
   ],
   "source": [
    "testf1()"
   ]
  },
  {
   "cell_type": "code",
   "execution_count": 65,
   "id": "53114dd6",
   "metadata": {},
   "outputs": [],
   "source": [
    "def testf1():\n",
    "    list1=[]\n",
    "    for i in [100,200,300,400]:\n",
    "        list1.append(i)\n",
    "        print(list1)"
   ]
  },
  {
   "cell_type": "code",
   "execution_count": 66,
   "id": "715f2aea",
   "metadata": {},
   "outputs": [
    {
     "name": "stdout",
     "output_type": "stream",
     "text": [
      "[100]\n",
      "[100, 200]\n",
      "[100, 200, 300]\n",
      "[100, 200, 300, 400]\n"
     ]
    }
   ],
   "source": [
    "testf1()"
   ]
  },
  {
   "cell_type": "code",
   "execution_count": 67,
   "id": "258019d1",
   "metadata": {},
   "outputs": [
    {
     "name": "stdout",
     "output_type": "stream",
     "text": [
      "[100]\n",
      "[100, 200]\n",
      "[100, 200, 300]\n",
      "[100, 200, 300, 400]\n"
     ]
    }
   ],
   "source": [
    "list1=[]\n",
    "for i in [100,200,300,400]:\n",
    "    list1.append(i)\n",
    "    print(list1)"
   ]
  },
  {
   "cell_type": "code",
   "execution_count": 68,
   "id": "29d5ced1",
   "metadata": {},
   "outputs": [],
   "source": [
    "def testfunction():\n",
    "    listchar=[]\n",
    "    for i in ['A','B','C','D']:\n",
    "        listchar.append(i)\n",
    "        print(listchar)\n",
    "    print(\"Complete list of characters\",listchar)"
   ]
  },
  {
   "cell_type": "code",
   "execution_count": 69,
   "id": "87f9c9c5",
   "metadata": {},
   "outputs": [
    {
     "name": "stdout",
     "output_type": "stream",
     "text": [
      "['A']\n",
      "['A', 'B']\n",
      "['A', 'B', 'C']\n",
      "['A', 'B', 'C', 'D']\n",
      "Complete list of characters ['A', 'B', 'C', 'D']\n"
     ]
    }
   ],
   "source": [
    "testfunction()"
   ]
  },
  {
   "cell_type": "code",
   "execution_count": 70,
   "id": "b053fd3e",
   "metadata": {},
   "outputs": [],
   "source": [
    "def testloop():\n",
    "    j=0\n",
    "    while(j<5):\n",
    "        print(j)\n",
    "        j=j+1"
   ]
  },
  {
   "cell_type": "code",
   "execution_count": 71,
   "id": "fe8907cd",
   "metadata": {},
   "outputs": [
    {
     "name": "stdout",
     "output_type": "stream",
     "text": [
      "0\n",
      "1\n",
      "2\n",
      "3\n",
      "4\n"
     ]
    }
   ],
   "source": [
    "testloop()"
   ]
  },
  {
   "cell_type": "markdown",
   "id": "157d16d2",
   "metadata": {},
   "source": [
    "Parametric function"
   ]
  },
  {
   "cell_type": "code",
   "execution_count": 72,
   "id": "90f280ac",
   "metadata": {},
   "outputs": [],
   "source": [
    "def addfunc(a,b):\n",
    "    c=a+b\n",
    "    print(c)"
   ]
  },
  {
   "cell_type": "code",
   "execution_count": 73,
   "id": "97f1bd8b",
   "metadata": {},
   "outputs": [
    {
     "ename": "TypeError",
     "evalue": "addfunc() missing 2 required positional arguments: 'a' and 'b'",
     "output_type": "error",
     "traceback": [
      "\u001b[1;31m---------------------------------------------------------------------------\u001b[0m",
      "\u001b[1;31mTypeError\u001b[0m                                 Traceback (most recent call last)",
      "Input \u001b[1;32mIn [73]\u001b[0m, in \u001b[0;36m<cell line: 1>\u001b[1;34m()\u001b[0m\n\u001b[1;32m----> 1\u001b[0m \u001b[43maddfunc\u001b[49m\u001b[43m(\u001b[49m\u001b[43m)\u001b[49m\n",
      "\u001b[1;31mTypeError\u001b[0m: addfunc() missing 2 required positional arguments: 'a' and 'b'"
     ]
    }
   ],
   "source": [
    "addfunc()"
   ]
  },
  {
   "cell_type": "code",
   "execution_count": 74,
   "id": "7976bbbd",
   "metadata": {},
   "outputs": [],
   "source": [
    "def addfunc(a,b):\n",
    "    c=a+b\n",
    "    print(c)"
   ]
  },
  {
   "cell_type": "code",
   "execution_count": 75,
   "id": "1b6306ac",
   "metadata": {},
   "outputs": [
    {
     "name": "stdout",
     "output_type": "stream",
     "text": [
      "40\n"
     ]
    }
   ],
   "source": [
    "addfunc(30,10)"
   ]
  },
  {
   "cell_type": "code",
   "execution_count": 76,
   "id": "36b2ffa6",
   "metadata": {},
   "outputs": [
    {
     "name": "stdout",
     "output_type": "stream",
     "text": [
      "58\n"
     ]
    }
   ],
   "source": [
    "addfunc(50,8)"
   ]
  },
  {
   "cell_type": "code",
   "execution_count": 77,
   "id": "c77306b6",
   "metadata": {},
   "outputs": [
    {
     "name": "stdout",
     "output_type": "stream",
     "text": [
      "69\n"
     ]
    }
   ],
   "source": [
    "addfunc(67,2)"
   ]
  },
  {
   "cell_type": "code",
   "execution_count": 78,
   "id": "b1a5f5dc",
   "metadata": {},
   "outputs": [],
   "source": [
    "def mulf(a,b):\n",
    "    res=a*b\n",
    "    print(res)"
   ]
  },
  {
   "cell_type": "code",
   "execution_count": 79,
   "id": "b65cc730",
   "metadata": {},
   "outputs": [
    {
     "ename": "TypeError",
     "evalue": "mulf() missing 2 required positional arguments: 'a' and 'b'",
     "output_type": "error",
     "traceback": [
      "\u001b[1;31m---------------------------------------------------------------------------\u001b[0m",
      "\u001b[1;31mTypeError\u001b[0m                                 Traceback (most recent call last)",
      "Input \u001b[1;32mIn [79]\u001b[0m, in \u001b[0;36m<cell line: 1>\u001b[1;34m()\u001b[0m\n\u001b[1;32m----> 1\u001b[0m \u001b[43mmulf\u001b[49m\u001b[43m(\u001b[49m\u001b[43m)\u001b[49m\n",
      "\u001b[1;31mTypeError\u001b[0m: mulf() missing 2 required positional arguments: 'a' and 'b'"
     ]
    }
   ],
   "source": [
    "mulf()"
   ]
  },
  {
   "cell_type": "code",
   "execution_count": 80,
   "id": "b2b87035",
   "metadata": {},
   "outputs": [],
   "source": [
    "def mulf(a,b):\n",
    "    res=a*b\n",
    "    print(res)"
   ]
  },
  {
   "cell_type": "code",
   "execution_count": 81,
   "id": "dd9fdf81",
   "metadata": {},
   "outputs": [
    {
     "name": "stdout",
     "output_type": "stream",
     "text": [
      "405\n"
     ]
    }
   ],
   "source": [
    "mulf(45,9)"
   ]
  },
  {
   "cell_type": "code",
   "execution_count": 82,
   "id": "8ba61bd7",
   "metadata": {},
   "outputs": [
    {
     "name": "stdout",
     "output_type": "stream",
     "text": [
      "60\n"
     ]
    }
   ],
   "source": [
    "mulf(20,3)"
   ]
  },
  {
   "cell_type": "code",
   "execution_count": 83,
   "id": "8d062fab",
   "metadata": {},
   "outputs": [],
   "source": [
    "def area_circle(radius):\n",
    "    pi=3.14\n",
    "    circle_area=pi*(radius**2)\n",
    "    print(\"Area of Circle= \",round(circle_area,2))"
   ]
  },
  {
   "cell_type": "code",
   "execution_count": 84,
   "id": "70bb114c",
   "metadata": {},
   "outputs": [
    {
     "name": "stdout",
     "output_type": "stream",
     "text": [
      "Area of Circle=  5538.96\n"
     ]
    }
   ],
   "source": [
    "area_circle(42)"
   ]
  },
  {
   "cell_type": "code",
   "execution_count": 85,
   "id": "c7f0d4a3",
   "metadata": {},
   "outputs": [
    {
     "name": "stdout",
     "output_type": "stream",
     "text": [
      "Area of Circle=  1519.76\n"
     ]
    }
   ],
   "source": [
    "area_circle(22)"
   ]
  },
  {
   "cell_type": "code",
   "execution_count": 86,
   "id": "eff1a346",
   "metadata": {},
   "outputs": [
    {
     "name": "stdout",
     "output_type": "stream",
     "text": [
      "Enter the radius value22\n",
      "Area of Circle=  1519.76\n"
     ]
    }
   ],
   "source": [
    "radius=int(input(\"Enter the radius value\"))\n",
    "area_circle(radius)"
   ]
  },
  {
   "cell_type": "code",
   "execution_count": null,
   "id": "f533f1a9",
   "metadata": {},
   "outputs": [],
   "source": []
  }
 ],
 "metadata": {
  "kernelspec": {
   "display_name": "Python 3 (ipykernel)",
   "language": "python",
   "name": "python3"
  },
  "language_info": {
   "codemirror_mode": {
    "name": "ipython",
    "version": 3
   },
   "file_extension": ".py",
   "mimetype": "text/x-python",
   "name": "python",
   "nbconvert_exporter": "python",
   "pygments_lexer": "ipython3",
   "version": "3.9.12"
  }
 },
 "nbformat": 4,
 "nbformat_minor": 5
}
