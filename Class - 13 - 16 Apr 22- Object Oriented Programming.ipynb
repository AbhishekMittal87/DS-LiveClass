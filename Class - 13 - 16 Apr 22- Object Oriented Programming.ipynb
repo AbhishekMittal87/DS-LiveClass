{
 "cells": [
  {
   "cell_type": "markdown",
   "id": "40b0a530",
   "metadata": {},
   "source": [
    "# Object Oriented Programming (OOP)"
   ]
  },
  {
   "cell_type": "markdown",
   "id": "98d08852",
   "metadata": {},
   "source": [
    "Class in python\n",
    "\n",
    "The basic idea behind an object-oriented programming (OOP) is to combine both data and associated procedures (known as methods) into a single unit which operate on the data. Suc a unit is called an object.\n",
    "\n",
    "Python is an object-oriented language, everything in python is an object.\n",
    "\n",
    "Class is a architecture of the object. It is a proper description of the attributes and methods of a class. For example, design of a car of same type is a class. You can create many objects from a class. Like you can make many cars of the same type from a design of car.\n",
    "\n",
    "A user-defined prototype for an object that defines a set of attributes that characterize any object of the clas. The attributes are data members (class variables and instance variables) and methods, accessed via dot notation classes provide a means of bundling data and functionality together.\n",
    "\n",
    "Creating a new class creates a new type of object, allowing new instances of that type to be made. Data member – A class variable or instance variable that holds data associated with a class and its objects.\n",
    "Function – function is a code that specify some task\n",
    "\n",
    "Instance – An individual object of a certain class. An object obj that belongs to a class circle, for example, Is an instance of the class circle."
   ]
  },
  {
   "cell_type": "markdown",
   "id": "e6994c11",
   "metadata": {},
   "source": [
    "OOPS – Object Oriented Programming \n",
    "\n",
    "Introduction\n",
    "\n",
    "Object Oriented Programming (OOP) allows programmers to create their own objects that have methods and attributes.\n",
    "Recall that after defining a string, list, dictionary, or other objects, you were able to call methods off of them with the .method_name() syntax.\n",
    "\n",
    "How to use OOP\n",
    "\n",
    "These methods act as function that use information about the object, as well as the object itself to return results, or change the current object.\n",
    "For example this includes appending to a list, or counting the occurrences of an element in a tuple.\n",
    "\n",
    "Structure of OOP\n",
    "\n",
    "OOP allows users to create their own object the general format is often confusing when first encountered, and its selfulness may not be completely clear at first.\n",
    "In general, OOP allows us to create code that is repeatable and organized.\n",
    "\n",
    "Advantages of OOP\n",
    "\n",
    "For much larger scripts of python code, function by themselves aren’t enough organization and repeatability.\n",
    "Commonly repeated tasks and object can be defined with OOP to create code that is more usable."
   ]
  },
  {
   "cell_type": "code",
   "execution_count": 1,
   "id": "055c05eb",
   "metadata": {},
   "outputs": [
    {
     "data": {
      "text/plain": [
       "[1, 2, 3, 4]"
      ]
     },
     "execution_count": 1,
     "metadata": {},
     "output_type": "execute_result"
    }
   ],
   "source": [
    "#Methods and Functions in Python\n",
    "mylist=[1,2,3]\n",
    "mylist.append(4)\n",
    "mylist"
   ]
  },
  {
   "cell_type": "code",
   "execution_count": 2,
   "id": "386d2ede",
   "metadata": {},
   "outputs": [
    {
     "data": {
      "text/plain": [
       "4"
      ]
     },
     "execution_count": 2,
     "metadata": {},
     "output_type": "execute_result"
    }
   ],
   "source": [
    "mylist.pop()"
   ]
  },
  {
   "cell_type": "code",
   "execution_count": 3,
   "id": "f83b3499",
   "metadata": {},
   "outputs": [
    {
     "data": {
      "text/plain": [
       "[1, 2, 3]"
      ]
     },
     "execution_count": 3,
     "metadata": {},
     "output_type": "execute_result"
    }
   ],
   "source": [
    "mylist"
   ]
  },
  {
   "cell_type": "code",
   "execution_count": 4,
   "id": "b02b3318",
   "metadata": {},
   "outputs": [
    {
     "name": "stdout",
     "output_type": "stream",
     "text": [
      "Hello\n"
     ]
    }
   ],
   "source": [
    "def name_of_function():\n",
    "#Docstring explains function,\n",
    "    print(\"Hello\")\n",
    "name_of_function()"
   ]
  },
  {
   "cell_type": "code",
   "execution_count": 5,
   "id": "db6bd2b5",
   "metadata": {},
   "outputs": [
    {
     "name": "stdout",
     "output_type": "stream",
     "text": [
      "Name: Jack Grade: 9\n"
     ]
    }
   ],
   "source": [
    "#Modular function – initialization constructor & normal function\n",
    "\n",
    "class student:\n",
    "\t#initialization constructor --- to give values to data members\n",
    "\tdef __init__ (self, name,grade):\n",
    "\t\tself.name=name\n",
    "\t\tself.grade=grade\n",
    "\tdef display(self):\n",
    "\t\tprint(\"Name:\", self.name, \"Grade:\", self.grade)\n",
    "#create object\n",
    "stud1=student(\"Jack\", 9)\n",
    "stud1.display()"
   ]
  },
  {
   "cell_type": "code",
   "execution_count": 6,
   "id": "d24139cc",
   "metadata": {},
   "outputs": [
    {
     "data": {
      "text/plain": [
       "'Jack'"
      ]
     },
     "execution_count": 6,
     "metadata": {},
     "output_type": "execute_result"
    }
   ],
   "source": [
    "#name & grade is instance variables\n",
    "stud1.name"
   ]
  },
  {
   "cell_type": "code",
   "execution_count": 7,
   "id": "8cb97380",
   "metadata": {},
   "outputs": [
    {
     "data": {
      "text/plain": [
       "9"
      ]
     },
     "execution_count": 7,
     "metadata": {},
     "output_type": "execute_result"
    }
   ],
   "source": [
    "stud1.grade"
   ]
  },
  {
   "cell_type": "code",
   "execution_count": 8,
   "id": "a34f574a",
   "metadata": {},
   "outputs": [
    {
     "name": "stdout",
     "output_type": "stream",
     "text": [
      "Name: Andrew Grade: 10\n"
     ]
    }
   ],
   "source": [
    "stud2=student(\"Andrew\", 10)\n",
    "stud2.display()"
   ]
  },
  {
   "cell_type": "code",
   "execution_count": 9,
   "id": "e3b00d94",
   "metadata": {},
   "outputs": [
    {
     "data": {
      "text/plain": [
       "'Andrew'"
      ]
     },
     "execution_count": 9,
     "metadata": {},
     "output_type": "execute_result"
    }
   ],
   "source": [
    "stud2.name"
   ]
  },
  {
   "cell_type": "code",
   "execution_count": 10,
   "id": "12009039",
   "metadata": {},
   "outputs": [
    {
     "data": {
      "text/plain": [
       "10"
      ]
     },
     "execution_count": 10,
     "metadata": {},
     "output_type": "execute_result"
    }
   ],
   "source": [
    "stud2.grade"
   ]
  },
  {
   "cell_type": "code",
   "execution_count": 9,
   "id": "b31bd2bc",
   "metadata": {},
   "outputs": [
    {
     "name": "stdout",
     "output_type": "stream",
     "text": [
      "Name: Lisa Grade: 6\n"
     ]
    }
   ],
   "source": [
    "class student:\n",
    "\t#class variable\n",
    "\tfees=8000\n",
    "\tdef __init__ (self, name,grade):\n",
    "\t\tself.name=name\n",
    "\t\tself.grade=grade\n",
    "\tdef display(self):\n",
    "\t\tprint(\"Name:\", self.name, \"Grade:\", self.grade)\n",
    "#create object\n",
    "s1=student(\"Lisa\", 6)\n",
    "s1.display()"
   ]
  },
  {
   "cell_type": "code",
   "execution_count": 10,
   "id": "da46ed93",
   "metadata": {},
   "outputs": [
    {
     "data": {
      "text/plain": [
       "8000"
      ]
     },
     "execution_count": 10,
     "metadata": {},
     "output_type": "execute_result"
    }
   ],
   "source": [
    "student.fees"
   ]
  },
  {
   "cell_type": "code",
   "execution_count": 11,
   "id": "8f157e48",
   "metadata": {},
   "outputs": [
    {
     "data": {
      "text/plain": [
       "8000"
      ]
     },
     "execution_count": 11,
     "metadata": {},
     "output_type": "execute_result"
    }
   ],
   "source": [
    "s1.fees"
   ]
  },
  {
   "cell_type": "code",
   "execution_count": 11,
   "id": "4a3392f7",
   "metadata": {},
   "outputs": [
    {
     "name": "stdout",
     "output_type": "stream",
     "text": [
      "Name: John Grade: 8\n"
     ]
    }
   ],
   "source": [
    "s2=student(\"John\", 8)\n",
    "s2.display() #method/member function"
   ]
  },
  {
   "cell_type": "code",
   "execution_count": 13,
   "id": "911e3d17",
   "metadata": {},
   "outputs": [
    {
     "name": "stdout",
     "output_type": "stream",
     "text": [
      "ID= 101 Name is  Andrew\n"
     ]
    }
   ],
   "source": [
    "class person:\n",
    "\t#constructor / initialization automatically called\n",
    "\tdef __init__ (self,id,name):\n",
    "\t\tself.id=id\n",
    "\t\tself.name=name\n",
    "\tdef display(self):\n",
    "\t\tprint(\"ID=\", self.id, \"Name is \", self.name)\n",
    "\n",
    "#instance / object\n",
    "p1=person(101,\"Andrew\")\n",
    "p1.display()"
   ]
  },
  {
   "cell_type": "code",
   "execution_count": 14,
   "id": "ee430eee",
   "metadata": {},
   "outputs": [
    {
     "name": "stdout",
     "output_type": "stream",
     "text": [
      "ID= 102 Name is  John\n"
     ]
    }
   ],
   "source": [
    "p2=person(102, \"John\")\n",
    "p2.display()"
   ]
  },
  {
   "cell_type": "code",
   "execution_count": 15,
   "id": "1030702f",
   "metadata": {},
   "outputs": [
    {
     "data": {
      "text/plain": [
       "1.5"
      ]
     },
     "execution_count": 15,
     "metadata": {},
     "output_type": "execute_result"
    }
   ],
   "source": [
    "#Arguments and keyword arguments\n",
    "#Arguments\n",
    "def myfunc(a,b):\n",
    "\treturn sum((a,b))*0.05\n",
    "myfunc(10,20)"
   ]
  },
  {
   "cell_type": "code",
   "execution_count": 27,
   "id": "19ffde35",
   "metadata": {},
   "outputs": [
    {
     "name": "stdout",
     "output_type": "stream",
     "text": [
      "My favorite fruit is apple\n"
     ]
    }
   ],
   "source": [
    "#Keyword Arguments\n",
    "def myfunc(**kwargs):\n",
    "    if 'fruit' in kwargs:\n",
    "        print('My favorite fruit is', format(kwargs['fruit']))\n",
    "    else:\n",
    "        print(\"don’t find my favorite fruit\")\n",
    "myfunc(fruit='apple', veggie='lettuce', food='pizza')"
   ]
  },
  {
   "cell_type": "code",
   "execution_count": 52,
   "id": "ec0915b3",
   "metadata": {},
   "outputs": [
    {
     "ename": "SyntaxError",
     "evalue": "expression cannot contain assignment, perhaps you meant \"==\"? (4168943172.py, line 3)",
     "output_type": "error",
     "traceback": [
      "\u001b[1;36m  Input \u001b[1;32mIn [52]\u001b[1;36m\u001b[0m\n\u001b[1;33m    myfunc(10,20,30,'fruit'='orange','food'='eggs')\u001b[0m\n\u001b[1;37m                    ^\u001b[0m\n\u001b[1;31mSyntaxError\u001b[0m\u001b[1;31m:\u001b[0m expression cannot contain assignment, perhaps you meant \"==\"?\n"
     ]
    }
   ],
   "source": [
    "def myfunc(*args,**kwargs):\n",
    "\tprint('I like () ()',format(args[0],kwargs['food']))\n",
    "myfunc(10,20,30,fruit='orange',food='eggs')"
   ]
  },
  {
   "cell_type": "code",
   "execution_count": 39,
   "id": "358d20ff",
   "metadata": {},
   "outputs": [
    {
     "ename": "SyntaxError",
     "evalue": "invalid syntax (749378792.py, line 5)",
     "output_type": "error",
     "traceback": [
      "\u001b[1;36m  Input \u001b[1;32mIn [39]\u001b[1;36m\u001b[0m\n\u001b[1;33m    myfunc(10,20,30,fruit:'orange',food:'eggs')\u001b[0m\n\u001b[1;37m                         ^\u001b[0m\n\u001b[1;31mSyntaxError\u001b[0m\u001b[1;31m:\u001b[0m invalid syntax\n"
     ]
    }
   ],
   "source": [
    "def myfunc(*args,**kwargs):\n",
    "\tprint(args)\n",
    "\tprint(kwargs)\n",
    "\tprint('I like () ()',format(args[0],kwargs['food']))\n",
    "myfunc(10,20,30,fruit='orange',food='eggs')"
   ]
  },
  {
   "cell_type": "code",
   "execution_count": 51,
   "id": "cf7a0d5f",
   "metadata": {},
   "outputs": [
    {
     "name": "stdout",
     "output_type": "stream",
     "text": [
      "sam\n",
      "25\n",
      "Andrew\n",
      "15\n"
     ]
    }
   ],
   "source": [
    "#Init method\n",
    "\n",
    "class student:\n",
    "    def __init__(self,name,age):\n",
    "        self.name=name\n",
    "        self.age=age\n",
    "s1=student(\"sam\",25)\n",
    "print(s1.name)\n",
    "print(s1.age)\n",
    "s2=student(\"Andrew\",15)\n",
    "print(s2.name)\n",
    "print(s2.age)"
   ]
  },
  {
   "cell_type": "code",
   "execution_count": 62,
   "id": "b8125393",
   "metadata": {},
   "outputs": [
    {
     "ename": "AttributeError",
     "evalue": "'Employee' object has no attribute 'display'",
     "output_type": "error",
     "traceback": [
      "\u001b[1;31m---------------------------------------------------------------------------\u001b[0m",
      "\u001b[1;31mAttributeError\u001b[0m                            Traceback (most recent call last)",
      "Input \u001b[1;32mIn [62]\u001b[0m, in \u001b[0;36m<cell line: 16>\u001b[1;34m()\u001b[0m\n\u001b[0;32m     14\u001b[0m emp1\u001b[38;5;241m=\u001b[39mEmployee(\u001b[38;5;124m\"\u001b[39m\u001b[38;5;124mJohn\u001b[39m\u001b[38;5;124m\"\u001b[39m,\u001b[38;5;241m26\u001b[39m,\u001b[38;5;241m2000\u001b[39m,\u001b[38;5;241m234\u001b[39m)\n\u001b[0;32m     15\u001b[0m emp1\u001b[38;5;241m=\u001b[39mEmployee(\u001b[38;5;124m\"\u001b[39m\u001b[38;5;124mAndrew\u001b[39m\u001b[38;5;124m\"\u001b[39m,\u001b[38;5;241m30\u001b[39m,\u001b[38;5;241m3000\u001b[39m,\u001b[38;5;241m235\u001b[39m)\n\u001b[1;32m---> 16\u001b[0m \u001b[43memp1\u001b[49m\u001b[38;5;241;43m.\u001b[39;49m\u001b[43mdisplay\u001b[49m()\n\u001b[0;32m     17\u001b[0m emp2\u001b[38;5;241m.\u001b[39mdisplay()\n",
      "\u001b[1;31mAttributeError\u001b[0m: 'Employee' object has no attribute 'display'"
     ]
    }
   ],
   "source": [
    "class Employee:\n",
    "#constructor / initialization automatically called\n",
    "    def __init__ (self,name,age,id,salary):\n",
    "        self.name=name\n",
    "        self.age=age\n",
    "        self.salary=salary\n",
    "        self.id=id\n",
    "class display:\n",
    "    def display(self):\n",
    "        print(\"inside display function\")\n",
    "        print(self.name,self.age, self.id, self.salary)\n",
    "\n",
    "#instance / object\n",
    "emp1=Employee(\"John\",26,2000,234)\n",
    "emp1=Employee(\"Andrew\",30,3000,235)\n",
    "emp1.display()\n",
    "emp2.display()\n"
   ]
  },
  {
   "cell_type": "code",
   "execution_count": 64,
   "id": "f0920fa3",
   "metadata": {},
   "outputs": [
    {
     "name": "stdout",
     "output_type": "stream",
     "text": [
      "George\n",
      "London\n",
      "400\n"
     ]
    }
   ],
   "source": [
    "class company:\n",
    "#class variable\n",
    "    Revenue=80000\n",
    "    def __init__(self,name,location,number_of_employees):\n",
    "        self.name=name\n",
    "        self.location=location\n",
    "        self.number_of_employees=number_of_employees\n",
    "c=company(\"George\", \"London\",400)\n",
    "print(c.name)\n",
    "print(c.location)\n",
    "print(c.number_of_employees)"
   ]
  },
  {
   "cell_type": "code",
   "execution_count": 66,
   "id": "86a37e84",
   "metadata": {},
   "outputs": [
    {
     "data": {
      "text/plain": [
       "80000"
      ]
     },
     "execution_count": 66,
     "metadata": {},
     "output_type": "execute_result"
    }
   ],
   "source": [
    "company.Revenue"
   ]
  },
  {
   "cell_type": "code",
   "execution_count": 67,
   "id": "ac7a0e56",
   "metadata": {},
   "outputs": [
    {
     "name": "stdout",
     "output_type": "stream",
     "text": [
      "c 80000\n"
     ]
    }
   ],
   "source": [
    "print(\"c\",c.Revenue)"
   ]
  },
  {
   "cell_type": "code",
   "execution_count": 69,
   "id": "395db28f",
   "metadata": {},
   "outputs": [
    {
     "name": "stdout",
     "output_type": "stream",
     "text": [
      "This is a Red Ferrari\n"
     ]
    }
   ],
   "source": [
    "class car:\n",
    "#A Simple class for cars\n",
    "#constructor to initiatize\n",
    "    def __init__ (self,company,color):\n",
    "        self.company=company\n",
    "        self.color=color\n",
    "    #function to print car company and color \n",
    "    def display(self):\n",
    "        print('This is a', self.color,self.company)\n",
    "def main():\n",
    "    c=car(\"Ferrari\",\"Red\")\n",
    "    c.display()\n",
    "if __name__==\"__main__\":\n",
    "    main()"
   ]
  },
  {
   "cell_type": "code",
   "execution_count": 71,
   "id": "41f122ca",
   "metadata": {},
   "outputs": [
    {
     "name": "stdout",
     "output_type": "stream",
     "text": [
      "initialized method called\n",
      "Hello William 35\n",
      "getdata method called\n",
      "Hello John 25\n"
     ]
    }
   ],
   "source": [
    "class employee:\n",
    "    def __init__(self,name,age):\n",
    "        print(\"initialized method called\")\n",
    "        self.name=name\n",
    "        self.age=age\n",
    "    def getdata(self,name,age):\n",
    "        print(\"getdata method called\")\n",
    "        self.name=name\n",
    "        self.age=age\n",
    "\n",
    "    def displaydata(self):\n",
    "        print(\"Hello\", self.name,self.age)\n",
    "def main():\n",
    "    e=employee(\"William\",35) #here initialize will work\n",
    "    e.displaydata()\n",
    "    e.getdata(\"John\",25)\n",
    "    e.displaydata()\n",
    "if __name__==\"__main__\":\n",
    "\tmain()"
   ]
  },
  {
   "cell_type": "code",
   "execution_count": 88,
   "id": "f0ac63ad",
   "metadata": {},
   "outputs": [
    {
     "name": "stdout",
     "output_type": "stream",
     "text": [
      "Initialized data for players\n",
      "Player details :  Virat 35 Cricket\n",
      "Getting data for players\n",
      "Player details :  Richard 45 Tennis\n",
      "Initialized data for players\n",
      "Player details :  Dhoni 25 Cricket\n",
      "Getting data for players\n",
      "Player details :  Vivian 65 Cricket\n"
     ]
    }
   ],
   "source": [
    "class player:\n",
    "    def __init__(self,name,age,sport):\n",
    "        print(\"Initialized data for players\")\n",
    "        self.name=name\n",
    "        self.age=age\n",
    "        self.sport=sport\n",
    "    def getdata(self,name,age,sport):\n",
    "        print(\"Getting data for players\")\n",
    "        self.name=name\n",
    "        self.age=age\n",
    "        self.sport=sport\n",
    "    def displaydata(self):\n",
    "        print(\"Player details : \", self.name, self.age, self.sport)\n",
    "\n",
    "def main():\n",
    "    P1=player(\"Virat\",35,\"Cricket\")\n",
    "    P1.displaydata()\n",
    "\n",
    "    P1.getdata(\"Richard\",45,\"Tennis\")\n",
    "    P1.displaydata()\n",
    "\n",
    "    P2=player(\"Dhoni\",25,\"Cricket\")\n",
    "    P2.displaydata()\n",
    "\n",
    "    P2.getdata(\"Vivian\",65,\"Cricket\")\n",
    "    P2.displaydata()\n",
    "\n",
    "if __name__==\"__main__\":\n",
    "    main()"
   ]
  },
  {
   "cell_type": "code",
   "execution_count": 1,
   "id": "357bb7c1",
   "metadata": {},
   "outputs": [
    {
     "ename": "NameError",
     "evalue": "name 'myanimal' is not defined",
     "output_type": "error",
     "traceback": [
      "\u001b[1;31m---------------------------------------------------------------------------\u001b[0m",
      "\u001b[1;31mNameError\u001b[0m                                 Traceback (most recent call last)",
      "Input \u001b[1;32mIn [1]\u001b[0m, in \u001b[0;36m<cell line: 9>\u001b[1;34m()\u001b[0m\n\u001b[0;32m      7\u001b[0m \t\u001b[38;5;28;01mdef\u001b[39;00m \u001b[38;5;21meat\u001b[39m(\u001b[38;5;28mself\u001b[39m):\n\u001b[0;32m      8\u001b[0m \t\t\u001b[38;5;28mprint\u001b[39m(\u001b[38;5;124m'\u001b[39m\u001b[38;5;124mI am eating\u001b[39m\u001b[38;5;124m'\u001b[39m)\n\u001b[1;32m----> 9\u001b[0m \u001b[43mmyanimal\u001b[49m\u001b[38;5;241m.\u001b[39mAnimal()\n",
      "\u001b[1;31mNameError\u001b[0m: name 'myanimal' is not defined"
     ]
    }
   ],
   "source": [
    "#Inheritance in Python\n",
    "class Animal():\n",
    "\tdef _init_(self):\n",
    "\t\tprint('Animal Created')\n",
    "\tdef who_am_i(self):\n",
    "\t\tprint('I as an animal')\n",
    "\tdef eat(self):\n",
    "\t\tprint('I am eating')\n",
    "myanimal.Animal()"
   ]
  },
  {
   "cell_type": "code",
   "execution_count": null,
   "id": "f75f8817",
   "metadata": {},
   "outputs": [],
   "source": []
  }
 ],
 "metadata": {
  "kernelspec": {
   "display_name": "Python 3 (ipykernel)",
   "language": "python",
   "name": "python3"
  },
  "language_info": {
   "codemirror_mode": {
    "name": "ipython",
    "version": 3
   },
   "file_extension": ".py",
   "mimetype": "text/x-python",
   "name": "python",
   "nbconvert_exporter": "python",
   "pygments_lexer": "ipython3",
   "version": "3.9.12"
  }
 },
 "nbformat": 4,
 "nbformat_minor": 5
}
