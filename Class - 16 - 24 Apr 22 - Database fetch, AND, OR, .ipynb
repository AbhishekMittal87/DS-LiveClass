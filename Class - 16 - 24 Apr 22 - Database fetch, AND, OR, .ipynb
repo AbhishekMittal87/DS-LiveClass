{
 "cells": [
  {
   "cell_type": "markdown",
   "id": "0e9dfe9b",
   "metadata": {},
   "source": [
    "FETCH THE DATA FROM STUDENT DATABASE"
   ]
  },
  {
   "cell_type": "code",
   "execution_count": 18,
   "id": "74acf96a",
   "metadata": {},
   "outputs": [],
   "source": [
    "#FETCH THE DATA FROM STUDENT DATABASE\n",
    "import sqlite3"
   ]
  },
  {
   "cell_type": "code",
   "execution_count": 19,
   "id": "9f6752c7",
   "metadata": {},
   "outputs": [],
   "source": [
    "#First connection object\n",
    "db=sqlite3.connect(\"student_database.db\")"
   ]
  },
  {
   "cell_type": "code",
   "execution_count": 20,
   "id": "070bd378",
   "metadata": {},
   "outputs": [],
   "source": [
    "#create cursor object from connection\n",
    "cur=db.cursor()"
   ]
  },
  {
   "cell_type": "code",
   "execution_count": 21,
   "id": "bfc8c411",
   "metadata": {},
   "outputs": [
    {
     "name": "stdout",
     "output_type": "stream",
     "text": [
      "(1, 'John', 90)\n",
      "(2, 'Teena', 100)\n",
      "(3, 'Andrew', 70)\n",
      "(4, 'Dorsey', 56)\n",
      "(5, 'David', 45)\n",
      "(6, 'Kim', 70)\n",
      "(7, 'Kiara', 75)\n",
      "(8, 'Jack', 94)\n"
     ]
    }
   ],
   "source": [
    "results=cur.execute(\"select * from student\")\n",
    "for row in results:\n",
    "    print(row)"
   ]
  },
  {
   "cell_type": "code",
   "execution_count": 22,
   "id": "c096b2e3",
   "metadata": {},
   "outputs": [],
   "source": [
    "cur.execute(\"insert into student(id,name,marks)values(9,'Andrew',70)\")\n",
    "db.commit()"
   ]
  },
  {
   "cell_type": "code",
   "execution_count": 23,
   "id": "5ae79a9b",
   "metadata": {},
   "outputs": [
    {
     "name": "stdout",
     "output_type": "stream",
     "text": [
      "(1, 'John', 90)\n",
      "(2, 'Teena', 100)\n",
      "(3, 'Andrew', 70)\n",
      "(4, 'Dorsey', 56)\n",
      "(5, 'David', 45)\n",
      "(6, 'Kim', 70)\n",
      "(7, 'Kiara', 75)\n",
      "(8, 'Jack', 94)\n",
      "(9, 'Andrew', 70)\n"
     ]
    }
   ],
   "source": [
    "results=cur.execute(\"select * from student\")\n",
    "for row in results:\n",
    "    print(row)"
   ]
  },
  {
   "cell_type": "code",
   "execution_count": 24,
   "id": "63411ddd",
   "metadata": {},
   "outputs": [],
   "source": [
    "cur.execute(\"insert into student values(10,'Andrew',70)\")\n",
    "db.commit()"
   ]
  },
  {
   "cell_type": "code",
   "execution_count": 25,
   "id": "32d6cbdc",
   "metadata": {},
   "outputs": [
    {
     "name": "stdout",
     "output_type": "stream",
     "text": [
      "(1, 'John', 90)\n",
      "(2, 'Teena', 100)\n",
      "(3, 'Andrew', 70)\n",
      "(4, 'Dorsey', 56)\n",
      "(5, 'David', 45)\n",
      "(6, 'Kim', 70)\n",
      "(7, 'Kiara', 75)\n",
      "(8, 'Jack', 94)\n",
      "(9, 'Andrew', 70)\n",
      "(10, 'Andrew', 70)\n"
     ]
    }
   ],
   "source": [
    "results=cur.execute(\"select * from student\")\n",
    "for row in results:\n",
    "    print(row)"
   ]
  },
  {
   "cell_type": "code",
   "execution_count": 26,
   "id": "616fc635",
   "metadata": {},
   "outputs": [
    {
     "name": "stdout",
     "output_type": "stream",
     "text": [
      "(1, 'John', 90)\n"
     ]
    }
   ],
   "source": [
    "results=cur.execute(\"select * from student where id=1\")\n",
    "for row in results:\n",
    "    print(row)"
   ]
  },
  {
   "cell_type": "code",
   "execution_count": 27,
   "id": "596bbb98",
   "metadata": {},
   "outputs": [
    {
     "name": "stdout",
     "output_type": "stream",
     "text": [
      "(2, 'Teena', 100)\n"
     ]
    }
   ],
   "source": [
    "results=cur.execute(\"select * from student where id=2\")\n",
    "for row in results:\n",
    "    print(row)"
   ]
  },
  {
   "cell_type": "code",
   "execution_count": 28,
   "id": "cfa1297e",
   "metadata": {},
   "outputs": [
    {
     "name": "stdout",
     "output_type": "stream",
     "text": [
      "(3, 'Andrew', 70)\n"
     ]
    }
   ],
   "source": [
    "results=cur.execute(\"select * from student where id=3\")\n",
    "for row in results:\n",
    "    print(row)"
   ]
  },
  {
   "cell_type": "code",
   "execution_count": 29,
   "id": "8f50a43d",
   "metadata": {},
   "outputs": [
    {
     "name": "stdout",
     "output_type": "stream",
     "text": [
      "(4, 'Dorsey', 56)\n"
     ]
    }
   ],
   "source": [
    "results=cur.execute(\"select * from student where id=4\")\n",
    "for row in results:\n",
    "    print(row)"
   ]
  },
  {
   "cell_type": "code",
   "execution_count": 30,
   "id": "a4e2e6f6",
   "metadata": {},
   "outputs": [
    {
     "name": "stdout",
     "output_type": "stream",
     "text": [
      "(5, 'David', 45)\n"
     ]
    }
   ],
   "source": [
    "results=cur.execute(\"select * from student where id=5\")\n",
    "for row in results:\n",
    "    print(row)"
   ]
  },
  {
   "cell_type": "code",
   "execution_count": 31,
   "id": "54b6823e",
   "metadata": {},
   "outputs": [
    {
     "name": "stdout",
     "output_type": "stream",
     "text": [
      "(6, 'Kim', 70)\n"
     ]
    }
   ],
   "source": [
    "results=cur.execute(\"select * from student where id=6\")\n",
    "for row in results:\n",
    "    print(row)"
   ]
  },
  {
   "cell_type": "code",
   "execution_count": 32,
   "id": "15f210e9",
   "metadata": {},
   "outputs": [
    {
     "name": "stdout",
     "output_type": "stream",
     "text": [
      "(1, 'John', 90)\n",
      "(2, 'Teena', 100)\n",
      "(3, 'Andrew', 70)\n"
     ]
    }
   ],
   "source": [
    "results=cur.execute(\"Select * from student limit 3\")\n",
    "for i in results:\n",
    "    print(i)"
   ]
  },
  {
   "cell_type": "code",
   "execution_count": 33,
   "id": "72c81146",
   "metadata": {},
   "outputs": [
    {
     "name": "stdout",
     "output_type": "stream",
     "text": [
      "('Teena',)\n"
     ]
    }
   ],
   "source": [
    "results=cur.execute(\"Select name from student where id=2\")\n",
    "for i in results:\n",
    "    print(i)"
   ]
  },
  {
   "cell_type": "code",
   "execution_count": 34,
   "id": "b2e9b039",
   "metadata": {},
   "outputs": [
    {
     "name": "stdout",
     "output_type": "stream",
     "text": [
      "(100,)\n"
     ]
    }
   ],
   "source": [
    "results=cur.execute(\"Select marks from student where id=2\")\n",
    "for i in results:\n",
    "    print(i)"
   ]
  },
  {
   "cell_type": "code",
   "execution_count": 35,
   "id": "bb3a3058",
   "metadata": {},
   "outputs": [
    {
     "name": "stdout",
     "output_type": "stream",
     "text": [
      "(1, 'John', 90)\n"
     ]
    }
   ],
   "source": [
    "results=cur.execute(\"Select * from student where name='John'\")\n",
    "for i in results:\n",
    "    print(i)"
   ]
  },
  {
   "cell_type": "code",
   "execution_count": 36,
   "id": "ce86fb7c",
   "metadata": {},
   "outputs": [
    {
     "name": "stdout",
     "output_type": "stream",
     "text": [
      "(90,)\n"
     ]
    }
   ],
   "source": [
    "results=cur.execute(\"Select marks from student where name='John'\")\n",
    "for i in results:\n",
    "    print(i)"
   ]
  },
  {
   "cell_type": "code",
   "execution_count": 37,
   "id": "29efaf83",
   "metadata": {},
   "outputs": [
    {
     "name": "stdout",
     "output_type": "stream",
     "text": [
      "(3, 'Andrew', 70)\n",
      "(6, 'Kim', 70)\n",
      "(7, 'Kiara', 75)\n",
      "(9, 'Andrew', 70)\n",
      "(10, 'Andrew', 70)\n"
     ]
    }
   ],
   "source": [
    "results=cur.execute(\"Select * from student where marks>60 and marks<90\")\n",
    "for i in results:\n",
    "    print(i)"
   ]
  },
  {
   "cell_type": "code",
   "execution_count": 38,
   "id": "370ee1d1",
   "metadata": {},
   "outputs": [
    {
     "name": "stdout",
     "output_type": "stream",
     "text": [
      "(4, 'Dorsey', 56)\n",
      "(5, 'David', 45)\n"
     ]
    }
   ],
   "source": [
    "results=cur.execute(\"Select * from student where marks>40 and marks<60\")\n",
    "for i in results:\n",
    "    print(i)"
   ]
  },
  {
   "cell_type": "code",
   "execution_count": 39,
   "id": "800337ed",
   "metadata": {},
   "outputs": [
    {
     "name": "stdout",
     "output_type": "stream",
     "text": [
      "(1, 'John', 90)\n",
      "(2, 'Teena', 100)\n",
      "(3, 'Andrew', 70)\n",
      "(4, 'Dorsey', 56)\n",
      "(5, 'David', 45)\n",
      "(6, 'Kim', 70)\n",
      "(7, 'Kiara', 75)\n",
      "(8, 'Jack', 94)\n",
      "(9, 'Andrew', 70)\n",
      "(10, 'Andrew', 70)\n"
     ]
    }
   ],
   "source": [
    "results=cur.execute(\"Select*from student\")\n",
    "for i in results:\n",
    "    print(i)"
   ]
  },
  {
   "cell_type": "code",
   "execution_count": 40,
   "id": "1963a14a",
   "metadata": {},
   "outputs": [
    {
     "data": {
      "text/plain": [
       "[(1, 'John', 90),\n",
       " (2, 'Teena', 100),\n",
       " (3, 'Andrew', 70),\n",
       " (4, 'Dorsey', 56),\n",
       " (5, 'David', 45),\n",
       " (6, 'Kim', 70),\n",
       " (7, 'Kiara', 75),\n",
       " (8, 'Jack', 94),\n",
       " (9, 'Andrew', 70),\n",
       " (10, 'Andrew', 70)]"
      ]
     },
     "execution_count": 40,
     "metadata": {},
     "output_type": "execute_result"
    }
   ],
   "source": [
    "#fetchall will display all rows\n",
    "results=cur.execute('Select * from student')\n",
    "results.fetchall()"
   ]
  },
  {
   "cell_type": "code",
   "execution_count": 41,
   "id": "799a6043",
   "metadata": {},
   "outputs": [
    {
     "name": "stdout",
     "output_type": "stream",
     "text": [
      "(3, 'Andrew', 70)\n",
      "(9, 'Andrew', 70)\n",
      "(10, 'Andrew', 70)\n",
      "(5, 'David', 45)\n",
      "(4, 'Dorsey', 56)\n",
      "(8, 'Jack', 94)\n",
      "(1, 'John', 90)\n",
      "(7, 'Kiara', 75)\n",
      "(6, 'Kim', 70)\n",
      "(2, 'Teena', 100)\n"
     ]
    }
   ],
   "source": [
    "#Order (ascending or descending) by clause\n",
    "results=cur.execute(\"Select * from student order by name asc\")\n",
    "for i in results:\n",
    "    print(i)"
   ]
  },
  {
   "cell_type": "code",
   "execution_count": 42,
   "id": "9f4e083e",
   "metadata": {},
   "outputs": [
    {
     "data": {
      "text/plain": [
       "[(2, 'Teena', 100),\n",
       " (6, 'Kim', 70),\n",
       " (7, 'Kiara', 75),\n",
       " (1, 'John', 90),\n",
       " (8, 'Jack', 94),\n",
       " (4, 'Dorsey', 56),\n",
       " (5, 'David', 45),\n",
       " (3, 'Andrew', 70),\n",
       " (9, 'Andrew', 70),\n",
       " (10, 'Andrew', 70)]"
      ]
     },
     "execution_count": 42,
     "metadata": {},
     "output_type": "execute_result"
    }
   ],
   "source": [
    "results=cur.execute(\"Select*from student order by name desc\")\n",
    "results.fetchall()"
   ]
  },
  {
   "cell_type": "code",
   "execution_count": 43,
   "id": "57e2165e",
   "metadata": {},
   "outputs": [
    {
     "name": "stdout",
     "output_type": "stream",
     "text": [
      "(5, 'David', 45)\n"
     ]
    }
   ],
   "source": [
    "#AND operator\n",
    "results=cur.execute(\"Select * from student where name='David' and marks=45\")\n",
    "for i in results:\n",
    "    print(i)"
   ]
  },
  {
   "cell_type": "code",
   "execution_count": 44,
   "id": "1483ef2a",
   "metadata": {},
   "outputs": [],
   "source": [
    "results=cur.execute(\"Select * from student where name='David' and marks=68\")\n",
    "for i in results:\n",
    "    print(i)"
   ]
  },
  {
   "cell_type": "code",
   "execution_count": 45,
   "id": "4e48fb2f",
   "metadata": {},
   "outputs": [],
   "source": [
    "results=cur.execute(\"Select * from student where id=2 and marks=70\")\n",
    "for i in results:\n",
    "    print(i)"
   ]
  },
  {
   "cell_type": "code",
   "execution_count": 46,
   "id": "a51c24ec",
   "metadata": {},
   "outputs": [
    {
     "name": "stdout",
     "output_type": "stream",
     "text": [
      "(2, 'Teena', 100)\n",
      "(3, 'Andrew', 70)\n",
      "(6, 'Kim', 70)\n",
      "(9, 'Andrew', 70)\n",
      "(10, 'Andrew', 70)\n"
     ]
    }
   ],
   "source": [
    "#OR operator\n",
    "results=cur.execute(\"Select * from student where id=2 or marks=70\")\n",
    "for i in results:\n",
    "    print(i)"
   ]
  },
  {
   "cell_type": "code",
   "execution_count": 47,
   "id": "1e3fc041",
   "metadata": {},
   "outputs": [
    {
     "data": {
      "text/plain": [
       "[(2, 'Teena', 100), (3, 'Andrew', 70)]"
      ]
     },
     "execution_count": 47,
     "metadata": {},
     "output_type": "execute_result"
    }
   ],
   "source": [
    "results=cur.execute(\"Select * from student where id=3 or marks=100\")\n",
    "results.fetchall()"
   ]
  },
  {
   "cell_type": "code",
   "execution_count": 48,
   "id": "7c67cbd3",
   "metadata": {},
   "outputs": [
    {
     "name": "stdout",
     "output_type": "stream",
     "text": [
      "(2, 'Teena', 100)\n",
      "(3, 'Andrew', 70)\n",
      "(6, 'Kim', 70)\n",
      "(9, 'Andrew', 70)\n",
      "(10, 'Andrew', 70)\n"
     ]
    }
   ],
   "source": [
    "results=cur.execute(\"Select * from student where id=2 or marks=70\")\n",
    "for i in results:\n",
    "    print(i)"
   ]
  },
  {
   "cell_type": "code",
   "execution_count": 49,
   "id": "3d3f36dd",
   "metadata": {},
   "outputs": [],
   "source": [
    "#Aggregate Functions\n",
    "#MIN – find minimum\n",
    "#MAX – find maximum\n",
    "#AVG – find average\n",
    "#SUM – find sum\n",
    "#COUNT – count the number of rows"
   ]
  },
  {
   "cell_type": "code",
   "execution_count": 50,
   "id": "08c7f9a7",
   "metadata": {},
   "outputs": [
    {
     "name": "stdout",
     "output_type": "stream",
     "text": [
      "(45,)\n"
     ]
    }
   ],
   "source": [
    "#find minimum marks\n",
    "results=cur.execute(\"Select min(marks) from student\")\n",
    "for i in results:\n",
    "    print(i)"
   ]
  },
  {
   "cell_type": "code",
   "execution_count": 51,
   "id": "c24d1f24",
   "metadata": {},
   "outputs": [
    {
     "data": {
      "text/plain": [
       "(100,)"
      ]
     },
     "execution_count": 51,
     "metadata": {},
     "output_type": "execute_result"
    }
   ],
   "source": [
    "#find maximum marks\n",
    "results=cur.execute(\"Select max(marks) from student\")\n",
    "results.fetchone()"
   ]
  },
  {
   "cell_type": "code",
   "execution_count": 52,
   "id": "a8c510fe",
   "metadata": {},
   "outputs": [
    {
     "data": {
      "text/plain": [
       "(74.0,)"
      ]
     },
     "execution_count": 52,
     "metadata": {},
     "output_type": "execute_result"
    }
   ],
   "source": [
    "#find average marks\n",
    "results=cur.execute(\"Select avg(marks) from student\")\n",
    "results.fetchone()"
   ]
  },
  {
   "cell_type": "code",
   "execution_count": 53,
   "id": "ca221f38",
   "metadata": {},
   "outputs": [
    {
     "name": "stdout",
     "output_type": "stream",
     "text": [
      "(74.0,)\n"
     ]
    }
   ],
   "source": [
    "results=cur.execute(\"Select avg(marks) from student\")\n",
    "for i in results:\n",
    "    print(i)"
   ]
  },
  {
   "cell_type": "code",
   "execution_count": 54,
   "id": "a7abfecb",
   "metadata": {},
   "outputs": [
    {
     "data": {
      "text/plain": [
       "(740,)"
      ]
     },
     "execution_count": 54,
     "metadata": {},
     "output_type": "execute_result"
    }
   ],
   "source": [
    "#find sum\n",
    "results=cur.execute(\"Select sum(marks) from student\")\n",
    "results.fetchone()"
   ]
  },
  {
   "cell_type": "code",
   "execution_count": 55,
   "id": "ba745207",
   "metadata": {},
   "outputs": [
    {
     "data": {
      "text/plain": [
       "(10,)"
      ]
     },
     "execution_count": 55,
     "metadata": {},
     "output_type": "execute_result"
    }
   ],
   "source": [
    "results=cur.execute(\"Select count(marks) from student\")\n",
    "results.fetchone()"
   ]
  },
  {
   "cell_type": "code",
   "execution_count": 56,
   "id": "c0abb432",
   "metadata": {},
   "outputs": [],
   "source": [
    "#(fetchall for more than 1 row, fechone for more than 1 row)"
   ]
  },
  {
   "cell_type": "code",
   "execution_count": 57,
   "id": "788e8373",
   "metadata": {},
   "outputs": [
    {
     "name": "stdout",
     "output_type": "stream",
     "text": [
      "(3, 'Andrew', 70)\n",
      "(6, 'Kim', 70)\n",
      "(7, 'Kiara', 75)\n",
      "(9, 'Andrew', 70)\n",
      "(10, 'Andrew', 70)\n"
     ]
    }
   ],
   "source": [
    "results=cur.execute(\"Select * from student where marks between 65 and 85\")\n",
    "for i in results:\n",
    "    print(i)"
   ]
  },
  {
   "cell_type": "code",
   "execution_count": 58,
   "id": "3713516a",
   "metadata": {},
   "outputs": [
    {
     "data": {
      "text/plain": [
       "[(3, 'Andrew', 70),\n",
       " (6, 'Kim', 70),\n",
       " (7, 'Kiara', 75),\n",
       " (9, 'Andrew', 70),\n",
       " (10, 'Andrew', 70)]"
      ]
     },
     "execution_count": 58,
     "metadata": {},
     "output_type": "execute_result"
    }
   ],
   "source": [
    "results=cur.execute(\"Select * from student where marks between 65 and 85\")\n",
    "results.fetchall()"
   ]
  },
  {
   "cell_type": "code",
   "execution_count": 59,
   "id": "d336ce30",
   "metadata": {},
   "outputs": [],
   "source": [
    "results=cur.execute(\"Select * from student where marks is null\")\n",
    "for i in results:\n",
    "    print(i)"
   ]
  },
  {
   "cell_type": "code",
   "execution_count": 60,
   "id": "22366317",
   "metadata": {},
   "outputs": [
    {
     "name": "stdout",
     "output_type": "stream",
     "text": [
      "(1, 'John', 90)\n",
      "(2, 'Teena', 100)\n",
      "(3, 'Andrew', 70)\n",
      "(4, 'Dorsey', 56)\n",
      "(5, 'David', 45)\n",
      "(6, 'Kim', 70)\n",
      "(7, 'Kiara', 75)\n",
      "(8, 'Jack', 94)\n",
      "(9, 'Andrew', 70)\n",
      "(10, 'Andrew', 70)\n"
     ]
    }
   ],
   "source": [
    "results=cur.execute(\"Select * from student where marks is not null\")\n",
    "for i in results:\n",
    "    print(i)"
   ]
  },
  {
   "cell_type": "code",
   "execution_count": 61,
   "id": "c74d3ca4",
   "metadata": {},
   "outputs": [],
   "source": [
    "#LIKE operators"
   ]
  },
  {
   "cell_type": "code",
   "execution_count": 62,
   "id": "ef676e48",
   "metadata": {},
   "outputs": [
    {
     "name": "stdout",
     "output_type": "stream",
     "text": [
      "(4, 'Dorsey', 56)\n",
      "(5, 'David', 45)\n"
     ]
    }
   ],
   "source": [
    "results=cur.execute(\"Select * from student where name like 'D%'\")#start with D name\n",
    "for i in results:\n",
    "    print(i)"
   ]
  },
  {
   "cell_type": "code",
   "execution_count": 63,
   "id": "d8931fd3",
   "metadata": {},
   "outputs": [
    {
     "name": "stdout",
     "output_type": "stream",
     "text": [
      "(1, 'John', 90)\n",
      "(8, 'Jack', 94)\n"
     ]
    }
   ],
   "source": [
    "results=cur.execute(\"Select * from student where name like 'J%'\")#start with J name\n",
    "for i in results:\n",
    "    print(i)"
   ]
  },
  {
   "cell_type": "code",
   "execution_count": 64,
   "id": "d00e03e8",
   "metadata": {},
   "outputs": [
    {
     "name": "stdout",
     "output_type": "stream",
     "text": [
      "(5, 'David', 45)\n",
      "(8, 'Jack', 94)\n"
     ]
    }
   ],
   "source": [
    "results=cur.execute(\"Select * from student where name like '_a%'\")#after one character a in name\n",
    "for i in results:\n",
    "    print(i)"
   ]
  },
  {
   "cell_type": "code",
   "execution_count": 65,
   "id": "b42b3c18",
   "metadata": {},
   "outputs": [
    {
     "name": "stdout",
     "output_type": "stream",
     "text": [
      "(6, 'Kim', 70)\n"
     ]
    }
   ],
   "source": [
    "results=cur.execute(\"Select * from student where name like '%m'\")#last character m in name\n",
    "for i in results:\n",
    "    print(i)"
   ]
  },
  {
   "cell_type": "code",
   "execution_count": 66,
   "id": "90bf94da",
   "metadata": {},
   "outputs": [
    {
     "name": "stdout",
     "output_type": "stream",
     "text": [
      "(2, 'Teena', 100)\n",
      "(3, 'Andrew', 70)\n",
      "(4, 'Dorsey', 56)\n",
      "(9, 'Andrew', 70)\n",
      "(10, 'Andrew', 70)\n"
     ]
    }
   ],
   "source": [
    "results=cur.execute(\"Select * from student where name like '%e%'\")#between character e in name\n",
    "for i in results:\n",
    "    print(i)"
   ]
  },
  {
   "cell_type": "code",
   "execution_count": 67,
   "id": "b4c67d04",
   "metadata": {},
   "outputs": [
    {
     "data": {
      "text/plain": [
       "[(1, 'John', 90),\n",
       " (2, 'Teena', 100),\n",
       " (3, 'Andrew', 70),\n",
       " (4, 'Dorsey', 56),\n",
       " (5, 'David', 45),\n",
       " (6, 'Kim', 70),\n",
       " (7, 'Kiara', 75),\n",
       " (8, 'Jack', 94),\n",
       " (9, 'Andrew', 70),\n",
       " (10, 'Andrew', 70)]"
      ]
     },
     "execution_count": 67,
     "metadata": {},
     "output_type": "execute_result"
    }
   ],
   "source": [
    "results=cur.execute(\"select * from student\")#for all names or data\n",
    "results.fetchall()"
   ]
  },
  {
   "cell_type": "code",
   "execution_count": 68,
   "id": "807c74bb",
   "metadata": {},
   "outputs": [
    {
     "name": "stdout",
     "output_type": "stream",
     "text": [
      "(6, 'Kim', 70)\n"
     ]
    }
   ],
   "source": [
    "#display only 4 letter character\n",
    "results=cur.execute(\"select * from student where name like '___'\")#for number of character if type ___ 3 times underscore then 3 characters name if type __ 2 times underscore then 2 character name\n",
    "for i in results:\n",
    "    print(i)"
   ]
  },
  {
   "cell_type": "code",
   "execution_count": 69,
   "id": "47276b46",
   "metadata": {},
   "outputs": [
    {
     "data": {
      "text/plain": [
       "[(1, 'John', 90),\n",
       " (2, 'Teena', 100),\n",
       " (4, 'Dorsey', 56),\n",
       " (5, 'David', 45),\n",
       " (7, 'Kiara', 75),\n",
       " (8, 'Jack', 94)]"
      ]
     },
     "execution_count": 69,
     "metadata": {},
     "output_type": "execute_result"
    }
   ],
   "source": [
    "results=cur.execute(\"select * from student where marks NOT in (70)\")\n",
    "results.fetchall()"
   ]
  },
  {
   "cell_type": "code",
   "execution_count": 70,
   "id": "ab9114c2",
   "metadata": {},
   "outputs": [
    {
     "name": "stdout",
     "output_type": "stream",
     "text": [
      "(1, 'John', 90)\n",
      "(2, 'Teena', 100)\n",
      "(3, 'Andrew', 70)\n",
      "(4, 'Dorsey', 56)\n",
      "(5, 'David', 45)\n",
      "(7, 'Kiara', 75)\n",
      "(8, 'Jack', 94)\n",
      "(9, 'Andrew', 70)\n",
      "(10, 'Andrew', 70)\n"
     ]
    }
   ],
   "source": [
    "results=cur.execute(\"select * from student where name NOT in ('Kim')\")\n",
    "for i in results:\n",
    "    print(i)"
   ]
  },
  {
   "cell_type": "markdown",
   "id": "fa2a4b22",
   "metadata": {},
   "source": [
    "Update Record"
   ]
  },
  {
   "cell_type": "code",
   "execution_count": 71,
   "id": "f1a7518d",
   "metadata": {},
   "outputs": [],
   "source": [
    "#UPDATE record\n",
    "#update the record\n",
    "sql=\"update student set marks=81 where id=4\"\n",
    "cur.execute(sql)\n",
    "db.commit()"
   ]
  },
  {
   "cell_type": "code",
   "execution_count": 72,
   "id": "776ca06d",
   "metadata": {},
   "outputs": [
    {
     "name": "stdout",
     "output_type": "stream",
     "text": [
      "(4, 'Dorsey', 81)\n"
     ]
    }
   ],
   "source": [
    "results=cur.execute(\"select * from student where id=4\")\n",
    "for row in results:\n",
    "    print(row)"
   ]
  },
  {
   "cell_type": "code",
   "execution_count": 73,
   "id": "9ef24811",
   "metadata": {},
   "outputs": [
    {
     "name": "stdout",
     "output_type": "stream",
     "text": [
      "(1, 'John', 90)\n",
      "(2, 'Teena', 100)\n",
      "(3, 'Andrew', 70)\n",
      "(4, 'Dorsey', 81)\n",
      "(5, 'David', 45)\n",
      "(6, 'Kim', 70)\n",
      "(7, 'Kiara', 75)\n",
      "(8, 'Jack', 94)\n",
      "(9, 'Andrew', 70)\n",
      "(10, 'Andrew', 70)\n"
     ]
    }
   ],
   "source": [
    "results=cur.execute(\"select * from student\")\n",
    "for row in results:\n",
    "    print(row)"
   ]
  },
  {
   "cell_type": "markdown",
   "id": "2315f6c9",
   "metadata": {},
   "source": [
    "multiple record update"
   ]
  },
  {
   "cell_type": "code",
   "execution_count": 74,
   "id": "7e11490b",
   "metadata": {},
   "outputs": [],
   "source": [
    "#multiple record update\n",
    "sql=\"update student set marks=92 where id in (1,2)\"\n",
    "cur.execute(sql)\n",
    "db.commit()"
   ]
  },
  {
   "cell_type": "code",
   "execution_count": 75,
   "id": "7faf76e7",
   "metadata": {},
   "outputs": [
    {
     "data": {
      "text/plain": [
       "[(1, 'John', 92), (2, 'Teena', 92)]"
      ]
     },
     "execution_count": 75,
     "metadata": {},
     "output_type": "execute_result"
    }
   ],
   "source": [
    "results=cur.execute(\"select * from student where id in (1,2)\")\n",
    "results.fetchall()"
   ]
  },
  {
   "cell_type": "code",
   "execution_count": 76,
   "id": "5839134f",
   "metadata": {},
   "outputs": [
    {
     "name": "stdout",
     "output_type": "stream",
     "text": [
      "(1, 'John', 92)\n",
      "(2, 'Teena', 92)\n",
      "(3, 'Andrew', 70)\n",
      "(4, 'Dorsey', 81)\n",
      "(5, 'David', 45)\n",
      "(6, 'Kim', 70)\n",
      "(7, 'Kiara', 75)\n",
      "(8, 'Jack', 94)\n",
      "(9, 'Andrew', 70)\n",
      "(10, 'Andrew', 70)\n"
     ]
    }
   ],
   "source": [
    "results=cur.execute(\"select * from student\") \n",
    "for row in results:\n",
    "    print(row)"
   ]
  },
  {
   "cell_type": "code",
   "execution_count": 77,
   "id": "8268a11b",
   "metadata": {},
   "outputs": [],
   "source": [
    "#multiple records update using ‘IN’\n",
    "sql=\"update student SET marks = 68 WHERE id IN (5,6)\"\n",
    "cur.execute(sql)\n",
    "db.commit()"
   ]
  },
  {
   "cell_type": "code",
   "execution_count": 78,
   "id": "d4c6adcc",
   "metadata": {},
   "outputs": [
    {
     "name": "stdout",
     "output_type": "stream",
     "text": [
      "(1, 'John', 92)\n",
      "(2, 'Teena', 92)\n",
      "(3, 'Andrew', 70)\n",
      "(4, 'Dorsey', 81)\n",
      "(5, 'David', 68)\n",
      "(6, 'Kim', 68)\n",
      "(7, 'Kiara', 75)\n",
      "(8, 'Jack', 94)\n",
      "(9, 'Andrew', 70)\n",
      "(10, 'Andrew', 70)\n"
     ]
    }
   ],
   "source": [
    "#verify if its updated\n",
    "results=cur.execute(\"SELECT * FROM student\")\n",
    "for i in results:\n",
    "    print(i)"
   ]
  },
  {
   "cell_type": "markdown",
   "id": "bf096212",
   "metadata": {},
   "source": [
    "Delete any unwanted records"
   ]
  },
  {
   "cell_type": "code",
   "execution_count": 79,
   "id": "3b9ef9f8",
   "metadata": {},
   "outputs": [
    {
     "data": {
      "text/plain": [
       "<sqlite3.Cursor at 0x20fe1e4d960>"
      ]
     },
     "execution_count": 79,
     "metadata": {},
     "output_type": "execute_result"
    }
   ],
   "source": [
    "#Delete any unwanted records\n",
    "sql=\"delete from student where id=6\"\n",
    "cur.execute(sql)"
   ]
  },
  {
   "cell_type": "code",
   "execution_count": 80,
   "id": "f2dab2fd",
   "metadata": {},
   "outputs": [
    {
     "data": {
      "text/plain": [
       "[(1, 'John', 92),\n",
       " (2, 'Teena', 92),\n",
       " (3, 'Andrew', 70),\n",
       " (4, 'Dorsey', 81),\n",
       " (5, 'David', 68),\n",
       " (7, 'Kiara', 75),\n",
       " (8, 'Jack', 94),\n",
       " (9, 'Andrew', 70),\n",
       " (10, 'Andrew', 70)]"
      ]
     },
     "execution_count": 80,
     "metadata": {},
     "output_type": "execute_result"
    }
   ],
   "source": [
    "results=cur.execute('select * from student')\n",
    "results.fetchall()"
   ]
  },
  {
   "cell_type": "code",
   "execution_count": 81,
   "id": "ba5c4a93",
   "metadata": {},
   "outputs": [
    {
     "data": {
      "text/plain": [
       "[(1, 'John', 92),\n",
       " (2, 'Teena', 92),\n",
       " (3, 'Andrew', 70),\n",
       " (5, 'David', 68),\n",
       " (7, 'Kiara', 75),\n",
       " (8, 'Jack', 94),\n",
       " (9, 'Andrew', 70),\n",
       " (10, 'Andrew', 70)]"
      ]
     },
     "execution_count": 81,
     "metadata": {},
     "output_type": "execute_result"
    }
   ],
   "source": [
    "sql=\"delete from student where id=4\"\n",
    "cur.execute(sql)\n",
    "results=cur.execute('select * from student')\n",
    "results.fetchall()"
   ]
  },
  {
   "cell_type": "markdown",
   "id": "b2e5ae57",
   "metadata": {},
   "source": [
    "DROP table student"
   ]
  },
  {
   "cell_type": "code",
   "execution_count": 82,
   "id": "26cbf8ac",
   "metadata": {},
   "outputs": [
    {
     "ename": "OperationalError",
     "evalue": "no such table: student",
     "output_type": "error",
     "traceback": [
      "\u001b[1;31m---------------------------------------------------------------------------\u001b[0m",
      "\u001b[1;31mOperationalError\u001b[0m                          Traceback (most recent call last)",
      "Input \u001b[1;32mIn [82]\u001b[0m, in \u001b[0;36m<cell line: 4>\u001b[1;34m()\u001b[0m\n\u001b[0;32m      2\u001b[0m sql\u001b[38;5;241m=\u001b[39m\u001b[38;5;124m'\u001b[39m\u001b[38;5;124mdrop table student\u001b[39m\u001b[38;5;124m'\u001b[39m\n\u001b[0;32m      3\u001b[0m results\u001b[38;5;241m=\u001b[39mcur\u001b[38;5;241m.\u001b[39mexecute(sql)\n\u001b[1;32m----> 4\u001b[0m results\u001b[38;5;241m=\u001b[39m\u001b[43mcur\u001b[49m\u001b[38;5;241;43m.\u001b[39;49m\u001b[43mexecute\u001b[49m\u001b[43m(\u001b[49m\u001b[38;5;124;43m'\u001b[39;49m\u001b[38;5;124;43mselect * from student\u001b[39;49m\u001b[38;5;124;43m'\u001b[39;49m\u001b[43m)\u001b[49m\n\u001b[0;32m      5\u001b[0m results\u001b[38;5;241m.\u001b[39mfetchall()\n\u001b[0;32m      6\u001b[0m db\u001b[38;5;241m.\u001b[39mclose()\n",
      "\u001b[1;31mOperationalError\u001b[0m: no such table: student"
     ]
    }
   ],
   "source": [
    "#DROP table student\n",
    "sql='drop table student'\n",
    "results=cur.execute(sql)\n",
    "results=cur.execute('select * from student')\n",
    "results.fetchall()\n",
    "db.close()"
   ]
  },
  {
   "cell_type": "markdown",
   "id": "b30df2c6",
   "metadata": {},
   "source": [
    "Adding data in table with csv(comma separated values) file directly"
   ]
  },
  {
   "cell_type": "code",
   "execution_count": 118,
   "id": "81270e0a",
   "metadata": {},
   "outputs": [
    {
     "ename": "OperationalError",
     "evalue": "unable to open database file",
     "output_type": "error",
     "traceback": [
      "\u001b[1;31m---------------------------------------------------------------------------\u001b[0m",
      "\u001b[1;31mOperationalError\u001b[0m                          Traceback (most recent call last)",
      "Input \u001b[1;32mIn [118]\u001b[0m, in \u001b[0;36m<cell line: 3>\u001b[1;34m()\u001b[0m\n\u001b[0;32m      1\u001b[0m \u001b[38;5;66;03m#Adding data in table with csv(comma separated values) file directly\u001b[39;00m\n\u001b[0;32m      2\u001b[0m \u001b[38;5;28;01mimport\u001b[39;00m \u001b[38;5;21;01msqlite3\u001b[39;00m\n\u001b[1;32m----> 3\u001b[0m db\u001b[38;5;241m=\u001b[39m\u001b[43msqlite3\u001b[49m\u001b[38;5;241;43m.\u001b[39;49m\u001b[43mconnect\u001b[49m\u001b[43m(\u001b[49m\u001b[38;5;124;43m\"\u001b[39;49m\u001b[38;5;124;43mC:/UsersAdmin/scores_database.db\u001b[39;49m\u001b[38;5;124;43m\"\u001b[39;49m\u001b[43m)\u001b[49m\n",
      "\u001b[1;31mOperationalError\u001b[0m: unable to open database file"
     ]
    }
   ],
   "source": [
    "#Adding data in table with csv(comma separated values) file directly\n",
    "import sqlite3\n",
    "db=sqlite3.connect(\"C:/UsersAdmin/scores_database.db\")"
   ]
  },
  {
   "cell_type": "code",
   "execution_count": 119,
   "id": "7f002a26",
   "metadata": {},
   "outputs": [
    {
     "ename": "ProgrammingError",
     "evalue": "Cannot operate on a closed database.",
     "output_type": "error",
     "traceback": [
      "\u001b[1;31m---------------------------------------------------------------------------\u001b[0m",
      "\u001b[1;31mProgrammingError\u001b[0m                          Traceback (most recent call last)",
      "Input \u001b[1;32mIn [119]\u001b[0m, in \u001b[0;36m<cell line: 2>\u001b[1;34m()\u001b[0m\n\u001b[0;32m      1\u001b[0m \u001b[38;5;66;03m#Declare cursor\u001b[39;00m\n\u001b[1;32m----> 2\u001b[0m cursor\u001b[38;5;241m=\u001b[39m\u001b[43mdb\u001b[49m\u001b[38;5;241;43m.\u001b[39;49m\u001b[43mcursor\u001b[49m\u001b[43m(\u001b[49m\u001b[43m)\u001b[49m\n",
      "\u001b[1;31mProgrammingError\u001b[0m: Cannot operate on a closed database."
     ]
    }
   ],
   "source": [
    "#Declare cursor\n",
    "cursor=db.cursor()"
   ]
  },
  {
   "cell_type": "code",
   "execution_count": 85,
   "id": "b9db73ae",
   "metadata": {},
   "outputs": [
    {
     "data": {
      "text/plain": [
       "<sqlite3.Cursor at 0x20fe1ff96c0>"
      ]
     },
     "execution_count": 85,
     "metadata": {},
     "output_type": "execute_result"
    }
   ],
   "source": [
    "#Create Table\n",
    "cursor.execute(\"CREATE TABLE scores(gender TEXT, student_id INT PRIMARY KEY, marks INT)\")"
   ]
  },
  {
   "cell_type": "code",
   "execution_count": 86,
   "id": "653794b9",
   "metadata": {},
   "outputs": [
    {
     "data": {
      "text/plain": [
       "<sqlite3.Cursor at 0x20fe1ff96c0>"
      ]
     },
     "execution_count": 86,
     "metadata": {},
     "output_type": "execute_result"
    }
   ],
   "source": [
    "#Insert records into the table, (single record inserting)\n",
    "cursor.execute(\"INSERT INTO scores(gender,student_id,marks) values('Male',100,55)\")"
   ]
  },
  {
   "cell_type": "code",
   "execution_count": 87,
   "id": "0dbfa6b3",
   "metadata": {},
   "outputs": [],
   "source": [
    "#save the records permanently. (If you don’t commit, next time you will not see the records in the table)\n",
    "db.commit()"
   ]
  },
  {
   "cell_type": "code",
   "execution_count": 88,
   "id": "24451759",
   "metadata": {},
   "outputs": [
    {
     "name": "stdout",
     "output_type": "stream",
     "text": [
      "1 Record(s)inserted\n"
     ]
    }
   ],
   "source": [
    "#count of records inserted\n",
    "print(cursor.rowcount,\"Record(s)inserted\")"
   ]
  },
  {
   "cell_type": "markdown",
   "id": "28e65165",
   "metadata": {},
   "source": [
    "Inserting records from csv file"
   ]
  },
  {
   "cell_type": "code",
   "execution_count": 89,
   "id": "e8edc9a5",
   "metadata": {},
   "outputs": [
    {
     "ename": "FileNotFoundError",
     "evalue": "[Errno 2] No such file or directory: 'Scores_file.csv'",
     "output_type": "error",
     "traceback": [
      "\u001b[1;31m---------------------------------------------------------------------------\u001b[0m",
      "\u001b[1;31mFileNotFoundError\u001b[0m                         Traceback (most recent call last)",
      "Input \u001b[1;32mIn [89]\u001b[0m, in \u001b[0;36m<cell line: 2>\u001b[1;34m()\u001b[0m\n\u001b[0;32m      1\u001b[0m \u001b[38;5;66;03m#Inserting records from csv file\u001b[39;00m\n\u001b[1;32m----> 2\u001b[0m \u001b[38;5;28;01mwith\u001b[39;00m \u001b[38;5;28;43mopen\u001b[39;49m\u001b[43m(\u001b[49m\u001b[38;5;124;43m'\u001b[39;49m\u001b[38;5;124;43mScores_file.csv\u001b[39;49m\u001b[38;5;124;43m'\u001b[39;49m\u001b[43m,\u001b[49m\u001b[38;5;124;43m'\u001b[39;49m\u001b[38;5;124;43mr\u001b[39;49m\u001b[38;5;124;43m'\u001b[39;49m\u001b[43m)\u001b[49m \u001b[38;5;28;01mas\u001b[39;00m file:\n\u001b[0;32m      3\u001b[0m     total_records\u001b[38;5;241m=\u001b[39m\u001b[38;5;241m0\u001b[39m\n\u001b[0;32m      4\u001b[0m     \u001b[38;5;28;01mfor\u001b[39;00m row \u001b[38;5;129;01min\u001b[39;00m file:\n",
      "\u001b[1;31mFileNotFoundError\u001b[0m: [Errno 2] No such file or directory: 'Scores_file.csv'"
     ]
    }
   ],
   "source": [
    "#Inserting records from csv file\n",
    "with open('Scores_file.csv','r') as file:\n",
    "    total_records=0\n",
    "    for row in file:\n",
    "        cursor.execute(\"insert into scores values(?,?,?)\", row.split(\",\"))\n",
    "        db.commit()\n",
    "        total_records+=1\n",
    "print(total_records,'Records inserted')"
   ]
  },
  {
   "cell_type": "code",
   "execution_count": 90,
   "id": "aa112664",
   "metadata": {},
   "outputs": [
    {
     "name": "stdout",
     "output_type": "stream",
     "text": [
      "('Male', 100, 55)\n"
     ]
    }
   ],
   "source": [
    "result = cursor.execute(\"SELECT * FROM scores\")\n",
    "for row in result:\n",
    "    print(row)"
   ]
  },
  {
   "cell_type": "code",
   "execution_count": 91,
   "id": "b01fe439",
   "metadata": {},
   "outputs": [],
   "source": [
    "sql = \"SELECT * FROM scores WHERE student_id = 104\"\n",
    "result = cursor.execute(sql)\n",
    "for row in results:\n",
    "    print(row)"
   ]
  },
  {
   "cell_type": "code",
   "execution_count": 92,
   "id": "6381fddb",
   "metadata": {},
   "outputs": [],
   "source": [
    "#How to change the order of records (Increasing or decreasing)\n",
    "result = cursor.execute(\"SELECT * FROM scores ORDER BY marks desc\")\n",
    "for row in results:\n",
    "    print(row)"
   ]
  },
  {
   "cell_type": "code",
   "execution_count": 93,
   "id": "6eec2039",
   "metadata": {},
   "outputs": [
    {
     "data": {
      "text/plain": [
       "<sqlite3.Cursor at 0x20fe1ff96c0>"
      ]
     },
     "execution_count": 93,
     "metadata": {},
     "output_type": "execute_result"
    }
   ],
   "source": [
    "#single record update\n",
    "sql=\"UPDATE scores SET marks = 50 WHERE student_id = 107\"\n",
    "cursor.execute(sql)"
   ]
  },
  {
   "cell_type": "code",
   "execution_count": 94,
   "id": "b07c9ca7",
   "metadata": {},
   "outputs": [],
   "source": [
    "#Verify if its updated\n",
    "result = cursor.execute(\"SELECT * FROM scores ORDER BY student_id\")\n",
    "for row in results:\n",
    "    print(row)"
   ]
  },
  {
   "cell_type": "code",
   "execution_count": 95,
   "id": "6d82193b",
   "metadata": {},
   "outputs": [
    {
     "name": "stdout",
     "output_type": "stream",
     "text": [
      "Minimum Marks =  (55,)\n"
     ]
    }
   ],
   "source": [
    "#MIN\n",
    "result = cursor.execute(\"SELECT MIN(marks) FROM scores\")\n",
    "print('Minimum Marks = ', result.fetchone())"
   ]
  },
  {
   "cell_type": "code",
   "execution_count": 96,
   "id": "ca71c6c0",
   "metadata": {},
   "outputs": [
    {
     "name": "stdout",
     "output_type": "stream",
     "text": [
      "Maximum Marks =  (55,)\n"
     ]
    }
   ],
   "source": [
    "#MAX\n",
    "result = cursor.execute(\"SELECT MAX(marks) FROM scores\")\n",
    "print('Maximum Marks = ', result.fetchone())"
   ]
  },
  {
   "cell_type": "code",
   "execution_count": 97,
   "id": "24992576",
   "metadata": {},
   "outputs": [],
   "source": [
    "db.close()"
   ]
  },
  {
   "cell_type": "code",
   "execution_count": 98,
   "id": "246fc988",
   "metadata": {},
   "outputs": [],
   "source": [
    "#Practice \n",
    "import sqlite3"
   ]
  },
  {
   "cell_type": "code",
   "execution_count": 99,
   "id": "67051569",
   "metadata": {},
   "outputs": [],
   "source": [
    "db=sqlite3.connect(\"C:/Users/Admin/employee_database1.db\")"
   ]
  },
  {
   "cell_type": "code",
   "execution_count": 100,
   "id": "764cb2a6",
   "metadata": {},
   "outputs": [],
   "source": [
    "cur=db.cursor()"
   ]
  },
  {
   "cell_type": "code",
   "execution_count": 101,
   "id": "d8f6be24",
   "metadata": {},
   "outputs": [
    {
     "ename": "OperationalError",
     "evalue": "table employee already exists",
     "output_type": "error",
     "traceback": [
      "\u001b[1;31m---------------------------------------------------------------------------\u001b[0m",
      "\u001b[1;31mOperationalError\u001b[0m                          Traceback (most recent call last)",
      "Input \u001b[1;32mIn [101]\u001b[0m, in \u001b[0;36m<cell line: 1>\u001b[1;34m()\u001b[0m\n\u001b[1;32m----> 1\u001b[0m \u001b[43mcur\u001b[49m\u001b[38;5;241;43m.\u001b[39;49m\u001b[43mexecute\u001b[49m\u001b[43m(\u001b[49m\u001b[38;5;124;43m\"\u001b[39;49m\u001b[38;5;124;43mcreate table employee (id int, name text, age int, address text, salary int)\u001b[39;49m\u001b[38;5;124;43m\"\u001b[39;49m\u001b[43m)\u001b[49m\n",
      "\u001b[1;31mOperationalError\u001b[0m: table employee already exists"
     ]
    }
   ],
   "source": [
    "cur.execute(\"create table employee (id int, name text, age int, address text, salary int)\")"
   ]
  },
  {
   "cell_type": "code",
   "execution_count": 102,
   "id": "8feb6e07",
   "metadata": {},
   "outputs": [
    {
     "data": {
      "text/plain": [
       "<sqlite3.Cursor at 0x20fe2013c00>"
      ]
     },
     "execution_count": 102,
     "metadata": {},
     "output_type": "execute_result"
    }
   ],
   "source": [
    "cur.execute(\"insert into employee values(1, 'Ajeet', 27, 'Delhi', 20000)\")"
   ]
  },
  {
   "cell_type": "code",
   "execution_count": 103,
   "id": "1f3c4f64",
   "metadata": {},
   "outputs": [
    {
     "name": "stdout",
     "output_type": "stream",
     "text": [
      "1 Record(s) inserted\n"
     ]
    }
   ],
   "source": [
    "print(cur.rowcount, \"Record(s) inserted\")"
   ]
  },
  {
   "cell_type": "code",
   "execution_count": 104,
   "id": "c47dc3bc",
   "metadata": {},
   "outputs": [
    {
     "name": "stdout",
     "output_type": "stream",
     "text": [
      "(1, 'Ajeet', 35, 'Delhi', 20000)\n",
      "(2, 'Allen', 35, 'London', 25000)\n",
      "(3, 'Mark', 29, 'CA', 20000)\n",
      "(4, 'Kanchan', 25, 'Ghaziabad', 65000)\n",
      "(1, 'Ajeet', 27, 'Delhi', 20000)\n"
     ]
    }
   ],
   "source": [
    "results=cur.execute(\"select * from employee\")\n",
    "for i in results:\n",
    "    print(i)"
   ]
  },
  {
   "cell_type": "code",
   "execution_count": 105,
   "id": "38da81d1",
   "metadata": {},
   "outputs": [
    {
     "data": {
      "text/plain": [
       "<sqlite3.Cursor at 0x20fe2013c00>"
      ]
     },
     "execution_count": 105,
     "metadata": {},
     "output_type": "execute_result"
    }
   ],
   "source": [
    "cur.execute(\"insert into employee values(2, 'Allen', 22, 'London', 25000),(3, 'Mark', 29, 'CA', 20000), (4, 'Kanchan', 22, 'Ghaziabad', 65000)\")"
   ]
  },
  {
   "cell_type": "code",
   "execution_count": 106,
   "id": "3cc08253",
   "metadata": {},
   "outputs": [
    {
     "name": "stdout",
     "output_type": "stream",
     "text": [
      "3 Record(s) inserted\n"
     ]
    }
   ],
   "source": [
    "print(cur.rowcount, \"Record(s) inserted\")"
   ]
  },
  {
   "cell_type": "code",
   "execution_count": 107,
   "id": "949d4ea4",
   "metadata": {},
   "outputs": [
    {
     "name": "stdout",
     "output_type": "stream",
     "text": [
      "(1, 'Ajeet', 35, 'Delhi', 20000)\n",
      "(2, 'Allen', 35, 'London', 25000)\n",
      "(3, 'Mark', 29, 'CA', 20000)\n",
      "(4, 'Kanchan', 25, 'Ghaziabad', 65000)\n",
      "(1, 'Ajeet', 27, 'Delhi', 20000)\n",
      "(2, 'Allen', 22, 'London', 25000)\n",
      "(3, 'Mark', 29, 'CA', 20000)\n",
      "(4, 'Kanchan', 22, 'Ghaziabad', 65000)\n"
     ]
    }
   ],
   "source": [
    "results=cur.execute(\"select * from employee\")\n",
    "for i in results:\n",
    "    print(i)"
   ]
  },
  {
   "cell_type": "code",
   "execution_count": 108,
   "id": "47ee3721",
   "metadata": {},
   "outputs": [
    {
     "name": "stdout",
     "output_type": "stream",
     "text": [
      "(1, 'Ajeet')\n",
      "(2, 'Allen')\n",
      "(3, 'Mark')\n",
      "(4, 'Kanchan')\n",
      "(1, 'Ajeet')\n",
      "(2, 'Allen')\n",
      "(3, 'Mark')\n",
      "(4, 'Kanchan')\n"
     ]
    }
   ],
   "source": [
    "results=cur.execute('select id, name from employee')\n",
    "for i in results:\n",
    "    print(i)"
   ]
  },
  {
   "cell_type": "code",
   "execution_count": 109,
   "id": "c51d87f7",
   "metadata": {},
   "outputs": [
    {
     "name": "stdout",
     "output_type": "stream",
     "text": [
      "(1, 'Delhi')\n",
      "(2, 'London')\n",
      "(3, 'CA')\n",
      "(4, 'Ghaziabad')\n",
      "(1, 'Delhi')\n",
      "(2, 'London')\n",
      "(3, 'CA')\n",
      "(4, 'Ghaziabad')\n"
     ]
    }
   ],
   "source": [
    "results=cur.execute('select id, address from employee')\n",
    "for i in results:\n",
    "    print(i)"
   ]
  },
  {
   "cell_type": "code",
   "execution_count": 110,
   "id": "9c7dac44",
   "metadata": {},
   "outputs": [
    {
     "name": "stdout",
     "output_type": "stream",
     "text": [
      "(1, 'Ajeet', 35, 'Delhi', 20000)\n",
      "(2, 'Allen', 35, 'London', 25000)\n",
      "(3, 'Mark', 29, 'CA', 20000)\n",
      "(4, 'Kanchan', 25, 'Ghaziabad', 65000)\n",
      "(1, 'Ajeet', 27, 'Delhi', 20000)\n",
      "(2, 'Allen', 22, 'London', 25000)\n",
      "(3, 'Mark', 29, 'CA', 20000)\n",
      "(4, 'Kanchan', 22, 'Ghaziabad', 65000)\n"
     ]
    }
   ],
   "source": [
    "results=cur.execute('select * from employee')\n",
    "for i in results:\n",
    "    print(i)"
   ]
  },
  {
   "cell_type": "code",
   "execution_count": 111,
   "id": "f55efcca",
   "metadata": {},
   "outputs": [],
   "source": [
    "#update any records\n",
    "sql=\"update employee set age=25 where id=4\"\n",
    "cur.execute(sql)\n",
    "db.commit()"
   ]
  },
  {
   "cell_type": "code",
   "execution_count": 112,
   "id": "f9fd46c7",
   "metadata": {},
   "outputs": [
    {
     "name": "stdout",
     "output_type": "stream",
     "text": [
      "(1, 'Ajeet', 35, 'Delhi', 20000)\n",
      "(2, 'Allen', 35, 'London', 25000)\n",
      "(3, 'Mark', 29, 'CA', 20000)\n",
      "(4, 'Kanchan', 25, 'Ghaziabad', 65000)\n",
      "(1, 'Ajeet', 27, 'Delhi', 20000)\n",
      "(2, 'Allen', 22, 'London', 25000)\n",
      "(3, 'Mark', 29, 'CA', 20000)\n",
      "(4, 'Kanchan', 25, 'Ghaziabad', 65000)\n"
     ]
    }
   ],
   "source": [
    "results=cur.execute('select * from employee')\n",
    "for i in results:\n",
    "    print(i)"
   ]
  },
  {
   "cell_type": "code",
   "execution_count": 113,
   "id": "4ecf205d",
   "metadata": {},
   "outputs": [],
   "source": [
    "#update any records\n",
    "sql=\"update employee SET age = 35 WHERE id IN (1,2)\"\n",
    "cur.execute(sql)\n",
    "db.commit()"
   ]
  },
  {
   "cell_type": "code",
   "execution_count": 114,
   "id": "981a7a35",
   "metadata": {},
   "outputs": [
    {
     "name": "stdout",
     "output_type": "stream",
     "text": [
      "(1, 'Ajeet', 35, 'Delhi', 20000)\n",
      "(2, 'Allen', 35, 'London', 25000)\n",
      "(3, 'Mark', 29, 'CA', 20000)\n",
      "(4, 'Kanchan', 25, 'Ghaziabad', 65000)\n",
      "(1, 'Ajeet', 35, 'Delhi', 20000)\n",
      "(2, 'Allen', 35, 'London', 25000)\n",
      "(3, 'Mark', 29, 'CA', 20000)\n",
      "(4, 'Kanchan', 25, 'Ghaziabad', 65000)\n"
     ]
    }
   ],
   "source": [
    "results=cur.execute('select * from employee')\n",
    "for i in results:\n",
    "    print(i)"
   ]
  },
  {
   "cell_type": "code",
   "execution_count": 115,
   "id": "6b970d02",
   "metadata": {},
   "outputs": [
    {
     "data": {
      "text/plain": [
       "<sqlite3.Cursor at 0x20fe2013c00>"
      ]
     },
     "execution_count": 115,
     "metadata": {},
     "output_type": "execute_result"
    }
   ],
   "source": [
    "#Delete any unwanted records\n",
    "sql=\"delete from employee where id=2\"\n",
    "cur.execute(sql)"
   ]
  },
  {
   "cell_type": "code",
   "execution_count": 116,
   "id": "ca77f579",
   "metadata": {},
   "outputs": [
    {
     "name": "stdout",
     "output_type": "stream",
     "text": [
      "(1, 'Ajeet', 35, 'Delhi', 20000)\n",
      "(3, 'Mark', 29, 'CA', 20000)\n",
      "(4, 'Kanchan', 25, 'Ghaziabad', 65000)\n",
      "(1, 'Ajeet', 35, 'Delhi', 20000)\n",
      "(3, 'Mark', 29, 'CA', 20000)\n",
      "(4, 'Kanchan', 25, 'Ghaziabad', 65000)\n"
     ]
    }
   ],
   "source": [
    "results=cur.execute('select * from employee')\n",
    "for i in results:\n",
    "    print(i)"
   ]
  },
  {
   "cell_type": "code",
   "execution_count": 117,
   "id": "bf022bf9",
   "metadata": {},
   "outputs": [],
   "source": [
    "db.close()"
   ]
  },
  {
   "cell_type": "code",
   "execution_count": null,
   "id": "c57e7402",
   "metadata": {},
   "outputs": [],
   "source": []
  }
 ],
 "metadata": {
  "kernelspec": {
   "display_name": "Python 3 (ipykernel)",
   "language": "python",
   "name": "python3"
  },
  "language_info": {
   "codemirror_mode": {
    "name": "ipython",
    "version": 3
   },
   "file_extension": ".py",
   "mimetype": "text/x-python",
   "name": "python",
   "nbconvert_exporter": "python",
   "pygments_lexer": "ipython3",
   "version": "3.9.12"
  }
 },
 "nbformat": 4,
 "nbformat_minor": 5
}
