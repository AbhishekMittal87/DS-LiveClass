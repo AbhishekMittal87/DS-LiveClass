{
 "cells": [
  {
   "cell_type": "markdown",
   "id": "a079b932",
   "metadata": {},
   "source": [
    "Importing the dataset"
   ]
  },
  {
   "cell_type": "code",
   "execution_count": 1,
   "id": "9208501d",
   "metadata": {},
   "outputs": [],
   "source": [
    "import pandas as pd\n",
    "import numpy as np"
   ]
  },
  {
   "cell_type": "code",
   "execution_count": 2,
   "id": "129cf2db",
   "metadata": {},
   "outputs": [],
   "source": [
    "df = pd.read_csv('https://raw.githubusercontent.com/dsrscientist/DSData/master/Telecom_customer_churn.csv')"
   ]
  },
  {
   "cell_type": "code",
   "execution_count": 3,
   "id": "724b3838",
   "metadata": {},
   "outputs": [
    {
     "data": {
      "text/html": [
       "<div>\n",
       "<style scoped>\n",
       "    .dataframe tbody tr th:only-of-type {\n",
       "        vertical-align: middle;\n",
       "    }\n",
       "\n",
       "    .dataframe tbody tr th {\n",
       "        vertical-align: top;\n",
       "    }\n",
       "\n",
       "    .dataframe thead th {\n",
       "        text-align: right;\n",
       "    }\n",
       "</style>\n",
       "<table border=\"1\" class=\"dataframe\">\n",
       "  <thead>\n",
       "    <tr style=\"text-align: right;\">\n",
       "      <th></th>\n",
       "      <th>customerID</th>\n",
       "      <th>gender</th>\n",
       "      <th>SeniorCitizen</th>\n",
       "      <th>Partner</th>\n",
       "      <th>Dependents</th>\n",
       "      <th>tenure</th>\n",
       "      <th>PhoneService</th>\n",
       "      <th>MultipleLines</th>\n",
       "      <th>InternetService</th>\n",
       "      <th>OnlineSecurity</th>\n",
       "      <th>...</th>\n",
       "      <th>DeviceProtection</th>\n",
       "      <th>TechSupport</th>\n",
       "      <th>StreamingTV</th>\n",
       "      <th>StreamingMovies</th>\n",
       "      <th>Contract</th>\n",
       "      <th>PaperlessBilling</th>\n",
       "      <th>PaymentMethod</th>\n",
       "      <th>MonthlyCharges</th>\n",
       "      <th>TotalCharges</th>\n",
       "      <th>Churn</th>\n",
       "    </tr>\n",
       "  </thead>\n",
       "  <tbody>\n",
       "    <tr>\n",
       "      <th>0</th>\n",
       "      <td>7590-VHVEG</td>\n",
       "      <td>Female</td>\n",
       "      <td>0</td>\n",
       "      <td>Yes</td>\n",
       "      <td>No</td>\n",
       "      <td>1</td>\n",
       "      <td>No</td>\n",
       "      <td>No phone service</td>\n",
       "      <td>DSL</td>\n",
       "      <td>No</td>\n",
       "      <td>...</td>\n",
       "      <td>No</td>\n",
       "      <td>No</td>\n",
       "      <td>No</td>\n",
       "      <td>No</td>\n",
       "      <td>Month-to-month</td>\n",
       "      <td>Yes</td>\n",
       "      <td>Electronic check</td>\n",
       "      <td>29.85</td>\n",
       "      <td>29.85</td>\n",
       "      <td>No</td>\n",
       "    </tr>\n",
       "    <tr>\n",
       "      <th>1</th>\n",
       "      <td>5575-GNVDE</td>\n",
       "      <td>Male</td>\n",
       "      <td>0</td>\n",
       "      <td>No</td>\n",
       "      <td>No</td>\n",
       "      <td>34</td>\n",
       "      <td>Yes</td>\n",
       "      <td>No</td>\n",
       "      <td>DSL</td>\n",
       "      <td>Yes</td>\n",
       "      <td>...</td>\n",
       "      <td>Yes</td>\n",
       "      <td>No</td>\n",
       "      <td>No</td>\n",
       "      <td>No</td>\n",
       "      <td>One year</td>\n",
       "      <td>No</td>\n",
       "      <td>Mailed check</td>\n",
       "      <td>56.95</td>\n",
       "      <td>1889.5</td>\n",
       "      <td>No</td>\n",
       "    </tr>\n",
       "    <tr>\n",
       "      <th>2</th>\n",
       "      <td>3668-QPYBK</td>\n",
       "      <td>Male</td>\n",
       "      <td>0</td>\n",
       "      <td>No</td>\n",
       "      <td>No</td>\n",
       "      <td>2</td>\n",
       "      <td>Yes</td>\n",
       "      <td>No</td>\n",
       "      <td>DSL</td>\n",
       "      <td>Yes</td>\n",
       "      <td>...</td>\n",
       "      <td>No</td>\n",
       "      <td>No</td>\n",
       "      <td>No</td>\n",
       "      <td>No</td>\n",
       "      <td>Month-to-month</td>\n",
       "      <td>Yes</td>\n",
       "      <td>Mailed check</td>\n",
       "      <td>53.85</td>\n",
       "      <td>108.15</td>\n",
       "      <td>Yes</td>\n",
       "    </tr>\n",
       "    <tr>\n",
       "      <th>3</th>\n",
       "      <td>7795-CFOCW</td>\n",
       "      <td>Male</td>\n",
       "      <td>0</td>\n",
       "      <td>No</td>\n",
       "      <td>No</td>\n",
       "      <td>45</td>\n",
       "      <td>No</td>\n",
       "      <td>No phone service</td>\n",
       "      <td>DSL</td>\n",
       "      <td>Yes</td>\n",
       "      <td>...</td>\n",
       "      <td>Yes</td>\n",
       "      <td>Yes</td>\n",
       "      <td>No</td>\n",
       "      <td>No</td>\n",
       "      <td>One year</td>\n",
       "      <td>No</td>\n",
       "      <td>Bank transfer (automatic)</td>\n",
       "      <td>42.30</td>\n",
       "      <td>1840.75</td>\n",
       "      <td>No</td>\n",
       "    </tr>\n",
       "    <tr>\n",
       "      <th>4</th>\n",
       "      <td>9237-HQITU</td>\n",
       "      <td>Female</td>\n",
       "      <td>0</td>\n",
       "      <td>No</td>\n",
       "      <td>No</td>\n",
       "      <td>2</td>\n",
       "      <td>Yes</td>\n",
       "      <td>No</td>\n",
       "      <td>Fiber optic</td>\n",
       "      <td>No</td>\n",
       "      <td>...</td>\n",
       "      <td>No</td>\n",
       "      <td>No</td>\n",
       "      <td>No</td>\n",
       "      <td>No</td>\n",
       "      <td>Month-to-month</td>\n",
       "      <td>Yes</td>\n",
       "      <td>Electronic check</td>\n",
       "      <td>70.70</td>\n",
       "      <td>151.65</td>\n",
       "      <td>Yes</td>\n",
       "    </tr>\n",
       "    <tr>\n",
       "      <th>...</th>\n",
       "      <td>...</td>\n",
       "      <td>...</td>\n",
       "      <td>...</td>\n",
       "      <td>...</td>\n",
       "      <td>...</td>\n",
       "      <td>...</td>\n",
       "      <td>...</td>\n",
       "      <td>...</td>\n",
       "      <td>...</td>\n",
       "      <td>...</td>\n",
       "      <td>...</td>\n",
       "      <td>...</td>\n",
       "      <td>...</td>\n",
       "      <td>...</td>\n",
       "      <td>...</td>\n",
       "      <td>...</td>\n",
       "      <td>...</td>\n",
       "      <td>...</td>\n",
       "      <td>...</td>\n",
       "      <td>...</td>\n",
       "      <td>...</td>\n",
       "    </tr>\n",
       "    <tr>\n",
       "      <th>7038</th>\n",
       "      <td>6840-RESVB</td>\n",
       "      <td>Male</td>\n",
       "      <td>0</td>\n",
       "      <td>Yes</td>\n",
       "      <td>Yes</td>\n",
       "      <td>24</td>\n",
       "      <td>Yes</td>\n",
       "      <td>Yes</td>\n",
       "      <td>DSL</td>\n",
       "      <td>Yes</td>\n",
       "      <td>...</td>\n",
       "      <td>Yes</td>\n",
       "      <td>Yes</td>\n",
       "      <td>Yes</td>\n",
       "      <td>Yes</td>\n",
       "      <td>One year</td>\n",
       "      <td>Yes</td>\n",
       "      <td>Mailed check</td>\n",
       "      <td>84.80</td>\n",
       "      <td>1990.5</td>\n",
       "      <td>No</td>\n",
       "    </tr>\n",
       "    <tr>\n",
       "      <th>7039</th>\n",
       "      <td>2234-XADUH</td>\n",
       "      <td>Female</td>\n",
       "      <td>0</td>\n",
       "      <td>Yes</td>\n",
       "      <td>Yes</td>\n",
       "      <td>72</td>\n",
       "      <td>Yes</td>\n",
       "      <td>Yes</td>\n",
       "      <td>Fiber optic</td>\n",
       "      <td>No</td>\n",
       "      <td>...</td>\n",
       "      <td>Yes</td>\n",
       "      <td>No</td>\n",
       "      <td>Yes</td>\n",
       "      <td>Yes</td>\n",
       "      <td>One year</td>\n",
       "      <td>Yes</td>\n",
       "      <td>Credit card (automatic)</td>\n",
       "      <td>103.20</td>\n",
       "      <td>7362.9</td>\n",
       "      <td>No</td>\n",
       "    </tr>\n",
       "    <tr>\n",
       "      <th>7040</th>\n",
       "      <td>4801-JZAZL</td>\n",
       "      <td>Female</td>\n",
       "      <td>0</td>\n",
       "      <td>Yes</td>\n",
       "      <td>Yes</td>\n",
       "      <td>11</td>\n",
       "      <td>No</td>\n",
       "      <td>No phone service</td>\n",
       "      <td>DSL</td>\n",
       "      <td>Yes</td>\n",
       "      <td>...</td>\n",
       "      <td>No</td>\n",
       "      <td>No</td>\n",
       "      <td>No</td>\n",
       "      <td>No</td>\n",
       "      <td>Month-to-month</td>\n",
       "      <td>Yes</td>\n",
       "      <td>Electronic check</td>\n",
       "      <td>29.60</td>\n",
       "      <td>346.45</td>\n",
       "      <td>No</td>\n",
       "    </tr>\n",
       "    <tr>\n",
       "      <th>7041</th>\n",
       "      <td>8361-LTMKD</td>\n",
       "      <td>Male</td>\n",
       "      <td>1</td>\n",
       "      <td>Yes</td>\n",
       "      <td>No</td>\n",
       "      <td>4</td>\n",
       "      <td>Yes</td>\n",
       "      <td>Yes</td>\n",
       "      <td>Fiber optic</td>\n",
       "      <td>No</td>\n",
       "      <td>...</td>\n",
       "      <td>No</td>\n",
       "      <td>No</td>\n",
       "      <td>No</td>\n",
       "      <td>No</td>\n",
       "      <td>Month-to-month</td>\n",
       "      <td>Yes</td>\n",
       "      <td>Mailed check</td>\n",
       "      <td>74.40</td>\n",
       "      <td>306.6</td>\n",
       "      <td>Yes</td>\n",
       "    </tr>\n",
       "    <tr>\n",
       "      <th>7042</th>\n",
       "      <td>3186-AJIEK</td>\n",
       "      <td>Male</td>\n",
       "      <td>0</td>\n",
       "      <td>No</td>\n",
       "      <td>No</td>\n",
       "      <td>66</td>\n",
       "      <td>Yes</td>\n",
       "      <td>No</td>\n",
       "      <td>Fiber optic</td>\n",
       "      <td>Yes</td>\n",
       "      <td>...</td>\n",
       "      <td>Yes</td>\n",
       "      <td>Yes</td>\n",
       "      <td>Yes</td>\n",
       "      <td>Yes</td>\n",
       "      <td>Two year</td>\n",
       "      <td>Yes</td>\n",
       "      <td>Bank transfer (automatic)</td>\n",
       "      <td>105.65</td>\n",
       "      <td>6844.5</td>\n",
       "      <td>No</td>\n",
       "    </tr>\n",
       "  </tbody>\n",
       "</table>\n",
       "<p>7043 rows × 21 columns</p>\n",
       "</div>"
      ],
      "text/plain": [
       "      customerID  gender  SeniorCitizen Partner Dependents  tenure  \\\n",
       "0     7590-VHVEG  Female              0     Yes         No       1   \n",
       "1     5575-GNVDE    Male              0      No         No      34   \n",
       "2     3668-QPYBK    Male              0      No         No       2   \n",
       "3     7795-CFOCW    Male              0      No         No      45   \n",
       "4     9237-HQITU  Female              0      No         No       2   \n",
       "...          ...     ...            ...     ...        ...     ...   \n",
       "7038  6840-RESVB    Male              0     Yes        Yes      24   \n",
       "7039  2234-XADUH  Female              0     Yes        Yes      72   \n",
       "7040  4801-JZAZL  Female              0     Yes        Yes      11   \n",
       "7041  8361-LTMKD    Male              1     Yes         No       4   \n",
       "7042  3186-AJIEK    Male              0      No         No      66   \n",
       "\n",
       "     PhoneService     MultipleLines InternetService OnlineSecurity  ...  \\\n",
       "0              No  No phone service             DSL             No  ...   \n",
       "1             Yes                No             DSL            Yes  ...   \n",
       "2             Yes                No             DSL            Yes  ...   \n",
       "3              No  No phone service             DSL            Yes  ...   \n",
       "4             Yes                No     Fiber optic             No  ...   \n",
       "...           ...               ...             ...            ...  ...   \n",
       "7038          Yes               Yes             DSL            Yes  ...   \n",
       "7039          Yes               Yes     Fiber optic             No  ...   \n",
       "7040           No  No phone service             DSL            Yes  ...   \n",
       "7041          Yes               Yes     Fiber optic             No  ...   \n",
       "7042          Yes                No     Fiber optic            Yes  ...   \n",
       "\n",
       "     DeviceProtection TechSupport StreamingTV StreamingMovies        Contract  \\\n",
       "0                  No          No          No              No  Month-to-month   \n",
       "1                 Yes          No          No              No        One year   \n",
       "2                  No          No          No              No  Month-to-month   \n",
       "3                 Yes         Yes          No              No        One year   \n",
       "4                  No          No          No              No  Month-to-month   \n",
       "...               ...         ...         ...             ...             ...   \n",
       "7038              Yes         Yes         Yes             Yes        One year   \n",
       "7039              Yes          No         Yes             Yes        One year   \n",
       "7040               No          No          No              No  Month-to-month   \n",
       "7041               No          No          No              No  Month-to-month   \n",
       "7042              Yes         Yes         Yes             Yes        Two year   \n",
       "\n",
       "     PaperlessBilling              PaymentMethod MonthlyCharges  TotalCharges  \\\n",
       "0                 Yes           Electronic check          29.85         29.85   \n",
       "1                  No               Mailed check          56.95        1889.5   \n",
       "2                 Yes               Mailed check          53.85        108.15   \n",
       "3                  No  Bank transfer (automatic)          42.30       1840.75   \n",
       "4                 Yes           Electronic check          70.70        151.65   \n",
       "...               ...                        ...            ...           ...   \n",
       "7038              Yes               Mailed check          84.80        1990.5   \n",
       "7039              Yes    Credit card (automatic)         103.20        7362.9   \n",
       "7040              Yes           Electronic check          29.60        346.45   \n",
       "7041              Yes               Mailed check          74.40         306.6   \n",
       "7042              Yes  Bank transfer (automatic)         105.65        6844.5   \n",
       "\n",
       "     Churn  \n",
       "0       No  \n",
       "1       No  \n",
       "2      Yes  \n",
       "3       No  \n",
       "4      Yes  \n",
       "...    ...  \n",
       "7038    No  \n",
       "7039    No  \n",
       "7040    No  \n",
       "7041   Yes  \n",
       "7042    No  \n",
       "\n",
       "[7043 rows x 21 columns]"
      ]
     },
     "execution_count": 3,
     "metadata": {},
     "output_type": "execute_result"
    }
   ],
   "source": [
    "df"
   ]
  },
  {
   "cell_type": "code",
   "execution_count": null,
   "id": "99a27176",
   "metadata": {},
   "outputs": [],
   "source": [
    "df.columns"
   ]
  },
  {
   "cell_type": "code",
   "execution_count": null,
   "id": "fa47ec3f",
   "metadata": {},
   "outputs": [],
   "source": [
    "df.head()"
   ]
  },
  {
   "cell_type": "markdown",
   "id": "29bb7318",
   "metadata": {},
   "source": [
    "Checking Null values in the dataframe."
   ]
  },
  {
   "cell_type": "markdown",
   "id": "bf4b5505",
   "metadata": {},
   "source": [
    "np.nan, None, Nan, others"
   ]
  },
  {
   "cell_type": "code",
   "execution_count": null,
   "id": "224e03f2",
   "metadata": {},
   "outputs": [],
   "source": [
    "df.isnull().sum()"
   ]
  },
  {
   "cell_type": "code",
   "execution_count": null,
   "id": "1ef755eb",
   "metadata": {},
   "outputs": [],
   "source": [
    "df.columns"
   ]
  },
  {
   "cell_type": "markdown",
   "id": "2b7fa5cd",
   "metadata": {},
   "source": [
    "Since there are no null values then we can proceed"
   ]
  },
  {
   "cell_type": "code",
   "execution_count": null,
   "id": "a8979014",
   "metadata": {},
   "outputs": [],
   "source": [
    "a=12\n",
    "type(a)"
   ]
  },
  {
   "cell_type": "code",
   "execution_count": null,
   "id": "30d261a2",
   "metadata": {},
   "outputs": [],
   "source": [
    "b='12'\n",
    "type(b)"
   ]
  },
  {
   "cell_type": "code",
   "execution_count": null,
   "id": "04060777",
   "metadata": {},
   "outputs": [],
   "source": [
    "#figure in rupees\n",
    "price = '200'\n",
    "#type(price)\n",
    "f=int(price)\n",
    "type(f)"
   ]
  },
  {
   "cell_type": "markdown",
   "id": "ef66e602",
   "metadata": {},
   "source": [
    "# Checking the datatypes of the columns"
   ]
  },
  {
   "cell_type": "code",
   "execution_count": null,
   "id": "d7966918",
   "metadata": {},
   "outputs": [],
   "source": [
    "df.dtypes"
   ]
  },
  {
   "cell_type": "markdown",
   "id": "82fdcb3b",
   "metadata": {},
   "source": [
    "we can observe that the \"Total charges\" has continuous data but is is an objct type. Let us handle this column."
   ]
  },
  {
   "cell_type": "code",
   "execution_count": null,
   "id": "f585fe1e",
   "metadata": {},
   "outputs": [],
   "source": [
    "df[\"TotalCharges\"].unique()"
   ]
  },
  {
   "cell_type": "code",
   "execution_count": null,
   "id": "317717a2",
   "metadata": {},
   "outputs": [],
   "source": [
    "df[\"TotalCharges\"].nunique()"
   ]
  },
  {
   "cell_type": "code",
   "execution_count": null,
   "id": "a4a81603",
   "metadata": {},
   "outputs": [],
   "source": [
    "df.shape[0]"
   ]
  },
  {
   "cell_type": "code",
   "execution_count": null,
   "id": "d944ccba",
   "metadata": {},
   "outputs": [],
   "source": [
    "df.loc[df['TotalCharges']==\" \"]"
   ]
  },
  {
   "cell_type": "markdown",
   "id": "caf9c84f",
   "metadata": {},
   "source": [
    "After some observations, we saw the some columns have space as the value."
   ]
  },
  {
   "cell_type": "code",
   "execution_count": null,
   "id": "9cecf2a1",
   "metadata": {},
   "outputs": [],
   "source": [
    "df[\"TotalCharges\"]=df[\"TotalCharges\"].replace(\" \",np.nan)"
   ]
  },
  {
   "cell_type": "code",
   "execution_count": null,
   "id": "07dced3b",
   "metadata": {},
   "outputs": [],
   "source": [
    "df.isnull().sum()"
   ]
  },
  {
   "cell_type": "markdown",
   "id": "b1590431",
   "metadata": {},
   "source": [
    "Converting the column type from object to float."
   ]
  },
  {
   "cell_type": "code",
   "execution_count": null,
   "id": "997efe5d",
   "metadata": {},
   "outputs": [],
   "source": [
    "df[\"TotalCharges\"]=df[\"TotalCharges\"].astype(float)"
   ]
  },
  {
   "cell_type": "code",
   "execution_count": null,
   "id": "6cf48a47",
   "metadata": {},
   "outputs": [],
   "source": [
    "df.TotalCharges.dtype"
   ]
  },
  {
   "cell_type": "markdown",
   "id": "52342331",
   "metadata": {},
   "source": [
    "Now we can see total charges columns has some space values which is replaced by nan values. Now we will handle the nan values.\n",
    "\n",
    "Handling the Nan values and replacing it with the mean of the column. As the column is continuous in nature."
   ]
  },
  {
   "cell_type": "code",
   "execution_count": null,
   "id": "59b69591",
   "metadata": {},
   "outputs": [],
   "source": [
    "np.mean(df[\"TotalCharges\"])"
   ]
  },
  {
   "cell_type": "code",
   "execution_count": null,
   "id": "3295f5eb",
   "metadata": {},
   "outputs": [],
   "source": [
    "df.iloc[6670,:]"
   ]
  },
  {
   "cell_type": "code",
   "execution_count": null,
   "id": "5d85b182",
   "metadata": {},
   "outputs": [],
   "source": [
    "df[\"TotalCharges\"] = df[\"TotalCharges\"].fillna(np.mean(df[\"TotalCharges\"]))"
   ]
  },
  {
   "cell_type": "code",
   "execution_count": null,
   "id": "f7ce7bb6",
   "metadata": {},
   "outputs": [],
   "source": [
    "df.iloc[6670,:]"
   ]
  },
  {
   "cell_type": "code",
   "execution_count": null,
   "id": "e5763364",
   "metadata": {},
   "outputs": [],
   "source": [
    "df.isnull().sum()"
   ]
  },
  {
   "cell_type": "code",
   "execution_count": null,
   "id": "2b5f67dd",
   "metadata": {},
   "outputs": [],
   "source": [
    "df.dtypes"
   ]
  },
  {
   "cell_type": "markdown",
   "id": "d65a9a82",
   "metadata": {},
   "source": [
    "# Making DataFrame for the Nominal Data"
   ]
  },
  {
   "cell_type": "code",
   "execution_count": null,
   "id": "8bd4a7fc",
   "metadata": {},
   "outputs": [],
   "source": [
    "df_visualization_nominal=df[['gender', 'SeniorCitizen', 'Partner', 'Dependents', 'PhoneService', 'MultipleLines', 'InternetService', 'OnlineSecurity', 'OnlineBackup', 'DeviceProtection', 'TechSupport', 'StreamingTV', 'StreamingMovies', 'Contract', 'PaperlessBilling', 'PaymentMethod', 'Churn']].copy()"
   ]
  },
  {
   "cell_type": "code",
   "execution_count": null,
   "id": "a784b3e8",
   "metadata": {},
   "outputs": [],
   "source": [
    "df_visualization_nominal.columns"
   ]
  },
  {
   "cell_type": "code",
   "execution_count": null,
   "id": "4b9f96a5",
   "metadata": {},
   "outputs": [],
   "source": []
  },
  {
   "cell_type": "markdown",
   "id": "a3fc85c0",
   "metadata": {},
   "source": [
    "# Visualization of the Data:"
   ]
  },
  {
   "cell_type": "markdown",
   "id": "94a028ee",
   "metadata": {},
   "source": [
    "For the nomial categorical data we will use countplot as it will give the frequency of the classes of the columns:"
   ]
  },
  {
   "cell_type": "code",
   "execution_count": null,
   "id": "9f435fcd",
   "metadata": {},
   "outputs": [],
   "source": [
    "import seaborn as sns"
   ]
  },
  {
   "cell_type": "code",
   "execution_count": null,
   "id": "88106aa8",
   "metadata": {},
   "outputs": [],
   "source": [
    "ax = sns.countplot(x='gender', data=df_visualization_nominal)\n",
    "print(df_visualization_nominal['gender'].value_counts())"
   ]
  },
  {
   "cell_type": "markdown",
   "id": "9f2f978a",
   "metadata": {},
   "source": [
    "from the above observations the total number of male is 3555 and total number of female customer is 3488."
   ]
  },
  {
   "cell_type": "code",
   "execution_count": null,
   "id": "abe02798",
   "metadata": {},
   "outputs": [],
   "source": [
    "ax = sns.countplot(x=\"SeniorCitizen\", data=df_visualization_nominal)\n",
    "print(df_visualization_nominal[\"SeniorCitizen\"].value_counts())"
   ]
  },
  {
   "cell_type": "markdown",
   "id": "377507ac",
   "metadata": {},
   "source": [
    "From the above observations the total number of younger customer is 5901 and total number of senior citizen customer is 1142."
   ]
  },
  {
   "cell_type": "code",
   "execution_count": null,
   "id": "b88e4fe6",
   "metadata": {},
   "outputs": [],
   "source": [
    "ax = sns.countplot(x=\"Partner\", data=df_visualization_nominal)\n",
    "print(df_visualization_nominal[\"Partner\"].value_counts())"
   ]
  },
  {
   "cell_type": "markdown",
   "id": "18d03067",
   "metadata": {},
   "source": [
    "From the above observations the total number of married customer is 3402 and total number of unmarried customer is 3641."
   ]
  },
  {
   "cell_type": "code",
   "execution_count": null,
   "id": "7cbe243a",
   "metadata": {},
   "outputs": [],
   "source": [
    "ax = sns.countplot(x=\"Dependents\", data=df_visualization_nominal)\n",
    "print(df_visualization_nominal[\"Dependents\"].value_counts())"
   ]
  },
  {
   "cell_type": "markdown",
   "id": "84eb99a3",
   "metadata": {},
   "source": [
    "From the above observations the total number of dependent customer is 2110 and total number of independent customer is 4933."
   ]
  },
  {
   "cell_type": "code",
   "execution_count": null,
   "id": "d0549d22",
   "metadata": {},
   "outputs": [],
   "source": [
    "ax = sns.countplot(x=\"PhoneService\", data=df_visualization_nominal)\n",
    "print(df_visualization_nominal[\"PhoneService\"].value_counts())"
   ]
  },
  {
   "cell_type": "markdown",
   "id": "6a9d3279",
   "metadata": {},
   "source": [
    "From the above observations the total number of customer using phone services is 6361 and total number of customer not using phoen services is 682."
   ]
  },
  {
   "cell_type": "code",
   "execution_count": null,
   "id": "f59ac2b8",
   "metadata": {},
   "outputs": [],
   "source": [
    "ax = sns.countplot(x=\"MultipleLines\", data=df_visualization_nominal)\n",
    "print(df_visualization_nominal[\"MultipleLines\"].value_counts())"
   ]
  },
  {
   "cell_type": "markdown",
   "id": "828cf3dd",
   "metadata": {},
   "source": [
    "From the above observations the total number of customer not using any phone services is 682, using no multiple services is 3390 and using multiple services is 2971."
   ]
  },
  {
   "cell_type": "code",
   "execution_count": null,
   "id": "4c081e4d",
   "metadata": {},
   "outputs": [],
   "source": [
    "ax = sns.countplot(x=\"InternetService\", data=df_visualization_nominal)\n",
    "print(df_visualization_nominal[\"InternetService\"].value_counts())"
   ]
  },
  {
   "cell_type": "markdown",
   "id": "9ab14629",
   "metadata": {},
   "source": [
    "From the above observations the total number of customer not using any internet services is 1526, fibre optics internet services is 3096 and using DSL internet services is 2421."
   ]
  },
  {
   "cell_type": "code",
   "execution_count": null,
   "id": "1e4762ff",
   "metadata": {},
   "outputs": [],
   "source": [
    "ax = sns.countplot(x=\"OnlineSecurity\", data=df_visualization_nominal)\n",
    "print(df_visualization_nominal[\"OnlineSecurity\"].value_counts())"
   ]
  },
  {
   "cell_type": "markdown",
   "id": "6ee08181",
   "metadata": {},
   "source": [
    "From the above observations the total number of customer not using any internet services is 1526, using online security is 2019 and not using online security services is 3498."
   ]
  },
  {
   "cell_type": "code",
   "execution_count": null,
   "id": "0f085378",
   "metadata": {},
   "outputs": [],
   "source": [
    "ax = sns.countplot(x=\"OnlineBackup\", data=df_visualization_nominal)\n",
    "print(df_visualization_nominal[\"OnlineBackup\"].value_counts())"
   ]
  },
  {
   "cell_type": "markdown",
   "id": "0b32e718",
   "metadata": {},
   "source": [
    "From the above observations the total number of customer not using any internet services is 1526, using online security is 2019 and not using online security services is 3498."
   ]
  },
  {
   "cell_type": "code",
   "execution_count": null,
   "id": "456c3aa8",
   "metadata": {},
   "outputs": [],
   "source": [
    "ax = sns.countplot(x=\"DeviceProtection\", data=df_visualization_nominal)\n",
    "print(df_visualization_nominal[\"DeviceProtection\"].value_counts())"
   ]
  },
  {
   "cell_type": "code",
   "execution_count": null,
   "id": "21576c5f",
   "metadata": {},
   "outputs": [],
   "source": [
    "ax = sns.countplot(x=\"TechSupport\", data=df_visualization_nominal)\n",
    "print(df_visualization_nominal[\"TechSupport\"].value_counts())"
   ]
  },
  {
   "cell_type": "code",
   "execution_count": null,
   "id": "65b9d699",
   "metadata": {},
   "outputs": [],
   "source": [
    "ax = sns.countplot(x=\"StreamingTV\", data=df_visualization_nominal)\n",
    "print(df_visualization_nominal[\"StreamingTV\"].value_counts())"
   ]
  },
  {
   "cell_type": "code",
   "execution_count": null,
   "id": "929d7c87",
   "metadata": {},
   "outputs": [],
   "source": [
    "ax = sns.countplot(x=\"StreamingMovies\", data=df_visualization_nominal)\n",
    "print(df_visualization_nominal[\"StreamingMovies\"].value_counts())"
   ]
  },
  {
   "cell_type": "code",
   "execution_count": null,
   "id": "ab22223b",
   "metadata": {},
   "outputs": [],
   "source": [
    "ax = sns.countplot(x=\"Contract\", data=df_visualization_nominal)\n",
    "print(df_visualization_nominal[\"Contract\"].value_counts())"
   ]
  },
  {
   "cell_type": "code",
   "execution_count": null,
   "id": "eb421117",
   "metadata": {},
   "outputs": [],
   "source": [
    "ax = sns.countplot(x=\"PaperlessBilling\", data=df_visualization_nominal)\n",
    "print(df_visualization_nominal[\"PaperlessBilling\"].value_counts())"
   ]
  },
  {
   "cell_type": "code",
   "execution_count": null,
   "id": "60287292",
   "metadata": {},
   "outputs": [],
   "source": [
    "ax = sns.countplot(x=\"PaymentMethod\", data=df_visualization_nominal)\n",
    "print(df_visualization_nominal[\"PaymentMethod\"].value_counts())"
   ]
  },
  {
   "cell_type": "code",
   "execution_count": null,
   "id": "32840235",
   "metadata": {},
   "outputs": [],
   "source": [
    "ax = sns.countplot(x=\"Churn\", data=df_visualization_nominal)\n",
    "print(df_visualization_nominal[\"Churn\"].value_counts())"
   ]
  },
  {
   "cell_type": "markdown",
   "id": "e0a589d5",
   "metadata": {},
   "source": [
    "From the ordinal categorical data we will use lineplot as it will give the flow of the line of the classes of teh columns:"
   ]
  },
  {
   "cell_type": "markdown",
   "id": "0aac1f51",
   "metadata": {},
   "source": [
    "# Making dataframe of teh ordinal data."
   ]
  },
  {
   "cell_type": "code",
   "execution_count": null,
   "id": "ee00dc05",
   "metadata": {},
   "outputs": [],
   "source": [
    "df_visualization_ordinal=df[[\"customerID\", \"tenure\"]].copy()\n",
    "sns.catplot(x=\"SeniorCitizen\", y=\"tenure\", data=df)"
   ]
  },
  {
   "cell_type": "markdown",
   "id": "0c378800",
   "metadata": {},
   "source": [
    "# Checking the distribution of the continuous value of the float type columns."
   ]
  },
  {
   "cell_type": "code",
   "execution_count": null,
   "id": "c64bed75",
   "metadata": {},
   "outputs": [],
   "source": [
    "df_visualization_continuous=df[[\"MonthlyCharges\",\"TotalCharges\"]].copy()"
   ]
  },
  {
   "cell_type": "code",
   "execution_count": null,
   "id": "a54de063",
   "metadata": {},
   "outputs": [],
   "source": [
    "import seaborn as sns\n",
    "sns.displot(df_visualization_continuous['TotalCharges'], kde=True)"
   ]
  },
  {
   "cell_type": "code",
   "execution_count": null,
   "id": "0f5a60c8",
   "metadata": {},
   "outputs": [],
   "source": [
    "sns.displot(df_visualization_continuous['MonthlyCharges'], kde=True)"
   ]
  },
  {
   "cell_type": "markdown",
   "id": "fee9ce3f",
   "metadata": {},
   "source": [
    "Visualization part is completed"
   ]
  },
  {
   "cell_type": "markdown",
   "id": "8a0840b8",
   "metadata": {},
   "source": [
    "Since the dataset has a lot of string values. We ill use the encoding techniques to convert the string data to numerical one"
   ]
  },
  {
   "cell_type": "markdown",
   "id": "2a1630ef",
   "metadata": {},
   "source": [
    "# Encoding the DataFrame:"
   ]
  },
  {
   "cell_type": "code",
   "execution_count": null,
   "id": "cccc3a21",
   "metadata": {},
   "outputs": [],
   "source": [
    "from sklearn.preprocessing import OrdinalEncoder\n",
    "enc=OrdinalEncoder()"
   ]
  },
  {
   "cell_type": "code",
   "execution_count": null,
   "id": "071da116",
   "metadata": {},
   "outputs": [],
   "source": [
    "for i in df.columns:\n",
    "    if df[i].dtypes==\"object\":\n",
    "        df[i]=enc.fit_transform(df[i].values.reshape(-1,1))"
   ]
  },
  {
   "cell_type": "code",
   "execution_count": null,
   "id": "e3bb4914",
   "metadata": {},
   "outputs": [],
   "source": [
    "df"
   ]
  },
  {
   "cell_type": "markdown",
   "id": "fb9a5fd4",
   "metadata": {},
   "source": [
    "# Describe the dataset:"
   ]
  },
  {
   "cell_type": "code",
   "execution_count": null,
   "id": "ed01c373",
   "metadata": {},
   "outputs": [],
   "source": [
    "#only continuous columns\n",
    "df.describe()"
   ]
  },
  {
   "cell_type": "code",
   "execution_count": null,
   "id": "c7b05b2d",
   "metadata": {},
   "outputs": [],
   "source": [
    "import matplotlib.pyplot as plt\n",
    "plt.figure(figsize=(22,7))\n",
    "sns.heatmap(df.describe(),annot=True,linewidths=0.1,linecolor=\"black\",fmt=\"0.2f\")"
   ]
  },
  {
   "cell_type": "markdown",
   "id": "53808b8a",
   "metadata": {},
   "source": [
    "Checking the columns which are positively and negative correlated with the target columns:"
   ]
  },
  {
   "cell_type": "code",
   "execution_count": null,
   "id": "9241d1be",
   "metadata": {},
   "outputs": [],
   "source": [
    "plt.figure(figsize=(22,7))\n",
    "df.corr()['TotalCharges'].sort_values(ascending=False).drop(['TotalCharges']).plot(kind='bar',color='c')\n",
    "plt.xlabel('Feature',fontsize=14)\n",
    "plt.ylabel('column with target names', fontsize=14)\n",
    "plt.title('correlation',fontsize=18)\n",
    "plt.show()"
   ]
  },
  {
   "cell_type": "code",
   "execution_count": null,
   "id": "47bdec5b",
   "metadata": {},
   "outputs": [],
   "source": [
    "df.skew()"
   ]
  },
  {
   "cell_type": "markdown",
   "id": "84a2157a",
   "metadata": {},
   "source": [
    "Keeping +/-0.5 as the range for skewness, here are the columns which does not lie within this range.\n",
    "\n",
    "-Senior Citizen-categorical\n",
    "\n",
    "-Dependents-categorical\n",
    "\n",
    "-Phone Service-categorical\n",
    "\n",
    "-Contract-categorical\n",
    "\n",
    "-Total Charges-target variable\n",
    "\n",
    "-Churn-categorical\n",
    "\n",
    "Since, no column has skewness, we will not treat that."
   ]
  },
  {
   "cell_type": "markdown",
   "id": "8962ae2c",
   "metadata": {},
   "source": [
    "# Outliers Check:"
   ]
  },
  {
   "cell_type": "code",
   "execution_count": null,
   "id": "d9da9096",
   "metadata": {},
   "outputs": [],
   "source": [
    "df.dtypes"
   ]
  },
  {
   "cell_type": "markdown",
   "id": "8b4a78a5",
   "metadata": {},
   "source": [
    "Checking the outliers on th eint and float type of columns."
   ]
  },
  {
   "cell_type": "code",
   "execution_count": null,
   "id": "c2093741",
   "metadata": {},
   "outputs": [],
   "source": [
    "df['SeniorCitizen'].plot.box()"
   ]
  },
  {
   "cell_type": "code",
   "execution_count": null,
   "id": "2d292dcd",
   "metadata": {},
   "outputs": [],
   "source": [
    "df['TotalCharges'].plot.box()"
   ]
  },
  {
   "cell_type": "code",
   "execution_count": null,
   "id": "d9fc14e2",
   "metadata": {},
   "outputs": [],
   "source": [
    "df['MonthlyCharges'].plot.box()"
   ]
  },
  {
   "cell_type": "code",
   "execution_count": null,
   "id": "b2425244",
   "metadata": {},
   "outputs": [],
   "source": [
    "df['tenure'].plot.box()"
   ]
  },
  {
   "cell_type": "code",
   "execution_count": null,
   "id": "b4409b47",
   "metadata": {},
   "outputs": [],
   "source": [
    "df['SeniorCitizen'].unique() "
   ]
  },
  {
   "cell_type": "markdown",
   "id": "3d1a84e9",
   "metadata": {},
   "source": [
    "Since the column Senior Citizen is ominal type, we cannot consider its data point as outlier."
   ]
  },
  {
   "cell_type": "markdown",
   "id": "092bdde5",
   "metadata": {},
   "source": [
    "# Considering the outlier removal"
   ]
  },
  {
   "cell_type": "code",
   "execution_count": null,
   "id": "cc7ee5ba",
   "metadata": {},
   "outputs": [],
   "source": [
    "df.shape"
   ]
  },
  {
   "cell_type": "code",
   "execution_count": null,
   "id": "4d2415af",
   "metadata": {},
   "outputs": [],
   "source": [
    "from scipy.stats import zscore\n",
    "import numpy as np\n",
    "z=np.abs(zscore(df))\n",
    "threshold=3\n",
    "np.where(z>3)"
   ]
  },
  {
   "cell_type": "code",
   "execution_count": null,
   "id": "19ece577",
   "metadata": {},
   "outputs": [],
   "source": [
    "df_new_z=df[(z<3).all(axis=1)]\n",
    "df_new_z"
   ]
  },
  {
   "cell_type": "code",
   "execution_count": null,
   "id": "e41cf92d",
   "metadata": {},
   "outputs": [],
   "source": [
    "df_new_z.shape"
   ]
  },
  {
   "cell_type": "code",
   "execution_count": null,
   "id": "9a9af35f",
   "metadata": {},
   "outputs": [],
   "source": [
    "#Percentage loss of data"
   ]
  },
  {
   "cell_type": "code",
   "execution_count": null,
   "id": "3377d3e8",
   "metadata": {},
   "outputs": [],
   "source": [
    "Data_loss=((7043-6361)/7043*100)"
   ]
  },
  {
   "cell_type": "code",
   "execution_count": null,
   "id": "14188a8f",
   "metadata": {},
   "outputs": [],
   "source": [
    "Data_loss"
   ]
  },
  {
   "cell_type": "markdown",
   "id": "870f87a5",
   "metadata": {},
   "source": [
    "Our data is becoming biased as it is not considering the case of Senior Citizens. Thus, we will not remove outliers."
   ]
  },
  {
   "cell_type": "markdown",
   "id": "d2320214",
   "metadata": {},
   "source": [
    "Separating the columns into features and target:"
   ]
  },
  {
   "cell_type": "code",
   "execution_count": null,
   "id": "2852d807",
   "metadata": {},
   "outputs": [],
   "source": [
    "features=df.drop(\"TotalCharges\",axis=1)\n",
    "target=df[\"TotalCharges\"]"
   ]
  },
  {
   "cell_type": "markdown",
   "id": "f359eadf",
   "metadata": {},
   "source": [
    "Scaling the data using Min-Max Scaler:"
   ]
  },
  {
   "cell_type": "code",
   "execution_count": null,
   "id": "187d9da1",
   "metadata": {},
   "outputs": [],
   "source": [
    "from sklearn.preprocessing import MinMaxScaler\n",
    "mms=MinMaxScaler()\n",
    "from sklearn.linear_model import LinearRegression\n",
    "lr=LinearRegression()\n",
    "from sklearn.metrics import r2_score\n",
    "from sklearn.model_selection import train_test_split"
   ]
  },
  {
   "cell_type": "code",
   "execution_count": null,
   "id": "a73dfaef",
   "metadata": {},
   "outputs": [],
   "source": [
    "import warnings\n",
    "warnings.filterwarnings('ignore')"
   ]
  },
  {
   "cell_type": "code",
   "execution_count": null,
   "id": "162adba1",
   "metadata": {},
   "outputs": [],
   "source": [
    "for i in range(0,100):\n",
    "    features_train,features_test,target_train,target_test=train_test_split(features,target,test_size=0.2,random_state=1)\n",
    "    lr.fit(features_train,target_train)\n",
    "    pred_train=lr.predict(features_train)\n",
    "    pred_test=lr.predict(features_test)\n",
    "    print(f'At random state (i), the training accuracy is:- {r2_score(target_train,pred_train)}')\n",
    "    print(f'At random state (i), the testing accuracy is:- {r2_score(target_test,pred_test)}')\n",
    "    print('\\n')"
   ]
  },
  {
   "cell_type": "code",
   "execution_count": null,
   "id": "91cbebe6",
   "metadata": {},
   "outputs": [],
   "source": [
    "features_train,features_test,target_train,target_test=train_test_split(features,target,test_size=0.2,random_state=12)"
   ]
  },
  {
   "cell_type": "code",
   "execution_count": null,
   "id": "d3f373a9",
   "metadata": {},
   "outputs": [],
   "source": [
    "#train the model\n",
    "lr.fit(features_train,target_train)"
   ]
  },
  {
   "cell_type": "code",
   "execution_count": null,
   "id": "a09bbfa5",
   "metadata": {},
   "outputs": [],
   "source": [
    "pred_test=lr.predict(features_test)"
   ]
  },
  {
   "cell_type": "code",
   "execution_count": null,
   "id": "4a2dc064",
   "metadata": {},
   "outputs": [],
   "source": [
    "print(r2_score(target_test,pred_test))"
   ]
  },
  {
   "cell_type": "markdown",
   "id": "74c0c9ca",
   "metadata": {},
   "source": [
    "Cross-validation of the model:"
   ]
  },
  {
   "cell_type": "code",
   "execution_count": null,
   "id": "e8b68d51",
   "metadata": {},
   "outputs": [],
   "source": [
    "Train_accuracy=r2_score(target_train,pred_train)\n",
    "Test_accuracy=r2_score(target_test,pred_test)\n",
    "\n",
    "from sklearn.model_selection import cross_val_score\n",
    "for j in range(2,10):\n",
    "    cv_score=cross_val_score(lr,features,target,cv=j)\n",
    "    cv_mean=cv_score.mean()\n",
    "    print(f'At cross fold (j) the  cv score is (cv_mean) and accuracy score for training is (Train_accuracy) and accuracy for the testing is (Test_accuracy)')\n",
    "    print(\"\\n\")"
   ]
  },
  {
   "cell_type": "markdown",
   "id": "8da59698",
   "metadata": {},
   "source": [
    "Since the number of folds don't havae such impact on the accuracy and c_score. So cv=5 is selected\n",
    "\n",
    "Here we have handled the problem of the overfitting and the underfitting by checking the training and testing score."
   ]
  },
  {
   "cell_type": "code",
   "execution_count": null,
   "id": "571e3da7",
   "metadata": {},
   "outputs": [],
   "source": [
    "import matplotlib.pyplot as plt\n",
    "plt.figure(figsize=(8,6))\n",
    "plt.scatter(x=target_test, y=pred_test, color='r')\n",
    "plt.plot(target_test,target_test, color='b')\n",
    "plt.xlabel('Actual charges', fontsize=14)\n",
    "plt.ylabel('Predicted charges', fontsize=14)\n",
    "plt.title('Linear Regression', fontsize=18)\n",
    "plt.savefig('lr.png')\n",
    "plt.show()"
   ]
  },
  {
   "cell_type": "markdown",
   "id": "85a22998",
   "metadata": {},
   "source": [
    "Best fit line is covering most of the datapoints which shows good fit of our model."
   ]
  },
  {
   "cell_type": "markdown",
   "id": "9db2699a",
   "metadata": {},
   "source": [
    "# Regularization:"
   ]
  },
  {
   "cell_type": "code",
   "execution_count": null,
   "id": "a80d6e98",
   "metadata": {},
   "outputs": [],
   "source": [
    "from sklearn.model_selection import GridSearchCV\n",
    "from sklearn.model_selection import cross_val_score\n",
    "import warnings\n",
    "warnings.filterwarnings('ignore')"
   ]
  },
  {
   "cell_type": "code",
   "execution_count": null,
   "id": "1aed0168",
   "metadata": {},
   "outputs": [],
   "source": [
    "from sklearn.linear_model import Lasso\n",
    "\n",
    "parameters = {'alpha' :[.0001, .01, .01, .1,1,10], 'random_state' :list(range(0,10))}\n",
    "\n",
    "ls = Lasso()\n",
    "clf = GridSearchCV(ls,parameters)\n",
    "clf.fit(features_train,target_train)\n",
    "\n",
    "print(clf.best_params_)"
   ]
  },
  {
   "cell_type": "code",
   "execution_count": null,
   "id": "9197458a",
   "metadata": {},
   "outputs": [],
   "source": [
    "#final model training\n",
    "ls = Lasso(alpha=1, random_state=1)\n",
    "ls.fit(features_train,target_train)\n",
    "ls_score_training = ls.score(features_train,target_train)\n",
    "pred_ls = ls.predict(features_test)\n",
    "ls_score_training*100"
   ]
  },
  {
   "cell_type": "code",
   "execution_count": null,
   "id": "0a686ae1",
   "metadata": {},
   "outputs": [],
   "source": [
    "pred_ls = ls.predict(features_test)"
   ]
  },
  {
   "cell_type": "code",
   "execution_count": null,
   "id": "24444b3b",
   "metadata": {},
   "outputs": [],
   "source": [
    "lss=r2_score(target_test,pred_ls)\n",
    "lss*100"
   ]
  },
  {
   "cell_type": "code",
   "execution_count": null,
   "id": "0b501a93",
   "metadata": {},
   "outputs": [],
   "source": [
    "cv_score=cross_val_score(ls,features,target,cv=5)\n",
    "cv_mean=cv_score.mean()\n",
    "cv_mean*100"
   ]
  },
  {
   "cell_type": "markdown",
   "id": "f464a9b5",
   "metadata": {},
   "source": [
    "# Ensemble technique:"
   ]
  },
  {
   "cell_type": "code",
   "execution_count": null,
   "id": "8ccae666",
   "metadata": {},
   "outputs": [],
   "source": [
    "from sklearn.model_selection import GridSearchCV\n",
    "from sklearn.ensemble import RandomForestRegressor\n",
    "\n",
    "parameters = {'criterion' :['mse', 'mae'], \n",
    "              'max_features':[\"auto\", \"sqrt\", \"log2\"]}\n",
    "\n",
    "rf = RandomForestRegressor()\n",
    "clf = GridSearchCV(rf,parameters)\n",
    "clf.fit(features_train,target_train)\n",
    "\n",
    "print(clf.best_params_)"
   ]
  },
  {
   "cell_type": "code",
   "execution_count": null,
   "id": "ab86af55",
   "metadata": {},
   "outputs": [],
   "source": [
    "rf=RandomForestRegressor(criterion=\"mae\",max_features=\"auto\")\n",
    "rf.fit(features_train, target_train)\n",
    "rf.score(features_train, target_train)\n",
    "pred_decision = rf.predict(features_test)\n",
    "\n",
    "rfs = r2_score(target_test,pred_decision)\n",
    "print('R2 Score:',rfs*100)\n",
    "\n",
    "rfscore = cross_val_score(rf,features,target,cv=5)\n",
    "rfc = rfscore.mean()\n",
    "print('Cross Val Score:',rfc*100)"
   ]
  },
  {
   "cell_type": "markdown",
   "id": "a9e5c3db",
   "metadata": {},
   "source": [
    "We are getting model accuracy and cross validation both as 99.8% which shows our model is performing extremely well"
   ]
  },
  {
   "cell_type": "code",
   "execution_count": null,
   "id": "607f42ff",
   "metadata": {},
   "outputs": [],
   "source": [
    "import pickle\n",
    "filename = 'churn.pkl'\n",
    "pickle.dump(rf, open(filename,'wb'))"
   ]
  },
  {
   "cell_type": "code",
   "execution_count": null,
   "id": "4f1033ae",
   "metadata": {},
   "outputs": [],
   "source": []
  },
  {
   "cell_type": "markdown",
   "id": "f1f189ee",
   "metadata": {},
   "source": [
    "# Conclusion:"
   ]
  },
  {
   "cell_type": "code",
   "execution_count": null,
   "id": "b1544c62",
   "metadata": {},
   "outputs": [],
   "source": [
    "loaded_model = pickle.load(open('churn.pkl', 'rb'))\n",
    "result = loaded_model.store(features_test, target_test)\n",
    "print(result*100)"
   ]
  },
  {
   "cell_type": "code",
   "execution_count": null,
   "id": "0c0c9d29",
   "metadata": {},
   "outputs": [],
   "source": [
    "conclusion=pd.DataFrame([loaded_model.predict(features_test)[:],pred_decision[:]],index=[\"Predicted\", \"Original\"])"
   ]
  },
  {
   "cell_type": "code",
   "execution_count": null,
   "id": "90fd25df",
   "metadata": {},
   "outputs": [],
   "source": [
    "conclusion"
   ]
  },
  {
   "cell_type": "code",
   "execution_count": null,
   "id": "9b2b1398",
   "metadata": {},
   "outputs": [],
   "source": []
  },
  {
   "cell_type": "code",
   "execution_count": null,
   "id": "3efa78fb",
   "metadata": {},
   "outputs": [],
   "source": []
  },
  {
   "cell_type": "code",
   "execution_count": null,
   "id": "6beac235",
   "metadata": {},
   "outputs": [],
   "source": []
  }
 ],
 "metadata": {
  "kernelspec": {
   "display_name": "Python 3 (ipykernel)",
   "language": "python",
   "name": "python3"
  },
  "language_info": {
   "codemirror_mode": {
    "name": "ipython",
    "version": 3
   },
   "file_extension": ".py",
   "mimetype": "text/x-python",
   "name": "python",
   "nbconvert_exporter": "python",
   "pygments_lexer": "ipython3",
   "version": "3.9.12"
  }
 },
 "nbformat": 4,
 "nbformat_minor": 5
}
