{
 "cells": [
  {
   "cell_type": "markdown",
   "id": "47269773",
   "metadata": {},
   "source": [
    "Modules"
   ]
  },
  {
   "cell_type": "code",
   "execution_count": 1,
   "id": "6323c693",
   "metadata": {},
   "outputs": [],
   "source": [
    "import keyword"
   ]
  },
  {
   "cell_type": "code",
   "execution_count": 2,
   "id": "89cd5b33",
   "metadata": {},
   "outputs": [
    {
     "name": "stdout",
     "output_type": "stream",
     "text": [
      "['False', 'None', 'True', '__peg_parser__', 'and', 'as', 'assert', 'async', 'await', 'break', 'class', 'continue', 'def', 'del', 'elif', 'else', 'except', 'finally', 'for', 'from', 'global', 'if', 'import', 'in', 'is', 'lambda', 'nonlocal', 'not', 'or', 'pass', 'raise', 'return', 'try', 'while', 'with', 'yield']\n"
     ]
    }
   ],
   "source": [
    "print (keyword.kwlist)"
   ]
  },
  {
   "cell_type": "code",
   "execution_count": 3,
   "id": "c227863c",
   "metadata": {},
   "outputs": [],
   "source": [
    "import sys"
   ]
  },
  {
   "cell_type": "code",
   "execution_count": 4,
   "id": "beae664f",
   "metadata": {},
   "outputs": [
    {
     "data": {
      "text/plain": [
       "['C:\\\\Users\\\\Admin\\\\Desktop\\\\Data Science\\\\Data Sc\\\\DS-LiveClass-main',\n",
       " 'C:\\\\Users\\\\Admin\\\\anaconda3\\\\python39.zip',\n",
       " 'C:\\\\Users\\\\Admin\\\\anaconda3\\\\DLLs',\n",
       " 'C:\\\\Users\\\\Admin\\\\anaconda3\\\\lib',\n",
       " 'C:\\\\Users\\\\Admin\\\\anaconda3',\n",
       " '',\n",
       " 'C:\\\\Users\\\\Admin\\\\anaconda3\\\\lib\\\\site-packages',\n",
       " 'C:\\\\Users\\\\Admin\\\\anaconda3\\\\lib\\\\site-packages\\\\win32',\n",
       " 'C:\\\\Users\\\\Admin\\\\anaconda3\\\\lib\\\\site-packages\\\\win32\\\\lib',\n",
       " 'C:\\\\Users\\\\Admin\\\\anaconda3\\\\lib\\\\site-packages\\\\Pythonwin']"
      ]
     },
     "execution_count": 4,
     "metadata": {},
     "output_type": "execute_result"
    }
   ],
   "source": [
    "sys.path"
   ]
  },
  {
   "cell_type": "code",
   "execution_count": 5,
   "id": "0b792c74",
   "metadata": {},
   "outputs": [],
   "source": [
    "import os"
   ]
  },
  {
   "cell_type": "code",
   "execution_count": 6,
   "id": "95557236",
   "metadata": {},
   "outputs": [
    {
     "data": {
      "text/plain": [
       "'C:\\\\Users\\\\Admin\\\\Desktop\\\\Data Science\\\\Data Sc\\\\DS-LiveClass-main'"
      ]
     },
     "execution_count": 6,
     "metadata": {},
     "output_type": "execute_result"
    }
   ],
   "source": [
    "os.getcwd()"
   ]
  },
  {
   "cell_type": "code",
   "execution_count": 7,
   "id": "e26a4a2a",
   "metadata": {},
   "outputs": [],
   "source": [
    "#changing directory\n",
    "os.chdir('C:\\\\Users\\\\Admin')"
   ]
  },
  {
   "cell_type": "code",
   "execution_count": 8,
   "id": "2b98fdc9",
   "metadata": {},
   "outputs": [
    {
     "data": {
      "text/plain": [
       "'C:\\\\Users\\\\Admin'"
      ]
     },
     "execution_count": 8,
     "metadata": {},
     "output_type": "execute_result"
    }
   ],
   "source": [
    "os.getcwd()"
   ]
  },
  {
   "cell_type": "code",
   "execution_count": 9,
   "id": "58fbfab2",
   "metadata": {},
   "outputs": [
    {
     "data": {
      "text/plain": [
       "['.anaconda',\n",
       " '.conda',\n",
       " '.condarc',\n",
       " '.continuum',\n",
       " '.gitconfig',\n",
       " '.idlerc',\n",
       " '.ipynb_checkpoints',\n",
       " '.ipython',\n",
       " '.jupyter',\n",
       " '.keras',\n",
       " '.matplotlib',\n",
       " '.ms-ad',\n",
       " '.vscode',\n",
       " '10 web scrap 10.ipynb',\n",
       " '3D Objects',\n",
       " '4. flipkart 100 sunglasses.ipynb',\n",
       " '5 flipkart iphone 11.ipynb',\n",
       " '6 flipkart sneaker.ipynb',\n",
       " '7 Myntra shoe scraping.ipynb',\n",
       " '7. Evaluation Project - Temperature Forecast Project using ML (1).ipynb',\n",
       " '8 Amazon laptop scrap.ipynb',\n",
       " '9 ambition job scrap.ipynb',\n",
       " 'Abalone_Data.csv',\n",
       " 'Advertising_Data.csv',\n",
       " 'agedata.tsv',\n",
       " 'agedata.txt',\n",
       " 'agedata1.csv',\n",
       " 'age_salary.csv',\n",
       " 'ambition jobs.ipynb',\n",
       " 'AmbitionBox 20-04-2020.ipynb',\n",
       " 'anaconda3',\n",
       " 'AppData',\n",
       " 'Application Data',\n",
       " 'Assignments',\n",
       " 'Assignments.txt',\n",
       " 'avocado.csv',\n",
       " 'Baseball_Data.csv',\n",
       " 'bigdatamart_test.csv',\n",
       " 'bigdatamart_train.csv',\n",
       " 'brain_size.csv',\n",
       " 'Census_Income.csv',\n",
       " 'chromedriver.exe',\n",
       " 'Concrete_Data.csv',\n",
       " 'Contacts',\n",
       " 'Cookies',\n",
       " 'correlation_matrix.jpg',\n",
       " 'Country-Code.xlsx',\n",
       " 'Customer Retention Project.ipynb',\n",
       " 'Customer_Churn_Analysis.csv',\n",
       " 'customer_retention_dataset.csv',\n",
       " 'customer_retention_dataset.xls',\n",
       " 'data.txt',\n",
       " 'Desktop',\n",
       " 'diabetes.csv',\n",
       " 'Documents',\n",
       " 'Downloads',\n",
       " 'dynamic web page scrap using selenium.ipynb',\n",
       " 'E commerce Purchase Project.ipynb',\n",
       " 'emp1test.html',\n",
       " 'empl.csv',\n",
       " 'empl.csv.txt',\n",
       " 'employee_database.db',\n",
       " 'employee_database1.db',\n",
       " 'emptest.csv',\n",
       " 'emp_database.db',\n",
       " 'emp_database.db-journal',\n",
       " 'emp_database1.db',\n",
       " 'emp_database2.db',\n",
       " 'excel',\n",
       " 'Favorites',\n",
       " 'flipkart review.ipynb',\n",
       " 'flower.ipynb',\n",
       " 'geckodriver.log',\n",
       " 'global power plant database.ipynb',\n",
       " 'google photo web scrap using selenium.ipynb',\n",
       " 'Hapiness.ipynb',\n",
       " 'happiness_score_dataset.csv',\n",
       " 'Happyness.pkl',\n",
       " 'heatmap.png',\n",
       " 'HOUSE PRICE PREDICTION.ipynb',\n",
       " 'house_pred_submission.csv',\n",
       " 'house_price_data_median.csv',\n",
       " 'Housing Price Prediction - Myself.ipynb',\n",
       " 'Housing Price Prediction Project - FLIP ROBO.ipynb',\n",
       " 'HOUSING PRICE PROJECT.ipynb',\n",
       " 'Housing project.ipynb',\n",
       " 'housing_price_report (1).pdf',\n",
       " 'HR Analytics Dataset.csv',\n",
       " 'hrdata.csv',\n",
       " 'hrdata_modified.csv',\n",
       " 'HR_attrition_rate.csv',\n",
       " 'Insurance_Claim_Fraud_Project.csv',\n",
       " 'IntelGraphicsProfiles',\n",
       " 'iris.csv',\n",
       " 'Links',\n",
       " 'loan_application_status.csv',\n",
       " 'Local Settings',\n",
       " 'lr.png',\n",
       " 'Micro Credit Defaulter Project 1.ipynb',\n",
       " 'Micro Credit Defaulter Project.ipynb',\n",
       " 'Music',\n",
       " 'My Documents',\n",
       " 'NetHood',\n",
       " 'NTUSER.DAT',\n",
       " 'ntuser.dat.LOG1',\n",
       " 'ntuser.dat.LOG2',\n",
       " 'NTUSER.DAT{623037e1-0443-11ed-b276-b17bcd9e2908}.TM.blf',\n",
       " 'NTUSER.DAT{623037e1-0443-11ed-b276-b17bcd9e2908}.TMContainer00000000000000000001.regtrans-ms',\n",
       " 'NTUSER.DAT{623037e1-0443-11ed-b276-b17bcd9e2908}.TMContainer00000000000000000002.regtrans-ms',\n",
       " 'ntuser.ini',\n",
       " 'odi top 10 player fliprobo.ipynb',\n",
       " 'odi top team.ipynb',\n",
       " 'OneDrive',\n",
       " 'pairplot.png',\n",
       " 'Pictures',\n",
       " 'president_heights.csv',\n",
       " 'PrintHood',\n",
       " 'PycharmProjects',\n",
       " 'python_class.pdf',\n",
       " 'rainfall.ipynb',\n",
       " 'Rainfall_Prediction.ipynb',\n",
       " 'Rainfall_Prediction_Anaysis.ipynb',\n",
       " 'rain_fall_prediction_v1.ipynb',\n",
       " 'Rain_Prediction_Tomorrow.ipynb',\n",
       " 'README.md',\n",
       " 'Recent',\n",
       " 'role_website.csv',\n",
       " 'salarydata.xlsx',\n",
       " 'salarydata1.xlsx',\n",
       " 'SalaryPrediction.ipynb',\n",
       " 'Saved Games',\n",
       " 'scores_database.db',\n",
       " 'Scores_file.csv',\n",
       " 'scrap amazon guitar.ipynb',\n",
       " 'seaborn-data',\n",
       " 'Searches',\n",
       " 'SendTo',\n",
       " 'sonar.all-data',\n",
       " 'sonar.csv',\n",
       " 'SonarModel.pkl',\n",
       " 'sports_database.db',\n",
       " 'SQLite',\n",
       " 'Start Menu',\n",
       " 'Stock Price Prediction with LSTM.ipynb',\n",
       " 'studentdb.db',\n",
       " 'studentdb1.db',\n",
       " 'student_course_database.db',\n",
       " 'student_course_database.db-journal',\n",
       " 'student_course_database1.db',\n",
       " 'student_course_database1.db-journal',\n",
       " 'student_course_database2.db',\n",
       " 'student_course_database2.db-journal',\n",
       " 'student_database.db',\n",
       " 'student_database.db-journal',\n",
       " 'student_marks.csv',\n",
       " 'Temperature Forecast Project-checkpoint.ipynb',\n",
       " 'Temperature Forecast Project.ipynb',\n",
       " 'Templates',\n",
       " 'test.csv',\n",
       " 'Titanic.csv',\n",
       " 'Top 10 ODI Team',\n",
       " 'top_30_videos',\n",
       " 'train.csv',\n",
       " 'Untitled.ipynb',\n",
       " 'untitled.txt',\n",
       " 'Untitled1.ipynb',\n",
       " 'untitled1.txt',\n",
       " 'Untitled2.ipynb',\n",
       " 'untitled2.txt',\n",
       " 'Untitled3.ipynb',\n",
       " 'Untitled4.ipynb',\n",
       " 'Untitled5.ipynb',\n",
       " 'Untitled6.ipynb',\n",
       " 'Videos',\n",
       " 'Weather Dataset.ipynb',\n",
       " 'weatherAUS.csv',\n",
       " 'web scrap example 1 using selenium.ipynb',\n",
       " 'web scrap example using selenium.ipynb',\n",
       " 'web scrap example2.ipynb',\n",
       " 'web scrap using selenium naukri.com.ipynb',\n",
       " 'web scrap using selenium.ipynb',\n",
       " 'web scrap with selenium sample not completed.ipynb',\n",
       " 'Web Scraping Assignment - 2 (FlipRobo).ipynb',\n",
       " 'Web Scraping Assignment - 3.ipynb',\n",
       " 'Web Scraping Assignment 2 - Selenium (Flip Robo).ipynb',\n",
       " 'Web Scraping Assignment 3 - FLIP ROBO.ipynb',\n",
       " 'Web Scraping Assignment 4.ipynb',\n",
       " 'Web Scraping with Selenium 01.ipynb',\n",
       " 'Web Scrapping Assignment 2.ipynb',\n",
       " 'WEB SCRAPPING ASSIGNMENT-4.ipynb',\n",
       " 'winequality-red.csv',\n",
       " 'Zomato Exploratory Data Analysis.ipynb',\n",
       " 'zomato.ipynb',\n",
       " 'zomato_csv.xlsx']"
      ]
     },
     "execution_count": 9,
     "metadata": {},
     "output_type": "execute_result"
    }
   ],
   "source": [
    "os.listdir()"
   ]
  },
  {
   "cell_type": "code",
   "execution_count": 10,
   "id": "5794f8b9",
   "metadata": {},
   "outputs": [],
   "source": [
    "import math"
   ]
  },
  {
   "cell_type": "code",
   "execution_count": 11,
   "id": "88f5796e",
   "metadata": {},
   "outputs": [
    {
     "data": {
      "text/plain": [
       "3.141592653589793"
      ]
     },
     "execution_count": 11,
     "metadata": {},
     "output_type": "execute_result"
    }
   ],
   "source": [
    "math.pi"
   ]
  },
  {
   "cell_type": "code",
   "execution_count": 12,
   "id": "7ea50318",
   "metadata": {},
   "outputs": [
    {
     "data": {
      "text/plain": [
       "4.0"
      ]
     },
     "execution_count": 12,
     "metadata": {},
     "output_type": "execute_result"
    }
   ],
   "source": [
    "math.sqrt(16)"
   ]
  },
  {
   "cell_type": "code",
   "execution_count": 13,
   "id": "c2144298",
   "metadata": {},
   "outputs": [
    {
     "data": {
      "text/plain": [
       "8.0"
      ]
     },
     "execution_count": 13,
     "metadata": {},
     "output_type": "execute_result"
    }
   ],
   "source": [
    "math.pow(2,3)"
   ]
  },
  {
   "cell_type": "markdown",
   "id": "5257f42d",
   "metadata": {},
   "source": [
    "Import with renaming\n"
   ]
  },
  {
   "cell_type": "code",
   "execution_count": 14,
   "id": "3f8c0f26",
   "metadata": {},
   "outputs": [],
   "source": [
    "import math as m"
   ]
  },
  {
   "cell_type": "code",
   "execution_count": 15,
   "id": "e0664707",
   "metadata": {},
   "outputs": [
    {
     "data": {
      "text/plain": [
       "3.141592653589793"
      ]
     },
     "execution_count": 15,
     "metadata": {},
     "output_type": "execute_result"
    }
   ],
   "source": [
    "m.pi"
   ]
  },
  {
   "cell_type": "code",
   "execution_count": 16,
   "id": "40e76f3b",
   "metadata": {},
   "outputs": [
    {
     "data": {
      "text/plain": [
       "16.0"
      ]
     },
     "execution_count": 16,
     "metadata": {},
     "output_type": "execute_result"
    }
   ],
   "source": [
    "#power function\n",
    "m.pow(4,2)"
   ]
  },
  {
   "cell_type": "code",
   "execution_count": 17,
   "id": "753abc34",
   "metadata": {},
   "outputs": [
    {
     "data": {
      "text/plain": [
       "3.141592653589793"
      ]
     },
     "execution_count": 17,
     "metadata": {},
     "output_type": "execute_result"
    }
   ],
   "source": [
    "from math import pi\n",
    "pi"
   ]
  },
  {
   "cell_type": "code",
   "execution_count": 18,
   "id": "32563d44",
   "metadata": {},
   "outputs": [
    {
     "data": {
      "text/plain": [
       "3.0"
      ]
     },
     "execution_count": 18,
     "metadata": {},
     "output_type": "execute_result"
    }
   ],
   "source": [
    "from math import sqrt\n",
    "sqrt(9)"
   ]
  },
  {
   "cell_type": "code",
   "execution_count": 19,
   "id": "813bf905",
   "metadata": {},
   "outputs": [
    {
     "data": {
      "text/plain": [
       "dict_keys(['__name__', '__doc__', '__package__', '__loader__', '__spec__', 'acos', 'acosh', 'asin', 'asinh', 'atan', 'atan2', 'atanh', 'ceil', 'copysign', 'cos', 'cosh', 'degrees', 'dist', 'erf', 'erfc', 'exp', 'expm1', 'fabs', 'factorial', 'floor', 'fmod', 'frexp', 'fsum', 'gamma', 'gcd', 'hypot', 'isclose', 'isfinite', 'isinf', 'isnan', 'isqrt', 'lcm', 'ldexp', 'lgamma', 'log', 'log1p', 'log10', 'log2', 'modf', 'pow', 'radians', 'remainder', 'sin', 'sinh', 'sqrt', 'tan', 'tanh', 'trunc', 'prod', 'perm', 'comb', 'nextafter', 'ulp', 'pi', 'e', 'tau', 'inf', 'nan'])"
      ]
     },
     "execution_count": 19,
     "metadata": {},
     "output_type": "execute_result"
    }
   ],
   "source": [
    "math.__dict__.keys()"
   ]
  },
  {
   "cell_type": "markdown",
   "id": "977cb3ed",
   "metadata": {},
   "source": [
    "Get Current Data and Time"
   ]
  },
  {
   "cell_type": "code",
   "execution_count": 20,
   "id": "a245efbe",
   "metadata": {},
   "outputs": [],
   "source": [
    "import datetime"
   ]
  },
  {
   "cell_type": "code",
   "execution_count": 21,
   "id": "d7c3873b",
   "metadata": {},
   "outputs": [
    {
     "data": {
      "text/plain": [
       "datetime.datetime(2022, 11, 23, 19, 46, 39, 952545)"
      ]
     },
     "execution_count": 21,
     "metadata": {},
     "output_type": "execute_result"
    }
   ],
   "source": [
    "#get current date & time\n",
    "dt=datetime.datetime.now()\n",
    "dt"
   ]
  },
  {
   "cell_type": "code",
   "execution_count": 22,
   "id": "d4d3251f",
   "metadata": {},
   "outputs": [
    {
     "data": {
      "text/plain": [
       "datetime.date(2022, 11, 23)"
      ]
     },
     "execution_count": 22,
     "metadata": {},
     "output_type": "execute_result"
    }
   ],
   "source": [
    "#get current date\n",
    "dt1=datetime.date.today()\n",
    "dt1"
   ]
  },
  {
   "cell_type": "code",
   "execution_count": 23,
   "id": "af2c24bf",
   "metadata": {},
   "outputs": [],
   "source": [
    "#commonly used classes in the datetime moduel are:\n",
    "#date class\n",
    "#time class\n",
    "#datetime class\n",
    "#timedelta class"
   ]
  },
  {
   "cell_type": "code",
   "execution_count": 24,
   "id": "5152d732",
   "metadata": {},
   "outputs": [
    {
     "data": {
      "text/plain": [
       "datetime.date(2022, 8, 19)"
      ]
     },
     "execution_count": 24,
     "metadata": {},
     "output_type": "execute_result"
    }
   ],
   "source": [
    "import datetime\n",
    "d=datetime.date(2022,8,19)\n",
    "d"
   ]
  },
  {
   "cell_type": "code",
   "execution_count": 25,
   "id": "2620fe38",
   "metadata": {},
   "outputs": [
    {
     "data": {
      "text/plain": [
       "datetime.date(2022, 8, 19)"
      ]
     },
     "execution_count": 25,
     "metadata": {},
     "output_type": "execute_result"
    }
   ],
   "source": [
    "from datetime import date\n",
    "a=date(2022,8,19)\n",
    "a"
   ]
  },
  {
   "cell_type": "code",
   "execution_count": 26,
   "id": "c5ab9d13",
   "metadata": {},
   "outputs": [
    {
     "data": {
      "text/plain": [
       "datetime.date(2022, 11, 23)"
      ]
     },
     "execution_count": 26,
     "metadata": {},
     "output_type": "execute_result"
    }
   ],
   "source": [
    "#get current date\n",
    "td=date.today()\n",
    "td"
   ]
  },
  {
   "cell_type": "code",
   "execution_count": 27,
   "id": "dc5e05c2",
   "metadata": {},
   "outputs": [
    {
     "name": "stdout",
     "output_type": "stream",
     "text": [
      "Year= 2022\n",
      "Month= 11\n",
      "Day= 23\n"
     ]
    }
   ],
   "source": [
    "print(\"Year=\",td.year)\n",
    "print(\"Month=\",td.month)\n",
    "print(\"Day=\",td.day)"
   ]
  },
  {
   "cell_type": "code",
   "execution_count": 28,
   "id": "e0d07546",
   "metadata": {},
   "outputs": [
    {
     "name": "stdout",
     "output_type": "stream",
     "text": [
      "00:00:00\n",
      "11:35:56\n"
     ]
    }
   ],
   "source": [
    "from datetime import time\n",
    "a=time()\n",
    "print(a)\n",
    "\n",
    "#time(hour,minute,second)\n",
    "b=time(11,35,56)\n",
    "print(b)"
   ]
  },
  {
   "cell_type": "code",
   "execution_count": 29,
   "id": "0a585b53",
   "metadata": {},
   "outputs": [
    {
     "name": "stdout",
     "output_type": "stream",
     "text": [
      "hour: 11\n",
      "minute: 35\n",
      "second: 56\n"
     ]
    }
   ],
   "source": [
    "print(\"hour:\",b.hour)\n",
    "print(\"minute:\",b.minute)\n",
    "print(\"second:\",b.second)"
   ]
  },
  {
   "cell_type": "code",
   "execution_count": 30,
   "id": "5028317e",
   "metadata": {},
   "outputs": [
    {
     "name": "stdout",
     "output_type": "stream",
     "text": [
      "2021-04-26 00:00:00\n"
     ]
    }
   ],
   "source": [
    "from datetime import datetime\n",
    "a=datetime(2021,4,26)\n",
    "print(a)"
   ]
  },
  {
   "cell_type": "code",
   "execution_count": 31,
   "id": "8404bd06",
   "metadata": {},
   "outputs": [
    {
     "name": "stdout",
     "output_type": "stream",
     "text": [
      "year= 2021\n",
      "month= 4\n",
      "day= 26\n"
     ]
    }
   ],
   "source": [
    "print(\"year=\",a.year)\n",
    "print(\"month=\",a.month)\n",
    "print(\"day=\",a.day)"
   ]
  },
  {
   "cell_type": "code",
   "execution_count": 32,
   "id": "b2f72a74",
   "metadata": {},
   "outputs": [
    {
     "name": "stdout",
     "output_type": "stream",
     "text": [
      "2021\n",
      "2\n",
      "27\n",
      "17\n",
      "30\n",
      "50\n"
     ]
    }
   ],
   "source": [
    "#datetime(year,month,date,hour,minute,second)\n",
    "b=datetime(2021,2,27,17,30,50)\n",
    "print(b.year)\n",
    "print(b.month)\n",
    "print(b.day)\n",
    "print(b.hour)\n",
    "print(b.minute)\n",
    "print(b.second)"
   ]
  },
  {
   "cell_type": "markdown",
   "id": "269db7f9",
   "metadata": {},
   "source": [
    "File input/output operations"
   ]
  },
  {
   "cell_type": "code",
   "execution_count": 33,
   "id": "d4559d63",
   "metadata": {},
   "outputs": [],
   "source": [
    "#File input/output operations\n",
    "\n",
    "f=open(\"C:\\\\Users\\\\Admin\\\\Assignments\\\\demofile.txt\",\"w\") #w-write\n",
    "f=open(\"C:\\\\Users\\\\Admin\\\\Assignments\\\\demofile.txt\",\"r\") #r-read"
   ]
  },
  {
   "cell_type": "code",
   "execution_count": 34,
   "id": "17f18eed",
   "metadata": {},
   "outputs": [],
   "source": [
    "savefile=open(\"C:\\\\Users\\\\Admin\\\\Assignments\\\\demofile.txt\",\"w\")"
   ]
  },
  {
   "cell_type": "code",
   "execution_count": 35,
   "id": "67a9dc9c",
   "metadata": {},
   "outputs": [
    {
     "data": {
      "text/plain": [
       "23"
      ]
     },
     "execution_count": 35,
     "metadata": {},
     "output_type": "execute_result"
    }
   ],
   "source": [
    "savefile.write(\"This is the first line.\")"
   ]
  },
  {
   "cell_type": "code",
   "execution_count": 36,
   "id": "4af727c6",
   "metadata": {},
   "outputs": [],
   "source": [
    "savefile.close()"
   ]
  },
  {
   "cell_type": "code",
   "execution_count": 37,
   "id": "13af1f3e",
   "metadata": {},
   "outputs": [],
   "source": [
    "readme=open(\"C:\\\\Users\\\\Admin\\\\Assignments\\\\demofile1.txt\",'r')"
   ]
  },
  {
   "cell_type": "code",
   "execution_count": 38,
   "id": "9437b1d5",
   "metadata": {},
   "outputs": [
    {
     "name": "stdout",
     "output_type": "stream",
     "text": [
      "\n",
      "\t Lets add this is the next line.\n"
     ]
    }
   ],
   "source": [
    "print(readme.read())"
   ]
  },
  {
   "cell_type": "code",
   "execution_count": 39,
   "id": "d1cca137",
   "metadata": {},
   "outputs": [],
   "source": [
    "readme.close()"
   ]
  },
  {
   "cell_type": "code",
   "execution_count": 40,
   "id": "05ca84da",
   "metadata": {},
   "outputs": [],
   "source": [
    "appendfile=open(\"C:\\\\Users\\\\Admin\\\\Assignments\\\\demofile1.txt\",\"a\") #a-append"
   ]
  },
  {
   "cell_type": "code",
   "execution_count": 41,
   "id": "67a9cc5c",
   "metadata": {},
   "outputs": [],
   "source": [
    "readme=open(\"C:\\\\Users\\\\Admin\\\\Assignments\\\\demofile1.txt\",'r')"
   ]
  },
  {
   "cell_type": "code",
   "execution_count": 42,
   "id": "4d6811b2",
   "metadata": {},
   "outputs": [
    {
     "name": "stdout",
     "output_type": "stream",
     "text": [
      "\n",
      "\t Lets add this is the next line.\n"
     ]
    }
   ],
   "source": [
    "print(readme.read())"
   ]
  },
  {
   "cell_type": "code",
   "execution_count": 43,
   "id": "01177896",
   "metadata": {},
   "outputs": [
    {
     "data": {
      "text/plain": [
       "34"
      ]
     },
     "execution_count": 43,
     "metadata": {},
     "output_type": "execute_result"
    }
   ],
   "source": [
    "appendfile.write(\"\\n\\t Lets add this is the next line.\")"
   ]
  },
  {
   "cell_type": "code",
   "execution_count": 44,
   "id": "370416a9",
   "metadata": {},
   "outputs": [],
   "source": [
    "appendfile.close()"
   ]
  },
  {
   "cell_type": "code",
   "execution_count": 45,
   "id": "475c6edf",
   "metadata": {},
   "outputs": [],
   "source": [
    "readme=open(\"C:\\\\Users\\\\Admin\\\\Assignments\\\\demofile1.txt\",'r')"
   ]
  },
  {
   "cell_type": "code",
   "execution_count": 46,
   "id": "290d9c34",
   "metadata": {},
   "outputs": [
    {
     "name": "stdout",
     "output_type": "stream",
     "text": [
      "\n",
      "\t Lets add this is the next line.\n",
      "\t Lets add this is the next line.\n"
     ]
    }
   ],
   "source": [
    "print(readme.read())"
   ]
  },
  {
   "cell_type": "code",
   "execution_count": 47,
   "id": "a8b5a12f",
   "metadata": {},
   "outputs": [],
   "source": [
    "readme.close()"
   ]
  },
  {
   "cell_type": "code",
   "execution_count": 48,
   "id": "76434287",
   "metadata": {},
   "outputs": [
    {
     "ename": "ValueError",
     "evalue": "I/O operation on closed file.",
     "output_type": "error",
     "traceback": [
      "\u001b[1;31m---------------------------------------------------------------------------\u001b[0m",
      "\u001b[1;31mValueError\u001b[0m                                Traceback (most recent call last)",
      "Input \u001b[1;32mIn [48]\u001b[0m, in \u001b[0;36m<cell line: 2>\u001b[1;34m()\u001b[0m\n\u001b[0;32m      1\u001b[0m appendfile\u001b[38;5;241m=\u001b[39m\u001b[38;5;28mopen\u001b[39m(\u001b[38;5;124m\"\u001b[39m\u001b[38;5;124mC:\u001b[39m\u001b[38;5;130;01m\\\\\u001b[39;00m\u001b[38;5;124mUsers\u001b[39m\u001b[38;5;130;01m\\\\\u001b[39;00m\u001b[38;5;124mAdmin\u001b[39m\u001b[38;5;130;01m\\\\\u001b[39;00m\u001b[38;5;124mAssignments\u001b[39m\u001b[38;5;130;01m\\\\\u001b[39;00m\u001b[38;5;124mdemofile1.txt\u001b[39m\u001b[38;5;124m\"\u001b[39m,\u001b[38;5;124m'\u001b[39m\u001b[38;5;124ma\u001b[39m\u001b[38;5;124m'\u001b[39m)\n\u001b[1;32m----> 2\u001b[0m \u001b[38;5;28mprint\u001b[39m(\u001b[43mreadme\u001b[49m\u001b[38;5;241;43m.\u001b[39;49m\u001b[43mread\u001b[49m\u001b[43m(\u001b[49m\u001b[43m)\u001b[49m)\n\u001b[0;32m      3\u001b[0m readme\u001b[38;5;241m.\u001b[39mclose()\n",
      "\u001b[1;31mValueError\u001b[0m: I/O operation on closed file."
     ]
    }
   ],
   "source": [
    "appendfile=open(\"C:\\\\Users\\\\Admin\\\\Assignments\\\\demofile1.txt\",'a')\n",
    "print(readme.read())\n",
    "readme.close()"
   ]
  },
  {
   "cell_type": "markdown",
   "id": "aa234c1e",
   "metadata": {},
   "source": [
    "Pickle in Python : Object Serialization"
   ]
  },
  {
   "cell_type": "code",
   "execution_count": 49,
   "id": "e3b97a3d",
   "metadata": {},
   "outputs": [],
   "source": [
    "#Serilization/de-serilization\n",
    "import pickle\n",
    "flower_dict = {1:'Rose', 2:'Lilly', 3:'Lotus', 4:'tulip'}\n",
    "filename = 'flower'\n",
    "outfile = open(filename,'wb')"
   ]
  },
  {
   "cell_type": "code",
   "execution_count": 50,
   "id": "0079a514",
   "metadata": {},
   "outputs": [],
   "source": [
    "#filename = ‘flower’\n",
    "outfile = open('flower.obj','wb') #(wb-write binary)"
   ]
  },
  {
   "cell_type": "code",
   "execution_count": 51,
   "id": "8d5fb8f8",
   "metadata": {},
   "outputs": [],
   "source": [
    "#pickling the file\n",
    "#dump method serialize\n",
    "pickle.dump(flower_dict,outfile)\n",
    "outfile.close()"
   ]
  },
  {
   "cell_type": "code",
   "execution_count": 52,
   "id": "0c1b751a",
   "metadata": {},
   "outputs": [],
   "source": [
    "#unpickle the file\n",
    "infile=open(filename,'rb') #(rb-read binary)"
   ]
  },
  {
   "cell_type": "code",
   "execution_count": 53,
   "id": "c5ca1ef6",
   "metadata": {},
   "outputs": [],
   "source": [
    "#unpickle the file\n",
    "infile=open('flower.obj', 'rb')"
   ]
  },
  {
   "cell_type": "code",
   "execution_count": 54,
   "id": "11c3f77f",
   "metadata": {},
   "outputs": [],
   "source": [
    "#de-serialize\n",
    "#load method\n",
    "new_dict=pickle.load(infile)"
   ]
  },
  {
   "cell_type": "code",
   "execution_count": 55,
   "id": "e70b01b8",
   "metadata": {},
   "outputs": [],
   "source": [
    "infile.close()"
   ]
  },
  {
   "cell_type": "code",
   "execution_count": 56,
   "id": "f09af939",
   "metadata": {},
   "outputs": [
    {
     "name": "stdout",
     "output_type": "stream",
     "text": [
      "{1: 'Rose', 2: 'Lilly', 3: 'Lotus', 4: 'tulip'}\n"
     ]
    }
   ],
   "source": [
    "print (new_dict)"
   ]
  },
  {
   "cell_type": "code",
   "execution_count": 57,
   "id": "06d9e508",
   "metadata": {},
   "outputs": [
    {
     "name": "stdout",
     "output_type": "stream",
     "text": [
      "True\n"
     ]
    }
   ],
   "source": [
    "print(new_dict==flower_dict)"
   ]
  },
  {
   "cell_type": "code",
   "execution_count": null,
   "id": "3d6d7a01",
   "metadata": {},
   "outputs": [],
   "source": []
  },
  {
   "cell_type": "code",
   "execution_count": null,
   "id": "300af2dd",
   "metadata": {},
   "outputs": [],
   "source": []
  }
 ],
 "metadata": {
  "kernelspec": {
   "display_name": "Python 3 (ipykernel)",
   "language": "python",
   "name": "python3"
  },
  "language_info": {
   "codemirror_mode": {
    "name": "ipython",
    "version": 3
   },
   "file_extension": ".py",
   "mimetype": "text/x-python",
   "name": "python",
   "nbconvert_exporter": "python",
   "pygments_lexer": "ipython3",
   "version": "3.9.12"
  }
 },
 "nbformat": 4,
 "nbformat_minor": 5
}
