{
 "cells": [
  {
   "cell_type": "code",
   "execution_count": 28,
   "id": "6323c693",
   "metadata": {},
   "outputs": [],
   "source": [
    "import keyword"
   ]
  },
  {
   "cell_type": "code",
   "execution_count": 29,
   "id": "89cd5b33",
   "metadata": {},
   "outputs": [
    {
     "name": "stdout",
     "output_type": "stream",
     "text": [
      "['False', 'None', 'True', '__peg_parser__', 'and', 'as', 'assert', 'async', 'await', 'break', 'class', 'continue', 'def', 'del', 'elif', 'else', 'except', 'finally', 'for', 'from', 'global', 'if', 'import', 'in', 'is', 'lambda', 'nonlocal', 'not', 'or', 'pass', 'raise', 'return', 'try', 'while', 'with', 'yield']\n"
     ]
    }
   ],
   "source": [
    "print (keyword.kwlist)"
   ]
  },
  {
   "cell_type": "code",
   "execution_count": 30,
   "id": "c227863c",
   "metadata": {},
   "outputs": [],
   "source": [
    "import sys"
   ]
  },
  {
   "cell_type": "code",
   "execution_count": 31,
   "id": "beae664f",
   "metadata": {},
   "outputs": [
    {
     "data": {
      "text/plain": [
       "['C:\\\\Users\\\\Admin\\\\Assignments',\n",
       " 'C:\\\\Users\\\\Admin\\\\anaconda3\\\\python39.zip',\n",
       " 'C:\\\\Users\\\\Admin\\\\anaconda3\\\\DLLs',\n",
       " 'C:\\\\Users\\\\Admin\\\\anaconda3\\\\lib',\n",
       " 'C:\\\\Users\\\\Admin\\\\anaconda3',\n",
       " '',\n",
       " 'C:\\\\Users\\\\Admin\\\\anaconda3\\\\lib\\\\site-packages',\n",
       " 'C:\\\\Users\\\\Admin\\\\anaconda3\\\\lib\\\\site-packages\\\\win32',\n",
       " 'C:\\\\Users\\\\Admin\\\\anaconda3\\\\lib\\\\site-packages\\\\win32\\\\lib',\n",
       " 'C:\\\\Users\\\\Admin\\\\anaconda3\\\\lib\\\\site-packages\\\\Pythonwin']"
      ]
     },
     "execution_count": 31,
     "metadata": {},
     "output_type": "execute_result"
    }
   ],
   "source": [
    "sys.path"
   ]
  },
  {
   "cell_type": "code",
   "execution_count": 4,
   "id": "0b792c74",
   "metadata": {},
   "outputs": [],
   "source": [
    "import os"
   ]
  },
  {
   "cell_type": "code",
   "execution_count": 5,
   "id": "95557236",
   "metadata": {},
   "outputs": [
    {
     "data": {
      "text/plain": [
       "'C:\\\\Users\\\\Admin\\\\Assignments'"
      ]
     },
     "execution_count": 5,
     "metadata": {},
     "output_type": "execute_result"
    }
   ],
   "source": [
    "os.getcwd()"
   ]
  },
  {
   "cell_type": "code",
   "execution_count": 9,
   "id": "e26a4a2a",
   "metadata": {},
   "outputs": [],
   "source": [
    "#changing directory\n",
    "os.chdir('C:\\\\Users\\\\Admin\\\\Assignments')"
   ]
  },
  {
   "cell_type": "code",
   "execution_count": 10,
   "id": "2b98fdc9",
   "metadata": {},
   "outputs": [
    {
     "data": {
      "text/plain": [
       "'C:\\\\Users\\\\Admin\\\\Assignments'"
      ]
     },
     "execution_count": 10,
     "metadata": {},
     "output_type": "execute_result"
    }
   ],
   "source": [
    "os.getcwd()"
   ]
  },
  {
   "cell_type": "code",
   "execution_count": 11,
   "id": "58fbfab2",
   "metadata": {},
   "outputs": [
    {
     "data": {
      "text/plain": [
       "['.ipynb_checkpoints',\n",
       " '10 Scholar Google.ipynb',\n",
       " 'Armstrong number.ipynb',\n",
       " 'BeautifulSoup Exercise 36 cases.ipynb',\n",
       " 'Class - 10 - Function.ipynb',\n",
       " 'Class - 11 - Parametric function.ipynb',\n",
       " 'Class - 12 - Lambda Function.ipynb',\n",
       " 'Class - 13 - Object Oriented Programming.ipynb',\n",
       " 'Class - 14 - module, import.ipynb',\n",
       " 'Class - 6 - Data structure.ipynb',\n",
       " 'Class - 7 Loops - While, For.ipynb',\n",
       " 'Class - 8 If, else, break, continue, list.ipynb',\n",
       " 'Class - 9 String function.ipynb',\n",
       " 'DT Assignments',\n",
       " 'fact with positive integer.ipynb',\n",
       " 'Fake news detection using python.ipynb',\n",
       " 'icc cricket listing.ipynb',\n",
       " 'imdb 250 movie listing.ipynb',\n",
       " 'imdb top 100 indian movie.ipynb',\n",
       " 'Internship Assignments',\n",
       " 'ODI top team.ipynb',\n",
       " 'ODI women batting.ipynb',\n",
       " 'py1.ipynb',\n",
       " 'py10.ipynb',\n",
       " 'py11.ipynb',\n",
       " 'py12.ipynb',\n",
       " 'py2.ipynb',\n",
       " 'py3.ipynb',\n",
       " 'py4.ipynb',\n",
       " 'py5.ipynb',\n",
       " 'py6.ipynb',\n",
       " 'py7.ipynb',\n",
       " 'py8.ipynb',\n",
       " 'py9.ipynb',\n",
       " 'Python Basic part - 1, 150 exercises - w3resource.ipynb',\n",
       " 'Python basic w3resource, exceptions.ipynb',\n",
       " 'top 10 odi batsman.ipynb',\n",
       " 'top odi team update.ipynb',\n",
       " 'Untitled.ipynb',\n",
       " 'Untitled1.ipynb',\n",
       " 'Untitled2.ipynb',\n",
       " 'web scrap city temperature.ipynb',\n",
       " 'web scrap follower tweet.ipynb',\n",
       " 'web scrap following tweet.ipynb',\n",
       " 'web scrap no. of follower tweet.ipynb',\n",
       " 'web scrap no. of tweet.ipynb',\n",
       " 'web scrap personal tweet context.ipynb',\n",
       " 'web scrap tweet .ipynb',\n",
       " 'Web Scrapping exercise 27 cases.ipynb',\n",
       " 'Web scrapping tag, navi, beauti, comment 1.ipynb',\n",
       " 'Web scrapping tag, navi, beauti, comment.ipynb',\n",
       " 'web scrapping.ipynb']"
      ]
     },
     "execution_count": 11,
     "metadata": {},
     "output_type": "execute_result"
    }
   ],
   "source": [
    "os.listdir()"
   ]
  },
  {
   "cell_type": "code",
   "execution_count": 12,
   "id": "5794f8b9",
   "metadata": {},
   "outputs": [],
   "source": [
    "import math"
   ]
  },
  {
   "cell_type": "code",
   "execution_count": 13,
   "id": "88f5796e",
   "metadata": {},
   "outputs": [
    {
     "data": {
      "text/plain": [
       "3.141592653589793"
      ]
     },
     "execution_count": 13,
     "metadata": {},
     "output_type": "execute_result"
    }
   ],
   "source": [
    "math.pi"
   ]
  },
  {
   "cell_type": "code",
   "execution_count": 15,
   "id": "7ea50318",
   "metadata": {},
   "outputs": [
    {
     "data": {
      "text/plain": [
       "4.0"
      ]
     },
     "execution_count": 15,
     "metadata": {},
     "output_type": "execute_result"
    }
   ],
   "source": [
    "math.sqrt(16)"
   ]
  },
  {
   "cell_type": "code",
   "execution_count": 16,
   "id": "c2144298",
   "metadata": {},
   "outputs": [
    {
     "data": {
      "text/plain": [
       "8.0"
      ]
     },
     "execution_count": 16,
     "metadata": {},
     "output_type": "execute_result"
    }
   ],
   "source": [
    "math.pow(2,3)"
   ]
  },
  {
   "cell_type": "code",
   "execution_count": 17,
   "id": "3f8c0f26",
   "metadata": {},
   "outputs": [],
   "source": [
    "import math as m"
   ]
  },
  {
   "cell_type": "code",
   "execution_count": 18,
   "id": "e0664707",
   "metadata": {},
   "outputs": [
    {
     "data": {
      "text/plain": [
       "3.141592653589793"
      ]
     },
     "execution_count": 18,
     "metadata": {},
     "output_type": "execute_result"
    }
   ],
   "source": [
    "m.pi"
   ]
  },
  {
   "cell_type": "code",
   "execution_count": 19,
   "id": "40e76f3b",
   "metadata": {},
   "outputs": [
    {
     "data": {
      "text/plain": [
       "16.0"
      ]
     },
     "execution_count": 19,
     "metadata": {},
     "output_type": "execute_result"
    }
   ],
   "source": [
    "#power function\n",
    "m.pow(4,2)"
   ]
  },
  {
   "cell_type": "code",
   "execution_count": 41,
   "id": "753abc34",
   "metadata": {},
   "outputs": [
    {
     "data": {
      "text/plain": [
       "3.141592653589793"
      ]
     },
     "execution_count": 41,
     "metadata": {},
     "output_type": "execute_result"
    }
   ],
   "source": [
    "from math import pi\n",
    "pi"
   ]
  },
  {
   "cell_type": "code",
   "execution_count": 42,
   "id": "32563d44",
   "metadata": {},
   "outputs": [
    {
     "data": {
      "text/plain": [
       "3.0"
      ]
     },
     "execution_count": 42,
     "metadata": {},
     "output_type": "execute_result"
    }
   ],
   "source": [
    "from math import sqrt\n",
    "sqrt(9)"
   ]
  },
  {
   "cell_type": "code",
   "execution_count": 43,
   "id": "813bf905",
   "metadata": {},
   "outputs": [
    {
     "data": {
      "text/plain": [
       "dict_keys(['__name__', '__doc__', '__package__', '__loader__', '__spec__', 'acos', 'acosh', 'asin', 'asinh', 'atan', 'atan2', 'atanh', 'ceil', 'copysign', 'cos', 'cosh', 'degrees', 'dist', 'erf', 'erfc', 'exp', 'expm1', 'fabs', 'factorial', 'floor', 'fmod', 'frexp', 'fsum', 'gamma', 'gcd', 'hypot', 'isclose', 'isfinite', 'isinf', 'isnan', 'isqrt', 'lcm', 'ldexp', 'lgamma', 'log', 'log1p', 'log10', 'log2', 'modf', 'pow', 'radians', 'remainder', 'sin', 'sinh', 'sqrt', 'tan', 'tanh', 'trunc', 'prod', 'perm', 'comb', 'nextafter', 'ulp', 'pi', 'e', 'tau', 'inf', 'nan'])"
      ]
     },
     "execution_count": 43,
     "metadata": {},
     "output_type": "execute_result"
    }
   ],
   "source": [
    "math.__dict__.keys()"
   ]
  },
  {
   "cell_type": "code",
   "execution_count": 32,
   "id": "a245efbe",
   "metadata": {},
   "outputs": [],
   "source": [
    "import datetime"
   ]
  },
  {
   "cell_type": "code",
   "execution_count": 35,
   "id": "d7c3873b",
   "metadata": {},
   "outputs": [
    {
     "data": {
      "text/plain": [
       "datetime.datetime(2022, 8, 19, 15, 2, 53, 871853)"
      ]
     },
     "execution_count": 35,
     "metadata": {},
     "output_type": "execute_result"
    }
   ],
   "source": [
    "#get current date & time\n",
    "dt=datetime.datetime.now()\n",
    "dt"
   ]
  },
  {
   "cell_type": "code",
   "execution_count": 36,
   "id": "d4d3251f",
   "metadata": {},
   "outputs": [
    {
     "data": {
      "text/plain": [
       "datetime.date(2022, 8, 19)"
      ]
     },
     "execution_count": 36,
     "metadata": {},
     "output_type": "execute_result"
    }
   ],
   "source": [
    "#get current date\n",
    "dt1=datetime.date.today()\n",
    "dt1"
   ]
  },
  {
   "cell_type": "code",
   "execution_count": null,
   "id": "af2c24bf",
   "metadata": {},
   "outputs": [],
   "source": [
    "#commonly used classes in the datetime moduel are:\n",
    "#date class\n",
    "#time class\n",
    "#datetime class\n",
    "#timedelta class"
   ]
  },
  {
   "cell_type": "code",
   "execution_count": 47,
   "id": "5152d732",
   "metadata": {},
   "outputs": [
    {
     "data": {
      "text/plain": [
       "datetime.date(2022, 8, 19)"
      ]
     },
     "execution_count": 47,
     "metadata": {},
     "output_type": "execute_result"
    }
   ],
   "source": [
    "import datetime\n",
    "d=datetime.date(2022,8,19)\n",
    "d"
   ]
  },
  {
   "cell_type": "code",
   "execution_count": 48,
   "id": "2620fe38",
   "metadata": {},
   "outputs": [
    {
     "data": {
      "text/plain": [
       "datetime.date(2022, 8, 19)"
      ]
     },
     "execution_count": 48,
     "metadata": {},
     "output_type": "execute_result"
    }
   ],
   "source": [
    "from datetime import date\n",
    "a=date(2022,8,19)\n",
    "a"
   ]
  },
  {
   "cell_type": "code",
   "execution_count": 52,
   "id": "c5ab9d13",
   "metadata": {},
   "outputs": [
    {
     "data": {
      "text/plain": [
       "datetime.date(2022, 8, 19)"
      ]
     },
     "execution_count": 52,
     "metadata": {},
     "output_type": "execute_result"
    }
   ],
   "source": [
    "#get current date\n",
    "td=date.today()\n",
    "td"
   ]
  },
  {
   "cell_type": "code",
   "execution_count": 54,
   "id": "dc5e05c2",
   "metadata": {},
   "outputs": [
    {
     "name": "stdout",
     "output_type": "stream",
     "text": [
      "Year= 2022\n",
      "Month= 8\n",
      "Day= 19\n"
     ]
    }
   ],
   "source": [
    "print(\"Year=\",td.year)\n",
    "print(\"Month=\",td.month)\n",
    "print(\"Day=\",td.day)"
   ]
  },
  {
   "cell_type": "code",
   "execution_count": 58,
   "id": "e0d07546",
   "metadata": {},
   "outputs": [
    {
     "name": "stdout",
     "output_type": "stream",
     "text": [
      "00:00:00\n",
      "11:35:56\n"
     ]
    }
   ],
   "source": [
    "from datetime import time\n",
    "a=time()\n",
    "print(a)\n",
    "\n",
    "#time(hour,minute,second)\n",
    "b=time(11,35,56)\n",
    "print(b)"
   ]
  },
  {
   "cell_type": "code",
   "execution_count": 59,
   "id": "0a585b53",
   "metadata": {},
   "outputs": [
    {
     "name": "stdout",
     "output_type": "stream",
     "text": [
      "hour: 11\n",
      "minute: 35\n",
      "second: 56\n"
     ]
    }
   ],
   "source": [
    "print(\"hour:\",b.hour)\n",
    "print(\"minute:\",b.minute)\n",
    "print(\"second:\",b.second)"
   ]
  },
  {
   "cell_type": "code",
   "execution_count": 61,
   "id": "5028317e",
   "metadata": {},
   "outputs": [
    {
     "name": "stdout",
     "output_type": "stream",
     "text": [
      "2021-04-26 00:00:00\n"
     ]
    }
   ],
   "source": [
    "from datetime import datetime\n",
    "a=datetime(2021,4,26)\n",
    "print(a)"
   ]
  },
  {
   "cell_type": "code",
   "execution_count": 62,
   "id": "8404bd06",
   "metadata": {},
   "outputs": [
    {
     "name": "stdout",
     "output_type": "stream",
     "text": [
      "year= 2021\n",
      "month= 4\n",
      "day= 26\n"
     ]
    }
   ],
   "source": [
    "print(\"year=\",a.year)\n",
    "print(\"month=\",a.month)\n",
    "print(\"day=\",a.day)"
   ]
  },
  {
   "cell_type": "code",
   "execution_count": 63,
   "id": "b2f72a74",
   "metadata": {},
   "outputs": [
    {
     "name": "stdout",
     "output_type": "stream",
     "text": [
      "2021\n",
      "2\n",
      "27\n",
      "17\n",
      "30\n",
      "50\n"
     ]
    }
   ],
   "source": [
    "#datetime(year,month,date,hour,minute,second)\n",
    "b=datetime(2021,2,27,17,30,50)\n",
    "print(b.year)\n",
    "print(b.month)\n",
    "print(b.day)\n",
    "print(b.hour)\n",
    "print(b.minute)\n",
    "print(b.second)"
   ]
  },
  {
   "cell_type": "code",
   "execution_count": 136,
   "id": "d4559d63",
   "metadata": {},
   "outputs": [],
   "source": [
    "#File input/output operations\n",
    "\n",
    "f=open(\"C:\\\\Users\\\\Admin\\\\Assignments\\\\demofile.txt\",\"w\")\n",
    "f=open(\"C:\\\\Users\\\\Admin\\\\Assignments\\\\demofile.txt\",\"r\")"
   ]
  },
  {
   "cell_type": "code",
   "execution_count": 137,
   "id": "17f18eed",
   "metadata": {},
   "outputs": [],
   "source": [
    "savefile=open(\"C:\\\\Users\\\\Admin\\\\Assignments\\\\demofile.txt\",\"w\")"
   ]
  },
  {
   "cell_type": "code",
   "execution_count": 138,
   "id": "67a9dc9c",
   "metadata": {},
   "outputs": [
    {
     "data": {
      "text/plain": [
       "23"
      ]
     },
     "execution_count": 138,
     "metadata": {},
     "output_type": "execute_result"
    }
   ],
   "source": [
    "savefile.write(\"This is the first line.\")"
   ]
  },
  {
   "cell_type": "code",
   "execution_count": 139,
   "id": "4af727c6",
   "metadata": {},
   "outputs": [],
   "source": [
    "savefile.close()"
   ]
  },
  {
   "cell_type": "code",
   "execution_count": 167,
   "id": "13af1f3e",
   "metadata": {},
   "outputs": [],
   "source": [
    "readme=open(\"C:\\\\Users\\\\Admin\\\\Assignments\\\\demofile1.txt\",'r')"
   ]
  },
  {
   "cell_type": "code",
   "execution_count": 168,
   "id": "9437b1d5",
   "metadata": {},
   "outputs": [
    {
     "name": "stdout",
     "output_type": "stream",
     "text": [
      "\n",
      "\t Lets add this is the next line.\n"
     ]
    }
   ],
   "source": [
    "print(readme.read())"
   ]
  },
  {
   "cell_type": "code",
   "execution_count": 142,
   "id": "d1cca137",
   "metadata": {},
   "outputs": [],
   "source": [
    "readme.close()"
   ]
  },
  {
   "cell_type": "code",
   "execution_count": 158,
   "id": "05ca84da",
   "metadata": {},
   "outputs": [],
   "source": [
    "appendfile=open(\"C:\\\\Users\\\\Admin\\\\Assignments\\\\demofile1.txt\",\"a\") #a-append"
   ]
  },
  {
   "cell_type": "code",
   "execution_count": 159,
   "id": "67a9cc5c",
   "metadata": {},
   "outputs": [],
   "source": [
    "readme=open(\"C:\\\\Users\\\\Admin\\\\Assignments\\\\demofile1.txt\",'r')"
   ]
  },
  {
   "cell_type": "code",
   "execution_count": 160,
   "id": "4d6811b2",
   "metadata": {},
   "outputs": [
    {
     "name": "stdout",
     "output_type": "stream",
     "text": [
      "\n"
     ]
    }
   ],
   "source": [
    "print(readme.read())"
   ]
  },
  {
   "cell_type": "code",
   "execution_count": 161,
   "id": "01177896",
   "metadata": {},
   "outputs": [
    {
     "data": {
      "text/plain": [
       "34"
      ]
     },
     "execution_count": 161,
     "metadata": {},
     "output_type": "execute_result"
    }
   ],
   "source": [
    "appendfile.write(\"\\n\\t Lets add this is the next line.\")"
   ]
  },
  {
   "cell_type": "code",
   "execution_count": 162,
   "id": "370416a9",
   "metadata": {},
   "outputs": [],
   "source": [
    "appendfile.close()"
   ]
  },
  {
   "cell_type": "code",
   "execution_count": 163,
   "id": "475c6edf",
   "metadata": {},
   "outputs": [],
   "source": [
    "readme=open(\"C:\\\\Users\\\\Admin\\\\Assignments\\\\demofile1.txt\",'r')"
   ]
  },
  {
   "cell_type": "code",
   "execution_count": 164,
   "id": "290d9c34",
   "metadata": {},
   "outputs": [
    {
     "name": "stdout",
     "output_type": "stream",
     "text": [
      "\n",
      "\t Lets add this is the next line.\n"
     ]
    }
   ],
   "source": [
    "print(readme.read())"
   ]
  },
  {
   "cell_type": "code",
   "execution_count": 165,
   "id": "a8b5a12f",
   "metadata": {},
   "outputs": [],
   "source": [
    "readme.close()"
   ]
  },
  {
   "cell_type": "code",
   "execution_count": 169,
   "id": "76434287",
   "metadata": {},
   "outputs": [
    {
     "name": "stdout",
     "output_type": "stream",
     "text": [
      "\n"
     ]
    }
   ],
   "source": [
    "appendfile=open(\"C:\\\\Users\\\\Admin\\\\Assignments\\\\demofile1.txt\",'a')\n",
    "print(readme.read())\n",
    "readme.close()"
   ]
  },
  {
   "cell_type": "code",
   "execution_count": 105,
   "id": "e3b97a3d",
   "metadata": {},
   "outputs": [],
   "source": [
    "#Serilization/de-serilization\n",
    "import pickle\n",
    "flower_dict = {1:'Rose', 2:'Lilly', 3:'Lotus', 4:'tulip'}\n",
    "filename = 'flower'\n",
    "outfile = open(filename,'wb')"
   ]
  },
  {
   "cell_type": "code",
   "execution_count": 106,
   "id": "0079a514",
   "metadata": {},
   "outputs": [],
   "source": [
    "#filename = ‘flower’\n",
    "outfile = open('flower.obj','wb') #(wb-write binary)"
   ]
  },
  {
   "cell_type": "code",
   "execution_count": 107,
   "id": "8d5fb8f8",
   "metadata": {},
   "outputs": [],
   "source": [
    "#pickling the file\n",
    "#dump method serialize\n",
    "pickle.dump(flower_dict,outfile)\n",
    "outfile.close()"
   ]
  },
  {
   "cell_type": "code",
   "execution_count": 113,
   "id": "0c1b751a",
   "metadata": {},
   "outputs": [],
   "source": [
    "#unpickle the file\n",
    "infile=open(filename,'rb') #(rb-read binary)"
   ]
  },
  {
   "cell_type": "code",
   "execution_count": 114,
   "id": "c5ca1ef6",
   "metadata": {},
   "outputs": [],
   "source": [
    "#unpickle the file\n",
    "infile=open('flower.obj', 'rb')"
   ]
  },
  {
   "cell_type": "code",
   "execution_count": 115,
   "id": "11c3f77f",
   "metadata": {},
   "outputs": [],
   "source": [
    "#de-serialize\n",
    "#load method\n",
    "new_dict=pickle.load(infile)"
   ]
  },
  {
   "cell_type": "code",
   "execution_count": 116,
   "id": "e70b01b8",
   "metadata": {},
   "outputs": [],
   "source": [
    "infile.close()"
   ]
  },
  {
   "cell_type": "code",
   "execution_count": 118,
   "id": "f09af939",
   "metadata": {},
   "outputs": [
    {
     "name": "stdout",
     "output_type": "stream",
     "text": [
      "{1: 'Rose', 2: 'Lilly', 3: 'Lotus', 4: 'tulip'}\n"
     ]
    }
   ],
   "source": [
    "print (new_dict)"
   ]
  },
  {
   "cell_type": "code",
   "execution_count": 171,
   "id": "06d9e508",
   "metadata": {},
   "outputs": [
    {
     "name": "stdout",
     "output_type": "stream",
     "text": [
      "True\n"
     ]
    }
   ],
   "source": [
    "print(new_dict==flower_dict)"
   ]
  }
 ],
 "metadata": {
  "kernelspec": {
   "display_name": "Python 3 (ipykernel)",
   "language": "python",
   "name": "python3"
  },
  "language_info": {
   "codemirror_mode": {
    "name": "ipython",
    "version": 3
   },
   "file_extension": ".py",
   "mimetype": "text/x-python",
   "name": "python",
   "nbconvert_exporter": "python",
   "pygments_lexer": "ipython3",
   "version": "3.9.12"
  }
 },
 "nbformat": 4,
 "nbformat_minor": 5
}
