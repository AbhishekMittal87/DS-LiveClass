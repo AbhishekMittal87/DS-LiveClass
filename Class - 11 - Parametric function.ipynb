{
 "cells": [
  {
   "cell_type": "code",
   "execution_count": 19,
   "id": "388c318e",
   "metadata": {},
   "outputs": [
    {
     "name": "stdout",
     "output_type": "stream",
     "text": [
      "15\n"
     ]
    }
   ],
   "source": [
    "def addthree(a,b,c):\n",
    "    print(a+b+c)\n",
    "addthree(5,8,2)"
   ]
  },
  {
   "cell_type": "code",
   "execution_count": 20,
   "id": "ae20e244",
   "metadata": {},
   "outputs": [
    {
     "name": "stdout",
     "output_type": "stream",
     "text": [
      "6\n"
     ]
    }
   ],
   "source": [
    "def sumfunction(a,b):\n",
    "\tresult=a+b\n",
    "\tprint(result)\n",
    "sumfunction(2,4)"
   ]
  },
  {
   "cell_type": "code",
   "execution_count": 22,
   "id": "0f6e3daf",
   "metadata": {},
   "outputs": [],
   "source": [
    "def sumfunc(a,b):\n",
    "    result=a+b\n",
    "    print(result)"
   ]
  },
  {
   "cell_type": "code",
   "execution_count": 23,
   "id": "552a4a98",
   "metadata": {},
   "outputs": [
    {
     "name": "stdout",
     "output_type": "stream",
     "text": [
      "6\n"
     ]
    },
    {
     "ename": "NameError",
     "evalue": "name 'Sumfunction' is not defined",
     "output_type": "error",
     "traceback": [
      "\u001b[1;31m---------------------------------------------------------------------------\u001b[0m",
      "\u001b[1;31mNameError\u001b[0m                                 Traceback (most recent call last)",
      "Input \u001b[1;32mIn [23]\u001b[0m, in \u001b[0;36m<cell line: 5>\u001b[1;34m()\u001b[0m\n\u001b[0;32m      3\u001b[0m \t\u001b[38;5;28mprint\u001b[39m(result)\n\u001b[0;32m      4\u001b[0m sumfunction(\u001b[38;5;241m2\u001b[39m,\u001b[38;5;241m4\u001b[39m)\n\u001b[1;32m----> 5\u001b[0m \u001b[43mSumfunction\u001b[49m(\u001b[38;5;241m8\u001b[39m,\u001b[38;5;241m6\u001b[39m,\u001b[38;5;241m2\u001b[39m)\n",
      "\u001b[1;31mNameError\u001b[0m: name 'Sumfunction' is not defined"
     ]
    }
   ],
   "source": [
    "def sumfunction(a,b):\n",
    "\tresult=a+b\n",
    "\tprint(result)\n",
    "sumfunction(2,4)\n",
    "Sumfunction(8,6,2)#because 3 functions"
   ]
  },
  {
   "cell_type": "code",
   "execution_count": 27,
   "id": "cd5f422a",
   "metadata": {},
   "outputs": [
    {
     "name": "stdout",
     "output_type": "stream",
     "text": [
      "16\n"
     ]
    }
   ],
   "source": [
    "def sumfunction1(a,b,c):\n",
    "    result=a+b+c\n",
    "    print(result)\n",
    "sumfunction1(8,6,2)"
   ]
  },
  {
   "cell_type": "code",
   "execution_count": 28,
   "id": "05020cd1",
   "metadata": {},
   "outputs": [
    {
     "data": {
      "text/plain": [
       "20"
      ]
     },
     "execution_count": 28,
     "metadata": {},
     "output_type": "execute_result"
    }
   ],
   "source": [
    "def plus(*args):\n",
    "    return sum(args)\n",
    "#calling a function\n",
    "plus(6,4,10)"
   ]
  },
  {
   "cell_type": "code",
   "execution_count": 29,
   "id": "9a1bd35a",
   "metadata": {},
   "outputs": [
    {
     "data": {
      "text/plain": [
       "14"
      ]
     },
     "execution_count": 29,
     "metadata": {},
     "output_type": "execute_result"
    }
   ],
   "source": [
    "plus(2,2,1,4,5)"
   ]
  },
  {
   "cell_type": "code",
   "execution_count": 31,
   "id": "b97bec36",
   "metadata": {},
   "outputs": [
    {
     "data": {
      "text/plain": [
       "90"
      ]
     },
     "execution_count": 31,
     "metadata": {},
     "output_type": "execute_result"
    }
   ],
   "source": [
    "def mu(*args):\n",
    "    return max(args)\n",
    "mu(9,90,78,45)"
   ]
  }
 ],
 "metadata": {
  "kernelspec": {
   "display_name": "Python 3 (ipykernel)",
   "language": "python",
   "name": "python3"
  },
  "language_info": {
   "codemirror_mode": {
    "name": "ipython",
    "version": 3
   },
   "file_extension": ".py",
   "mimetype": "text/x-python",
   "name": "python",
   "nbconvert_exporter": "python",
   "pygments_lexer": "ipython3",
   "version": "3.9.12"
  }
 },
 "nbformat": 4,
 "nbformat_minor": 5
}
