{
 "cells": [
  {
   "cell_type": "code",
   "execution_count": 1,
   "id": "8baa3d07",
   "metadata": {},
   "outputs": [
    {
     "name": "stdout",
     "output_type": "stream",
     "text": [
      "0\n",
      "1\n",
      "2\n"
     ]
    }
   ],
   "source": [
    "#initialization\n",
    "i = 0\n",
    "#condition\n",
    "while(i<3):\n",
    "    print(i)\n",
    "    i=i+1"
   ]
  },
  {
   "cell_type": "code",
   "execution_count": 2,
   "id": "57338624",
   "metadata": {},
   "outputs": [
    {
     "name": "stdout",
     "output_type": "stream",
     "text": [
      "0\n",
      "1\n",
      "2\n",
      "3\n",
      "4\n"
     ]
    }
   ],
   "source": [
    "k=0\n",
    "while(k<5):\n",
    "    print(k)\n",
    "    k=k+1"
   ]
  },
  {
   "cell_type": "code",
   "execution_count": 3,
   "id": "34d955bf",
   "metadata": {},
   "outputs": [
    {
     "name": "stdout",
     "output_type": "stream",
     "text": [
      "0\n",
      "1\n",
      "2\n",
      "3\n",
      "4\n"
     ]
    }
   ],
   "source": [
    "x=0\n",
    "while(x<5):\n",
    "    print(x)\n",
    "    x=x+1"
   ]
  },
  {
   "cell_type": "code",
   "execution_count": 4,
   "id": "927675ae",
   "metadata": {},
   "outputs": [
    {
     "name": "stdout",
     "output_type": "stream",
     "text": [
      "0\n",
      "2\n",
      "4\n",
      "6\n",
      "8\n"
     ]
    }
   ],
   "source": [
    "g=0\n",
    "while(g<10):\n",
    "    print(g)\n",
    "    g=g+2"
   ]
  },
  {
   "cell_type": "code",
   "execution_count": 5,
   "id": "aa4206c6",
   "metadata": {},
   "outputs": [
    {
     "name": "stdout",
     "output_type": "stream",
     "text": [
      "0\n",
      "5\n",
      "10\n",
      "15\n"
     ]
    }
   ],
   "source": [
    "j=0\n",
    "while(j<20):\n",
    "    print(j)\n",
    "    j=j+5"
   ]
  },
  {
   "cell_type": "code",
   "execution_count": 10,
   "id": "521fb62d",
   "metadata": {},
   "outputs": [
    {
     "name": "stdout",
     "output_type": "stream",
     "text": [
      "x= 0\n",
      "x= 1\n",
      "x= 2\n",
      "x= 3\n",
      "x= 4\n"
     ]
    }
   ],
   "source": [
    "x=0\n",
    "while(x<5):\n",
    "    print(\"x=\", x)\n",
    "    x=x+1"
   ]
  },
  {
   "cell_type": "code",
   "execution_count": 11,
   "id": "b114879d",
   "metadata": {},
   "outputs": [
    {
     "name": "stdout",
     "output_type": "stream",
     "text": [
      "x= 0\n",
      "x= 1\n",
      "x= 2\n",
      "x= 3\n",
      "x= 4\n"
     ]
    }
   ],
   "source": [
    "x=0\n",
    "while(x<5):\n",
    "    print(\"x=\", x)\n",
    "    x+=1"
   ]
  },
  {
   "cell_type": "code",
   "execution_count": 12,
   "id": "9f2c006d",
   "metadata": {},
   "outputs": [
    {
     "name": "stdout",
     "output_type": "stream",
     "text": [
      "The value of s = 0\n",
      "The value of s = 1\n",
      "The value of s = 2\n",
      "The value of s = 3\n",
      "The value of s = 4\n"
     ]
    }
   ],
   "source": [
    "s=0\n",
    "while(s<5):\n",
    "    print(\"The value of s =\", s)\n",
    "    s+=1"
   ]
  },
  {
   "cell_type": "code",
   "execution_count": 13,
   "id": "bc828564",
   "metadata": {},
   "outputs": [
    {
     "name": "stdout",
     "output_type": "stream",
     "text": [
      "0 1 2 3 4 5 6 7 8 9 "
     ]
    }
   ],
   "source": [
    "c=0\n",
    "while(c<10):\n",
    "    print(c, end=\" \")\n",
    "    c=c+1"
   ]
  },
  {
   "cell_type": "code",
   "execution_count": 15,
   "id": "467a63c8",
   "metadata": {},
   "outputs": [
    {
     "name": "stdout",
     "output_type": "stream",
     "text": [
      "0\n",
      "1\n",
      "2\n",
      "3\n",
      "4\n",
      "5\n",
      "6\n",
      "7\n",
      "8\n",
      "9\n"
     ]
    }
   ],
   "source": [
    "c=0\n",
    "while(c<10):\n",
    "    print(c)\n",
    "    c=c+1"
   ]
  },
  {
   "cell_type": "code",
   "execution_count": 17,
   "id": "955a78c1",
   "metadata": {},
   "outputs": [
    {
     "name": "stdout",
     "output_type": "stream",
     "text": [
      "5 10 15 20 25 "
     ]
    }
   ],
   "source": [
    "d=5\n",
    "while(d<30):\n",
    "    print(d, end=\" \")\n",
    "    d+=5"
   ]
  },
  {
   "cell_type": "code",
   "execution_count": null,
   "id": "ee029f40",
   "metadata": {},
   "outputs": [],
   "source": []
  }
 ],
 "metadata": {
  "kernelspec": {
   "display_name": "Python 3 (ipykernel)",
   "language": "python",
   "name": "python3"
  },
  "language_info": {
   "codemirror_mode": {
    "name": "ipython",
    "version": 3
   },
   "file_extension": ".py",
   "mimetype": "text/x-python",
   "name": "python",
   "nbconvert_exporter": "python",
   "pygments_lexer": "ipython3",
   "version": "3.9.12"
  }
 },
 "nbformat": 4,
 "nbformat_minor": 5
}
