{
 "cells": [
  {
   "cell_type": "markdown",
   "id": "8b4ae58b",
   "metadata": {},
   "source": [
    "# Data Analysis in Python"
   ]
  },
  {
   "cell_type": "code",
   "execution_count": 1,
   "id": "4f52e7a0",
   "metadata": {},
   "outputs": [
    {
     "name": "stdout",
     "output_type": "stream",
     "text": [
      "   Day  Visitors  Bounce_Rate\n",
      "0    1      1000           20\n",
      "1    2       700           20\n",
      "2    3      6000           23\n",
      "3    4      1000           15\n",
      "4    5       400           10\n",
      "5    6       350           34\n"
     ]
    }
   ],
   "source": [
    "import pandas as pd\n",
    "data={\"Day\":[1,2,3,4,5,6], \"Visitors\":[1000,700,6000,1000,400,350], \"Bounce_Rate\":[20,20,23,15,10,34]}\n",
    "df = pd.DataFrame(data)\n",
    "print(df)"
   ]
  },
  {
   "cell_type": "code",
   "execution_count": 2,
   "id": "d6e9263f",
   "metadata": {},
   "outputs": [
    {
     "data": {
      "text/html": [
       "<div>\n",
       "<style scoped>\n",
       "    .dataframe tbody tr th:only-of-type {\n",
       "        vertical-align: middle;\n",
       "    }\n",
       "\n",
       "    .dataframe tbody tr th {\n",
       "        vertical-align: top;\n",
       "    }\n",
       "\n",
       "    .dataframe thead th {\n",
       "        text-align: right;\n",
       "    }\n",
       "</style>\n",
       "<table border=\"1\" class=\"dataframe\">\n",
       "  <thead>\n",
       "    <tr style=\"text-align: right;\">\n",
       "      <th></th>\n",
       "      <th>Day</th>\n",
       "      <th>Visitors</th>\n",
       "      <th>Bounce_Rate</th>\n",
       "    </tr>\n",
       "  </thead>\n",
       "  <tbody>\n",
       "    <tr>\n",
       "      <th>0</th>\n",
       "      <td>1</td>\n",
       "      <td>1000</td>\n",
       "      <td>20</td>\n",
       "    </tr>\n",
       "    <tr>\n",
       "      <th>1</th>\n",
       "      <td>2</td>\n",
       "      <td>700</td>\n",
       "      <td>20</td>\n",
       "    </tr>\n",
       "    <tr>\n",
       "      <th>2</th>\n",
       "      <td>3</td>\n",
       "      <td>6000</td>\n",
       "      <td>23</td>\n",
       "    </tr>\n",
       "    <tr>\n",
       "      <th>3</th>\n",
       "      <td>4</td>\n",
       "      <td>1000</td>\n",
       "      <td>15</td>\n",
       "    </tr>\n",
       "    <tr>\n",
       "      <th>4</th>\n",
       "      <td>5</td>\n",
       "      <td>400</td>\n",
       "      <td>10</td>\n",
       "    </tr>\n",
       "  </tbody>\n",
       "</table>\n",
       "</div>"
      ],
      "text/plain": [
       "   Day  Visitors  Bounce_Rate\n",
       "0    1      1000           20\n",
       "1    2       700           20\n",
       "2    3      6000           23\n",
       "3    4      1000           15\n",
       "4    5       400           10"
      ]
     },
     "execution_count": 2,
     "metadata": {},
     "output_type": "execute_result"
    }
   ],
   "source": [
    "df.head()"
   ]
  },
  {
   "cell_type": "code",
   "execution_count": 3,
   "id": "ed18aa82",
   "metadata": {},
   "outputs": [
    {
     "data": {
      "text/html": [
       "<div>\n",
       "<style scoped>\n",
       "    .dataframe tbody tr th:only-of-type {\n",
       "        vertical-align: middle;\n",
       "    }\n",
       "\n",
       "    .dataframe tbody tr th {\n",
       "        vertical-align: top;\n",
       "    }\n",
       "\n",
       "    .dataframe thead th {\n",
       "        text-align: right;\n",
       "    }\n",
       "</style>\n",
       "<table border=\"1\" class=\"dataframe\">\n",
       "  <thead>\n",
       "    <tr style=\"text-align: right;\">\n",
       "      <th></th>\n",
       "      <th>Day</th>\n",
       "      <th>Visitors</th>\n",
       "      <th>Bounce_Rate</th>\n",
       "    </tr>\n",
       "  </thead>\n",
       "  <tbody>\n",
       "    <tr>\n",
       "      <th>0</th>\n",
       "      <td>1</td>\n",
       "      <td>1000</td>\n",
       "      <td>20</td>\n",
       "    </tr>\n",
       "    <tr>\n",
       "      <th>1</th>\n",
       "      <td>2</td>\n",
       "      <td>700</td>\n",
       "      <td>20</td>\n",
       "    </tr>\n",
       "    <tr>\n",
       "      <th>2</th>\n",
       "      <td>3</td>\n",
       "      <td>6000</td>\n",
       "      <td>23</td>\n",
       "    </tr>\n",
       "  </tbody>\n",
       "</table>\n",
       "</div>"
      ],
      "text/plain": [
       "   Day  Visitors  Bounce_Rate\n",
       "0    1      1000           20\n",
       "1    2       700           20\n",
       "2    3      6000           23"
      ]
     },
     "execution_count": 3,
     "metadata": {},
     "output_type": "execute_result"
    }
   ],
   "source": [
    "df.head(3)"
   ]
  },
  {
   "cell_type": "code",
   "execution_count": 4,
   "id": "e07d5422",
   "metadata": {},
   "outputs": [
    {
     "data": {
      "text/html": [
       "<div>\n",
       "<style scoped>\n",
       "    .dataframe tbody tr th:only-of-type {\n",
       "        vertical-align: middle;\n",
       "    }\n",
       "\n",
       "    .dataframe tbody tr th {\n",
       "        vertical-align: top;\n",
       "    }\n",
       "\n",
       "    .dataframe thead th {\n",
       "        text-align: right;\n",
       "    }\n",
       "</style>\n",
       "<table border=\"1\" class=\"dataframe\">\n",
       "  <thead>\n",
       "    <tr style=\"text-align: right;\">\n",
       "      <th></th>\n",
       "      <th>Day</th>\n",
       "      <th>Visitors</th>\n",
       "      <th>Bounce_Rate</th>\n",
       "    </tr>\n",
       "  </thead>\n",
       "  <tbody>\n",
       "    <tr>\n",
       "      <th>1</th>\n",
       "      <td>2</td>\n",
       "      <td>700</td>\n",
       "      <td>20</td>\n",
       "    </tr>\n",
       "    <tr>\n",
       "      <th>2</th>\n",
       "      <td>3</td>\n",
       "      <td>6000</td>\n",
       "      <td>23</td>\n",
       "    </tr>\n",
       "    <tr>\n",
       "      <th>3</th>\n",
       "      <td>4</td>\n",
       "      <td>1000</td>\n",
       "      <td>15</td>\n",
       "    </tr>\n",
       "    <tr>\n",
       "      <th>4</th>\n",
       "      <td>5</td>\n",
       "      <td>400</td>\n",
       "      <td>10</td>\n",
       "    </tr>\n",
       "    <tr>\n",
       "      <th>5</th>\n",
       "      <td>6</td>\n",
       "      <td>350</td>\n",
       "      <td>34</td>\n",
       "    </tr>\n",
       "  </tbody>\n",
       "</table>\n",
       "</div>"
      ],
      "text/plain": [
       "   Day  Visitors  Bounce_Rate\n",
       "1    2       700           20\n",
       "2    3      6000           23\n",
       "3    4      1000           15\n",
       "4    5       400           10\n",
       "5    6       350           34"
      ]
     },
     "execution_count": 4,
     "metadata": {},
     "output_type": "execute_result"
    }
   ],
   "source": [
    "df.tail()"
   ]
  },
  {
   "cell_type": "code",
   "execution_count": 5,
   "id": "dcb89d39",
   "metadata": {},
   "outputs": [
    {
     "data": {
      "text/html": [
       "<div>\n",
       "<style scoped>\n",
       "    .dataframe tbody tr th:only-of-type {\n",
       "        vertical-align: middle;\n",
       "    }\n",
       "\n",
       "    .dataframe tbody tr th {\n",
       "        vertical-align: top;\n",
       "    }\n",
       "\n",
       "    .dataframe thead th {\n",
       "        text-align: right;\n",
       "    }\n",
       "</style>\n",
       "<table border=\"1\" class=\"dataframe\">\n",
       "  <thead>\n",
       "    <tr style=\"text-align: right;\">\n",
       "      <th></th>\n",
       "      <th>Day</th>\n",
       "      <th>Visitors</th>\n",
       "      <th>Bounce_Rate</th>\n",
       "    </tr>\n",
       "  </thead>\n",
       "  <tbody>\n",
       "    <tr>\n",
       "      <th>4</th>\n",
       "      <td>5</td>\n",
       "      <td>400</td>\n",
       "      <td>10</td>\n",
       "    </tr>\n",
       "    <tr>\n",
       "      <th>5</th>\n",
       "      <td>6</td>\n",
       "      <td>350</td>\n",
       "      <td>34</td>\n",
       "    </tr>\n",
       "  </tbody>\n",
       "</table>\n",
       "</div>"
      ],
      "text/plain": [
       "   Day  Visitors  Bounce_Rate\n",
       "4    5       400           10\n",
       "5    6       350           34"
      ]
     },
     "execution_count": 5,
     "metadata": {},
     "output_type": "execute_result"
    }
   ],
   "source": [
    "df.tail(2)"
   ]
  },
  {
   "cell_type": "code",
   "execution_count": 6,
   "id": "f0da5d5f",
   "metadata": {},
   "outputs": [
    {
     "data": {
      "text/html": [
       "<div>\n",
       "<style scoped>\n",
       "    .dataframe tbody tr th:only-of-type {\n",
       "        vertical-align: middle;\n",
       "    }\n",
       "\n",
       "    .dataframe tbody tr th {\n",
       "        vertical-align: top;\n",
       "    }\n",
       "\n",
       "    .dataframe thead th {\n",
       "        text-align: right;\n",
       "    }\n",
       "</style>\n",
       "<table border=\"1\" class=\"dataframe\">\n",
       "  <thead>\n",
       "    <tr style=\"text-align: right;\">\n",
       "      <th></th>\n",
       "      <th>Day</th>\n",
       "      <th>Visitors</th>\n",
       "      <th>Bounce_Rate</th>\n",
       "    </tr>\n",
       "  </thead>\n",
       "  <tbody>\n",
       "    <tr>\n",
       "      <th>5</th>\n",
       "      <td>6</td>\n",
       "      <td>350</td>\n",
       "      <td>34</td>\n",
       "    </tr>\n",
       "  </tbody>\n",
       "</table>\n",
       "</div>"
      ],
      "text/plain": [
       "   Day  Visitors  Bounce_Rate\n",
       "5    6       350           34"
      ]
     },
     "execution_count": 6,
     "metadata": {},
     "output_type": "execute_result"
    }
   ],
   "source": [
    "df.sample()"
   ]
  },
  {
   "cell_type": "code",
   "execution_count": 7,
   "id": "71310649",
   "metadata": {},
   "outputs": [
    {
     "data": {
      "text/html": [
       "<div>\n",
       "<style scoped>\n",
       "    .dataframe tbody tr th:only-of-type {\n",
       "        vertical-align: middle;\n",
       "    }\n",
       "\n",
       "    .dataframe tbody tr th {\n",
       "        vertical-align: top;\n",
       "    }\n",
       "\n",
       "    .dataframe thead th {\n",
       "        text-align: right;\n",
       "    }\n",
       "</style>\n",
       "<table border=\"1\" class=\"dataframe\">\n",
       "  <thead>\n",
       "    <tr style=\"text-align: right;\">\n",
       "      <th></th>\n",
       "      <th>Day</th>\n",
       "      <th>Visitors</th>\n",
       "      <th>Bounce_Rate</th>\n",
       "    </tr>\n",
       "  </thead>\n",
       "  <tbody>\n",
       "    <tr>\n",
       "      <th>3</th>\n",
       "      <td>4</td>\n",
       "      <td>1000</td>\n",
       "      <td>15</td>\n",
       "    </tr>\n",
       "    <tr>\n",
       "      <th>4</th>\n",
       "      <td>5</td>\n",
       "      <td>400</td>\n",
       "      <td>10</td>\n",
       "    </tr>\n",
       "  </tbody>\n",
       "</table>\n",
       "</div>"
      ],
      "text/plain": [
       "   Day  Visitors  Bounce_Rate\n",
       "3    4      1000           15\n",
       "4    5       400           10"
      ]
     },
     "execution_count": 7,
     "metadata": {},
     "output_type": "execute_result"
    }
   ],
   "source": [
    "df.sample(2)"
   ]
  },
  {
   "cell_type": "code",
   "execution_count": 8,
   "id": "4bf9cba6",
   "metadata": {},
   "outputs": [
    {
     "data": {
      "text/html": [
       "<div>\n",
       "<style scoped>\n",
       "    .dataframe tbody tr th:only-of-type {\n",
       "        vertical-align: middle;\n",
       "    }\n",
       "\n",
       "    .dataframe tbody tr th {\n",
       "        vertical-align: top;\n",
       "    }\n",
       "\n",
       "    .dataframe thead th {\n",
       "        text-align: right;\n",
       "    }\n",
       "</style>\n",
       "<table border=\"1\" class=\"dataframe\">\n",
       "  <thead>\n",
       "    <tr style=\"text-align: right;\">\n",
       "      <th></th>\n",
       "      <th>Day</th>\n",
       "      <th>Visitors</th>\n",
       "      <th>Bounce_Rate</th>\n",
       "    </tr>\n",
       "  </thead>\n",
       "  <tbody>\n",
       "    <tr>\n",
       "      <th>4</th>\n",
       "      <td>5</td>\n",
       "      <td>400</td>\n",
       "      <td>10</td>\n",
       "    </tr>\n",
       "    <tr>\n",
       "      <th>0</th>\n",
       "      <td>1</td>\n",
       "      <td>1000</td>\n",
       "      <td>20</td>\n",
       "    </tr>\n",
       "    <tr>\n",
       "      <th>1</th>\n",
       "      <td>2</td>\n",
       "      <td>700</td>\n",
       "      <td>20</td>\n",
       "    </tr>\n",
       "  </tbody>\n",
       "</table>\n",
       "</div>"
      ],
      "text/plain": [
       "   Day  Visitors  Bounce_Rate\n",
       "4    5       400           10\n",
       "0    1      1000           20\n",
       "1    2       700           20"
      ]
     },
     "execution_count": 8,
     "metadata": {},
     "output_type": "execute_result"
    }
   ],
   "source": [
    "df.sample(3)"
   ]
  },
  {
   "cell_type": "markdown",
   "id": "ca281fc6",
   "metadata": {},
   "source": [
    "## Pandas IO - Input/Output tools"
   ]
  },
  {
   "cell_type": "markdown",
   "id": "2c48e0e4",
   "metadata": {},
   "source": [
    "The Pandas I/O API is a set of top level reader functions accessed like pd.read_csv() that generally return a Pandas object. Input output \n",
    "\n",
    "read_csv to_csv\n",
    "\n",
    "read_table to_table\n",
    "\n",
    "read_html to_html read_excel to_excel HDF5 format to store file in Hard disk\n",
    "\n",
    "The two workhorse functions for reading text files (or the flat files) are read_csv() and read_table(). They both use the same parsing code to intelligently convert tabular data into a DataFrame object –\n",
    "\n",
    "read_csv(filepath_or_buffer, sep=’,’, delimiter=none, header=’infer’, names=None, index_col=None)\n",
    "\n",
    "filepath_or_buffer str, path object, or file-like object sep : str,default ‘,’ Delimiter to use. If sep is None delimiter : str, default None Alias for sep \n",
    "\n",
    "header : int, list of int, default ‘infer’ Row number(s) to use as the column names, and the start of the data. Default behavioris to infer the column names \n",
    "\n",
    "names : array-like, optional List of column names to use."
   ]
  },
  {
   "cell_type": "markdown",
   "id": "749c526a",
   "metadata": {},
   "source": [
    "## Reading CSV Files With pandas"
   ]
  },
  {
   "cell_type": "markdown",
   "id": "867f8aa9",
   "metadata": {},
   "source": [
    "To show some of the power of pandas CSV capabilities, I’ve created a slightly more complicated file to read, called hrdata.csv. It contains data on company employees:"
   ]
  },
  {
   "cell_type": "code",
   "execution_count": 2,
   "id": "30566716",
   "metadata": {},
   "outputs": [],
   "source": [
    "import pandas\n",
    "import pandas as pd"
   ]
  },
  {
   "cell_type": "code",
   "execution_count": 3,
   "id": "b50706cf",
   "metadata": {},
   "outputs": [],
   "source": [
    "#open the text file and load the data then save it as hrdata.csv"
   ]
  },
  {
   "cell_type": "code",
   "execution_count": 4,
   "id": "108ad2df",
   "metadata": {},
   "outputs": [
    {
     "name": "stdout",
     "output_type": "stream",
     "text": [
      "             Name  Hiredate   Salary  SickDayremaining\n",
      "0  Graham Chapman  03/15/14  50000.0                10\n",
      "1     John Cleese  06/01/15  65000.0                 8\n",
      "2       Eric Idle  05/12/14  45000.0                10\n",
      "3     Terry Jones  11/01/13  70000.0                 3\n",
      "4   Terry Gilliam  08/12/14  48000.0                 7\n",
      "5   Michael Palin  05/23/13  66000.0                 8\n"
     ]
    }
   ],
   "source": [
    "df=pd.read_csv('hrdata.csv')\n",
    "print(df) #(comma separated to make data like name,hiredate,salary,sikedayremaining)"
   ]
  },
  {
   "cell_type": "code",
   "execution_count": 5,
   "id": "ed8429cc",
   "metadata": {},
   "outputs": [
    {
     "name": "stdout",
     "output_type": "stream",
     "text": [
      "<class 'str'>\n"
     ]
    }
   ],
   "source": [
    "print(type(df['Hiredate'][0]))\n",
    "#date is displaying string datatype"
   ]
  },
  {
   "cell_type": "code",
   "execution_count": 7,
   "id": "315701d6",
   "metadata": {},
   "outputs": [
    {
     "name": "stdout",
     "output_type": "stream",
     "text": [
      "                 Hiredate   Salary  SickDayremaining\n",
      "Name                                                \n",
      "Graham Chapman 2014-03-15  50000.0                10\n",
      "John Cleese    2015-06-01  65000.0                 8\n",
      "Eric Idle      2014-05-12  45000.0                10\n",
      "Terry Jones    2013-11-01  70000.0                 3\n",
      "Terry Gilliam  2014-08-12  48000.0                 7\n",
      "Michael Palin  2013-05-23  66000.0                 8\n"
     ]
    }
   ],
   "source": [
    "#parse_dates will change into date data type\n",
    "df=pd.read_csv('hrdata.csv', index_col='Name',parse_dates=['Hiredate'])\n",
    "print(df)"
   ]
  },
  {
   "cell_type": "code",
   "execution_count": 9,
   "id": "91e98bfc",
   "metadata": {},
   "outputs": [
    {
     "name": "stdout",
     "output_type": "stream",
     "text": [
      "<class 'pandas._libs.tslibs.timestamps.Timestamp'>\n",
      "<class 'pandas._libs.tslibs.timestamps.Timestamp'>\n"
     ]
    }
   ],
   "source": [
    "#Hire date changed to timestamp\n",
    "print(type(df['Hiredate'][0]))\n",
    "print(type(df['Hiredate'][2]))"
   ]
  },
  {
   "cell_type": "code",
   "execution_count": 15,
   "id": "a85c423a",
   "metadata": {},
   "outputs": [
    {
     "name": "stdout",
     "output_type": "stream",
     "text": [
      "                    Hired   Salary  Sick Days\n",
      "Employee                                     \n",
      "Graham Chapman 2014-03-15  50000.0         10\n",
      "John Cleese    2015-06-01  65000.0          8\n",
      "Eric Idle      2014-05-12  45000.0         10\n",
      "Terry Jones    2013-11-01  70000.0          3\n",
      "Terry Gilliam  2014-08-12  48000.0          7\n",
      "Michael Palin  2013-05-23  66000.0          8\n"
     ]
    }
   ],
   "source": [
    "#pandas.read_csv?\n",
    "#Explicitly pass header=0 to be able to replace existing names.\n",
    "df=pd.read_csv('hrdata.csv',\n",
    "               index_col='Employee',\n",
    "               parse_dates=['Hired'],\n",
    "               header=0,\n",
    "               names=['Employee','Hired','Salary','Sick Days'])\n",
    "print(df)"
   ]
  },
  {
   "cell_type": "code",
   "execution_count": 16,
   "id": "485ce0e1",
   "metadata": {},
   "outputs": [
    {
     "data": {
      "text/html": [
       "<div>\n",
       "<style scoped>\n",
       "    .dataframe tbody tr th:only-of-type {\n",
       "        vertical-align: middle;\n",
       "    }\n",
       "\n",
       "    .dataframe tbody tr th {\n",
       "        vertical-align: top;\n",
       "    }\n",
       "\n",
       "    .dataframe thead th {\n",
       "        text-align: right;\n",
       "    }\n",
       "</style>\n",
       "<table border=\"1\" class=\"dataframe\">\n",
       "  <thead>\n",
       "    <tr style=\"text-align: right;\">\n",
       "      <th></th>\n",
       "      <th>Employee</th>\n",
       "      <th>Hired</th>\n",
       "      <th>Salary</th>\n",
       "      <th>Sick Days</th>\n",
       "    </tr>\n",
       "  </thead>\n",
       "  <tbody>\n",
       "    <tr>\n",
       "      <th>0</th>\n",
       "      <td>Graham Chapman</td>\n",
       "      <td>2014-03-15</td>\n",
       "      <td>50000.0</td>\n",
       "      <td>10</td>\n",
       "    </tr>\n",
       "    <tr>\n",
       "      <th>1</th>\n",
       "      <td>John Cleese</td>\n",
       "      <td>2015-06-01</td>\n",
       "      <td>65000.0</td>\n",
       "      <td>8</td>\n",
       "    </tr>\n",
       "    <tr>\n",
       "      <th>2</th>\n",
       "      <td>Eric Idle</td>\n",
       "      <td>2014-05-12</td>\n",
       "      <td>45000.0</td>\n",
       "      <td>10</td>\n",
       "    </tr>\n",
       "    <tr>\n",
       "      <th>3</th>\n",
       "      <td>Terry Jones</td>\n",
       "      <td>2013-11-01</td>\n",
       "      <td>70000.0</td>\n",
       "      <td>3</td>\n",
       "    </tr>\n",
       "    <tr>\n",
       "      <th>4</th>\n",
       "      <td>Terry Gilliam</td>\n",
       "      <td>2014-08-12</td>\n",
       "      <td>48000.0</td>\n",
       "      <td>7</td>\n",
       "    </tr>\n",
       "    <tr>\n",
       "      <th>5</th>\n",
       "      <td>Michael Palin</td>\n",
       "      <td>2013-05-23</td>\n",
       "      <td>66000.0</td>\n",
       "      <td>8</td>\n",
       "    </tr>\n",
       "  </tbody>\n",
       "</table>\n",
       "</div>"
      ],
      "text/plain": [
       "         Employee       Hired   Salary  Sick Days\n",
       "0  Graham Chapman  2014-03-15  50000.0         10\n",
       "1     John Cleese  2015-06-01  65000.0          8\n",
       "2       Eric Idle  2014-05-12  45000.0         10\n",
       "3     Terry Jones  2013-11-01  70000.0          3\n",
       "4   Terry Gilliam  2014-08-12  48000.0          7\n",
       "5   Michael Palin  2013-05-23  66000.0          8"
      ]
     },
     "execution_count": 16,
     "metadata": {},
     "output_type": "execute_result"
    }
   ],
   "source": [
    "#writing CSV Files with pandas\n",
    "df\n",
    "df.to_csv('hrdata_modified.csv')\n",
    "dfh=pd.read_csv('hrdata_modified.csv')\n",
    "dfh"
   ]
  },
  {
   "cell_type": "code",
   "execution_count": 19,
   "id": "546071fc",
   "metadata": {},
   "outputs": [
    {
     "data": {
      "text/plain": [
       "<AxesSubplot:>"
      ]
     },
     "execution_count": 19,
     "metadata": {},
     "output_type": "execute_result"
    },
    {
     "data": {
      "image/png": "[encoded data removed]",
      "text/plain": [
       "<Figure size 432x288 with 1 Axes>"
      ]
     },
     "metadata": {
      "needs_background": "light"
     },
     "output_type": "display_data"
    }
   ],
   "source": [
    "dfh['Salary'].plot.bar()"
   ]
  },
  {
   "cell_type": "code",
   "execution_count": 20,
   "id": "f9b753fa",
   "metadata": {},
   "outputs": [
    {
     "data": {
      "text/plain": [
       "45000.0"
      ]
     },
     "execution_count": 20,
     "metadata": {},
     "output_type": "execute_result"
    }
   ],
   "source": [
    "dfh['Salary'].min()"
   ]
  },
  {
   "cell_type": "markdown",
   "id": "08a0d873",
   "metadata": {},
   "source": [
    "## Reading TSV format file"
   ]
  },
  {
   "cell_type": "markdown",
   "id": "bc6763c3",
   "metadata": {},
   "source": [
    "Tab separated value"
   ]
  },
  {
   "cell_type": "code",
   "execution_count": 21,
   "id": "f3a7c587",
   "metadata": {},
   "outputs": [],
   "source": [
    "#import pandas\n",
    "#pandas.read_csv?"
   ]
  },
  {
   "cell_type": "code",
   "execution_count": 23,
   "id": "b6307419",
   "metadata": {},
   "outputs": [],
   "source": [
    "#https://github.com/dsrscientist/dataset3\n",
    "#https://row.githubusercontent.com/dsrscientist/dataset3/main/agedata.tsv"
   ]
  },
  {
   "cell_type": "code",
   "execution_count": 24,
   "id": "1c226ab1",
   "metadata": {},
   "outputs": [
    {
     "data": {
      "text/html": [
       "<div>\n",
       "<style scoped>\n",
       "    .dataframe tbody tr th:only-of-type {\n",
       "        vertical-align: middle;\n",
       "    }\n",
       "\n",
       "    .dataframe tbody tr th {\n",
       "        vertical-align: top;\n",
       "    }\n",
       "\n",
       "    .dataframe thead th {\n",
       "        text-align: right;\n",
       "    }\n",
       "</style>\n",
       "<table border=\"1\" class=\"dataframe\">\n",
       "  <thead>\n",
       "    <tr style=\"text-align: right;\">\n",
       "      <th></th>\n",
       "      <th>Sno</th>\n",
       "      <th>Name</th>\n",
       "      <th>Age</th>\n",
       "    </tr>\n",
       "  </thead>\n",
       "  <tbody>\n",
       "    <tr>\n",
       "      <th>0</th>\n",
       "      <td>1</td>\n",
       "      <td>John</td>\n",
       "      <td>5</td>\n",
       "    </tr>\n",
       "    <tr>\n",
       "      <th>1</th>\n",
       "      <td>2</td>\n",
       "      <td>Jack</td>\n",
       "      <td>10</td>\n",
       "    </tr>\n",
       "    <tr>\n",
       "      <th>2</th>\n",
       "      <td>3</td>\n",
       "      <td>Lisa</td>\n",
       "      <td>8</td>\n",
       "    </tr>\n",
       "    <tr>\n",
       "      <th>3</th>\n",
       "      <td>4</td>\n",
       "      <td>Sweta</td>\n",
       "      <td>11</td>\n",
       "    </tr>\n",
       "    <tr>\n",
       "      <th>4</th>\n",
       "      <td>5</td>\n",
       "      <td>Bret</td>\n",
       "      <td>14</td>\n",
       "    </tr>\n",
       "    <tr>\n",
       "      <th>5</th>\n",
       "      <td>6</td>\n",
       "      <td>Nikolus</td>\n",
       "      <td>10</td>\n",
       "    </tr>\n",
       "  </tbody>\n",
       "</table>\n",
       "</div>"
      ],
      "text/plain": [
       "   Sno     Name  Age\n",
       "0    1     John    5\n",
       "1    2     Jack   10\n",
       "2    3     Lisa    8\n",
       "3    4    Sweta   11\n",
       "4    5     Bret   14\n",
       "5    6  Nikolus   10"
      ]
     },
     "execution_count": 24,
     "metadata": {},
     "output_type": "execute_result"
    }
   ],
   "source": [
    "import pandas as pd\n",
    "df1=pd.read_csv(\"agedata.tsv\", sep='\\t') #(tsv – tab separation value)\n",
    "df1"
   ]
  },
  {
   "cell_type": "code",
   "execution_count": 30,
   "id": "c1ecf993",
   "metadata": {},
   "outputs": [
    {
     "data": {
      "text/html": [
       "<div>\n",
       "<style scoped>\n",
       "    .dataframe tbody tr th:only-of-type {\n",
       "        vertical-align: middle;\n",
       "    }\n",
       "\n",
       "    .dataframe tbody tr th {\n",
       "        vertical-align: top;\n",
       "    }\n",
       "\n",
       "    .dataframe thead th {\n",
       "        text-align: right;\n",
       "    }\n",
       "</style>\n",
       "<table border=\"1\" class=\"dataframe\">\n",
       "  <thead>\n",
       "    <tr style=\"text-align: right;\">\n",
       "      <th></th>\n",
       "      <th>Hired</th>\n",
       "      <th>Salary</th>\n",
       "      <th>Sick Days</th>\n",
       "    </tr>\n",
       "    <tr>\n",
       "      <th>Employee</th>\n",
       "      <th></th>\n",
       "      <th></th>\n",
       "      <th></th>\n",
       "    </tr>\n",
       "  </thead>\n",
       "  <tbody>\n",
       "    <tr>\n",
       "      <th>Graham Chapman</th>\n",
       "      <td>2014-03-15</td>\n",
       "      <td>50000.0</td>\n",
       "      <td>10</td>\n",
       "    </tr>\n",
       "    <tr>\n",
       "      <th>John Cleese</th>\n",
       "      <td>2015-06-01</td>\n",
       "      <td>65000.0</td>\n",
       "      <td>8</td>\n",
       "    </tr>\n",
       "    <tr>\n",
       "      <th>Eric Idle</th>\n",
       "      <td>2014-05-12</td>\n",
       "      <td>45000.0</td>\n",
       "      <td>10</td>\n",
       "    </tr>\n",
       "    <tr>\n",
       "      <th>Terry Jones</th>\n",
       "      <td>2013-11-01</td>\n",
       "      <td>70000.0</td>\n",
       "      <td>3</td>\n",
       "    </tr>\n",
       "    <tr>\n",
       "      <th>Terry Gilliam</th>\n",
       "      <td>2014-08-12</td>\n",
       "      <td>48000.0</td>\n",
       "      <td>7</td>\n",
       "    </tr>\n",
       "    <tr>\n",
       "      <th>Michael Palin</th>\n",
       "      <td>2013-05-23</td>\n",
       "      <td>66000.0</td>\n",
       "      <td>8</td>\n",
       "    </tr>\n",
       "  </tbody>\n",
       "</table>\n",
       "</div>"
      ],
      "text/plain": [
       "                    Hired   Salary  Sick Days\n",
       "Employee                                     \n",
       "Graham Chapman 2014-03-15  50000.0         10\n",
       "John Cleese    2015-06-01  65000.0          8\n",
       "Eric Idle      2014-05-12  45000.0         10\n",
       "Terry Jones    2013-11-01  70000.0          3\n",
       "Terry Gilliam  2014-08-12  48000.0          7\n",
       "Michael Palin  2013-05-23  66000.0          8"
      ]
     },
     "execution_count": 30,
     "metadata": {},
     "output_type": "execute_result"
    }
   ],
   "source": [
    "#write in tsv format\n",
    "df.to_csv('agedata1.csv',sep='\\t')\n",
    "df"
   ]
  },
  {
   "cell_type": "markdown",
   "id": "aa27d607",
   "metadata": {},
   "source": [
    "## Reading Excel File"
   ]
  },
  {
   "cell_type": "code",
   "execution_count": 29,
   "id": "236ea231",
   "metadata": {},
   "outputs": [
    {
     "data": {
      "text/html": [
       "<div>\n",
       "<style scoped>\n",
       "    .dataframe tbody tr th:only-of-type {\n",
       "        vertical-align: middle;\n",
       "    }\n",
       "\n",
       "    .dataframe tbody tr th {\n",
       "        vertical-align: top;\n",
       "    }\n",
       "\n",
       "    .dataframe thead th {\n",
       "        text-align: right;\n",
       "    }\n",
       "</style>\n",
       "<table border=\"1\" class=\"dataframe\">\n",
       "  <thead>\n",
       "    <tr style=\"text-align: right;\">\n",
       "      <th></th>\n",
       "      <th>index</th>\n",
       "      <th>Nation</th>\n",
       "      <th>purchased_item</th>\n",
       "      <th>salary</th>\n",
       "      <th>age</th>\n",
       "    </tr>\n",
       "  </thead>\n",
       "  <tbody>\n",
       "    <tr>\n",
       "      <th>0</th>\n",
       "      <td>0</td>\n",
       "      <td>India</td>\n",
       "      <td>No</td>\n",
       "      <td>66777.0</td>\n",
       "      <td>23.0</td>\n",
       "    </tr>\n",
       "    <tr>\n",
       "      <th>1</th>\n",
       "      <td>1</td>\n",
       "      <td>Russia</td>\n",
       "      <td>Yes</td>\n",
       "      <td>87878.0</td>\n",
       "      <td>24.0</td>\n",
       "    </tr>\n",
       "    <tr>\n",
       "      <th>2</th>\n",
       "      <td>2</td>\n",
       "      <td>Germany</td>\n",
       "      <td>No</td>\n",
       "      <td>34559.0</td>\n",
       "      <td>NaN</td>\n",
       "    </tr>\n",
       "    <tr>\n",
       "      <th>3</th>\n",
       "      <td>3</td>\n",
       "      <td>India</td>\n",
       "      <td>Yes</td>\n",
       "      <td>40000.0</td>\n",
       "      <td>26.0</td>\n",
       "    </tr>\n",
       "    <tr>\n",
       "      <th>4</th>\n",
       "      <td>4</td>\n",
       "      <td>Germany</td>\n",
       "      <td>Yes</td>\n",
       "      <td>NaN</td>\n",
       "      <td>21.0</td>\n",
       "    </tr>\n",
       "    <tr>\n",
       "      <th>5</th>\n",
       "      <td>5</td>\n",
       "      <td>Russia</td>\n",
       "      <td>No</td>\n",
       "      <td>45000.0</td>\n",
       "      <td>NaN</td>\n",
       "    </tr>\n",
       "    <tr>\n",
       "      <th>6</th>\n",
       "      <td>6</td>\n",
       "      <td>Germany</td>\n",
       "      <td>Yes</td>\n",
       "      <td>89993.0</td>\n",
       "      <td>62.0</td>\n",
       "    </tr>\n",
       "    <tr>\n",
       "      <th>7</th>\n",
       "      <td>7</td>\n",
       "      <td>India</td>\n",
       "      <td>No</td>\n",
       "      <td>55555.0</td>\n",
       "      <td>24.0</td>\n",
       "    </tr>\n",
       "    <tr>\n",
       "      <th>8</th>\n",
       "      <td>8</td>\n",
       "      <td>Russia</td>\n",
       "      <td>Yes</td>\n",
       "      <td>NaN</td>\n",
       "      <td>45.0</td>\n",
       "    </tr>\n",
       "    <tr>\n",
       "      <th>9</th>\n",
       "      <td>9</td>\n",
       "      <td>Germany</td>\n",
       "      <td>Yes</td>\n",
       "      <td>67222.0</td>\n",
       "      <td>53.0</td>\n",
       "    </tr>\n",
       "  </tbody>\n",
       "</table>\n",
       "</div>"
      ],
      "text/plain": [
       "   index   Nation purchased_item   salary   age\n",
       "0      0    India             No  66777.0  23.0\n",
       "1      1   Russia            Yes  87878.0  24.0\n",
       "2      2  Germany             No  34559.0   NaN\n",
       "3      3    India            Yes  40000.0  26.0\n",
       "4      4  Germany            Yes      NaN  21.0\n",
       "5      5   Russia             No  45000.0   NaN\n",
       "6      6  Germany            Yes  89993.0  62.0\n",
       "7      7    India             No  55555.0  24.0\n",
       "8      8   Russia            Yes      NaN  45.0\n",
       "9      9  Germany            Yes  67222.0  53.0"
      ]
     },
     "execution_count": 29,
     "metadata": {},
     "output_type": "execute_result"
    }
   ],
   "source": [
    "#Reading Excel file\n",
    "df2=pd.read_excel('salarydata.xlsx')\n",
    "df2"
   ]
  },
  {
   "cell_type": "code",
   "execution_count": 37,
   "id": "41e5426d",
   "metadata": {},
   "outputs": [],
   "source": [
    "#write in excel format\n",
    "df.to_excel('salarydata1.xlsx')"
   ]
  },
  {
   "cell_type": "code",
   "execution_count": 35,
   "id": "9c11a0dc",
   "metadata": {},
   "outputs": [],
   "source": [
    "import pandas\n",
    "pandas.read_csv?\n",
    "then click on run to see signature (all details)"
   ]
  },
  {
   "cell_type": "code",
   "execution_count": 38,
   "id": "2747fe28",
   "metadata": {},
   "outputs": [],
   "source": [
    "#pd.read_html?"
   ]
  },
  {
   "cell_type": "markdown",
   "id": "df811f72",
   "metadata": {},
   "source": [
    "## Reading HTML file"
   ]
  },
  {
   "cell_type": "code",
   "execution_count": 39,
   "id": "1ea0eeee",
   "metadata": {},
   "outputs": [
    {
     "data": {
      "text/plain": [
       "[                              Nutrient        Unit Value per 100.0g  \\\n",
       " 0                           Proximates  Proximates       Proximates   \n",
       " 1                                Water           g            51.70   \n",
       " 2                               Energy        kcal              315   \n",
       " 3                              Protein           g            13.40   \n",
       " 4                    Total lipid (fat)           g            26.60   \n",
       " 5          Carbohydrate, by difference           g             4.60   \n",
       " 6                 Fiber, total dietary           g              0.0   \n",
       " 7                        Sugars, total           g             0.00   \n",
       " 8                             Minerals    Minerals         Minerals   \n",
       " 9                          Calcium, Ca          mg                0   \n",
       " 10                            Iron, Fe          mg             0.64   \n",
       " 11                       Magnesium, Mg          mg               14   \n",
       " 12                       Phosphorus, P          mg              151   \n",
       " 13                        Potassium, K          mg              409   \n",
       " 14                          Sodium, Na          mg             1411   \n",
       " 15                            Zinc, Zn          mg             1.59   \n",
       " 16                            Vitamins    Vitamins         Vitamins   \n",
       " 17      Vitamin C, total ascorbic acid          mg              0.0   \n",
       " 18                             Thiamin          mg            0.317   \n",
       " 19                          Riboflavin          mg            0.176   \n",
       " 20                              Niacin          mg            3.530   \n",
       " 21                         Vitamin B-6          mg            0.218   \n",
       " 22                         Folate, DFE          µg                3   \n",
       " 23                        Vitamin B-12          µg             0.45   \n",
       " 24                      Vitamin A, RAE          µg                0   \n",
       " 25                       Vitamin A, IU          IU                0   \n",
       " 26        Vitamin E (alpha-tocopherol)          mg             0.42   \n",
       " 27                 Vitamin D (D2 + D3)          µg              0.6   \n",
       " 28                           Vitamin D          IU               26   \n",
       " 29           Vitamin K (phylloquinone)          µg              0.0   \n",
       " 30                              Lipids      Lipids           Lipids   \n",
       " 31        Fatty acids, total saturated           g            9.987   \n",
       " 32  Fatty acids, total monounsaturated           g           13.505   \n",
       " 33  Fatty acids, total polyunsaturated           g            2.019   \n",
       " 34                         Cholesterol          mg               71   \n",
       " 35                               Other       Other            Other   \n",
       " 36                            Caffeine          mg                0   \n",
       " \n",
       "    oz 1 NLEA serving  56g  Unnamed: 4  Unnamed: 5  \n",
       " 0              Proximates  Proximates  Proximates  \n",
       " 1                   28.95         NaN         NaN  \n",
       " 2                     176         NaN         NaN  \n",
       " 3                    7.50         NaN         NaN  \n",
       " 4                   14.90         NaN         NaN  \n",
       " 5                    2.58         NaN         NaN  \n",
       " 6                     0.0         NaN         NaN  \n",
       " 7                    0.00         NaN         NaN  \n",
       " 8                Minerals    Minerals    Minerals  \n",
       " 9                       0         NaN         NaN  \n",
       " 10                   0.36         NaN         NaN  \n",
       " 11                      8         NaN         NaN  \n",
       " 12                     85         NaN         NaN  \n",
       " 13                    229         NaN         NaN  \n",
       " 14                    790         NaN         NaN  \n",
       " 15                   0.89         NaN         NaN  \n",
       " 16               Vitamins    Vitamins    Vitamins  \n",
       " 17                    0.0         NaN         NaN  \n",
       " 18                  0.178         NaN         NaN  \n",
       " 19                  0.099         NaN         NaN  \n",
       " 20                  1.977         NaN         NaN  \n",
       " 21                  0.122         NaN         NaN  \n",
       " 22                      2         NaN         NaN  \n",
       " 23                   0.25         NaN         NaN  \n",
       " 24                      0         NaN         NaN  \n",
       " 25                      0         NaN         NaN  \n",
       " 26                   0.24         NaN         NaN  \n",
       " 27                    0.3         NaN         NaN  \n",
       " 28                     15         NaN         NaN  \n",
       " 29                    0.0         NaN         NaN  \n",
       " 30                 Lipids      Lipids      Lipids  \n",
       " 31                  5.593         NaN         NaN  \n",
       " 32                  7.563         NaN         NaN  \n",
       " 33                  1.131         NaN         NaN  \n",
       " 34                     40         NaN         NaN  \n",
       " 35                  Other       Other       Other  \n",
       " 36                      0         NaN         NaN  ]"
      ]
     },
     "execution_count": 39,
     "metadata": {},
     "output_type": "execute_result"
    }
   ],
   "source": [
    "url=\"https://raw.githubusercontent.com/dsrscientist/dataset_format/main/spam.html\"\n",
    "\n",
    "df3=pd.read_html(url)\n",
    "df3"
   ]
  },
  {
   "cell_type": "code",
   "execution_count": 40,
   "id": "b3687cf9",
   "metadata": {},
   "outputs": [
    {
     "ename": "AttributeError",
     "evalue": "'list' object has no attribute 'to_html'",
     "output_type": "error",
     "traceback": [
      "\u001b[1;31m---------------------------------------------------------------------------\u001b[0m",
      "\u001b[1;31mAttributeError\u001b[0m                            Traceback (most recent call last)",
      "Input \u001b[1;32mIn [40]\u001b[0m, in \u001b[0;36m<cell line: 2>\u001b[1;34m()\u001b[0m\n\u001b[0;32m      1\u001b[0m \u001b[38;5;66;03m#write in html file\u001b[39;00m\n\u001b[1;32m----> 2\u001b[0m \u001b[43mdf3\u001b[49m\u001b[38;5;241;43m.\u001b[39;49m\u001b[43mto_html\u001b[49m(\u001b[38;5;124m'\u001b[39m\u001b[38;5;124mnewfile.html\u001b[39m\u001b[38;5;124m'\u001b[39m)\n",
      "\u001b[1;31mAttributeError\u001b[0m: 'list' object has no attribute 'to_html'"
     ]
    }
   ],
   "source": [
    "#write in html file\n",
    "df3.to_html('newfile.html')"
   ]
  },
  {
   "cell_type": "markdown",
   "id": "c209f090",
   "metadata": {},
   "source": [
    "## Web API-Application Programming Interface"
   ]
  },
  {
   "cell_type": "markdown",
   "id": "1b8bc75c",
   "metadata": {},
   "source": [
    "Web API is a Interface for building HTTP services that can be accessed from any client including browsers and mobile devices.\n",
    "\n",
    "API has a set of functions that allow data scientists to access specific features or data of an application or other services. API works over the web which can be accessed using HTTP protocol.\n",
    "\n",
    "When we want to receive data from an API, we need to make a request. Requests are used all over the web.\n",
    "\n",
    "Consider the process of logging into an app such as Medium. You are given the option to login using Google or Facebook. In the instance, the Medium app is getting access to you Google or Facebook user data through an API developed by those companies. APIs are also helpful because they are a straightforward avenue for accessing large amounts of structured data from various services and platforms."
   ]
  },
  {
   "cell_type": "raw",
   "id": "c59b3c1f",
   "metadata": {},
   "source": [
    "Making API requests in Python"
   ]
  },
  {
   "cell_type": "code",
   "execution_count": 42,
   "id": "8a478ec1",
   "metadata": {},
   "outputs": [],
   "source": [
    "#!pip install requests"
   ]
  },
  {
   "cell_type": "code",
   "execution_count": 43,
   "id": "db54f8f1",
   "metadata": {},
   "outputs": [],
   "source": [
    "import requests"
   ]
  },
  {
   "cell_type": "code",
   "execution_count": 44,
   "id": "3b005582",
   "metadata": {},
   "outputs": [],
   "source": [
    "response=requests.get('https://en.wikipedia.org/wiki/Data_science')"
   ]
  },
  {
   "cell_type": "code",
   "execution_count": 45,
   "id": "da421b49",
   "metadata": {},
   "outputs": [
    {
     "data": {
      "text/plain": [
       "200"
      ]
     },
     "execution_count": 45,
     "metadata": {},
     "output_type": "execute_result"
    }
   ],
   "source": [
    "response.status_code"
   ]
  },
  {
   "cell_type": "raw",
   "id": "0c938743",
   "metadata": {},
   "source": [
    "Status_Code\n",
    "200: Everything went okay, and the ersult has been returned (if any).\n",
    "404: The resource you tried to access wasn’t found on the server."
   ]
  },
  {
   "cell_type": "code",
   "execution_count": 46,
   "id": "04d5219d",
   "metadata": {},
   "outputs": [],
   "source": [
    "response=requests.get('https://en.wikipedia.org/wiki/Data_science_does_not_exist')"
   ]
  },
  {
   "cell_type": "code",
   "execution_count": 47,
   "id": "cac05324",
   "metadata": {},
   "outputs": [
    {
     "data": {
      "text/plain": [
       "404"
      ]
     },
     "execution_count": 47,
     "metadata": {},
     "output_type": "execute_result"
    }
   ],
   "source": [
    "response.status_code"
   ]
  },
  {
   "cell_type": "markdown",
   "id": "4e8cfdd1",
   "metadata": {},
   "source": [
    "IO tools pd.read_csv(data,index_col,dtype,names)\n",
    "\n",
    "https://github.com/dsrscientist/dataset1/blob/master/empl/csv"
   ]
  },
  {
   "cell_type": "code",
   "execution_count": 48,
   "id": "94cd595a",
   "metadata": {},
   "outputs": [
    {
     "name": "stdout",
     "output_type": "stream",
     "text": [
      "    SNo    Name   Age       City  Country   Salary\n",
      "0     1     Tom  28.0    Toronto   Canada  20000.0\n",
      "1     2     Lee  31.0    Edmonto   Canada   3900.0\n",
      "2     3    Dave  34.0    Toronto   Canada   8000.0\n",
      "3     4    Anik  26.0   HongKong     Asia  66672.0\n",
      "4     5   kamal  30.0        NaN  America      NaN\n",
      "5     6    Geet   NaN   HongKong     Asia  30007.0\n",
      "6     7  Steven  43.0    BayArea  America   8300.0\n",
      "7     8     Ram  38.0  Hyderabad     Asia  54666.0\n",
      "8     9    hari  50.0    newyork  America  67666.0\n",
      "9    11    yami   NaN    newyork  America   8888.0\n",
      "10   12    Anik  26.0   HongKong     Asia  66672.0\n",
      "11   13   kamal  30.0        NaN  America  34344.0\n",
      "12   14    Geet  22.0   HongKong     Asia  30007.0\n",
      "13   15  Steven  43.0        NaN  America   8300.0\n",
      "14   16     Ram  38.0  Hyderabad     Asia  54666.0\n",
      "15   17    hari   NaN    newyork  America  67666.0\n",
      "16   18    yami  27.0    newyork  America   8888.0\n",
      "17   19     Lee  31.0    Edmonto   Canada      NaN\n",
      "18   20  Andrew  34.0      Congo   Africa  34432.0\n",
      "19   21   soham  32.0     Angola   Africa  34534.0\n",
      "20   22    Grig  26.0    Finland   Europe  33451.0\n",
      "21   23   Kiara  27.0     London   Europe      NaN\n"
     ]
    }
   ],
   "source": [
    "import pandas as pd\n",
    "#df=pd.read_csv(“c:\\myfolder\\empl.csv”)\n",
    "df=pd.read_csv(\"empl.csv\")\n",
    "print(df)"
   ]
  },
  {
   "cell_type": "code",
   "execution_count": 50,
   "id": "c9510d28",
   "metadata": {},
   "outputs": [
    {
     "data": {
      "text/html": [
       "<div>\n",
       "<style scoped>\n",
       "    .dataframe tbody tr th:only-of-type {\n",
       "        vertical-align: middle;\n",
       "    }\n",
       "\n",
       "    .dataframe tbody tr th {\n",
       "        vertical-align: top;\n",
       "    }\n",
       "\n",
       "    .dataframe thead th {\n",
       "        text-align: right;\n",
       "    }\n",
       "</style>\n",
       "<table border=\"1\" class=\"dataframe\">\n",
       "  <thead>\n",
       "    <tr style=\"text-align: right;\">\n",
       "      <th></th>\n",
       "      <th>Name</th>\n",
       "      <th>Age</th>\n",
       "      <th>City</th>\n",
       "      <th>Country</th>\n",
       "      <th>Salary</th>\n",
       "    </tr>\n",
       "    <tr>\n",
       "      <th>SNo</th>\n",
       "      <th></th>\n",
       "      <th></th>\n",
       "      <th></th>\n",
       "      <th></th>\n",
       "      <th></th>\n",
       "    </tr>\n",
       "  </thead>\n",
       "  <tbody>\n",
       "    <tr>\n",
       "      <th>1</th>\n",
       "      <td>Tom</td>\n",
       "      <td>28.0</td>\n",
       "      <td>Toronto</td>\n",
       "      <td>Canada</td>\n",
       "      <td>20000.0</td>\n",
       "    </tr>\n",
       "    <tr>\n",
       "      <th>2</th>\n",
       "      <td>Lee</td>\n",
       "      <td>31.0</td>\n",
       "      <td>Edmonto</td>\n",
       "      <td>Canada</td>\n",
       "      <td>3900.0</td>\n",
       "    </tr>\n",
       "    <tr>\n",
       "      <th>3</th>\n",
       "      <td>Dave</td>\n",
       "      <td>34.0</td>\n",
       "      <td>Toronto</td>\n",
       "      <td>Canada</td>\n",
       "      <td>8000.0</td>\n",
       "    </tr>\n",
       "    <tr>\n",
       "      <th>4</th>\n",
       "      <td>Anik</td>\n",
       "      <td>26.0</td>\n",
       "      <td>HongKong</td>\n",
       "      <td>Asia</td>\n",
       "      <td>66672.0</td>\n",
       "    </tr>\n",
       "    <tr>\n",
       "      <th>5</th>\n",
       "      <td>kamal</td>\n",
       "      <td>30.0</td>\n",
       "      <td>NaN</td>\n",
       "      <td>America</td>\n",
       "      <td>NaN</td>\n",
       "    </tr>\n",
       "    <tr>\n",
       "      <th>6</th>\n",
       "      <td>Geet</td>\n",
       "      <td>NaN</td>\n",
       "      <td>HongKong</td>\n",
       "      <td>Asia</td>\n",
       "      <td>30007.0</td>\n",
       "    </tr>\n",
       "    <tr>\n",
       "      <th>7</th>\n",
       "      <td>Steven</td>\n",
       "      <td>43.0</td>\n",
       "      <td>BayArea</td>\n",
       "      <td>America</td>\n",
       "      <td>8300.0</td>\n",
       "    </tr>\n",
       "    <tr>\n",
       "      <th>8</th>\n",
       "      <td>Ram</td>\n",
       "      <td>38.0</td>\n",
       "      <td>Hyderabad</td>\n",
       "      <td>Asia</td>\n",
       "      <td>54666.0</td>\n",
       "    </tr>\n",
       "    <tr>\n",
       "      <th>9</th>\n",
       "      <td>hari</td>\n",
       "      <td>50.0</td>\n",
       "      <td>newyork</td>\n",
       "      <td>America</td>\n",
       "      <td>67666.0</td>\n",
       "    </tr>\n",
       "    <tr>\n",
       "      <th>11</th>\n",
       "      <td>yami</td>\n",
       "      <td>NaN</td>\n",
       "      <td>newyork</td>\n",
       "      <td>America</td>\n",
       "      <td>8888.0</td>\n",
       "    </tr>\n",
       "    <tr>\n",
       "      <th>12</th>\n",
       "      <td>Anik</td>\n",
       "      <td>26.0</td>\n",
       "      <td>HongKong</td>\n",
       "      <td>Asia</td>\n",
       "      <td>66672.0</td>\n",
       "    </tr>\n",
       "    <tr>\n",
       "      <th>13</th>\n",
       "      <td>kamal</td>\n",
       "      <td>30.0</td>\n",
       "      <td>NaN</td>\n",
       "      <td>America</td>\n",
       "      <td>34344.0</td>\n",
       "    </tr>\n",
       "    <tr>\n",
       "      <th>14</th>\n",
       "      <td>Geet</td>\n",
       "      <td>22.0</td>\n",
       "      <td>HongKong</td>\n",
       "      <td>Asia</td>\n",
       "      <td>30007.0</td>\n",
       "    </tr>\n",
       "    <tr>\n",
       "      <th>15</th>\n",
       "      <td>Steven</td>\n",
       "      <td>43.0</td>\n",
       "      <td>NaN</td>\n",
       "      <td>America</td>\n",
       "      <td>8300.0</td>\n",
       "    </tr>\n",
       "    <tr>\n",
       "      <th>16</th>\n",
       "      <td>Ram</td>\n",
       "      <td>38.0</td>\n",
       "      <td>Hyderabad</td>\n",
       "      <td>Asia</td>\n",
       "      <td>54666.0</td>\n",
       "    </tr>\n",
       "    <tr>\n",
       "      <th>17</th>\n",
       "      <td>hari</td>\n",
       "      <td>NaN</td>\n",
       "      <td>newyork</td>\n",
       "      <td>America</td>\n",
       "      <td>67666.0</td>\n",
       "    </tr>\n",
       "    <tr>\n",
       "      <th>18</th>\n",
       "      <td>yami</td>\n",
       "      <td>27.0</td>\n",
       "      <td>newyork</td>\n",
       "      <td>America</td>\n",
       "      <td>8888.0</td>\n",
       "    </tr>\n",
       "    <tr>\n",
       "      <th>19</th>\n",
       "      <td>Lee</td>\n",
       "      <td>31.0</td>\n",
       "      <td>Edmonto</td>\n",
       "      <td>Canada</td>\n",
       "      <td>NaN</td>\n",
       "    </tr>\n",
       "    <tr>\n",
       "      <th>20</th>\n",
       "      <td>Andrew</td>\n",
       "      <td>34.0</td>\n",
       "      <td>Congo</td>\n",
       "      <td>Africa</td>\n",
       "      <td>34432.0</td>\n",
       "    </tr>\n",
       "    <tr>\n",
       "      <th>21</th>\n",
       "      <td>soham</td>\n",
       "      <td>32.0</td>\n",
       "      <td>Angola</td>\n",
       "      <td>Africa</td>\n",
       "      <td>34534.0</td>\n",
       "    </tr>\n",
       "    <tr>\n",
       "      <th>22</th>\n",
       "      <td>Grig</td>\n",
       "      <td>26.0</td>\n",
       "      <td>Finland</td>\n",
       "      <td>Europe</td>\n",
       "      <td>33451.0</td>\n",
       "    </tr>\n",
       "    <tr>\n",
       "      <th>23</th>\n",
       "      <td>Kiara</td>\n",
       "      <td>27.0</td>\n",
       "      <td>London</td>\n",
       "      <td>Europe</td>\n",
       "      <td>NaN</td>\n",
       "    </tr>\n",
       "  </tbody>\n",
       "</table>\n",
       "</div>"
      ],
      "text/plain": [
       "       Name   Age       City  Country   Salary\n",
       "SNo                                           \n",
       "1       Tom  28.0    Toronto   Canada  20000.0\n",
       "2       Lee  31.0    Edmonto   Canada   3900.0\n",
       "3      Dave  34.0    Toronto   Canada   8000.0\n",
       "4      Anik  26.0   HongKong     Asia  66672.0\n",
       "5     kamal  30.0        NaN  America      NaN\n",
       "6      Geet   NaN   HongKong     Asia  30007.0\n",
       "7    Steven  43.0    BayArea  America   8300.0\n",
       "8       Ram  38.0  Hyderabad     Asia  54666.0\n",
       "9      hari  50.0    newyork  America  67666.0\n",
       "11     yami   NaN    newyork  America   8888.0\n",
       "12     Anik  26.0   HongKong     Asia  66672.0\n",
       "13    kamal  30.0        NaN  America  34344.0\n",
       "14     Geet  22.0   HongKong     Asia  30007.0\n",
       "15   Steven  43.0        NaN  America   8300.0\n",
       "16      Ram  38.0  Hyderabad     Asia  54666.0\n",
       "17     hari   NaN    newyork  America  67666.0\n",
       "18     yami  27.0    newyork  America   8888.0\n",
       "19      Lee  31.0    Edmonto   Canada      NaN\n",
       "20   Andrew  34.0      Congo   Africa  34432.0\n",
       "21    soham  32.0     Angola   Africa  34534.0\n",
       "22     Grig  26.0    Finland   Europe  33451.0\n",
       "23    Kiara  27.0     London   Europe      NaN"
      ]
     },
     "execution_count": 50,
     "metadata": {},
     "output_type": "execute_result"
    }
   ],
   "source": [
    "df=pd.read_csv(\"empl.csv\", index_col=['SNo'])\n",
    "df"
   ]
  },
  {
   "cell_type": "code",
   "execution_count": 55,
   "id": "4e2ad65c",
   "metadata": {},
   "outputs": [
    {
     "name": "stdout",
     "output_type": "stream",
     "text": [
      "SNo          int64\n",
      "Name        object\n",
      "Age        float64\n",
      "City        object\n",
      "Country     object\n",
      "Salary     float64\n",
      "dtype: object\n"
     ]
    },
    {
     "data": {
      "text/html": [
       "<div>\n",
       "<style scoped>\n",
       "    .dataframe tbody tr th:only-of-type {\n",
       "        vertical-align: middle;\n",
       "    }\n",
       "\n",
       "    .dataframe tbody tr th {\n",
       "        vertical-align: top;\n",
       "    }\n",
       "\n",
       "    .dataframe thead th {\n",
       "        text-align: right;\n",
       "    }\n",
       "</style>\n",
       "<table border=\"1\" class=\"dataframe\">\n",
       "  <thead>\n",
       "    <tr style=\"text-align: right;\">\n",
       "      <th></th>\n",
       "      <th>SNo</th>\n",
       "      <th>Name</th>\n",
       "      <th>Age</th>\n",
       "      <th>City</th>\n",
       "      <th>Country</th>\n",
       "      <th>Salary</th>\n",
       "    </tr>\n",
       "  </thead>\n",
       "  <tbody>\n",
       "    <tr>\n",
       "      <th>0</th>\n",
       "      <td>1</td>\n",
       "      <td>Tom</td>\n",
       "      <td>28.0</td>\n",
       "      <td>Toronto</td>\n",
       "      <td>Canada</td>\n",
       "      <td>20000.0</td>\n",
       "    </tr>\n",
       "    <tr>\n",
       "      <th>1</th>\n",
       "      <td>2</td>\n",
       "      <td>Lee</td>\n",
       "      <td>31.0</td>\n",
       "      <td>Edmonto</td>\n",
       "      <td>Canada</td>\n",
       "      <td>3900.0</td>\n",
       "    </tr>\n",
       "    <tr>\n",
       "      <th>2</th>\n",
       "      <td>3</td>\n",
       "      <td>Dave</td>\n",
       "      <td>34.0</td>\n",
       "      <td>Toronto</td>\n",
       "      <td>Canada</td>\n",
       "      <td>8000.0</td>\n",
       "    </tr>\n",
       "    <tr>\n",
       "      <th>3</th>\n",
       "      <td>4</td>\n",
       "      <td>Anik</td>\n",
       "      <td>26.0</td>\n",
       "      <td>HongKong</td>\n",
       "      <td>Asia</td>\n",
       "      <td>66672.0</td>\n",
       "    </tr>\n",
       "    <tr>\n",
       "      <th>4</th>\n",
       "      <td>5</td>\n",
       "      <td>kamal</td>\n",
       "      <td>30.0</td>\n",
       "      <td>NaN</td>\n",
       "      <td>America</td>\n",
       "      <td>NaN</td>\n",
       "    </tr>\n",
       "    <tr>\n",
       "      <th>5</th>\n",
       "      <td>6</td>\n",
       "      <td>Geet</td>\n",
       "      <td>NaN</td>\n",
       "      <td>HongKong</td>\n",
       "      <td>Asia</td>\n",
       "      <td>30007.0</td>\n",
       "    </tr>\n",
       "    <tr>\n",
       "      <th>6</th>\n",
       "      <td>7</td>\n",
       "      <td>Steven</td>\n",
       "      <td>43.0</td>\n",
       "      <td>BayArea</td>\n",
       "      <td>America</td>\n",
       "      <td>8300.0</td>\n",
       "    </tr>\n",
       "    <tr>\n",
       "      <th>7</th>\n",
       "      <td>8</td>\n",
       "      <td>Ram</td>\n",
       "      <td>38.0</td>\n",
       "      <td>Hyderabad</td>\n",
       "      <td>Asia</td>\n",
       "      <td>54666.0</td>\n",
       "    </tr>\n",
       "    <tr>\n",
       "      <th>8</th>\n",
       "      <td>9</td>\n",
       "      <td>hari</td>\n",
       "      <td>50.0</td>\n",
       "      <td>newyork</td>\n",
       "      <td>America</td>\n",
       "      <td>67666.0</td>\n",
       "    </tr>\n",
       "    <tr>\n",
       "      <th>9</th>\n",
       "      <td>11</td>\n",
       "      <td>yami</td>\n",
       "      <td>NaN</td>\n",
       "      <td>newyork</td>\n",
       "      <td>America</td>\n",
       "      <td>8888.0</td>\n",
       "    </tr>\n",
       "    <tr>\n",
       "      <th>10</th>\n",
       "      <td>12</td>\n",
       "      <td>Anik</td>\n",
       "      <td>26.0</td>\n",
       "      <td>HongKong</td>\n",
       "      <td>Asia</td>\n",
       "      <td>66672.0</td>\n",
       "    </tr>\n",
       "    <tr>\n",
       "      <th>11</th>\n",
       "      <td>13</td>\n",
       "      <td>kamal</td>\n",
       "      <td>30.0</td>\n",
       "      <td>NaN</td>\n",
       "      <td>America</td>\n",
       "      <td>34344.0</td>\n",
       "    </tr>\n",
       "    <tr>\n",
       "      <th>12</th>\n",
       "      <td>14</td>\n",
       "      <td>Geet</td>\n",
       "      <td>22.0</td>\n",
       "      <td>HongKong</td>\n",
       "      <td>Asia</td>\n",
       "      <td>30007.0</td>\n",
       "    </tr>\n",
       "    <tr>\n",
       "      <th>13</th>\n",
       "      <td>15</td>\n",
       "      <td>Steven</td>\n",
       "      <td>43.0</td>\n",
       "      <td>NaN</td>\n",
       "      <td>America</td>\n",
       "      <td>8300.0</td>\n",
       "    </tr>\n",
       "    <tr>\n",
       "      <th>14</th>\n",
       "      <td>16</td>\n",
       "      <td>Ram</td>\n",
       "      <td>38.0</td>\n",
       "      <td>Hyderabad</td>\n",
       "      <td>Asia</td>\n",
       "      <td>54666.0</td>\n",
       "    </tr>\n",
       "    <tr>\n",
       "      <th>15</th>\n",
       "      <td>17</td>\n",
       "      <td>hari</td>\n",
       "      <td>NaN</td>\n",
       "      <td>newyork</td>\n",
       "      <td>America</td>\n",
       "      <td>67666.0</td>\n",
       "    </tr>\n",
       "    <tr>\n",
       "      <th>16</th>\n",
       "      <td>18</td>\n",
       "      <td>yami</td>\n",
       "      <td>27.0</td>\n",
       "      <td>newyork</td>\n",
       "      <td>America</td>\n",
       "      <td>8888.0</td>\n",
       "    </tr>\n",
       "    <tr>\n",
       "      <th>17</th>\n",
       "      <td>19</td>\n",
       "      <td>Lee</td>\n",
       "      <td>31.0</td>\n",
       "      <td>Edmonto</td>\n",
       "      <td>Canada</td>\n",
       "      <td>NaN</td>\n",
       "    </tr>\n",
       "    <tr>\n",
       "      <th>18</th>\n",
       "      <td>20</td>\n",
       "      <td>Andrew</td>\n",
       "      <td>34.0</td>\n",
       "      <td>Congo</td>\n",
       "      <td>Africa</td>\n",
       "      <td>34432.0</td>\n",
       "    </tr>\n",
       "    <tr>\n",
       "      <th>19</th>\n",
       "      <td>21</td>\n",
       "      <td>soham</td>\n",
       "      <td>32.0</td>\n",
       "      <td>Angola</td>\n",
       "      <td>Africa</td>\n",
       "      <td>34534.0</td>\n",
       "    </tr>\n",
       "    <tr>\n",
       "      <th>20</th>\n",
       "      <td>22</td>\n",
       "      <td>Grig</td>\n",
       "      <td>26.0</td>\n",
       "      <td>Finland</td>\n",
       "      <td>Europe</td>\n",
       "      <td>33451.0</td>\n",
       "    </tr>\n",
       "    <tr>\n",
       "      <th>21</th>\n",
       "      <td>23</td>\n",
       "      <td>Kiara</td>\n",
       "      <td>27.0</td>\n",
       "      <td>London</td>\n",
       "      <td>Europe</td>\n",
       "      <td>NaN</td>\n",
       "    </tr>\n",
       "  </tbody>\n",
       "</table>\n",
       "</div>"
      ],
      "text/plain": [
       "    SNo    Name   Age       City  Country   Salary\n",
       "0     1     Tom  28.0    Toronto   Canada  20000.0\n",
       "1     2     Lee  31.0    Edmonto   Canada   3900.0\n",
       "2     3    Dave  34.0    Toronto   Canada   8000.0\n",
       "3     4    Anik  26.0   HongKong     Asia  66672.0\n",
       "4     5   kamal  30.0        NaN  America      NaN\n",
       "5     6    Geet   NaN   HongKong     Asia  30007.0\n",
       "6     7  Steven  43.0    BayArea  America   8300.0\n",
       "7     8     Ram  38.0  Hyderabad     Asia  54666.0\n",
       "8     9    hari  50.0    newyork  America  67666.0\n",
       "9    11    yami   NaN    newyork  America   8888.0\n",
       "10   12    Anik  26.0   HongKong     Asia  66672.0\n",
       "11   13   kamal  30.0        NaN  America  34344.0\n",
       "12   14    Geet  22.0   HongKong     Asia  30007.0\n",
       "13   15  Steven  43.0        NaN  America   8300.0\n",
       "14   16     Ram  38.0  Hyderabad     Asia  54666.0\n",
       "15   17    hari   NaN    newyork  America  67666.0\n",
       "16   18    yami  27.0    newyork  America   8888.0\n",
       "17   19     Lee  31.0    Edmonto   Canada      NaN\n",
       "18   20  Andrew  34.0      Congo   Africa  34432.0\n",
       "19   21   soham  32.0     Angola   Africa  34534.0\n",
       "20   22    Grig  26.0    Finland   Europe  33451.0\n",
       "21   23   Kiara  27.0     London   Europe      NaN"
      ]
     },
     "execution_count": 55,
     "metadata": {},
     "output_type": "execute_result"
    }
   ],
   "source": [
    "import numpy as np\n",
    "df = pd.read_csv(\"empl.csv\", dtype={'Salary': np.float64})\n",
    "print(df.dtypes)\n",
    "df"
   ]
  },
  {
   "cell_type": "code",
   "execution_count": null,
   "id": "62e1f985",
   "metadata": {},
   "outputs": [],
   "source": []
  }
 ],
 "metadata": {
  "kernelspec": {
   "display_name": "Python 3 (ipykernel)",
   "language": "python",
   "name": "python3"
  },
  "language_info": {
   "codemirror_mode": {
    "name": "ipython",
    "version": 3
   },
   "file_extension": ".py",
   "mimetype": "text/x-python",
   "name": "python",
   "nbconvert_exporter": "python",
   "pygments_lexer": "ipython3",
   "version": "3.9.12"
  }
 },
 "nbformat": 4,
 "nbformat_minor": 5
}
