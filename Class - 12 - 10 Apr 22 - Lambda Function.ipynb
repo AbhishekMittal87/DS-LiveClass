{
 "cells": [
  {
   "cell_type": "markdown",
   "id": "45663b7c",
   "metadata": {},
   "source": [
    "Lambda"
   ]
  },
  {
   "cell_type": "code",
   "execution_count": 1,
   "id": "9d02743a",
   "metadata": {},
   "outputs": [
    {
     "data": {
      "text/plain": [
       "101.12"
      ]
     },
     "execution_count": 1,
     "metadata": {},
     "output_type": "execute_result"
    }
   ],
   "source": [
    "list1=[1,2,3,4,5]\n",
    "lambda x:x+2,list1\n",
    "#lambda with Fahrenheit\n",
    "F = lambda  x:(9/5)*x +32;\n",
    "F(38.4)"
   ]
  },
  {
   "cell_type": "code",
   "execution_count": 2,
   "id": "d48060df",
   "metadata": {},
   "outputs": [
    {
     "data": {
      "text/plain": [
       "<map at 0x1c168d76b20>"
      ]
     },
     "execution_count": 2,
     "metadata": {},
     "output_type": "execute_result"
    }
   ],
   "source": [
    "#Map in lambda - it applies on list\n",
    "mylist = [1,2,3,4]\n",
    "#map(lambda x : x*2, mylist)\n",
    "map(lambda x:x*2, mylist)"
   ]
  },
  {
   "cell_type": "code",
   "execution_count": 3,
   "id": "09fe0e05",
   "metadata": {},
   "outputs": [
    {
     "data": {
      "text/plain": [
       "[2, 4, 6, 8]"
      ]
     },
     "execution_count": 3,
     "metadata": {},
     "output_type": "execute_result"
    }
   ],
   "source": [
    "list(map(lambda x:x*2,mylist))"
   ]
  },
  {
   "cell_type": "code",
   "execution_count": 4,
   "id": "666db0d6",
   "metadata": {},
   "outputs": [
    {
     "name": "stdout",
     "output_type": "stream",
     "text": [
      "[95.36000000000001, 97.7, 99.14, 100.4, 103.64]\n"
     ]
    }
   ],
   "source": [
    "c=[35.2,36.5,37.3,38,39.8]\n",
    "F=list(map(lambda x:(9/5)*x +32,c))\n",
    "print (F)"
   ]
  },
  {
   "cell_type": "code",
   "execution_count": 5,
   "id": "f011fab2",
   "metadata": {},
   "outputs": [
    {
     "name": "stdout",
     "output_type": "stream",
     "text": [
      "[35.20000000000001, 36.5, 37.300000000000004, 38.00000000000001, 39.800000000000004]\n"
     ]
    }
   ],
   "source": [
    "C=list (map(lambda x : (5/9)*(x-32), F))\n",
    "print(C)"
   ]
  },
  {
   "cell_type": "code",
   "execution_count": 6,
   "id": "c1744580",
   "metadata": {},
   "outputs": [
    {
     "data": {
      "text/plain": [
       "[35.2, 36.5, 37.3, 38.0, 39.8]"
      ]
     },
     "execution_count": 6,
     "metadata": {},
     "output_type": "execute_result"
    }
   ],
   "source": [
    "newClist=[round(x,2) for x in C]\n",
    "newClist"
   ]
  },
  {
   "cell_type": "code",
   "execution_count": 7,
   "id": "897375e3",
   "metadata": {},
   "outputs": [
    {
     "data": {
      "text/plain": [
       "['35.20', '36.50', '37.30', '38.00', '39.80']"
      ]
     },
     "execution_count": 7,
     "metadata": {},
     "output_type": "execute_result"
    }
   ],
   "source": [
    "Newlist = ['%.2f' % j for j in C]\n",
    "Newlist"
   ]
  },
  {
   "cell_type": "code",
   "execution_count": 8,
   "id": "43791cae",
   "metadata": {},
   "outputs": [
    {
     "data": {
      "text/plain": [
       "['35.200', '36.500', '37.300', '38.000', '39.800']"
      ]
     },
     "execution_count": 8,
     "metadata": {},
     "output_type": "execute_result"
    }
   ],
   "source": [
    "Newlist = ['%.3f' % j for j in C]\n",
    "Newlist"
   ]
  },
  {
   "cell_type": "markdown",
   "id": "22437745",
   "metadata": {},
   "source": [
    "Filter in Lambda"
   ]
  },
  {
   "cell_type": "code",
   "execution_count": 9,
   "id": "4024beaa",
   "metadata": {},
   "outputs": [
    {
     "data": {
      "text/plain": [
       "[3, 4, 5]"
      ]
     },
     "execution_count": 9,
     "metadata": {},
     "output_type": "execute_result"
    }
   ],
   "source": [
    "#Filter in Lambda\n",
    "mylist = [1,2,3,4,5]\n",
    "list(filter(lambda x : x >2, mylist))"
   ]
  },
  {
   "cell_type": "code",
   "execution_count": 10,
   "id": "7ecee0ab",
   "metadata": {},
   "outputs": [
    {
     "data": {
      "text/plain": [
       "[0, 2, 4, 6, 8, 10]"
      ]
     },
     "execution_count": 10,
     "metadata": {},
     "output_type": "execute_result"
    }
   ],
   "source": [
    "even= lambda x: x%2 == 0\n",
    "list(filter(even, range(11)))"
   ]
  },
  {
   "cell_type": "code",
   "execution_count": 11,
   "id": "ca9da95d",
   "metadata": {},
   "outputs": [
    {
     "data": {
      "text/plain": [
       "[0, 2, 4, 6, 8, 10]"
      ]
     },
     "execution_count": 11,
     "metadata": {},
     "output_type": "execute_result"
    }
   ],
   "source": [
    "[x for x in range(11) if x%2 == 0]"
   ]
  },
  {
   "cell_type": "code",
   "execution_count": 12,
   "id": "4e611aeb",
   "metadata": {},
   "outputs": [
    {
     "ename": "NameError",
     "evalue": "name 'i' is not defined",
     "output_type": "error",
     "traceback": [
      "\u001b[1;31m---------------------------------------------------------------------------\u001b[0m",
      "\u001b[1;31mNameError\u001b[0m                                 Traceback (most recent call last)",
      "Input \u001b[1;32mIn [12]\u001b[0m, in \u001b[0;36m<cell line: 2>\u001b[1;34m()\u001b[0m\n\u001b[0;32m      1\u001b[0m \u001b[38;5;66;03m#i=0\u001b[39;00m\n\u001b[1;32m----> 2\u001b[0m \u001b[38;5;28;01mwhile\u001b[39;00m(\u001b[43mi\u001b[49m\u001b[38;5;241m<\u001b[39m\u001b[38;5;241m10\u001b[39m):\n\u001b[0;32m      3\u001b[0m     \u001b[38;5;28mprint\u001b[39m(i)\n",
      "\u001b[1;31mNameError\u001b[0m: name 'i' is not defined"
     ]
    }
   ],
   "source": [
    "#i=0\n",
    "while(i<10):\n",
    "    print(i)"
   ]
  },
  {
   "cell_type": "code",
   "execution_count": 13,
   "id": "596fbbb3",
   "metadata": {},
   "outputs": [
    {
     "name": "stdout",
     "output_type": "stream",
     "text": [
      "0\n",
      "1\n",
      "2\n",
      "3\n",
      "4\n",
      "5\n",
      "6\n",
      "7\n",
      "8\n",
      "9\n"
     ]
    }
   ],
   "source": [
    "i=0\n",
    "while(i<10):\n",
    "    print(i)\n",
    "    i=i+1"
   ]
  },
  {
   "cell_type": "markdown",
   "id": "e5f2650b",
   "metadata": {},
   "source": [
    "Exceptions"
   ]
  },
  {
   "cell_type": "markdown",
   "id": "0176060a",
   "metadata": {},
   "source": [
    "An exception can be defined as an unusual condition in a program resulting in the interruption in the flow of the program.\n",
    "Whenever an exception occusrs, the program stops the execution, and tjhus the further code is not executed. Therefore, an exception is the run-time errors that are unable to handle to python script. An exception is a python object that represents an error\n",
    "\n",
    "Python provides a way to handle the exception so that the code can be executed without any interruption. If we do not handle the exception, the interpreter doesn’t execute all the code that exists after the exception.\n",
    "Few errors are as below:\n",
    "\n",
    "ZeroDivisionError: Occurs when a number is divided by zero.\n",
    "\n",
    "NameError: It occurs when a name is not found. It may be local or global.\n",
    "\n",
    "IndentationError: If incorrect indentation is given.\n",
    "\n",
    "IoError: It occurs when input output operation fails."
   ]
  },
  {
   "cell_type": "code",
   "execution_count": 14,
   "id": "cd0d7320",
   "metadata": {},
   "outputs": [
    {
     "ename": "ZeroDivisionError",
     "evalue": "division by zero",
     "output_type": "error",
     "traceback": [
      "\u001b[1;31m---------------------------------------------------------------------------\u001b[0m",
      "\u001b[1;31mZeroDivisionError\u001b[0m                         Traceback (most recent call last)",
      "Input \u001b[1;32mIn [14]\u001b[0m, in \u001b[0;36m<cell line: 1>\u001b[1;34m()\u001b[0m\n\u001b[1;32m----> 1\u001b[0m \u001b[38;5;241;43m10\u001b[39;49m\u001b[38;5;241;43m/\u001b[39;49m\u001b[38;5;241;43m0\u001b[39;49m\n",
      "\u001b[1;31mZeroDivisionError\u001b[0m: division by zero"
     ]
    }
   ],
   "source": [
    "10/0"
   ]
  },
  {
   "cell_type": "code",
   "execution_count": 15,
   "id": "d6483d19",
   "metadata": {},
   "outputs": [
    {
     "ename": "NameError",
     "evalue": "name 'number' is not defined",
     "output_type": "error",
     "traceback": [
      "\u001b[1;31m---------------------------------------------------------------------------\u001b[0m",
      "\u001b[1;31mNameError\u001b[0m                                 Traceback (most recent call last)",
      "Input \u001b[1;32mIn [15]\u001b[0m, in \u001b[0;36m<cell line: 1>\u001b[1;34m()\u001b[0m\n\u001b[1;32m----> 1\u001b[0m \u001b[38;5;241m8\u001b[39m\u001b[38;5;241m+\u001b[39m\u001b[43mnumber\u001b[49m\u001b[38;5;241m*\u001b[39m\u001b[38;5;241m2\u001b[39m\n",
      "\u001b[1;31mNameError\u001b[0m: name 'number' is not defined"
     ]
    }
   ],
   "source": [
    "8+number*2"
   ]
  },
  {
   "cell_type": "code",
   "execution_count": 16,
   "id": "039bd059",
   "metadata": {},
   "outputs": [
    {
     "ename": "TypeError",
     "evalue": "can only concatenate str (not \"int\") to str",
     "output_type": "error",
     "traceback": [
      "\u001b[1;31m---------------------------------------------------------------------------\u001b[0m",
      "\u001b[1;31mTypeError\u001b[0m                                 Traceback (most recent call last)",
      "Input \u001b[1;32mIn [16]\u001b[0m, in \u001b[0;36m<cell line: 1>\u001b[1;34m()\u001b[0m\n\u001b[1;32m----> 1\u001b[0m \u001b[38;5;124;43m'\u001b[39;49m\u001b[38;5;124;43m9\u001b[39;49m\u001b[38;5;124;43m'\u001b[39;49m\u001b[38;5;241;43m+\u001b[39;49m\u001b[38;5;241;43m9\u001b[39;49m\n",
      "\u001b[1;31mTypeError\u001b[0m: can only concatenate str (not \"int\") to str"
     ]
    }
   ],
   "source": [
    "'9'+9"
   ]
  },
  {
   "cell_type": "markdown",
   "id": "d3a237ac",
   "metadata": {},
   "source": [
    "Handling Exceptions"
   ]
  },
  {
   "cell_type": "markdown",
   "id": "b5f8c06d",
   "metadata": {},
   "source": [
    "The try statement works as follows.\n",
    "\n",
    "First, the try clause (the statement(s) between the try and except keywords) is executed.\n",
    "\n",
    "If no exception occurs, the except clause is skipped and execution of the try statement is finished.\n",
    "\n",
    "If an exception occursduring execution of the try clause, the rest of the clause is skipped.\n",
    "Then if its type matches the exception named after the except keyword, the except clause is executed, and then execution continues after the try statement."
   ]
  },
  {
   "cell_type": "code",
   "execution_count": 17,
   "id": "2ee4b68e",
   "metadata": {},
   "outputs": [
    {
     "name": "stdout",
     "output_type": "stream",
     "text": [
      "Handling run time error: division by zero\n"
     ]
    }
   ],
   "source": [
    "try:\n",
    "    79/0\n",
    "except ZeroDivisionError as err:\n",
    "    print(\"Handling run time error:\", err)"
   ]
  },
  {
   "cell_type": "code",
   "execution_count": 18,
   "id": "aa2138f1",
   "metadata": {},
   "outputs": [
    {
     "name": "stdout",
     "output_type": "stream",
     "text": [
      "Handling run time error: name 'm' is not defined\n"
     ]
    }
   ],
   "source": [
    "try:\n",
    "    8+m*2\n",
    "except NameError as err:\n",
    "    print('Handling run time error:', err)"
   ]
  },
  {
   "cell_type": "code",
   "execution_count": 19,
   "id": "a9cc5946",
   "metadata": {},
   "outputs": [],
   "source": [
    "def divfunc():\n",
    "    a=80\n",
    "    b=0\n",
    "    c=a/b\n",
    "    print(\"The value of c=\",c)"
   ]
  },
  {
   "cell_type": "code",
   "execution_count": 22,
   "id": "dc7358c3",
   "metadata": {},
   "outputs": [
    {
     "name": "stdout",
     "output_type": "stream",
     "text": [
      "Handling run time error: division by zero\n"
     ]
    }
   ],
   "source": [
    "try:\n",
    "    divfunc()\n",
    "except ZeroDivisionError as err:\n",
    "    print('Handling run time error:', err)"
   ]
  },
  {
   "cell_type": "code",
   "execution_count": 23,
   "id": "85efd581",
   "metadata": {},
   "outputs": [],
   "source": [
    "def divide(x,y):\n",
    "    try:\n",
    "        result=x/y\n",
    "    except ZeroDivisionError:\n",
    "        print(\"division by zero\")\n",
    "    else:\n",
    "        print(\"result is\", result)\n",
    "    finally:\n",
    "        print(\"executing finally clause\")"
   ]
  },
  {
   "cell_type": "code",
   "execution_count": 24,
   "id": "fc4a5b8b",
   "metadata": {},
   "outputs": [
    {
     "name": "stdout",
     "output_type": "stream",
     "text": [
      "result is 5.0\n",
      "executing finally clause\n"
     ]
    }
   ],
   "source": [
    "divide(25,5)"
   ]
  },
  {
   "cell_type": "code",
   "execution_count": 25,
   "id": "e8cd73cd",
   "metadata": {},
   "outputs": [
    {
     "name": "stdout",
     "output_type": "stream",
     "text": [
      "division by zero\n",
      "executing finally clause\n"
     ]
    }
   ],
   "source": [
    "divide(30,0)"
   ]
  },
  {
   "cell_type": "code",
   "execution_count": null,
   "id": "e39de0f9",
   "metadata": {},
   "outputs": [],
   "source": []
  },
  {
   "cell_type": "code",
   "execution_count": null,
   "id": "c8c6f8fc",
   "metadata": {},
   "outputs": [],
   "source": []
  },
  {
   "cell_type": "code",
   "execution_count": null,
   "id": "29ac4ba0",
   "metadata": {},
   "outputs": [],
   "source": []
  }
 ],
 "metadata": {
  "kernelspec": {
   "display_name": "Python 3 (ipykernel)",
   "language": "python",
   "name": "python3"
  },
  "language_info": {
   "codemirror_mode": {
    "name": "ipython",
    "version": 3
   },
   "file_extension": ".py",
   "mimetype": "text/x-python",
   "name": "python",
   "nbconvert_exporter": "python",
   "pygments_lexer": "ipython3",
   "version": "3.9.12"
  }
 },
 "nbformat": 4,
 "nbformat_minor": 5
}
