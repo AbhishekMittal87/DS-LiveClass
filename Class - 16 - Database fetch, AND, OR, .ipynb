{
 "cells": [
  {
   "cell_type": "code",
   "execution_count": null,
   "id": "74acf96a",
   "metadata": {},
   "outputs": [],
   "source": [
    "#FETCH THE DATA FROM STUDENT DATABASE\n",
    "import sqlite3"
   ]
  },
  {
   "cell_type": "code",
   "execution_count": null,
   "id": "9f6752c7",
   "metadata": {},
   "outputs": [],
   "source": [
    "#First connection object\n",
    "db=sqlite3.connect(\"student_database.db\")"
   ]
  },
  {
   "cell_type": "code",
   "execution_count": null,
   "id": "070bd378",
   "metadata": {},
   "outputs": [],
   "source": [
    "#create cursor object from connection\n",
    "cur=db.cursor()"
   ]
  },
  {
   "cell_type": "code",
   "execution_count": null,
   "id": "bfc8c411",
   "metadata": {},
   "outputs": [],
   "source": [
    "results=cur.execute(\"select * from student\")\n",
    "for row in results:\n",
    "    print(row)"
   ]
  },
  {
   "cell_type": "code",
   "execution_count": null,
   "id": "c096b2e3",
   "metadata": {},
   "outputs": [],
   "source": [
    "cur.execute(\"insert into student(id,name,marks)values(9,'Andrew',70)\")\n",
    "db.commit()"
   ]
  },
  {
   "cell_type": "code",
   "execution_count": null,
   "id": "5ae79a9b",
   "metadata": {},
   "outputs": [],
   "source": [
    "results=cur.execute(\"select * from student\")\n",
    "for row in results:\n",
    "    print(row)"
   ]
  },
  {
   "cell_type": "code",
   "execution_count": null,
   "id": "63411ddd",
   "metadata": {},
   "outputs": [],
   "source": [
    "cur.execute(\"insert into student values(10,'Andrew',70)\")\n",
    "db.commit()"
   ]
  },
  {
   "cell_type": "code",
   "execution_count": null,
   "id": "32d6cbdc",
   "metadata": {},
   "outputs": [],
   "source": [
    "results=cur.execute(\"select * from student\")\n",
    "for row in results:\n",
    "    print(row)"
   ]
  },
  {
   "cell_type": "code",
   "execution_count": null,
   "id": "616fc635",
   "metadata": {},
   "outputs": [],
   "source": [
    "results=cur.execute(\"select * from student where id=1\")\n",
    "for row in results:\n",
    "    print(row)"
   ]
  },
  {
   "cell_type": "code",
   "execution_count": null,
   "id": "596bbb98",
   "metadata": {},
   "outputs": [],
   "source": [
    "results=cur.execute(\"select * from student where id=2\")\n",
    "for row in results:\n",
    "    print(row)"
   ]
  },
  {
   "cell_type": "code",
   "execution_count": null,
   "id": "cfa1297e",
   "metadata": {},
   "outputs": [],
   "source": [
    "results=cur.execute(\"select * from student where id=3\")\n",
    "for row in results:\n",
    "    print(row)"
   ]
  },
  {
   "cell_type": "code",
   "execution_count": null,
   "id": "8f50a43d",
   "metadata": {},
   "outputs": [],
   "source": [
    "results=cur.execute(\"select * from student where id=4\")\n",
    "for row in results:\n",
    "    print(row)"
   ]
  },
  {
   "cell_type": "code",
   "execution_count": null,
   "id": "a4e2e6f6",
   "metadata": {},
   "outputs": [],
   "source": [
    "results=cur.execute(\"select * from student where id=5\")\n",
    "for row in results:\n",
    "    print(row)"
   ]
  },
  {
   "cell_type": "code",
   "execution_count": null,
   "id": "54b6823e",
   "metadata": {},
   "outputs": [],
   "source": [
    "results=cur.execute(\"select * from student where id=6\")\n",
    "for row in results:\n",
    "    print(row)"
   ]
  },
  {
   "cell_type": "code",
   "execution_count": null,
   "id": "15f210e9",
   "metadata": {},
   "outputs": [],
   "source": [
    "results=cur.execute(\"Select * from student limit 3\")\n",
    "for i in results:\n",
    "    print(i)"
   ]
  },
  {
   "cell_type": "code",
   "execution_count": null,
   "id": "72c81146",
   "metadata": {},
   "outputs": [],
   "source": [
    "results=cur.execute(\"Select name from student where id=2\")\n",
    "for i in results:\n",
    "    print(i)"
   ]
  },
  {
   "cell_type": "code",
   "execution_count": null,
   "id": "b2e9b039",
   "metadata": {},
   "outputs": [],
   "source": [
    "results=cur.execute(\"Select marks from student where id=2\")\n",
    "for i in results:\n",
    "    print(i)"
   ]
  },
  {
   "cell_type": "code",
   "execution_count": null,
   "id": "bb3a3058",
   "metadata": {},
   "outputs": [],
   "source": [
    "results=cur.execute(\"Select * from student where name='John'\")\n",
    "for i in results:\n",
    "    print(i)"
   ]
  },
  {
   "cell_type": "code",
   "execution_count": null,
   "id": "ce86fb7c",
   "metadata": {},
   "outputs": [],
   "source": [
    "results=cur.execute(\"Select marks from student where name='John'\")\n",
    "for i in results:\n",
    "    print(i)"
   ]
  },
  {
   "cell_type": "code",
   "execution_count": null,
   "id": "29efaf83",
   "metadata": {},
   "outputs": [],
   "source": [
    "results=cur.execute(\"Select * from student where marks>60 and marks<90\")\n",
    "for i in results:\n",
    "    print(i)"
   ]
  },
  {
   "cell_type": "code",
   "execution_count": null,
   "id": "370ee1d1",
   "metadata": {},
   "outputs": [],
   "source": [
    "results=cur.execute(\"Select * from student where marks>40 and marks<60\")\n",
    "for i in results:\n",
    "    print(i)"
   ]
  },
  {
   "cell_type": "code",
   "execution_count": null,
   "id": "800337ed",
   "metadata": {},
   "outputs": [],
   "source": [
    "results=cur.execute(\"Select*from student\")\n",
    "for i in results:\n",
    "    print(i)"
   ]
  },
  {
   "cell_type": "code",
   "execution_count": null,
   "id": "1963a14a",
   "metadata": {},
   "outputs": [],
   "source": [
    "#fetchall will display all rows\n",
    "results=cur.execute('Select * from student')\n",
    "results.fetchall()"
   ]
  },
  {
   "cell_type": "code",
   "execution_count": null,
   "id": "799a6043",
   "metadata": {},
   "outputs": [],
   "source": [
    "#Order (ascending or descending) by clause\n",
    "results=cur.execute(\"Select * from student order by name asc\")\n",
    "for i in results:\n",
    "    print(i)"
   ]
  },
  {
   "cell_type": "code",
   "execution_count": null,
   "id": "9f4e083e",
   "metadata": {},
   "outputs": [],
   "source": [
    "results=cur.execute(\"Select*from student order by name desc\")\n",
    "results.fetchall()"
   ]
  },
  {
   "cell_type": "code",
   "execution_count": null,
   "id": "57e2165e",
   "metadata": {},
   "outputs": [],
   "source": [
    "#AND operator\n",
    "results=cur.execute(\"Select * from student where name='David' and marks=45\")\n",
    "for i in results:\n",
    "    print(i)"
   ]
  },
  {
   "cell_type": "code",
   "execution_count": null,
   "id": "1483ef2a",
   "metadata": {},
   "outputs": [],
   "source": [
    "results=cur.execute(\"Select * from student where name='David' and marks=68\")\n",
    "for i in results:\n",
    "    print(i)"
   ]
  },
  {
   "cell_type": "code",
   "execution_count": null,
   "id": "4e48fb2f",
   "metadata": {},
   "outputs": [],
   "source": [
    "results=cur.execute(\"Select * from student where id=2 and marks=70\")\n",
    "for i in results:\n",
    "    print(i)"
   ]
  },
  {
   "cell_type": "code",
   "execution_count": null,
   "id": "a51c24ec",
   "metadata": {},
   "outputs": [],
   "source": [
    "#OR operator\n",
    "results=cur.execute(\"Select * from student where id=2 or marks=70\")\n",
    "for i in results:\n",
    "    print(i)"
   ]
  },
  {
   "cell_type": "code",
   "execution_count": null,
   "id": "1e3fc041",
   "metadata": {},
   "outputs": [],
   "source": [
    "results=cur.execute(\"Select * from student where id=3 or marks=100\")\n",
    "results.fetchall()"
   ]
  },
  {
   "cell_type": "code",
   "execution_count": null,
   "id": "7c67cbd3",
   "metadata": {},
   "outputs": [],
   "source": [
    "results=cur.execute(\"Select * from student where id=2 or marks=70\")\n",
    "for i in results:\n",
    "    print(i)"
   ]
  },
  {
   "cell_type": "code",
   "execution_count": null,
   "id": "3d3f36dd",
   "metadata": {},
   "outputs": [],
   "source": [
    "#Aggregate Functions\n",
    "#MIN – find minimum\n",
    "#MAX – find maximum\n",
    "#AVG – find average\n",
    "#SUM – find sum\n",
    "#COUNT – count the number of rows"
   ]
  },
  {
   "cell_type": "code",
   "execution_count": null,
   "id": "08c7f9a7",
   "metadata": {},
   "outputs": [],
   "source": [
    "#find minimum marks\n",
    "results=cur.execute(\"Select min(marks) from student\")\n",
    "for i in results:\n",
    "    print(i)"
   ]
  },
  {
   "cell_type": "code",
   "execution_count": null,
   "id": "c24d1f24",
   "metadata": {},
   "outputs": [],
   "source": [
    "#find maximum marks\n",
    "results=cur.execute(\"Select max(marks) from student\")\n",
    "results.fetchone()"
   ]
  },
  {
   "cell_type": "code",
   "execution_count": null,
   "id": "a8c510fe",
   "metadata": {},
   "outputs": [],
   "source": [
    "#find average marks\n",
    "results=cur.execute(\"Select avg(marks) from student\")\n",
    "results.fetchone()"
   ]
  },
  {
   "cell_type": "code",
   "execution_count": null,
   "id": "ca221f38",
   "metadata": {},
   "outputs": [],
   "source": [
    "results=cur.execute(\"Select avg(marks) from student\")\n",
    "for i in results:\n",
    "    print(i)"
   ]
  },
  {
   "cell_type": "code",
   "execution_count": null,
   "id": "a7abfecb",
   "metadata": {},
   "outputs": [],
   "source": [
    "#find sum\n",
    "results=cur.execute(\"Select sum(marks) from student\")\n",
    "results.fetchone()"
   ]
  },
  {
   "cell_type": "code",
   "execution_count": null,
   "id": "ba745207",
   "metadata": {},
   "outputs": [],
   "source": [
    "results=cur.execute(\"Select count(marks) from student\")\n",
    "results.fetchone()"
   ]
  },
  {
   "cell_type": "code",
   "execution_count": null,
   "id": "c0abb432",
   "metadata": {},
   "outputs": [],
   "source": [
    "#(fetchall for more than 1 row, fechone for more than 1 row)"
   ]
  },
  {
   "cell_type": "code",
   "execution_count": null,
   "id": "788e8373",
   "metadata": {},
   "outputs": [],
   "source": [
    "results=cur.execute(\"Select * from student where marks between 65 and 85\")\n",
    "for i in results:\n",
    "    print(i)"
   ]
  },
  {
   "cell_type": "code",
   "execution_count": null,
   "id": "3713516a",
   "metadata": {},
   "outputs": [],
   "source": [
    "results=cur.execute(\"Select * from student where marks between 65 and 85\")\n",
    "results.fetchall()"
   ]
  },
  {
   "cell_type": "code",
   "execution_count": null,
   "id": "d336ce30",
   "metadata": {},
   "outputs": [],
   "source": [
    "results=cur.execute(\"Select * from student where marks is null\")\n",
    "for i in results:\n",
    "    print(i)"
   ]
  },
  {
   "cell_type": "code",
   "execution_count": null,
   "id": "22366317",
   "metadata": {},
   "outputs": [],
   "source": [
    "results=cur.execute(\"Select * from student where marks is not null\")\n",
    "for i in results:\n",
    "    print(i)"
   ]
  },
  {
   "cell_type": "code",
   "execution_count": null,
   "id": "c74d3ca4",
   "metadata": {},
   "outputs": [],
   "source": [
    "#LIKE operators"
   ]
  },
  {
   "cell_type": "code",
   "execution_count": null,
   "id": "ef676e48",
   "metadata": {},
   "outputs": [],
   "source": [
    "results=cur.execute(\"Select * from student where name like 'D%'\")#start with D name\n",
    "for i in results:\n",
    "    print(i)"
   ]
  },
  {
   "cell_type": "code",
   "execution_count": null,
   "id": "d8931fd3",
   "metadata": {},
   "outputs": [],
   "source": [
    "results=cur.execute(\"Select * from student where name like 'J%'\")#start with J name\n",
    "for i in results:\n",
    "    print(i)"
   ]
  },
  {
   "cell_type": "code",
   "execution_count": null,
   "id": "d00e03e8",
   "metadata": {},
   "outputs": [],
   "source": [
    "results=cur.execute(\"Select * from student where name like '_a%'\")#after one character a in name\n",
    "for i in results:\n",
    "    print(i)"
   ]
  },
  {
   "cell_type": "code",
   "execution_count": null,
   "id": "b42b3c18",
   "metadata": {},
   "outputs": [],
   "source": [
    "results=cur.execute(\"Select * from student where name like '%m'\")#last character m in name\n",
    "for i in results:\n",
    "    print(i)"
   ]
  },
  {
   "cell_type": "code",
   "execution_count": null,
   "id": "90bf94da",
   "metadata": {},
   "outputs": [],
   "source": [
    "results=cur.execute(\"Select * from student where name like '%e%'\")#between character e in name\n",
    "for i in results:\n",
    "    print(i)"
   ]
  },
  {
   "cell_type": "code",
   "execution_count": null,
   "id": "b4c67d04",
   "metadata": {},
   "outputs": [],
   "source": [
    "results=cur.execute(\"select * from student\")#for all names or data\n",
    "results.fetchall()"
   ]
  },
  {
   "cell_type": "code",
   "execution_count": null,
   "id": "807c74bb",
   "metadata": {},
   "outputs": [],
   "source": [
    "#display only 4 letter character\n",
    "results=cur.execute(\"select * from student where name like '___'\")#for number of character if type ___ 3 times underscore then 3 characters name if type __ 2 times underscore then 2 character name\n",
    "for i in results:\n",
    "    print(i)"
   ]
  },
  {
   "cell_type": "code",
   "execution_count": null,
   "id": "47276b46",
   "metadata": {},
   "outputs": [],
   "source": [
    "results=cur.execute(\"select * from student where marks NOT in (70)\")\n",
    "results.fetchall()"
   ]
  },
  {
   "cell_type": "code",
   "execution_count": null,
   "id": "ab9114c2",
   "metadata": {},
   "outputs": [],
   "source": [
    "results=cur.execute(\"select * from student where name NOT in ('Kim')\")\n",
    "for i in results:\n",
    "    print(i)"
   ]
  },
  {
   "cell_type": "code",
   "execution_count": null,
   "id": "f1a7518d",
   "metadata": {},
   "outputs": [],
   "source": [
    "#UPDATE record\n",
    "#update the record\n",
    "sql=\"update student set marks=81 where id=4\"\n",
    "cur.execute(sql)\n",
    "db.commit()"
   ]
  },
  {
   "cell_type": "code",
   "execution_count": null,
   "id": "776ca06d",
   "metadata": {},
   "outputs": [],
   "source": [
    "results=cur.execute(\"select * from student where id=4\")\n",
    "for row in results:\n",
    "    print(row)"
   ]
  },
  {
   "cell_type": "code",
   "execution_count": null,
   "id": "9ef24811",
   "metadata": {},
   "outputs": [],
   "source": [
    "results=cur.execute(\"select * from student\")\n",
    "for row in results:\n",
    "    print(row)"
   ]
  },
  {
   "cell_type": "code",
   "execution_count": null,
   "id": "7e11490b",
   "metadata": {},
   "outputs": [],
   "source": [
    "#multiple record update\n",
    "sql=\"update student set marks=92 where id in (1,2)\"\n",
    "cur.execute(sql)\n",
    "db.commit()"
   ]
  },
  {
   "cell_type": "code",
   "execution_count": null,
   "id": "7faf76e7",
   "metadata": {},
   "outputs": [],
   "source": [
    "results=cur.execute(\"select * from student where id in (1,2)\")\n",
    "results.fetchall()"
   ]
  },
  {
   "cell_type": "code",
   "execution_count": null,
   "id": "5839134f",
   "metadata": {},
   "outputs": [],
   "source": [
    "results=cur.execute(\"select * from student\") \n",
    "for row in results:\n",
    "    print(row)"
   ]
  },
  {
   "cell_type": "code",
   "execution_count": null,
   "id": "8268a11b",
   "metadata": {},
   "outputs": [],
   "source": [
    "#multiple records update using ‘IN’\n",
    "sql=\"update student SET marks = 68 WHERE id IN (5,6)\"\n",
    "cur.execute(sql)\n",
    "db.commit()"
   ]
  },
  {
   "cell_type": "code",
   "execution_count": null,
   "id": "d4c6adcc",
   "metadata": {},
   "outputs": [],
   "source": [
    "#verify if its updated\n",
    "results=cur.execute(\"SELECT * FROM student\")\n",
    "for i in results:\n",
    "    print(i)"
   ]
  },
  {
   "cell_type": "code",
   "execution_count": null,
   "id": "3b9ef9f8",
   "metadata": {},
   "outputs": [],
   "source": [
    "#Delete any unwanted records\n",
    "sql=\"delete from student where id=6\"\n",
    "cur.execute(sql)"
   ]
  },
  {
   "cell_type": "code",
   "execution_count": null,
   "id": "f2dab2fd",
   "metadata": {},
   "outputs": [],
   "source": [
    "results=cur.execute('select * from student')\n",
    "results.fetchall()"
   ]
  },
  {
   "cell_type": "code",
   "execution_count": null,
   "id": "ba5c4a93",
   "metadata": {},
   "outputs": [],
   "source": [
    "sql=\"delete from student where id=4\"\n",
    "cur.execute(sql)\n",
    "results=cur.execute('select * from student')\n",
    "results.fetchall()"
   ]
  },
  {
   "cell_type": "code",
   "execution_count": null,
   "id": "26cbf8ac",
   "metadata": {},
   "outputs": [],
   "source": [
    "#DROP table student\n",
    "sql='drop table student'\n",
    "results=cur.execute(sql)\n",
    "results=cur.execute('select * from student')\n",
    "results.fetchall()\n",
    "db.close()"
   ]
  },
  {
   "cell_type": "code",
   "execution_count": 134,
   "id": "81270e0a",
   "metadata": {},
   "outputs": [
    {
     "ename": "OperationalError",
     "evalue": "unable to open database file",
     "output_type": "error",
     "traceback": [
      "\u001b[1;31m---------------------------------------------------------------------------\u001b[0m",
      "\u001b[1;31mOperationalError\u001b[0m                          Traceback (most recent call last)",
      "Input \u001b[1;32mIn [134]\u001b[0m, in \u001b[0;36m<cell line: 3>\u001b[1;34m()\u001b[0m\n\u001b[0;32m      1\u001b[0m \u001b[38;5;66;03m#Adding data in table with csv(comma separated values) file directly\u001b[39;00m\n\u001b[0;32m      2\u001b[0m \u001b[38;5;28;01mimport\u001b[39;00m \u001b[38;5;21;01msqlite3\u001b[39;00m\n\u001b[1;32m----> 3\u001b[0m db\u001b[38;5;241m=\u001b[39m\u001b[43msqlite3\u001b[49m\u001b[38;5;241;43m.\u001b[39;49m\u001b[43mconnect\u001b[49m\u001b[43m(\u001b[49m\u001b[38;5;124;43m\"\u001b[39;49m\u001b[38;5;124;43mC:/UsersAdmin/scores_database.db\u001b[39;49m\u001b[38;5;124;43m\"\u001b[39;49m\u001b[43m)\u001b[49m\n",
      "\u001b[1;31mOperationalError\u001b[0m: unable to open database file"
     ]
    }
   ],
   "source": [
    "#Adding data in table with csv(comma separated values) file directly\n",
    "import sqlite3\n",
    "db=sqlite3.connect(\"C:/UsersAdmin/scores_database.db\")"
   ]
  },
  {
   "cell_type": "code",
   "execution_count": 135,
   "id": "7f002a26",
   "metadata": {},
   "outputs": [],
   "source": [
    "#Declare cursor\n",
    "cursor=db.cursor()"
   ]
  },
  {
   "cell_type": "code",
   "execution_count": 136,
   "id": "b9db73ae",
   "metadata": {},
   "outputs": [
    {
     "ename": "OperationalError",
     "evalue": "table scores already exists",
     "output_type": "error",
     "traceback": [
      "\u001b[1;31m---------------------------------------------------------------------------\u001b[0m",
      "\u001b[1;31mOperationalError\u001b[0m                          Traceback (most recent call last)",
      "Input \u001b[1;32mIn [136]\u001b[0m, in \u001b[0;36m<cell line: 2>\u001b[1;34m()\u001b[0m\n\u001b[0;32m      1\u001b[0m \u001b[38;5;66;03m#Create Table\u001b[39;00m\n\u001b[1;32m----> 2\u001b[0m \u001b[43mcursor\u001b[49m\u001b[38;5;241;43m.\u001b[39;49m\u001b[43mexecute\u001b[49m\u001b[43m(\u001b[49m\u001b[38;5;124;43m\"\u001b[39;49m\u001b[38;5;124;43mCREATE TABLE scores(gender TEXT, student_id INT PRIMARY KEY, marks INT)\u001b[39;49m\u001b[38;5;124;43m\"\u001b[39;49m\u001b[43m)\u001b[49m\n",
      "\u001b[1;31mOperationalError\u001b[0m: table scores already exists"
     ]
    }
   ],
   "source": [
    "#Create Table\n",
    "cursor.execute(\"CREATE TABLE scores(gender TEXT, student_id INT PRIMARY KEY, marks INT)\")"
   ]
  },
  {
   "cell_type": "code",
   "execution_count": 137,
   "id": "653794b9",
   "metadata": {},
   "outputs": [
    {
     "ename": "IntegrityError",
     "evalue": "UNIQUE constraint failed: scores.student_id",
     "output_type": "error",
     "traceback": [
      "\u001b[1;31m---------------------------------------------------------------------------\u001b[0m",
      "\u001b[1;31mIntegrityError\u001b[0m                            Traceback (most recent call last)",
      "Input \u001b[1;32mIn [137]\u001b[0m, in \u001b[0;36m<cell line: 2>\u001b[1;34m()\u001b[0m\n\u001b[0;32m      1\u001b[0m \u001b[38;5;66;03m#Insert records into the table, (single record inserting)\u001b[39;00m\n\u001b[1;32m----> 2\u001b[0m \u001b[43mcursor\u001b[49m\u001b[38;5;241;43m.\u001b[39;49m\u001b[43mexecute\u001b[49m\u001b[43m(\u001b[49m\u001b[38;5;124;43m\"\u001b[39;49m\u001b[38;5;124;43mINSERT INTO scores(gender,student_id,marks) values(\u001b[39;49m\u001b[38;5;124;43m'\u001b[39;49m\u001b[38;5;124;43mMale\u001b[39;49m\u001b[38;5;124;43m'\u001b[39;49m\u001b[38;5;124;43m,100,55)\u001b[39;49m\u001b[38;5;124;43m\"\u001b[39;49m\u001b[43m)\u001b[49m\n",
      "\u001b[1;31mIntegrityError\u001b[0m: UNIQUE constraint failed: scores.student_id"
     ]
    }
   ],
   "source": [
    "#Insert records into the table, (single record inserting)\n",
    "cursor.execute(\"INSERT INTO scores(gender,student_id,marks) values('Male',100,55)\")"
   ]
  },
  {
   "cell_type": "code",
   "execution_count": 138,
   "id": "0dbfa6b3",
   "metadata": {},
   "outputs": [],
   "source": [
    "#save the records permanently. (If you don’t commit, next time you will not see the records in the table)\n",
    "db.commit()"
   ]
  },
  {
   "cell_type": "code",
   "execution_count": 139,
   "id": "24451759",
   "metadata": {},
   "outputs": [
    {
     "name": "stdout",
     "output_type": "stream",
     "text": [
      "-1 Record(s)inserted\n"
     ]
    }
   ],
   "source": [
    "#count of records inserted\n",
    "print(cursor.rowcount,\"Record(s)inserted\")"
   ]
  },
  {
   "cell_type": "code",
   "execution_count": 146,
   "id": "e8edc9a5",
   "metadata": {},
   "outputs": [
    {
     "ename": "IntegrityError",
     "evalue": "UNIQUE constraint failed: scores.student_id",
     "output_type": "error",
     "traceback": [
      "\u001b[1;31m---------------------------------------------------------------------------\u001b[0m",
      "\u001b[1;31mIntegrityError\u001b[0m                            Traceback (most recent call last)",
      "Input \u001b[1;32mIn [146]\u001b[0m, in \u001b[0;36m<cell line: 2>\u001b[1;34m()\u001b[0m\n\u001b[0;32m      3\u001b[0m total_records\u001b[38;5;241m=\u001b[39m\u001b[38;5;241m0\u001b[39m\n\u001b[0;32m      4\u001b[0m \u001b[38;5;28;01mfor\u001b[39;00m row \u001b[38;5;129;01min\u001b[39;00m file:\n\u001b[1;32m----> 5\u001b[0m     \u001b[43mcursor\u001b[49m\u001b[38;5;241;43m.\u001b[39;49m\u001b[43mexecute\u001b[49m\u001b[43m(\u001b[49m\u001b[38;5;124;43m\"\u001b[39;49m\u001b[38;5;124;43minsert into scores values(?,?,?)\u001b[39;49m\u001b[38;5;124;43m\"\u001b[39;49m\u001b[43m,\u001b[49m\u001b[43m \u001b[49m\u001b[43mrow\u001b[49m\u001b[38;5;241;43m.\u001b[39;49m\u001b[43msplit\u001b[49m\u001b[43m(\u001b[49m\u001b[38;5;124;43m\"\u001b[39;49m\u001b[38;5;124;43m,\u001b[39;49m\u001b[38;5;124;43m\"\u001b[39;49m\u001b[43m)\u001b[49m\u001b[43m)\u001b[49m\n\u001b[0;32m      6\u001b[0m     db\u001b[38;5;241m.\u001b[39mcommit()\n\u001b[0;32m      7\u001b[0m     total_records\u001b[38;5;241m+\u001b[39m\u001b[38;5;241m=\u001b[39m\u001b[38;5;241m1\u001b[39m\n",
      "\u001b[1;31mIntegrityError\u001b[0m: UNIQUE constraint failed: scores.student_id"
     ]
    }
   ],
   "source": [
    "#Inserting records from csv file\n",
    "with open('Scores_file.csv','r') as file:\n",
    "    total_records=0\n",
    "    for row in file:\n",
    "        cursor.execute(\"insert into scores values(?,?,?)\", row.split(\",\"))\n",
    "        db.commit()\n",
    "        total_records+=1\n",
    "print(total_records,'Records inserted')"
   ]
  },
  {
   "cell_type": "code",
   "execution_count": 147,
   "id": "aa112664",
   "metadata": {},
   "outputs": [
    {
     "name": "stdout",
     "output_type": "stream",
     "text": [
      "('Male', 100, 55)\n",
      "('Male', 104, 56)\n"
     ]
    }
   ],
   "source": [
    "result = cursor.execute(\"SELECT * FROM scores\")\n",
    "for row in result:\n",
    "    print(row)"
   ]
  },
  {
   "cell_type": "code",
   "execution_count": 148,
   "id": "b01fe439",
   "metadata": {},
   "outputs": [],
   "source": [
    "sql = \"SELECT * FROM scores WHERE student_id = 104\"\n",
    "result = cursor.execute(sql)\n",
    "for row in results:\n",
    "    print(row)"
   ]
  },
  {
   "cell_type": "code",
   "execution_count": 149,
   "id": "6381fddb",
   "metadata": {},
   "outputs": [],
   "source": [
    "#How to change the order of records (Increasing or decreasing)\n",
    "result = cursor.execute(\"SELECT * FROM scores ORDER BY marks desc\")\n",
    "for row in results:\n",
    "    print(row)"
   ]
  },
  {
   "cell_type": "code",
   "execution_count": 150,
   "id": "6eec2039",
   "metadata": {},
   "outputs": [
    {
     "data": {
      "text/plain": [
       "<sqlite3.Cursor at 0x1d4a97eff10>"
      ]
     },
     "execution_count": 150,
     "metadata": {},
     "output_type": "execute_result"
    }
   ],
   "source": [
    "#single record update\n",
    "sql=\"UPDATE scores SET marks = 50 WHERE student_id = 107\"\n",
    "cursor.execute(sql)"
   ]
  },
  {
   "cell_type": "code",
   "execution_count": 151,
   "id": "b07c9ca7",
   "metadata": {},
   "outputs": [],
   "source": [
    "#Verify if its updated\n",
    "result = cursor.execute(\"SELECT * FROM scores ORDER BY student_id\")\n",
    "for row in results:\n",
    "    print(row)"
   ]
  },
  {
   "cell_type": "code",
   "execution_count": 152,
   "id": "6d82193b",
   "metadata": {},
   "outputs": [
    {
     "name": "stdout",
     "output_type": "stream",
     "text": [
      "Minimum Marks =  (55,)\n"
     ]
    }
   ],
   "source": [
    "#MIN\n",
    "result = cursor.execute(\"SELECT MIN(marks) FROM scores\")\n",
    "print('Minimum Marks = ', result.fetchone())"
   ]
  },
  {
   "cell_type": "code",
   "execution_count": 153,
   "id": "ca71c6c0",
   "metadata": {},
   "outputs": [
    {
     "name": "stdout",
     "output_type": "stream",
     "text": [
      "Maximum Marks =  (56,)\n"
     ]
    }
   ],
   "source": [
    "#MAX\n",
    "result = cursor.execute(\"SELECT MAX(marks) FROM scores\")\n",
    "print('Maximum Marks = ', result.fetchone())"
   ]
  },
  {
   "cell_type": "code",
   "execution_count": 154,
   "id": "24992576",
   "metadata": {},
   "outputs": [],
   "source": [
    "db.close()"
   ]
  },
  {
   "cell_type": "code",
   "execution_count": 155,
   "id": "246fc988",
   "metadata": {},
   "outputs": [],
   "source": [
    "#Practice \n",
    "import sqlite3"
   ]
  },
  {
   "cell_type": "code",
   "execution_count": 162,
   "id": "67051569",
   "metadata": {},
   "outputs": [],
   "source": [
    "db=sqlite3.connect(\"C:/Users/Admin/employee_database1.db\")"
   ]
  },
  {
   "cell_type": "code",
   "execution_count": 163,
   "id": "764cb2a6",
   "metadata": {},
   "outputs": [],
   "source": [
    "cur=db.cursor()"
   ]
  },
  {
   "cell_type": "code",
   "execution_count": 164,
   "id": "d8f6be24",
   "metadata": {},
   "outputs": [
    {
     "data": {
      "text/plain": [
       "<sqlite3.Cursor at 0x1d4a9846490>"
      ]
     },
     "execution_count": 164,
     "metadata": {},
     "output_type": "execute_result"
    }
   ],
   "source": [
    "cur.execute(\"create table employee (id int, name text, age int, address text, salary int)\")"
   ]
  },
  {
   "cell_type": "code",
   "execution_count": 165,
   "id": "8feb6e07",
   "metadata": {},
   "outputs": [
    {
     "data": {
      "text/plain": [
       "<sqlite3.Cursor at 0x1d4a9846490>"
      ]
     },
     "execution_count": 165,
     "metadata": {},
     "output_type": "execute_result"
    }
   ],
   "source": [
    "cur.execute(\"insert into employee values(1, 'Ajeet', 27, 'Delhi', 20000)\")"
   ]
  },
  {
   "cell_type": "code",
   "execution_count": 166,
   "id": "1f3c4f64",
   "metadata": {},
   "outputs": [
    {
     "name": "stdout",
     "output_type": "stream",
     "text": [
      "1 Record(s) inserted\n"
     ]
    }
   ],
   "source": [
    "print(cur.rowcount, \"Record(s) inserted\")"
   ]
  },
  {
   "cell_type": "code",
   "execution_count": 167,
   "id": "c47dc3bc",
   "metadata": {},
   "outputs": [
    {
     "name": "stdout",
     "output_type": "stream",
     "text": [
      "(1, 'Ajeet', 27, 'Delhi', 20000)\n"
     ]
    }
   ],
   "source": [
    "results=cur.execute(\"select * from employee\")\n",
    "for i in results:\n",
    "    print(i)"
   ]
  },
  {
   "cell_type": "code",
   "execution_count": 168,
   "id": "38da81d1",
   "metadata": {},
   "outputs": [
    {
     "data": {
      "text/plain": [
       "<sqlite3.Cursor at 0x1d4a9846490>"
      ]
     },
     "execution_count": 168,
     "metadata": {},
     "output_type": "execute_result"
    }
   ],
   "source": [
    "cur.execute(\"insert into employee values(2, 'Allen', 22, 'London', 25000),(3, 'Mark', 29, 'CA', 20000), (4, 'Kanchan', 22, 'Ghaziabad', 65000)\")"
   ]
  },
  {
   "cell_type": "code",
   "execution_count": 169,
   "id": "3cc08253",
   "metadata": {},
   "outputs": [
    {
     "name": "stdout",
     "output_type": "stream",
     "text": [
      "3 Record(s) inserted\n"
     ]
    }
   ],
   "source": [
    "print(cur.rowcount, \"Record(s) inserted\")"
   ]
  },
  {
   "cell_type": "code",
   "execution_count": 170,
   "id": "949d4ea4",
   "metadata": {},
   "outputs": [
    {
     "name": "stdout",
     "output_type": "stream",
     "text": [
      "(1, 'Ajeet', 27, 'Delhi', 20000)\n",
      "(2, 'Allen', 22, 'London', 25000)\n",
      "(3, 'Mark', 29, 'CA', 20000)\n",
      "(4, 'Kanchan', 22, 'Ghaziabad', 65000)\n"
     ]
    }
   ],
   "source": [
    "results=cur.execute(\"select * from employee\")\n",
    "for i in results:\n",
    "    print(i)"
   ]
  },
  {
   "cell_type": "code",
   "execution_count": 171,
   "id": "47ee3721",
   "metadata": {},
   "outputs": [
    {
     "name": "stdout",
     "output_type": "stream",
     "text": [
      "(1, 'Ajeet')\n",
      "(2, 'Allen')\n",
      "(3, 'Mark')\n",
      "(4, 'Kanchan')\n"
     ]
    }
   ],
   "source": [
    "results=cur.execute('select id, name from employee')\n",
    "for i in results:\n",
    "    print(i)"
   ]
  },
  {
   "cell_type": "code",
   "execution_count": 174,
   "id": "c51d87f7",
   "metadata": {},
   "outputs": [
    {
     "name": "stdout",
     "output_type": "stream",
     "text": [
      "(1, 'Delhi')\n",
      "(2, 'London')\n",
      "(3, 'CA')\n",
      "(4, 'Ghaziabad')\n"
     ]
    }
   ],
   "source": [
    "results=cur.execute('select id, address from employee')\n",
    "for i in results:\n",
    "    print(i)"
   ]
  },
  {
   "cell_type": "code",
   "execution_count": 176,
   "id": "9c7dac44",
   "metadata": {},
   "outputs": [
    {
     "name": "stdout",
     "output_type": "stream",
     "text": [
      "(1, 'Ajeet', 27, 'Delhi', 20000)\n",
      "(2, 'Allen', 22, 'London', 25000)\n",
      "(3, 'Mark', 29, 'CA', 20000)\n",
      "(4, 'Kanchan', 22, 'Ghaziabad', 65000)\n"
     ]
    }
   ],
   "source": [
    "results=cur.execute('select * from employee')\n",
    "for i in results:\n",
    "    print(i)"
   ]
  },
  {
   "cell_type": "code",
   "execution_count": 177,
   "id": "f55efcca",
   "metadata": {},
   "outputs": [],
   "source": [
    "#update any records\n",
    "sql=\"update employee set age=25 where id=4\"\n",
    "cur.execute(sql)\n",
    "db.commit()"
   ]
  },
  {
   "cell_type": "code",
   "execution_count": 178,
   "id": "f9fd46c7",
   "metadata": {},
   "outputs": [
    {
     "name": "stdout",
     "output_type": "stream",
     "text": [
      "(1, 'Ajeet', 27, 'Delhi', 20000)\n",
      "(2, 'Allen', 22, 'London', 25000)\n",
      "(3, 'Mark', 29, 'CA', 20000)\n",
      "(4, 'Kanchan', 25, 'Ghaziabad', 65000)\n"
     ]
    }
   ],
   "source": [
    "results=cur.execute('select * from employee')\n",
    "for i in results:\n",
    "    print(i)"
   ]
  },
  {
   "cell_type": "code",
   "execution_count": 179,
   "id": "4ecf205d",
   "metadata": {},
   "outputs": [],
   "source": [
    "#update any records\n",
    "sql=\"update employee SET age = 35 WHERE id IN (1,2)\"\n",
    "cur.execute(sql)\n",
    "db.commit()"
   ]
  },
  {
   "cell_type": "code",
   "execution_count": 180,
   "id": "981a7a35",
   "metadata": {},
   "outputs": [
    {
     "name": "stdout",
     "output_type": "stream",
     "text": [
      "(1, 'Ajeet', 35, 'Delhi', 20000)\n",
      "(2, 'Allen', 35, 'London', 25000)\n",
      "(3, 'Mark', 29, 'CA', 20000)\n",
      "(4, 'Kanchan', 25, 'Ghaziabad', 65000)\n"
     ]
    }
   ],
   "source": [
    "results=cur.execute('select * from employee')\n",
    "for i in results:\n",
    "    print(i)"
   ]
  },
  {
   "cell_type": "code",
   "execution_count": 182,
   "id": "6b970d02",
   "metadata": {},
   "outputs": [
    {
     "data": {
      "text/plain": [
       "<sqlite3.Cursor at 0x1d4a9846490>"
      ]
     },
     "execution_count": 182,
     "metadata": {},
     "output_type": "execute_result"
    }
   ],
   "source": [
    "#Delete any unwanted records\n",
    "sql=\"delete from employee where id=2\"\n",
    "cur.execute(sql)"
   ]
  },
  {
   "cell_type": "code",
   "execution_count": 183,
   "id": "ca77f579",
   "metadata": {},
   "outputs": [
    {
     "name": "stdout",
     "output_type": "stream",
     "text": [
      "(1, 'Ajeet', 35, 'Delhi', 20000)\n",
      "(3, 'Mark', 29, 'CA', 20000)\n",
      "(4, 'Kanchan', 25, 'Ghaziabad', 65000)\n"
     ]
    }
   ],
   "source": [
    "results=cur.execute('select * from employee')\n",
    "for i in results:\n",
    "    print(i)"
   ]
  },
  {
   "cell_type": "code",
   "execution_count": 184,
   "id": "bf022bf9",
   "metadata": {},
   "outputs": [],
   "source": [
    "db.close()"
   ]
  },
  {
   "cell_type": "code",
   "execution_count": null,
   "id": "c57e7402",
   "metadata": {},
   "outputs": [],
   "source": []
  }
 ],
 "metadata": {
  "kernelspec": {
   "display_name": "Python 3 (ipykernel)",
   "language": "python",
   "name": "python3"
  },
  "language_info": {
   "codemirror_mode": {
    "name": "ipython",
    "version": 3
   },
   "file_extension": ".py",
   "mimetype": "text/x-python",
   "name": "python",
   "nbconvert_exporter": "python",
   "pygments_lexer": "ipython3",
   "version": "3.9.12"
  }
 },
 "nbformat": 4,
 "nbformat_minor": 5
}
