{
 "cells": [
  {
   "cell_type": "markdown",
   "id": "a0375278",
   "metadata": {},
   "source": [
    "# Indexing and Slicing in Pandas"
   ]
  },
  {
   "cell_type": "code",
   "execution_count": 4,
   "id": "89b210f2",
   "metadata": {},
   "outputs": [
    {
     "name": "stdout",
     "output_type": "stream",
     "text": [
      "          A         B         C         D\n",
      "0  1.642101 -0.304954  0.254793 -0.698973\n",
      "1 -0.638781 -1.098810  0.125906 -0.666343\n",
      "2  0.745670  1.108233 -0.399770  0.069642\n",
      "3 -2.754291  1.387805  0.095459  0.837615\n",
      "4 -0.891096 -0.185822  1.015923 -1.256718\n",
      "5  0.940842 -0.157257 -0.695010  0.362322\n",
      "6 -0.978469  1.115368  0.319649 -0.263181\n",
      "7 -0.593843 -0.369987 -0.295251  0.687461\n"
     ]
    }
   ],
   "source": [
    "import pandas as pd\n",
    "import numpy as np\n",
    "df=pd.DataFrame(np.random.randn(8,4),columns=['A','B','C','D'])\n",
    "print(df)"
   ]
  },
  {
   "cell_type": "code",
   "execution_count": 5,
   "id": "4e72a255",
   "metadata": {},
   "outputs": [
    {
     "name": "stdout",
     "output_type": "stream",
     "text": [
      "          A         B         C         D\n",
      "0  1.642101 -0.304954  0.254793 -0.698973\n",
      "1 -0.638781 -1.098810  0.125906 -0.666343\n",
      "2  0.745670  1.108233 -0.399770  0.069642\n",
      "3 -2.754291  1.387805  0.095459  0.837615\n"
     ]
    }
   ],
   "source": [
    "print(df.iloc[:4,:])"
   ]
  },
  {
   "cell_type": "code",
   "execution_count": 7,
   "id": "b59087a1",
   "metadata": {},
   "outputs": [
    {
     "name": "stdout",
     "output_type": "stream",
     "text": [
      "0    1.642101\n",
      "1   -0.638781\n",
      "2    0.745670\n",
      "3   -2.754291\n",
      "4   -0.891096\n",
      "5    0.940842\n",
      "6   -0.978469\n",
      "7   -0.593843\n",
      "Name: A, dtype: float64\n"
     ]
    }
   ],
   "source": [
    "print(df.loc[:,'A'])"
   ]
  },
  {
   "cell_type": "markdown",
   "id": "a4e8a113",
   "metadata": {},
   "source": [
    "df.log[[’indexname1’,’indexname2].[labelA,labelB]] as location will take label only it will not work with indexing in numeric format"
   ]
  },
  {
   "cell_type": "code",
   "execution_count": 8,
   "id": "c37ab99d",
   "metadata": {},
   "outputs": [
    {
     "name": "stdout",
     "output_type": "stream",
     "text": [
      "          C         D\n",
      "0  0.254793 -0.698973\n",
      "1  0.125906 -0.666343\n",
      "2 -0.399770  0.069642\n",
      "3  0.095459  0.837615\n",
      "4  1.015923 -1.256718\n",
      "5 -0.695010  0.362322\n",
      "6  0.319649 -0.263181\n",
      "7 -0.295251  0.687461\n"
     ]
    }
   ],
   "source": [
    "print(df.loc[:,['C','D']])"
   ]
  },
  {
   "cell_type": "markdown",
   "id": "0f71a8b4",
   "metadata": {},
   "source": [
    ".iloc() Pandas provide various methods in order to get purely integer based indexing.  Like python and numpy, these are 0- based indexing."
   ]
  },
  {
   "cell_type": "code",
   "execution_count": 9,
   "id": "a3602dc4",
   "metadata": {},
   "outputs": [
    {
     "name": "stdout",
     "output_type": "stream",
     "text": [
      "          A         B         C         D\n",
      "0  0.927817  2.680181 -0.349756  1.312155\n",
      "1 -0.098121 -0.612171 -0.426662 -0.533745\n",
      "2  0.349972  0.335776  0.577240 -0.632324\n",
      "3 -1.274365  0.926001  0.438324 -0.803412\n",
      "4  1.020059 -0.165565 -0.559882 -0.939661\n",
      "5 -0.496701 -0.849659 -2.003173  1.233376\n",
      "6 -0.764170 -1.306416  0.207907 -0.686093\n",
      "7 -0.239412  1.451670  1.128574  1.055381\n"
     ]
    }
   ],
   "source": [
    "import pandas as pd\n",
    "df=pd.DataFrame(np.random.randn(8,4),columns=['A','B','C','D'])\n",
    "print(df)"
   ]
  },
  {
   "cell_type": "code",
   "execution_count": 10,
   "id": "bac58858",
   "metadata": {},
   "outputs": [
    {
     "name": "stdout",
     "output_type": "stream",
     "text": [
      "          A         B         C         D\n",
      "0  0.927817  2.680181 -0.349756  1.312155\n",
      "1 -0.098121 -0.612171 -0.426662 -0.533745\n",
      "2  0.349972  0.335776  0.577240 -0.632324\n",
      "3 -1.274365  0.926001  0.438324 -0.803412\n"
     ]
    }
   ],
   "source": [
    "print(df.iloc[:4,:])"
   ]
  },
  {
   "cell_type": "code",
   "execution_count": 11,
   "id": "4e2bf4e1",
   "metadata": {},
   "outputs": [
    {
     "name": "stdout",
     "output_type": "stream",
     "text": [
      "0    0.927817\n",
      "1   -0.098121\n",
      "2    0.349972\n",
      "3   -1.274365\n",
      "4    1.020059\n",
      "5   -0.496701\n",
      "6   -0.764170\n",
      "7   -0.239412\n",
      "Name: A, dtype: float64\n"
     ]
    }
   ],
   "source": [
    "print(df.iloc[:,0])"
   ]
  },
  {
   "cell_type": "code",
   "execution_count": 12,
   "id": "123e148c",
   "metadata": {},
   "outputs": [
    {
     "data": {
      "text/plain": [
       "0   -0.349756\n",
       "1   -0.426662\n",
       "2    0.577240\n",
       "3    0.438324\n",
       "4   -0.559882\n",
       "5   -2.003173\n",
       "6    0.207907\n",
       "7    1.128574\n",
       "Name: C, dtype: float64"
      ]
     },
     "execution_count": 12,
     "metadata": {},
     "output_type": "execute_result"
    }
   ],
   "source": [
    "df.iloc[:,2]"
   ]
  },
  {
   "cell_type": "code",
   "execution_count": 13,
   "id": "433c3bbb",
   "metadata": {},
   "outputs": [
    {
     "name": "stdout",
     "output_type": "stream",
     "text": [
      "1   -0.612171\n",
      "2    0.335776\n",
      "3    0.926001\n",
      "4   -0.165565\n",
      "Name: B, dtype: float64\n"
     ]
    }
   ],
   "source": [
    "print(df.iloc[1:5,1])"
   ]
  },
  {
   "cell_type": "code",
   "execution_count": 14,
   "id": "70421a6d",
   "metadata": {},
   "outputs": [
    {
     "data": {
      "text/html": [
       "<div>\n",
       "<style scoped>\n",
       "    .dataframe tbody tr th:only-of-type {\n",
       "        vertical-align: middle;\n",
       "    }\n",
       "\n",
       "    .dataframe tbody tr th {\n",
       "        vertical-align: top;\n",
       "    }\n",
       "\n",
       "    .dataframe thead th {\n",
       "        text-align: right;\n",
       "    }\n",
       "</style>\n",
       "<table border=\"1\" class=\"dataframe\">\n",
       "  <thead>\n",
       "    <tr style=\"text-align: right;\">\n",
       "      <th></th>\n",
       "      <th>A</th>\n",
       "      <th>B</th>\n",
       "      <th>C</th>\n",
       "      <th>D</th>\n",
       "    </tr>\n",
       "  </thead>\n",
       "  <tbody>\n",
       "    <tr>\n",
       "      <th>0</th>\n",
       "      <td>0.927817</td>\n",
       "      <td>2.680181</td>\n",
       "      <td>-0.349756</td>\n",
       "      <td>1.312155</td>\n",
       "    </tr>\n",
       "    <tr>\n",
       "      <th>1</th>\n",
       "      <td>-0.098121</td>\n",
       "      <td>-0.612171</td>\n",
       "      <td>-0.426662</td>\n",
       "      <td>-0.533745</td>\n",
       "    </tr>\n",
       "    <tr>\n",
       "      <th>2</th>\n",
       "      <td>0.349972</td>\n",
       "      <td>0.335776</td>\n",
       "      <td>0.577240</td>\n",
       "      <td>-0.632324</td>\n",
       "    </tr>\n",
       "    <tr>\n",
       "      <th>3</th>\n",
       "      <td>-1.274365</td>\n",
       "      <td>0.926001</td>\n",
       "      <td>0.438324</td>\n",
       "      <td>-0.803412</td>\n",
       "    </tr>\n",
       "    <tr>\n",
       "      <th>4</th>\n",
       "      <td>1.020059</td>\n",
       "      <td>-0.165565</td>\n",
       "      <td>-0.559882</td>\n",
       "      <td>-0.939661</td>\n",
       "    </tr>\n",
       "    <tr>\n",
       "      <th>5</th>\n",
       "      <td>-0.496701</td>\n",
       "      <td>-0.849659</td>\n",
       "      <td>-2.003173</td>\n",
       "      <td>1.233376</td>\n",
       "    </tr>\n",
       "    <tr>\n",
       "      <th>6</th>\n",
       "      <td>-0.764170</td>\n",
       "      <td>-1.306416</td>\n",
       "      <td>0.207907</td>\n",
       "      <td>-0.686093</td>\n",
       "    </tr>\n",
       "    <tr>\n",
       "      <th>7</th>\n",
       "      <td>-0.239412</td>\n",
       "      <td>1.451670</td>\n",
       "      <td>1.128574</td>\n",
       "      <td>1.055381</td>\n",
       "    </tr>\n",
       "  </tbody>\n",
       "</table>\n",
       "</div>"
      ],
      "text/plain": [
       "          A         B         C         D\n",
       "0  0.927817  2.680181 -0.349756  1.312155\n",
       "1 -0.098121 -0.612171 -0.426662 -0.533745\n",
       "2  0.349972  0.335776  0.577240 -0.632324\n",
       "3 -1.274365  0.926001  0.438324 -0.803412\n",
       "4  1.020059 -0.165565 -0.559882 -0.939661\n",
       "5 -0.496701 -0.849659 -2.003173  1.233376\n",
       "6 -0.764170 -1.306416  0.207907 -0.686093\n",
       "7 -0.239412  1.451670  1.128574  1.055381"
      ]
     },
     "execution_count": 14,
     "metadata": {},
     "output_type": "execute_result"
    }
   ],
   "source": [
    "df"
   ]
  },
  {
   "cell_type": "code",
   "execution_count": 16,
   "id": "a68bd40a",
   "metadata": {},
   "outputs": [
    {
     "name": "stdout",
     "output_type": "stream",
     "text": [
      "2    0.577240\n",
      "3    0.438324\n",
      "4   -0.559882\n",
      "5   -2.003173\n",
      "Name: C, dtype: float64\n"
     ]
    }
   ],
   "source": [
    "print(df.iloc[2:6,2])"
   ]
  },
  {
   "cell_type": "code",
   "execution_count": 17,
   "id": "90300a97",
   "metadata": {},
   "outputs": [
    {
     "name": "stdout",
     "output_type": "stream",
     "text": [
      "0    1.312155\n",
      "1   -0.533745\n",
      "2   -0.632324\n",
      "3   -0.803412\n",
      "4   -0.939661\n",
      "5    1.233376\n",
      "6   -0.686093\n",
      "7    1.055381\n",
      "Name: D, dtype: float64\n"
     ]
    }
   ],
   "source": [
    "print(df.iloc[:,3])"
   ]
  },
  {
   "cell_type": "code",
   "execution_count": 18,
   "id": "da174f44",
   "metadata": {},
   "outputs": [
    {
     "name": "stdout",
     "output_type": "stream",
     "text": [
      "3   -0.803412\n",
      "4   -0.939661\n",
      "5    1.233376\n",
      "Name: D, dtype: float64\n"
     ]
    }
   ],
   "source": [
    "print(df.iloc[3:6,3])"
   ]
  },
  {
   "cell_type": "code",
   "execution_count": 19,
   "id": "8193b000",
   "metadata": {},
   "outputs": [
    {
     "data": {
      "text/html": [
       "<div>\n",
       "<style scoped>\n",
       "    .dataframe tbody tr th:only-of-type {\n",
       "        vertical-align: middle;\n",
       "    }\n",
       "\n",
       "    .dataframe tbody tr th {\n",
       "        vertical-align: top;\n",
       "    }\n",
       "\n",
       "    .dataframe thead th {\n",
       "        text-align: right;\n",
       "    }\n",
       "</style>\n",
       "<table border=\"1\" class=\"dataframe\">\n",
       "  <thead>\n",
       "    <tr style=\"text-align: right;\">\n",
       "      <th></th>\n",
       "      <th>A</th>\n",
       "      <th>B</th>\n",
       "      <th>C</th>\n",
       "      <th>D</th>\n",
       "    </tr>\n",
       "  </thead>\n",
       "  <tbody>\n",
       "    <tr>\n",
       "      <th>0</th>\n",
       "      <td>0.927817</td>\n",
       "      <td>2.680181</td>\n",
       "      <td>-0.349756</td>\n",
       "      <td>1.312155</td>\n",
       "    </tr>\n",
       "    <tr>\n",
       "      <th>1</th>\n",
       "      <td>-0.098121</td>\n",
       "      <td>-0.612171</td>\n",
       "      <td>-0.426662</td>\n",
       "      <td>-0.533745</td>\n",
       "    </tr>\n",
       "    <tr>\n",
       "      <th>2</th>\n",
       "      <td>0.349972</td>\n",
       "      <td>0.335776</td>\n",
       "      <td>0.577240</td>\n",
       "      <td>-0.632324</td>\n",
       "    </tr>\n",
       "    <tr>\n",
       "      <th>3</th>\n",
       "      <td>-1.274365</td>\n",
       "      <td>0.926001</td>\n",
       "      <td>0.438324</td>\n",
       "      <td>-0.803412</td>\n",
       "    </tr>\n",
       "    <tr>\n",
       "      <th>4</th>\n",
       "      <td>1.020059</td>\n",
       "      <td>-0.165565</td>\n",
       "      <td>-0.559882</td>\n",
       "      <td>-0.939661</td>\n",
       "    </tr>\n",
       "    <tr>\n",
       "      <th>5</th>\n",
       "      <td>-0.496701</td>\n",
       "      <td>-0.849659</td>\n",
       "      <td>-2.003173</td>\n",
       "      <td>1.233376</td>\n",
       "    </tr>\n",
       "    <tr>\n",
       "      <th>6</th>\n",
       "      <td>-0.764170</td>\n",
       "      <td>-1.306416</td>\n",
       "      <td>0.207907</td>\n",
       "      <td>-0.686093</td>\n",
       "    </tr>\n",
       "    <tr>\n",
       "      <th>7</th>\n",
       "      <td>-0.239412</td>\n",
       "      <td>1.451670</td>\n",
       "      <td>1.128574</td>\n",
       "      <td>1.055381</td>\n",
       "    </tr>\n",
       "  </tbody>\n",
       "</table>\n",
       "</div>"
      ],
      "text/plain": [
       "          A         B         C         D\n",
       "0  0.927817  2.680181 -0.349756  1.312155\n",
       "1 -0.098121 -0.612171 -0.426662 -0.533745\n",
       "2  0.349972  0.335776  0.577240 -0.632324\n",
       "3 -1.274365  0.926001  0.438324 -0.803412\n",
       "4  1.020059 -0.165565 -0.559882 -0.939661\n",
       "5 -0.496701 -0.849659 -2.003173  1.233376\n",
       "6 -0.764170 -1.306416  0.207907 -0.686093\n",
       "7 -0.239412  1.451670  1.128574  1.055381"
      ]
     },
     "execution_count": 19,
     "metadata": {},
     "output_type": "execute_result"
    }
   ],
   "source": [
    "df"
   ]
  },
  {
   "cell_type": "code",
   "execution_count": 20,
   "id": "1ab09526",
   "metadata": {},
   "outputs": [
    {
     "name": "stdout",
     "output_type": "stream",
     "text": [
      "          C         D\n",
      "1 -0.426662 -0.533745\n",
      "2  0.577240 -0.632324\n",
      "3  0.438324 -0.803412\n",
      "4 -0.559882 -0.939661\n"
     ]
    }
   ],
   "source": [
    "print(df.iloc[1:5, 2:4])"
   ]
  },
  {
   "cell_type": "code",
   "execution_count": 21,
   "id": "e878c815",
   "metadata": {},
   "outputs": [
    {
     "name": "stdout",
     "output_type": "stream",
     "text": [
      "          A         B         C         D\n",
      "1 -0.098121 -0.612171 -0.426662 -0.533745\n",
      "2  0.349972  0.335776  0.577240 -0.632324\n"
     ]
    }
   ],
   "source": [
    "print(df.iloc[1:3,:])"
   ]
  },
  {
   "cell_type": "code",
   "execution_count": 22,
   "id": "75a0b174",
   "metadata": {},
   "outputs": [
    {
     "name": "stdout",
     "output_type": "stream",
     "text": [
      "          B         C\n",
      "0  2.680181 -0.349756\n",
      "1 -0.612171 -0.426662\n",
      "2  0.335776  0.577240\n",
      "3  0.926001  0.438324\n",
      "4 -0.165565 -0.559882\n",
      "5 -0.849659 -2.003173\n",
      "6 -1.306416  0.207907\n",
      "7  1.451670  1.128574\n"
     ]
    }
   ],
   "source": [
    "print(df.iloc[:,1:3])"
   ]
  },
  {
   "cell_type": "code",
   "execution_count": 23,
   "id": "adb85fc3",
   "metadata": {},
   "outputs": [
    {
     "data": {
      "text/html": [
       "<div>\n",
       "<style scoped>\n",
       "    .dataframe tbody tr th:only-of-type {\n",
       "        vertical-align: middle;\n",
       "    }\n",
       "\n",
       "    .dataframe tbody tr th {\n",
       "        vertical-align: top;\n",
       "    }\n",
       "\n",
       "    .dataframe thead th {\n",
       "        text-align: right;\n",
       "    }\n",
       "</style>\n",
       "<table border=\"1\" class=\"dataframe\">\n",
       "  <thead>\n",
       "    <tr style=\"text-align: right;\">\n",
       "      <th></th>\n",
       "      <th>A</th>\n",
       "      <th>B</th>\n",
       "      <th>C</th>\n",
       "      <th>D</th>\n",
       "    </tr>\n",
       "  </thead>\n",
       "  <tbody>\n",
       "    <tr>\n",
       "      <th>0</th>\n",
       "      <td>0.927817</td>\n",
       "      <td>2.680181</td>\n",
       "      <td>-0.349756</td>\n",
       "      <td>1.312155</td>\n",
       "    </tr>\n",
       "    <tr>\n",
       "      <th>1</th>\n",
       "      <td>-0.098121</td>\n",
       "      <td>-0.612171</td>\n",
       "      <td>-0.426662</td>\n",
       "      <td>-0.533745</td>\n",
       "    </tr>\n",
       "    <tr>\n",
       "      <th>2</th>\n",
       "      <td>0.349972</td>\n",
       "      <td>0.335776</td>\n",
       "      <td>0.577240</td>\n",
       "      <td>-0.632324</td>\n",
       "    </tr>\n",
       "    <tr>\n",
       "      <th>3</th>\n",
       "      <td>-1.274365</td>\n",
       "      <td>0.926001</td>\n",
       "      <td>0.438324</td>\n",
       "      <td>-0.803412</td>\n",
       "    </tr>\n",
       "    <tr>\n",
       "      <th>4</th>\n",
       "      <td>1.020059</td>\n",
       "      <td>-0.165565</td>\n",
       "      <td>-0.559882</td>\n",
       "      <td>-0.939661</td>\n",
       "    </tr>\n",
       "    <tr>\n",
       "      <th>5</th>\n",
       "      <td>-0.496701</td>\n",
       "      <td>-0.849659</td>\n",
       "      <td>-2.003173</td>\n",
       "      <td>1.233376</td>\n",
       "    </tr>\n",
       "    <tr>\n",
       "      <th>6</th>\n",
       "      <td>-0.764170</td>\n",
       "      <td>-1.306416</td>\n",
       "      <td>0.207907</td>\n",
       "      <td>-0.686093</td>\n",
       "    </tr>\n",
       "    <tr>\n",
       "      <th>7</th>\n",
       "      <td>-0.239412</td>\n",
       "      <td>1.451670</td>\n",
       "      <td>1.128574</td>\n",
       "      <td>1.055381</td>\n",
       "    </tr>\n",
       "  </tbody>\n",
       "</table>\n",
       "</div>"
      ],
      "text/plain": [
       "          A         B         C         D\n",
       "0  0.927817  2.680181 -0.349756  1.312155\n",
       "1 -0.098121 -0.612171 -0.426662 -0.533745\n",
       "2  0.349972  0.335776  0.577240 -0.632324\n",
       "3 -1.274365  0.926001  0.438324 -0.803412\n",
       "4  1.020059 -0.165565 -0.559882 -0.939661\n",
       "5 -0.496701 -0.849659 -2.003173  1.233376\n",
       "6 -0.764170 -1.306416  0.207907 -0.686093\n",
       "7 -0.239412  1.451670  1.128574  1.055381"
      ]
     },
     "execution_count": 23,
     "metadata": {},
     "output_type": "execute_result"
    }
   ],
   "source": [
    "#Negative indexing\n",
    "df"
   ]
  },
  {
   "cell_type": "code",
   "execution_count": 24,
   "id": "0d9e78a1",
   "metadata": {},
   "outputs": [
    {
     "name": "stdout",
     "output_type": "stream",
     "text": [
      "0    1.312155\n",
      "1   -0.533745\n",
      "2   -0.632324\n",
      "3   -0.803412\n",
      "4   -0.939661\n",
      "5    1.233376\n",
      "6   -0.686093\n",
      "7    1.055381\n",
      "Name: D, dtype: float64\n"
     ]
    }
   ],
   "source": [
    "print(df.iloc[:,-1])"
   ]
  },
  {
   "cell_type": "code",
   "execution_count": 25,
   "id": "67904fd4",
   "metadata": {},
   "outputs": [
    {
     "name": "stdout",
     "output_type": "stream",
     "text": [
      "0    0.927817\n",
      "1   -0.098121\n",
      "2    0.349972\n",
      "3   -1.274365\n",
      "4    1.020059\n",
      "5   -0.496701\n",
      "6   -0.764170\n",
      "7   -0.239412\n",
      "Name: A, dtype: float64\n"
     ]
    }
   ],
   "source": [
    "print(df.iloc[:,-4])"
   ]
  },
  {
   "cell_type": "code",
   "execution_count": 27,
   "id": "93cb4ad2",
   "metadata": {},
   "outputs": [
    {
     "data": {
      "text/html": [
       "<div>\n",
       "<style scoped>\n",
       "    .dataframe tbody tr th:only-of-type {\n",
       "        vertical-align: middle;\n",
       "    }\n",
       "\n",
       "    .dataframe tbody tr th {\n",
       "        vertical-align: top;\n",
       "    }\n",
       "\n",
       "    .dataframe thead th {\n",
       "        text-align: right;\n",
       "    }\n",
       "</style>\n",
       "<table border=\"1\" class=\"dataframe\">\n",
       "  <thead>\n",
       "    <tr style=\"text-align: right;\">\n",
       "      <th></th>\n",
       "      <th>A</th>\n",
       "      <th>B</th>\n",
       "    </tr>\n",
       "  </thead>\n",
       "  <tbody>\n",
       "    <tr>\n",
       "      <th>2</th>\n",
       "      <td>0.349972</td>\n",
       "      <td>0.335776</td>\n",
       "    </tr>\n",
       "    <tr>\n",
       "      <th>3</th>\n",
       "      <td>-1.274365</td>\n",
       "      <td>0.926001</td>\n",
       "    </tr>\n",
       "    <tr>\n",
       "      <th>4</th>\n",
       "      <td>1.020059</td>\n",
       "      <td>-0.165565</td>\n",
       "    </tr>\n",
       "    <tr>\n",
       "      <th>5</th>\n",
       "      <td>-0.496701</td>\n",
       "      <td>-0.849659</td>\n",
       "    </tr>\n",
       "  </tbody>\n",
       "</table>\n",
       "</div>"
      ],
      "text/plain": [
       "          A         B\n",
       "2  0.349972  0.335776\n",
       "3 -1.274365  0.926001\n",
       "4  1.020059 -0.165565\n",
       "5 -0.496701 -0.849659"
      ]
     },
     "execution_count": 27,
     "metadata": {},
     "output_type": "execute_result"
    }
   ],
   "source": [
    "df.iloc[2:6,0:-2]"
   ]
  },
  {
   "cell_type": "code",
   "execution_count": 28,
   "id": "836d4f7b",
   "metadata": {},
   "outputs": [
    {
     "data": {
      "text/html": [
       "<div>\n",
       "<style scoped>\n",
       "    .dataframe tbody tr th:only-of-type {\n",
       "        vertical-align: middle;\n",
       "    }\n",
       "\n",
       "    .dataframe tbody tr th {\n",
       "        vertical-align: top;\n",
       "    }\n",
       "\n",
       "    .dataframe thead th {\n",
       "        text-align: right;\n",
       "    }\n",
       "</style>\n",
       "<table border=\"1\" class=\"dataframe\">\n",
       "  <thead>\n",
       "    <tr style=\"text-align: right;\">\n",
       "      <th></th>\n",
       "      <th>B</th>\n",
       "      <th>C</th>\n",
       "    </tr>\n",
       "  </thead>\n",
       "  <tbody>\n",
       "    <tr>\n",
       "      <th>3</th>\n",
       "      <td>0.926001</td>\n",
       "      <td>0.438324</td>\n",
       "    </tr>\n",
       "    <tr>\n",
       "      <th>4</th>\n",
       "      <td>-0.165565</td>\n",
       "      <td>-0.559882</td>\n",
       "    </tr>\n",
       "    <tr>\n",
       "      <th>5</th>\n",
       "      <td>-0.849659</td>\n",
       "      <td>-2.003173</td>\n",
       "    </tr>\n",
       "    <tr>\n",
       "      <th>6</th>\n",
       "      <td>-1.306416</td>\n",
       "      <td>0.207907</td>\n",
       "    </tr>\n",
       "  </tbody>\n",
       "</table>\n",
       "</div>"
      ],
      "text/plain": [
       "          B         C\n",
       "3  0.926001  0.438324\n",
       "4 -0.165565 -0.559882\n",
       "5 -0.849659 -2.003173\n",
       "6 -1.306416  0.207907"
      ]
     },
     "execution_count": 28,
     "metadata": {},
     "output_type": "execute_result"
    }
   ],
   "source": [
    "df.iloc[3:7,-3:-1]"
   ]
  },
  {
   "cell_type": "code",
   "execution_count": 29,
   "id": "a8b445aa",
   "metadata": {},
   "outputs": [
    {
     "data": {
      "text/html": [
       "<div>\n",
       "<style scoped>\n",
       "    .dataframe tbody tr th:only-of-type {\n",
       "        vertical-align: middle;\n",
       "    }\n",
       "\n",
       "    .dataframe tbody tr th {\n",
       "        vertical-align: top;\n",
       "    }\n",
       "\n",
       "    .dataframe thead th {\n",
       "        text-align: right;\n",
       "    }\n",
       "</style>\n",
       "<table border=\"1\" class=\"dataframe\">\n",
       "  <thead>\n",
       "    <tr style=\"text-align: right;\">\n",
       "      <th></th>\n",
       "      <th>A</th>\n",
       "      <th>B</th>\n",
       "      <th>C</th>\n",
       "    </tr>\n",
       "  </thead>\n",
       "  <tbody>\n",
       "    <tr>\n",
       "      <th>0</th>\n",
       "      <td>0.927817</td>\n",
       "      <td>2.680181</td>\n",
       "      <td>-0.349756</td>\n",
       "    </tr>\n",
       "    <tr>\n",
       "      <th>1</th>\n",
       "      <td>-0.098121</td>\n",
       "      <td>-0.612171</td>\n",
       "      <td>-0.426662</td>\n",
       "    </tr>\n",
       "    <tr>\n",
       "      <th>2</th>\n",
       "      <td>0.349972</td>\n",
       "      <td>0.335776</td>\n",
       "      <td>0.577240</td>\n",
       "    </tr>\n",
       "    <tr>\n",
       "      <th>3</th>\n",
       "      <td>-1.274365</td>\n",
       "      <td>0.926001</td>\n",
       "      <td>0.438324</td>\n",
       "    </tr>\n",
       "    <tr>\n",
       "      <th>4</th>\n",
       "      <td>1.020059</td>\n",
       "      <td>-0.165565</td>\n",
       "      <td>-0.559882</td>\n",
       "    </tr>\n",
       "    <tr>\n",
       "      <th>5</th>\n",
       "      <td>-0.496701</td>\n",
       "      <td>-0.849659</td>\n",
       "      <td>-2.003173</td>\n",
       "    </tr>\n",
       "    <tr>\n",
       "      <th>6</th>\n",
       "      <td>-0.764170</td>\n",
       "      <td>-1.306416</td>\n",
       "      <td>0.207907</td>\n",
       "    </tr>\n",
       "    <tr>\n",
       "      <th>7</th>\n",
       "      <td>-0.239412</td>\n",
       "      <td>1.451670</td>\n",
       "      <td>1.128574</td>\n",
       "    </tr>\n",
       "  </tbody>\n",
       "</table>\n",
       "</div>"
      ],
      "text/plain": [
       "          A         B         C\n",
       "0  0.927817  2.680181 -0.349756\n",
       "1 -0.098121 -0.612171 -0.426662\n",
       "2  0.349972  0.335776  0.577240\n",
       "3 -1.274365  0.926001  0.438324\n",
       "4  1.020059 -0.165565 -0.559882\n",
       "5 -0.496701 -0.849659 -2.003173\n",
       "6 -0.764170 -1.306416  0.207907\n",
       "7 -0.239412  1.451670  1.128574"
      ]
     },
     "execution_count": 29,
     "metadata": {},
     "output_type": "execute_result"
    }
   ],
   "source": [
    "df.iloc[:,-4:-1]"
   ]
  },
  {
   "cell_type": "code",
   "execution_count": 30,
   "id": "6738a10b",
   "metadata": {},
   "outputs": [
    {
     "data": {
      "text/html": [
       "<div>\n",
       "<style scoped>\n",
       "    .dataframe tbody tr th:only-of-type {\n",
       "        vertical-align: middle;\n",
       "    }\n",
       "\n",
       "    .dataframe tbody tr th {\n",
       "        vertical-align: top;\n",
       "    }\n",
       "\n",
       "    .dataframe thead th {\n",
       "        text-align: right;\n",
       "    }\n",
       "</style>\n",
       "<table border=\"1\" class=\"dataframe\">\n",
       "  <thead>\n",
       "    <tr style=\"text-align: right;\">\n",
       "      <th></th>\n",
       "      <th>C</th>\n",
       "    </tr>\n",
       "  </thead>\n",
       "  <tbody>\n",
       "    <tr>\n",
       "      <th>0</th>\n",
       "      <td>-0.349756</td>\n",
       "    </tr>\n",
       "    <tr>\n",
       "      <th>1</th>\n",
       "      <td>-0.426662</td>\n",
       "    </tr>\n",
       "    <tr>\n",
       "      <th>2</th>\n",
       "      <td>0.577240</td>\n",
       "    </tr>\n",
       "    <tr>\n",
       "      <th>3</th>\n",
       "      <td>0.438324</td>\n",
       "    </tr>\n",
       "    <tr>\n",
       "      <th>4</th>\n",
       "      <td>-0.559882</td>\n",
       "    </tr>\n",
       "    <tr>\n",
       "      <th>5</th>\n",
       "      <td>-2.003173</td>\n",
       "    </tr>\n",
       "    <tr>\n",
       "      <th>6</th>\n",
       "      <td>0.207907</td>\n",
       "    </tr>\n",
       "    <tr>\n",
       "      <th>7</th>\n",
       "      <td>1.128574</td>\n",
       "    </tr>\n",
       "  </tbody>\n",
       "</table>\n",
       "</div>"
      ],
      "text/plain": [
       "          C\n",
       "0 -0.349756\n",
       "1 -0.426662\n",
       "2  0.577240\n",
       "3  0.438324\n",
       "4 -0.559882\n",
       "5 -2.003173\n",
       "6  0.207907\n",
       "7  1.128574"
      ]
     },
     "execution_count": 30,
     "metadata": {},
     "output_type": "execute_result"
    }
   ],
   "source": [
    "df.iloc[:,-2:-1]"
   ]
  },
  {
   "cell_type": "code",
   "execution_count": 31,
   "id": "d4970b0b",
   "metadata": {},
   "outputs": [
    {
     "data": {
      "text/html": [
       "<div>\n",
       "<style scoped>\n",
       "    .dataframe tbody tr th:only-of-type {\n",
       "        vertical-align: middle;\n",
       "    }\n",
       "\n",
       "    .dataframe tbody tr th {\n",
       "        vertical-align: top;\n",
       "    }\n",
       "\n",
       "    .dataframe thead th {\n",
       "        text-align: right;\n",
       "    }\n",
       "</style>\n",
       "<table border=\"1\" class=\"dataframe\">\n",
       "  <thead>\n",
       "    <tr style=\"text-align: right;\">\n",
       "      <th></th>\n",
       "      <th>A</th>\n",
       "      <th>B</th>\n",
       "      <th>C</th>\n",
       "      <th>D</th>\n",
       "    </tr>\n",
       "  </thead>\n",
       "  <tbody>\n",
       "    <tr>\n",
       "      <th>1</th>\n",
       "      <td>-0.098121</td>\n",
       "      <td>-0.612171</td>\n",
       "      <td>-0.426662</td>\n",
       "      <td>-0.533745</td>\n",
       "    </tr>\n",
       "    <tr>\n",
       "      <th>2</th>\n",
       "      <td>0.349972</td>\n",
       "      <td>0.335776</td>\n",
       "      <td>0.577240</td>\n",
       "      <td>-0.632324</td>\n",
       "    </tr>\n",
       "    <tr>\n",
       "      <th>3</th>\n",
       "      <td>-1.274365</td>\n",
       "      <td>0.926001</td>\n",
       "      <td>0.438324</td>\n",
       "      <td>-0.803412</td>\n",
       "    </tr>\n",
       "  </tbody>\n",
       "</table>\n",
       "</div>"
      ],
      "text/plain": [
       "          A         B         C         D\n",
       "1 -0.098121 -0.612171 -0.426662 -0.533745\n",
       "2  0.349972  0.335776  0.577240 -0.632324\n",
       "3 -1.274365  0.926001  0.438324 -0.803412"
      ]
     },
     "execution_count": 31,
     "metadata": {},
     "output_type": "execute_result"
    }
   ],
   "source": [
    "df.iloc[1:4,-4:]"
   ]
  },
  {
   "cell_type": "markdown",
   "id": "14e3b587",
   "metadata": {},
   "source": [
    "# Pandas Visualization"
   ]
  },
  {
   "cell_type": "markdown",
   "id": "c93b2060",
   "metadata": {},
   "source": [
    "bar or barh for bar plots\n",
    "\n",
    "hist for histogram\n",
    "\n",
    "box for boxplot\n",
    "\n",
    "area for area plot\n",
    "\n",
    "scatter for scatter plot"
   ]
  },
  {
   "cell_type": "code",
   "execution_count": 32,
   "id": "a3dc7d21",
   "metadata": {},
   "outputs": [],
   "source": [
    "#Bar Plot\n",
    "import pandas as pd\n",
    "import numpy as np"
   ]
  },
  {
   "cell_type": "code",
   "execution_count": 33,
   "id": "30c1bf11",
   "metadata": {},
   "outputs": [
    {
     "name": "stdout",
     "output_type": "stream",
     "text": [
      "          a         b         c         d\n",
      "0  0.665230  0.704928  0.670562  0.296049\n",
      "1  0.880214  0.910308  0.420893  0.330755\n",
      "2  0.137609  0.445782  0.368445  0.904133\n",
      "3  0.867126  0.932316  0.898862  0.130906\n",
      "4  0.370788  0.817038  0.044253  0.960793\n",
      "5  0.320378  0.143742  0.530272  0.244910\n",
      "6  0.182279  0.946260  0.931158  0.376673\n",
      "7  0.018393  0.178443  0.035748  0.188356\n",
      "8  0.801462  0.109875  0.889915  0.894003\n",
      "9  0.562199  0.893224  0.257786  0.361437\n"
     ]
    },
    {
     "data": {
      "text/plain": [
       "<AxesSubplot:>"
      ]
     },
     "execution_count": 33,
     "metadata": {},
     "output_type": "execute_result"
    },
    {
     "data": {
      "image/png": "[encoded data removed]",
      "text/plain": [
       "<Figure size 432x288 with 1 Axes>"
      ]
     },
     "metadata": {
      "needs_background": "light"
     },
     "output_type": "display_data"
    }
   ],
   "source": [
    "df = pd.DataFrame(np.random.rand(10,4), columns=['a','b','c','d'])\n",
    "print(df)\n",
    "df.plot.bar()"
   ]
  },
  {
   "cell_type": "code",
   "execution_count": 34,
   "id": "4ca42e1a",
   "metadata": {},
   "outputs": [
    {
     "data": {
      "text/plain": [
       "<AxesSubplot:>"
      ]
     },
     "execution_count": 34,
     "metadata": {},
     "output_type": "execute_result"
    },
    {
     "data": {
      "image/png": "[encoded data removed]",
      "text/plain": [
       "<Figure size 432x288 with 1 Axes>"
      ]
     },
     "metadata": {
      "needs_background": "light"
     },
     "output_type": "display_data"
    }
   ],
   "source": [
    "df.plot.bar(stacked=True)"
   ]
  },
  {
   "cell_type": "code",
   "execution_count": 35,
   "id": "b8fef5f2",
   "metadata": {},
   "outputs": [
    {
     "data": {
      "text/plain": [
       "<AxesSubplot:>"
      ]
     },
     "execution_count": 35,
     "metadata": {},
     "output_type": "execute_result"
    },
    {
     "data": {
      "image/png": "[encoded data removed]",
      "text/plain": [
       "<Figure size 432x288 with 1 Axes>"
      ]
     },
     "metadata": {
      "needs_background": "light"
     },
     "output_type": "display_data"
    }
   ],
   "source": [
    "##To get horizontal bar plots, use the barh method –\n",
    "df.plot.barh(stacked=True)"
   ]
  },
  {
   "cell_type": "code",
   "execution_count": 36,
   "id": "b6c71799",
   "metadata": {},
   "outputs": [
    {
     "data": {
      "text/plain": [
       "<AxesSubplot:ylabel='Frequency'>"
      ]
     },
     "execution_count": 36,
     "metadata": {},
     "output_type": "execute_result"
    },
    {
     "data": {
      "image/png": "[encoded data removed]",
      "text/plain": [
       "<Figure size 432x288 with 1 Axes>"
      ]
     },
     "metadata": {
      "needs_background": "light"
     },
     "output_type": "display_data"
    }
   ],
   "source": [
    "#Histograms Histograms can be plotted using the plot.hist() method. We can specify number of bins.\n",
    "df.plot.hist()"
   ]
  },
  {
   "cell_type": "markdown",
   "id": "174cd3b9",
   "metadata": {},
   "source": [
    "Box Plots Boxplot can be drawn calling Series.boxplot() and DataFrame.boxplot(), or DataFrame.boxplot() to visualize the distribution of values within each column.\n",
    "For instance, here is a boxplot representing five trials of 10 observations of a uniform random variable on (0,1).\n"
   ]
  },
  {
   "cell_type": "code",
   "execution_count": 37,
   "id": "bce666b7",
   "metadata": {},
   "outputs": [
    {
     "name": "stdout",
     "output_type": "stream",
     "text": [
      "          A         B         C         D         E\n",
      "0  0.359171  0.991510  0.301446  0.854160  0.385883\n",
      "1  0.834048  0.885367  0.908821  0.704453  0.316228\n",
      "2  0.818534  0.733034  0.044657  0.975433  0.800749\n",
      "3  0.590113  0.062590  0.249323  0.048791  0.265981\n",
      "4  0.575141  0.954985  0.495637  0.666074  0.615811\n",
      "5  0.766326  0.217416  0.418785  0.303334  0.230921\n",
      "6  0.420856  0.540700  0.939916  0.856020  0.410353\n",
      "7  0.855681  0.016315  0.762074  0.952674  0.840991\n",
      "8  0.579532  0.409088  0.930170  0.823724  0.910731\n",
      "9  0.594819  0.419057  0.106232  0.037026  0.238538\n"
     ]
    },
    {
     "data": {
      "text/plain": [
       "<AxesSubplot:>"
      ]
     },
     "execution_count": 37,
     "metadata": {},
     "output_type": "execute_result"
    },
    {
     "data": {
      "image/png": "[encoded data removed]",
      "text/plain": [
       "<Figure size 432x288 with 1 Axes>"
      ]
     },
     "metadata": {
      "needs_background": "light"
     },
     "output_type": "display_data"
    }
   ],
   "source": [
    "df = pd.DataFrame(np.random.rand(10, 5), columns=['A','B','C','D','E'])\n",
    "print(df)\n",
    "df.plot.box()"
   ]
  },
  {
   "cell_type": "code",
   "execution_count": 38,
   "id": "1f2790b9",
   "metadata": {},
   "outputs": [],
   "source": [
    "#Area Plot\n",
    "#Area plot can be created using the Series.plot.area() or the DataFrame.plot.area() methods."
   ]
  },
  {
   "cell_type": "code",
   "execution_count": 40,
   "id": "de2ac8fb",
   "metadata": {},
   "outputs": [
    {
     "data": {
      "text/plain": [
       "<AxesSubplot:>"
      ]
     },
     "execution_count": 40,
     "metadata": {},
     "output_type": "execute_result"
    },
    {
     "data": {
      "image/png": "[encoded data removed]",
      "text/plain": [
       "<Figure size 432x288 with 1 Axes>"
      ]
     },
     "metadata": {
      "needs_background": "light"
     },
     "output_type": "display_data"
    }
   ],
   "source": [
    "df = pd.DataFrame(np.random.rand(10, 4), columns = ['a', 'b', 'c', 'd'])\n",
    "df.plot.area()"
   ]
  },
  {
   "cell_type": "code",
   "execution_count": 41,
   "id": "fb5cdeea",
   "metadata": {},
   "outputs": [],
   "source": [
    "#Scatter Plot\n",
    "#Scatter plot can be created using the DataFrame.plot.scatter() methods."
   ]
  },
  {
   "cell_type": "code",
   "execution_count": 42,
   "id": "01b75045",
   "metadata": {},
   "outputs": [
    {
     "data": {
      "text/plain": [
       "<AxesSubplot:xlabel='a', ylabel='b'>"
      ]
     },
     "execution_count": 42,
     "metadata": {},
     "output_type": "execute_result"
    },
    {
     "data": {
      "image/png": "[encoded data removed]",
      "text/plain": [
       "<Figure size 432x288 with 1 Axes>"
      ]
     },
     "metadata": {
      "needs_background": "light"
     },
     "output_type": "display_data"
    }
   ],
   "source": [
    "df = pd.DataFrame(np.random.rand(50, 4), columns=['a', 'b', 'c', 'd'])\n",
    "df.plot.scatter(x='a', y='b')"
   ]
  },
  {
   "cell_type": "markdown",
   "id": "f1a0a47c",
   "metadata": {},
   "source": [
    "Working with PANDAS FINAL\n",
    "\n",
    "Set Index\n",
    "\n",
    "Change the index\n",
    "\n",
    "Next in python pandas tutorial, we’ll understand how to change the index values in a dataframe. For example, let us create a dataframe with some key value pairs in a dictionary and change the index values. Consider the example below:\n",
    "Let us see how it actually happens"
   ]
  },
  {
   "cell_type": "code",
   "execution_count": 46,
   "id": "f1e912d4",
   "metadata": {},
   "outputs": [
    {
     "name": "stdout",
     "output_type": "stream",
     "text": [
      "   Day  Visitors  Bounce_Rate\n",
      "0    1       200           20\n",
      "1    2       100           45\n",
      "2    3       230           60\n",
      "3    4       300           10\n"
     ]
    },
    {
     "data": {
      "text/html": [
       "<div>\n",
       "<style scoped>\n",
       "    .dataframe tbody tr th:only-of-type {\n",
       "        vertical-align: middle;\n",
       "    }\n",
       "\n",
       "    .dataframe tbody tr th {\n",
       "        vertical-align: top;\n",
       "    }\n",
       "\n",
       "    .dataframe thead th {\n",
       "        text-align: right;\n",
       "    }\n",
       "</style>\n",
       "<table border=\"1\" class=\"dataframe\">\n",
       "  <thead>\n",
       "    <tr style=\"text-align: right;\">\n",
       "      <th></th>\n",
       "      <th>Visitors</th>\n",
       "      <th>Bounce_Rate</th>\n",
       "    </tr>\n",
       "    <tr>\n",
       "      <th>Day</th>\n",
       "      <th></th>\n",
       "      <th></th>\n",
       "    </tr>\n",
       "  </thead>\n",
       "  <tbody>\n",
       "    <tr>\n",
       "      <th>1</th>\n",
       "      <td>200</td>\n",
       "      <td>20</td>\n",
       "    </tr>\n",
       "    <tr>\n",
       "      <th>2</th>\n",
       "      <td>100</td>\n",
       "      <td>45</td>\n",
       "    </tr>\n",
       "    <tr>\n",
       "      <th>3</th>\n",
       "      <td>230</td>\n",
       "      <td>60</td>\n",
       "    </tr>\n",
       "    <tr>\n",
       "      <th>4</th>\n",
       "      <td>300</td>\n",
       "      <td>10</td>\n",
       "    </tr>\n",
       "  </tbody>\n",
       "</table>\n",
       "</div>"
      ],
      "text/plain": [
       "     Visitors  Bounce_Rate\n",
       "Day                       \n",
       "1         200           20\n",
       "2         100           45\n",
       "3         230           60\n",
       "4         300           10"
      ]
     },
     "execution_count": 46,
     "metadata": {},
     "output_type": "execute_result"
    }
   ],
   "source": [
    "import pandas as pd\n",
    "df=pd.DataFrame({\"Day\":[1,2,3,4], \"Visitors\":[200,100,230,300], \"Bounce_Rate\":[20,45,60,10]})\n",
    "print(df)\n",
    "df1=df.set_index(\"Day\")\n",
    "df1"
   ]
  },
  {
   "cell_type": "code",
   "execution_count": 48,
   "id": "039aa43b",
   "metadata": {},
   "outputs": [
    {
     "name": "stdout",
     "output_type": "stream",
     "text": [
      "     Visitors  Bounce_Rate\n",
      "Day                       \n",
      "1         200           20\n",
      "2         100           45\n",
      "3         230           60\n",
      "4         300           10\n"
     ]
    }
   ],
   "source": [
    "df.set_index(\"Day\", inplace=True)\n",
    "print(df)"
   ]
  },
  {
   "cell_type": "code",
   "execution_count": 49,
   "id": "bc3b6f7b",
   "metadata": {},
   "outputs": [
    {
     "name": "stdout",
     "output_type": "stream",
     "text": [
      "     Visitors  Bounce_Rate\n",
      "Day                       \n",
      "1         200           20\n",
      "2         100           45\n",
      "3         230           60\n",
      "4         300           10\n"
     ]
    }
   ],
   "source": [
    "print(df)"
   ]
  },
  {
   "cell_type": "markdown",
   "id": "12231192",
   "metadata": {},
   "source": [
    "Change the Column Headers\n",
    "Let us now change the headers of column in this python pandas tutorial. Let us take the same example, where I will change the column header from “Visitors” to “Users”. So, let me implement it practically\n"
   ]
  },
  {
   "cell_type": "code",
   "execution_count": 53,
   "id": "f9f0364c",
   "metadata": {},
   "outputs": [
    {
     "name": "stdout",
     "output_type": "stream",
     "text": [
      "     Users  Bounce_Rate\n",
      "Day                    \n",
      "1      200           20\n",
      "2      100           45\n",
      "3      230           60\n",
      "4      300           10\n"
     ]
    }
   ],
   "source": [
    "df = df.rename(columns={\"Visitors\" : \"Users\"})\n",
    "print(df)"
   ]
  }
 ],
 "metadata": {
  "kernelspec": {
   "display_name": "Python 3 (ipykernel)",
   "language": "python",
   "name": "python3"
  },
  "language_info": {
   "codemirror_mode": {
    "name": "ipython",
    "version": 3
   },
   "file_extension": ".py",
   "mimetype": "text/x-python",
   "name": "python",
   "nbconvert_exporter": "python",
   "pygments_lexer": "ipython3",
   "version": "3.9.12"
  }
 },
 "nbformat": 4,
 "nbformat_minor": 5
}
