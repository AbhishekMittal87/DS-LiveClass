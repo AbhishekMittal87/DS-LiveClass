{
 "cells": [
  {
   "cell_type": "markdown",
   "id": "4a28ff0a",
   "metadata": {},
   "source": [
    "If Constructs"
   ]
  },
  {
   "cell_type": "code",
   "execution_count": 5,
   "id": "2358c03c",
   "metadata": {},
   "outputs": [
    {
     "name": "stdout",
     "output_type": "stream",
     "text": [
      "Marks is greater than 50\n"
     ]
    }
   ],
   "source": [
    "marks=60\n",
    "if marks >50:\n",
    "    print('Marks is greater than 50')\n",
    "else:\n",
    "    print('Marks is less than 50')"
   ]
  },
  {
   "cell_type": "code",
   "execution_count": 7,
   "id": "7f9bf580",
   "metadata": {},
   "outputs": [
    {
     "name": "stdout",
     "output_type": "stream",
     "text": [
      "Marks is less than 50\n"
     ]
    }
   ],
   "source": [
    "marks=20\n",
    "if marks>50:\n",
    "\tprint('Marks is greater than 50')\n",
    "else:\n",
    "\tprint('Marks is less than 50')"
   ]
  },
  {
   "cell_type": "code",
   "execution_count": 8,
   "id": "3785b1c5",
   "metadata": {},
   "outputs": [
    {
     "name": "stdout",
     "output_type": "stream",
     "text": [
      "The value of x is greater than 100\n"
     ]
    }
   ],
   "source": [
    "x=150\n",
    "if x>100:\n",
    "\tprint('The value of x is greater than 100')\n",
    "else:\n",
    "\tprint('The value of x is less than 100')"
   ]
  },
  {
   "cell_type": "code",
   "execution_count": 10,
   "id": "cc9fe8ff",
   "metadata": {},
   "outputs": [
    {
     "name": "stdout",
     "output_type": "stream",
     "text": [
      "The number is even\n"
     ]
    }
   ],
   "source": [
    "#odd or even find\n",
    "x=10\n",
    "if x%2==0:\n",
    "\tprint('The number is even')\n",
    "else:\n",
    "\tprint('The number is odd')"
   ]
  },
  {
   "cell_type": "code",
   "execution_count": 11,
   "id": "9aea2765",
   "metadata": {},
   "outputs": [
    {
     "name": "stdout",
     "output_type": "stream",
     "text": [
      "The number is odd\n"
     ]
    }
   ],
   "source": [
    "x=11\n",
    "if x%2==0:\n",
    "\tprint('The number is even')\n",
    "else:\n",
    "\tprint('The number is odd')"
   ]
  },
  {
   "cell_type": "code",
   "execution_count": 12,
   "id": "dbd30575",
   "metadata": {},
   "outputs": [
    {
     "name": "stdout",
     "output_type": "stream",
     "text": [
      "The number is even\n"
     ]
    }
   ],
   "source": [
    "x=10\n",
    "if x%2==1:\n",
    "\tprint('The number is odd')\n",
    "else:\n",
    "\tprint('The number is even')"
   ]
  },
  {
   "cell_type": "code",
   "execution_count": 13,
   "id": "bc1239b5",
   "metadata": {},
   "outputs": [
    {
     "name": "stdout",
     "output_type": "stream",
     "text": [
      "The number is odd\n"
     ]
    }
   ],
   "source": [
    "x=13\n",
    "if x%2==1:\n",
    "\tprint('The number is odd')\n",
    "else:\n",
    "\tprint('The number is even')"
   ]
  },
  {
   "cell_type": "code",
   "execution_count": 16,
   "id": "ef980173",
   "metadata": {},
   "outputs": [
    {
     "name": "stdout",
     "output_type": "stream",
     "text": [
      "Enter any value20\n",
      "even\n"
     ]
    }
   ],
   "source": [
    "p=int(input(\"Enter any value\"))\n",
    "if p%2==0:\n",
    "\tprint(\"even\")\n",
    "else:\n",
    "\tprint(\"odd\")"
   ]
  },
  {
   "cell_type": "code",
   "execution_count": 18,
   "id": "898a15e9",
   "metadata": {},
   "outputs": [
    {
     "name": "stdout",
     "output_type": "stream",
     "text": [
      "Excellent\n"
     ]
    }
   ],
   "source": [
    "marks=90\n",
    "if marks==90:\n",
    "\tprint(\"Excellent\")\n",
    "else:\n",
    "\tprint(\"Average\")"
   ]
  },
  {
   "cell_type": "code",
   "execution_count": 19,
   "id": "3bd4d341",
   "metadata": {},
   "outputs": [
    {
     "name": "stdout",
     "output_type": "stream",
     "text": [
      "1\n",
      "2\n",
      "3\n"
     ]
    }
   ],
   "source": [
    "#iteration\n",
    "my_iterable=[1,2,3]\n",
    "for item_name in my_iterable:\n",
    "    print(item_name)"
   ]
  },
  {
   "cell_type": "code",
   "execution_count": 20,
   "id": "8084119b",
   "metadata": {},
   "outputs": [
    {
     "name": "stdout",
     "output_type": "stream",
     "text": [
      "1\n",
      "2\n",
      "3\n",
      "4\n",
      "5\n",
      "6\n",
      "7\n",
      "8\n",
      "9\n",
      "10\n"
     ]
    }
   ],
   "source": [
    "mylist=[1,2,3,4,5,6,7,8,9,10]\n",
    "for num in mylist:\n",
    "\tprint(num)"
   ]
  },
  {
   "cell_type": "code",
   "execution_count": 21,
   "id": "4b5c3193",
   "metadata": {},
   "outputs": [
    {
     "name": "stdout",
     "output_type": "stream",
     "text": [
      "hello hello hello hello hello hello hello hello hello hello "
     ]
    }
   ],
   "source": [
    "mylist=[1,2,3,4,5,6,7,8,9,10]\n",
    "for num in mylist:\n",
    "\tprint(\"hello\", end=\" \")"
   ]
  },
  {
   "cell_type": "code",
   "execution_count": 23,
   "id": "398526d1",
   "metadata": {},
   "outputs": [
    {
     "name": "stdout",
     "output_type": "stream",
     "text": [
      "2 4 6 8 10 "
     ]
    }
   ],
   "source": [
    "mylist=[1,2,3,4,5,6,7,8,9,10]\n",
    "for num in mylist:\n",
    "\tif num%2==0:\n",
    "\t\tprint(num, end=\" \")"
   ]
  },
  {
   "cell_type": "code",
   "execution_count": 28,
   "id": "223f19b9",
   "metadata": {},
   "outputs": [
    {
     "name": "stdout",
     "output_type": "stream",
     "text": [
      "odd numbers: (num)\n",
      "num\n",
      "odd numbers: (num)\n",
      "num\n",
      "odd numbers: (num)\n",
      "num\n",
      "odd numbers: (num)\n",
      "num\n",
      "odd numbers: (num)\n",
      "num\n"
     ]
    }
   ],
   "source": [
    "mylist=[1,2,3,4,5,6,7,8,9,10]\n",
    "for num in mylist:\n",
    "\tif num%2==0:\n",
    "\t\tprint(\"num\")\n",
    "\telse:\n",
    "\t\tprint(f'odd numbers: (num)')"
   ]
  },
  {
   "cell_type": "code",
   "execution_count": 31,
   "id": "8cd869cb",
   "metadata": {},
   "outputs": [
    {
     "name": "stdout",
     "output_type": "stream",
     "text": [
      "1 3 6 10 15 21 28 36 45 55 "
     ]
    }
   ],
   "source": [
    "list_sum=0\n",
    "for num in mylist:\n",
    "\tlist_sum=list_sum+num\n",
    "\tprint(list_sum, end=\" \")"
   ]
  },
  {
   "cell_type": "code",
   "execution_count": 32,
   "id": "7bc2dd76",
   "metadata": {},
   "outputs": [
    {
     "name": "stdout",
     "output_type": "stream",
     "text": [
      "55\n"
     ]
    }
   ],
   "source": [
    "list_sum=0\n",
    "for num in mylist:\n",
    "\tlist_sum=list_sum+num\n",
    "print(list_sum)"
   ]
  },
  {
   "cell_type": "code",
   "execution_count": 34,
   "id": "1dc7f987",
   "metadata": {},
   "outputs": [
    {
     "name": "stdout",
     "output_type": "stream",
     "text": [
      "h e l l o   w o r l d "
     ]
    }
   ],
   "source": [
    "mystring=\"hello world\"\n",
    "for letter in mystring:\n",
    "\tprint(letter, end=\" \")"
   ]
  },
  {
   "cell_type": "code",
   "execution_count": 35,
   "id": "d252e1ec",
   "metadata": {},
   "outputs": [
    {
     "name": "stdout",
     "output_type": "stream",
     "text": [
      "(1, 2)\n",
      "(2, 3)\n",
      "(3, 4)\n",
      "(4, 6)\n"
     ]
    }
   ],
   "source": [
    "mylist=[(1,2),(2,3),(3,4),(4,6)]\n",
    "len(mylist)\n",
    "for item in mylist:\n",
    "\tprint(item)"
   ]
  },
  {
   "cell_type": "code",
   "execution_count": 36,
   "id": "ec58577f",
   "metadata": {},
   "outputs": [
    {
     "name": "stdout",
     "output_type": "stream",
     "text": [
      "1\n",
      "2\n",
      "2\n",
      "3\n",
      "3\n",
      "4\n",
      "4\n",
      "6\n"
     ]
    }
   ],
   "source": [
    "mylist=[(1,2),(2,3),(3,4),(4,6)]\n",
    "len(mylist)\n",
    "for (a,b) in mylist:\n",
    "\tprint(a)\n",
    "\tprint(b)"
   ]
  },
  {
   "cell_type": "code",
   "execution_count": 38,
   "id": "962ee7b3",
   "metadata": {},
   "outputs": [
    {
     "name": "stdout",
     "output_type": "stream",
     "text": [
      "0 1 2 3 4 5 6 7 8 9 "
     ]
    }
   ],
   "source": [
    "for num in range(10):\n",
    "\tprint(num, end=\" \")"
   ]
  },
  {
   "cell_type": "code",
   "execution_count": 40,
   "id": "7f37a47f",
   "metadata": {},
   "outputs": [
    {
     "name": "stdout",
     "output_type": "stream",
     "text": [
      "0 2 4 6 8 10 12 14 16 18 "
     ]
    }
   ],
   "source": [
    "for num in range(0,20,2):\n",
    "\tprint(num, end=\" \")"
   ]
  },
  {
   "cell_type": "code",
   "execution_count": 42,
   "id": "dfec3413",
   "metadata": {},
   "outputs": [
    {
     "name": "stdout",
     "output_type": "stream",
     "text": [
      "1\n",
      "2\n",
      "3\n",
      "4\n",
      "5\n"
     ]
    }
   ],
   "source": [
    "for i in[1,2,3,4,5]:\n",
    "    print(i)"
   ]
  },
  {
   "cell_type": "markdown",
   "id": "7cbfdf91",
   "metadata": {},
   "source": [
    "Break Statement"
   ]
  },
  {
   "cell_type": "code",
   "execution_count": 44,
   "id": "791605f5",
   "metadata": {},
   "outputs": [
    {
     "name": "stdout",
     "output_type": "stream",
     "text": [
      "1\n",
      "2\n"
     ]
    }
   ],
   "source": [
    "#break\n",
    "for i in[1,2,3,4,5]:\n",
    "    if i==3:\n",
    "        break\n",
    "    print(i)"
   ]
  },
  {
   "cell_type": "code",
   "execution_count": 46,
   "id": "2d393115",
   "metadata": {},
   "outputs": [
    {
     "name": "stdout",
     "output_type": "stream",
     "text": [
      "apple mango banana orange grapes "
     ]
    }
   ],
   "source": [
    "for i in['apple', 'mango', 'banana', 'orange', 'grapes']:\n",
    "\tprint(i, end=\" \")"
   ]
  },
  {
   "cell_type": "code",
   "execution_count": 48,
   "id": "8e35c459",
   "metadata": {},
   "outputs": [
    {
     "name": "stdout",
     "output_type": "stream",
     "text": [
      "apple\n",
      "mango\n"
     ]
    }
   ],
   "source": [
    "for i in['apple', 'mango', 'banana', 'orange', 'grapes']:\n",
    "    if i == 'banana':\n",
    "        break\n",
    "    print(i)"
   ]
  },
  {
   "cell_type": "code",
   "execution_count": 52,
   "id": "ffccab68",
   "metadata": {},
   "outputs": [
    {
     "name": "stdout",
     "output_type": "stream",
     "text": [
      "10\n",
      "20\n"
     ]
    }
   ],
   "source": [
    "for k in[10,20,30,40,50] :\n",
    "    if k==30:\n",
    "        break\n",
    "    print(k)"
   ]
  },
  {
   "cell_type": "code",
   "execution_count": 53,
   "id": "b96e18c0",
   "metadata": {},
   "outputs": [
    {
     "name": "stdout",
     "output_type": "stream",
     "text": [
      "1\n",
      "end\n",
      "2\n",
      "end\n",
      "3\n",
      "end\n",
      "4\n",
      "end\n",
      "5\n",
      "end\n"
     ]
    }
   ],
   "source": [
    "for i in[1,2,3,4,5]:\n",
    "    print(i)\n",
    "    print(\"end\")"
   ]
  },
  {
   "cell_type": "code",
   "execution_count": 54,
   "id": "6a865a9c",
   "metadata": {},
   "outputs": [
    {
     "name": "stdout",
     "output_type": "stream",
     "text": [
      "1\n",
      "end\n",
      "2\n",
      "end\n"
     ]
    }
   ],
   "source": [
    "for i in[1,2,3,4,5]:\n",
    "    if i==3:\n",
    "        break\n",
    "    print(i)\n",
    "    print(\"end\")"
   ]
  },
  {
   "cell_type": "code",
   "execution_count": 55,
   "id": "4c04f1ff",
   "metadata": {},
   "outputs": [
    {
     "name": "stdout",
     "output_type": "stream",
     "text": [
      "apple\n",
      "end\n",
      "mango\n",
      "end\n",
      "banana\n",
      "end\n",
      "orange\n",
      "end\n",
      "grapes\n",
      "end\n"
     ]
    }
   ],
   "source": [
    "for i in['apple', 'mango', 'banana', 'orange', 'grapes']:\n",
    "\tprint(i)\n",
    "\tprint(\"end\")"
   ]
  },
  {
   "cell_type": "code",
   "execution_count": 56,
   "id": "de31fa33",
   "metadata": {},
   "outputs": [
    {
     "name": "stdout",
     "output_type": "stream",
     "text": [
      "apple\n",
      "end\n",
      "mango\n",
      "end\n"
     ]
    }
   ],
   "source": [
    "for i in['apple', 'mango', 'banana', 'orange', 'grapes']:\n",
    "    if i == 'banana':\n",
    "        break\n",
    "    print(i)\n",
    "    print(\"end\")"
   ]
  },
  {
   "cell_type": "code",
   "execution_count": 59,
   "id": "34b0fee8",
   "metadata": {},
   "outputs": [
    {
     "name": "stdout",
     "output_type": "stream",
     "text": [
      "10\n",
      "end\n",
      "20\n",
      "end\n"
     ]
    }
   ],
   "source": [
    "for k in [10,20,30,40,50]:\n",
    "    if k==30:\n",
    "        break\n",
    "    print(k)\n",
    "    print(\"end\")"
   ]
  },
  {
   "cell_type": "code",
   "execution_count": 63,
   "id": "ec378a00",
   "metadata": {},
   "outputs": [
    {
     "name": "stdout",
     "output_type": "stream",
     "text": [
      "10\n",
      "end\n",
      "20\n",
      "end\n",
      "end of for loop\n"
     ]
    }
   ],
   "source": [
    "for k in[10,20,30,40,50]:\n",
    "    if k==30:\n",
    "        break\n",
    "    print(k)\n",
    "    print(\"end\")\n",
    "print(\"end of for loop\")"
   ]
  },
  {
   "cell_type": "code",
   "execution_count": 65,
   "id": "9d41373a",
   "metadata": {},
   "outputs": [
    {
     "name": "stdout",
     "output_type": "stream",
     "text": [
      "10\n",
      "end\n",
      "end of for loop\n",
      "20\n",
      "end\n",
      "end of for loop\n"
     ]
    }
   ],
   "source": [
    "for k in[10,20,30,40,50]:\n",
    "    if k==30:\n",
    "        break\n",
    "    print(k)\n",
    "    print(\"end\")\n",
    "    print(\"end of for loop\")"
   ]
  },
  {
   "cell_type": "code",
   "execution_count": 66,
   "id": "c5c39a05",
   "metadata": {},
   "outputs": [
    {
     "name": "stdout",
     "output_type": "stream",
     "text": [
      "1\n",
      "2\n",
      "3\n",
      "4\n",
      "5\n"
     ]
    }
   ],
   "source": [
    "for i in[1,2,3,4,5]:\n",
    "    print(i)"
   ]
  },
  {
   "cell_type": "markdown",
   "id": "67c3d5d3",
   "metadata": {},
   "source": [
    "Continue Statement"
   ]
  },
  {
   "cell_type": "code",
   "execution_count": 67,
   "id": "c0a7f4c5",
   "metadata": {},
   "outputs": [
    {
     "name": "stdout",
     "output_type": "stream",
     "text": [
      "1\n",
      "2\n",
      "4\n",
      "5\n"
     ]
    }
   ],
   "source": [
    "#continue\n",
    "for i in[1,2,3,4,5]:\n",
    "    if i==3:\n",
    "        continue\n",
    "    print(i)"
   ]
  },
  {
   "cell_type": "code",
   "execution_count": 2,
   "id": "50e9d5ff",
   "metadata": {},
   "outputs": [
    {
     "name": "stdout",
     "output_type": "stream",
     "text": [
      "10\n",
      "20\n",
      "30\n",
      "50\n"
     ]
    }
   ],
   "source": [
    "for j in[10,20,30,40,50]:\n",
    "    if j==40:\n",
    "        continue\n",
    "    print(j)"
   ]
  },
  {
   "cell_type": "code",
   "execution_count": 69,
   "id": "62431834",
   "metadata": {},
   "outputs": [
    {
     "name": "stdout",
     "output_type": "stream",
     "text": [
      "10\n",
      "end\n",
      "20\n",
      "end\n",
      "30\n",
      "end\n",
      "40\n",
      "end\n",
      "50\n",
      "end\n"
     ]
    }
   ],
   "source": [
    "for j in[10,20,30,40,50]:\n",
    "    if i==40:\n",
    "        continue\n",
    "    print(j)\n",
    "    print(\"end\")"
   ]
  },
  {
   "cell_type": "code",
   "execution_count": 4,
   "id": "aad32f02",
   "metadata": {},
   "outputs": [
    {
     "name": "stdout",
     "output_type": "stream",
     "text": [
      "10\n",
      "end\n",
      "20\n",
      "end\n",
      "30\n",
      "end\n",
      "50\n",
      "end\n",
      "End of the continue statement\n"
     ]
    }
   ],
   "source": [
    "for j in[10,20,30,40,50]:\n",
    "    if j==40:\n",
    "        continue\n",
    "    print(j)\n",
    "    print(\"end\")\n",
    "print(\"End of the continue statement\")"
   ]
  },
  {
   "cell_type": "code",
   "execution_count": 6,
   "id": "60fc3699",
   "metadata": {},
   "outputs": [
    {
     "name": "stdout",
     "output_type": "stream",
     "text": [
      "apple\n",
      "mango\n",
      "grapes\n",
      "papaya\n"
     ]
    }
   ],
   "source": [
    "for p in ['apple', 'mango', 'banana', 'grapes', 'papaya']:\n",
    "    if p == 'banana':\n",
    "        continue\n",
    "    print(p)"
   ]
  },
  {
   "cell_type": "code",
   "execution_count": 7,
   "id": "05972372",
   "metadata": {},
   "outputs": [
    {
     "name": "stdout",
     "output_type": "stream",
     "text": [
      "a\n",
      "b\n",
      "d\n"
     ]
    }
   ],
   "source": [
    "for p in ['a', 'b', 'c', 'd']:\n",
    "    if p =='c':\n",
    "        continue\n",
    "    print(p)"
   ]
  },
  {
   "cell_type": "markdown",
   "id": "2f8dfe0e",
   "metadata": {},
   "source": [
    "List Comprehension"
   ]
  },
  {
   "cell_type": "code",
   "execution_count": 71,
   "id": "80b5464f",
   "metadata": {},
   "outputs": [
    {
     "data": {
      "text/plain": [
       "[10, 20, 30, 40, 50]"
      ]
     },
     "execution_count": 71,
     "metadata": {},
     "output_type": "execute_result"
    }
   ],
   "source": [
    "#list comprehension\n",
    "list1=[10,20,30,40,50]\n",
    "s=[s for s in list1]\n",
    "s"
   ]
  },
  {
   "cell_type": "code",
   "execution_count": 72,
   "id": "9d329dc6",
   "metadata": {},
   "outputs": [
    {
     "data": {
      "text/plain": [
       "[1, 2, 3, 4, 5, 6, 7, 8, 9, 10]"
      ]
     },
     "execution_count": 72,
     "metadata": {},
     "output_type": "execute_result"
    }
   ],
   "source": [
    "list2=[1,2,3,4,5,6,7,8,9,10]\n",
    "m=[p for p in list2]\n",
    "m"
   ]
  },
  {
   "cell_type": "code",
   "execution_count": 73,
   "id": "945e2b8a",
   "metadata": {},
   "outputs": [
    {
     "data": {
      "text/plain": [
       "[2, 4, 6, 8, 10]"
      ]
     },
     "execution_count": 73,
     "metadata": {},
     "output_type": "execute_result"
    }
   ],
   "source": [
    "list2=[1,2,3,4,5,6,7,8,9,10]\n",
    "c=[p for p in list2 if p%2==0]\n",
    "c"
   ]
  },
  {
   "cell_type": "code",
   "execution_count": 74,
   "id": "aec4806d",
   "metadata": {},
   "outputs": [
    {
     "data": {
      "text/plain": [
       "[1, 3, 5, 7, 9]"
      ]
     },
     "execution_count": 74,
     "metadata": {},
     "output_type": "execute_result"
    }
   ],
   "source": [
    "list2=[1,2,3,4,5,6,7,8,9,10]\n",
    "c=[p for p in list2 if p%2!=0]\n",
    "c"
   ]
  }
 ],
 "metadata": {
  "kernelspec": {
   "display_name": "Python 3 (ipykernel)",
   "language": "python",
   "name": "python3"
  },
  "language_info": {
   "codemirror_mode": {
    "name": "ipython",
    "version": 3
   },
   "file_extension": ".py",
   "mimetype": "text/x-python",
   "name": "python",
   "nbconvert_exporter": "python",
   "pygments_lexer": "ipython3",
   "version": "3.9.12"
  }
 },
 "nbformat": 4,
 "nbformat_minor": 5
}
