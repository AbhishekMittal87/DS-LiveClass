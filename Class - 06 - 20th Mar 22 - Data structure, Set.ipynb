{
 "cells": [
  {
   "cell_type": "code",
   "execution_count": 3,
   "id": "84ea6d06",
   "metadata": {},
   "outputs": [],
   "source": [
    "#data structure\n",
    "mydict={'key1':'value1','key2':'value2','key3':'value3'}"
   ]
  },
  {
   "cell_type": "code",
   "execution_count": 4,
   "id": "49d3c139",
   "metadata": {},
   "outputs": [],
   "source": [
    "mydict={'Empid':101,'Name':'AAA','dept':'Sales'}"
   ]
  },
  {
   "cell_type": "code",
   "execution_count": 5,
   "id": "2393cdd0",
   "metadata": {},
   "outputs": [
    {
     "data": {
      "text/plain": [
       "101"
      ]
     },
     "execution_count": 5,
     "metadata": {},
     "output_type": "execute_result"
    }
   ],
   "source": [
    "mydict['Empid']"
   ]
  },
  {
   "cell_type": "code",
   "execution_count": 6,
   "id": "0799e73c",
   "metadata": {},
   "outputs": [
    {
     "data": {
      "text/plain": [
       "'AAA'"
      ]
     },
     "execution_count": 6,
     "metadata": {},
     "output_type": "execute_result"
    }
   ],
   "source": [
    "mydict['Name'] "
   ]
  },
  {
   "cell_type": "code",
   "execution_count": 7,
   "id": "5f58e99d",
   "metadata": {},
   "outputs": [
    {
     "data": {
      "text/plain": [
       "'Sales'"
      ]
     },
     "execution_count": 7,
     "metadata": {},
     "output_type": "execute_result"
    }
   ],
   "source": [
    "mydict['dept']"
   ]
  },
  {
   "cell_type": "code",
   "execution_count": 8,
   "id": "2829b9f5",
   "metadata": {},
   "outputs": [],
   "source": [
    "#update data\n",
    "mydict['dept']='Marketing'"
   ]
  },
  {
   "cell_type": "code",
   "execution_count": 9,
   "id": "5a461025",
   "metadata": {},
   "outputs": [
    {
     "data": {
      "text/plain": [
       "'Marketing'"
      ]
     },
     "execution_count": 9,
     "metadata": {},
     "output_type": "execute_result"
    }
   ],
   "source": [
    "mydict['dept']"
   ]
  },
  {
   "cell_type": "code",
   "execution_count": 10,
   "id": "e8d2428b",
   "metadata": {},
   "outputs": [
    {
     "data": {
      "text/plain": [
       "{'Empid': 101, 'Name': 'AAA', 'dept': 'Marketing'}"
      ]
     },
     "execution_count": 10,
     "metadata": {},
     "output_type": "execute_result"
    }
   ],
   "source": [
    "mydict"
   ]
  },
  {
   "cell_type": "code",
   "execution_count": 11,
   "id": "d7c3de4e",
   "metadata": {},
   "outputs": [],
   "source": [
    "mydict={'Empid':101,'Name':'AAA','dept':'Marketing'}"
   ]
  },
  {
   "cell_type": "code",
   "execution_count": 12,
   "id": "9f6af9b0",
   "metadata": {},
   "outputs": [
    {
     "data": {
      "text/plain": [
       "{'Empid': 101, 'Name': 'AAA', 'dept': 'Marketing'}"
      ]
     },
     "execution_count": 12,
     "metadata": {},
     "output_type": "execute_result"
    }
   ],
   "source": [
    "mydict"
   ]
  },
  {
   "cell_type": "code",
   "execution_count": 13,
   "id": "5ec0033c",
   "metadata": {},
   "outputs": [
    {
     "data": {
      "text/plain": [
       "dict_keys(['Empid', 'Name', 'dept'])"
      ]
     },
     "execution_count": 13,
     "metadata": {},
     "output_type": "execute_result"
    }
   ],
   "source": [
    "mydict.keys()"
   ]
  },
  {
   "cell_type": "code",
   "execution_count": 14,
   "id": "7ae19b09",
   "metadata": {},
   "outputs": [
    {
     "data": {
      "text/plain": [
       "dict_values([101, 'AAA', 'Marketing'])"
      ]
     },
     "execution_count": 14,
     "metadata": {},
     "output_type": "execute_result"
    }
   ],
   "source": [
    "mydict.values()"
   ]
  },
  {
   "cell_type": "code",
   "execution_count": 15,
   "id": "e900746c",
   "metadata": {},
   "outputs": [
    {
     "data": {
      "text/plain": [
       "dict_items([('Empid', 101), ('Name', 'AAA'), ('dept', 'Marketing')])"
      ]
     },
     "execution_count": 15,
     "metadata": {},
     "output_type": "execute_result"
    }
   ],
   "source": [
    "mydict.items()"
   ]
  },
  {
   "cell_type": "code",
   "execution_count": 16,
   "id": "95f61eea",
   "metadata": {},
   "outputs": [],
   "source": [
    "dict1={'Name':'Abhi', 'Age':7, 'Class':'First'}"
   ]
  },
  {
   "cell_type": "code",
   "execution_count": 17,
   "id": "3855215b",
   "metadata": {},
   "outputs": [
    {
     "data": {
      "text/plain": [
       "{'Name': 'Abhi', 'Age': 7, 'Class': 'First'}"
      ]
     },
     "execution_count": 17,
     "metadata": {},
     "output_type": "execute_result"
    }
   ],
   "source": [
    "dict1"
   ]
  },
  {
   "cell_type": "code",
   "execution_count": 18,
   "id": "8753bf1d",
   "metadata": {},
   "outputs": [
    {
     "data": {
      "text/plain": [
       "'Abhi'"
      ]
     },
     "execution_count": 18,
     "metadata": {},
     "output_type": "execute_result"
    }
   ],
   "source": [
    "dict1['Name']"
   ]
  },
  {
   "cell_type": "code",
   "execution_count": 19,
   "id": "7793ab0e",
   "metadata": {},
   "outputs": [
    {
     "name": "stdout",
     "output_type": "stream",
     "text": [
      "7\n"
     ]
    }
   ],
   "source": [
    "print(dict1['Age'])"
   ]
  },
  {
   "cell_type": "code",
   "execution_count": 20,
   "id": "b1ce851b",
   "metadata": {},
   "outputs": [],
   "source": [
    "dict1['Age']=10"
   ]
  },
  {
   "cell_type": "code",
   "execution_count": 21,
   "id": "0f98a092",
   "metadata": {},
   "outputs": [
    {
     "data": {
      "text/plain": [
       "{'Name': 'Abhi', 'Age': 10, 'Class': 'First'}"
      ]
     },
     "execution_count": 21,
     "metadata": {},
     "output_type": "execute_result"
    }
   ],
   "source": [
    "dict1"
   ]
  },
  {
   "cell_type": "code",
   "execution_count": 22,
   "id": "39a698e5",
   "metadata": {},
   "outputs": [
    {
     "name": "stdout",
     "output_type": "stream",
     "text": [
      "First\n"
     ]
    }
   ],
   "source": [
    "print(dict1['Class'])"
   ]
  },
  {
   "cell_type": "code",
   "execution_count": 23,
   "id": "8551ee9d",
   "metadata": {},
   "outputs": [
    {
     "name": "stdout",
     "output_type": "stream",
     "text": [
      "dict['Name']: Abhi\n"
     ]
    }
   ],
   "source": [
    "print(\"dict['Name']:\",dict1['Name'])"
   ]
  },
  {
   "cell_type": "code",
   "execution_count": 24,
   "id": "1f6983ee",
   "metadata": {},
   "outputs": [
    {
     "data": {
      "text/plain": [
       "3"
      ]
     },
     "execution_count": 24,
     "metadata": {},
     "output_type": "execute_result"
    }
   ],
   "source": [
    "len(dict1)"
   ]
  },
  {
   "cell_type": "code",
   "execution_count": 25,
   "id": "41d615ab",
   "metadata": {},
   "outputs": [
    {
     "data": {
      "text/plain": [
       "dict_keys(['Name', 'Age', 'Class'])"
      ]
     },
     "execution_count": 25,
     "metadata": {},
     "output_type": "execute_result"
    }
   ],
   "source": [
    "dict1.keys()"
   ]
  },
  {
   "cell_type": "code",
   "execution_count": 26,
   "id": "c871926f",
   "metadata": {},
   "outputs": [
    {
     "data": {
      "text/plain": [
       "dict_values(['Abhi', 10, 'First'])"
      ]
     },
     "execution_count": 26,
     "metadata": {},
     "output_type": "execute_result"
    }
   ],
   "source": [
    "dict1.values()"
   ]
  },
  {
   "cell_type": "code",
   "execution_count": 27,
   "id": "e028d40a",
   "metadata": {},
   "outputs": [
    {
     "data": {
      "text/plain": [
       "dict_items([('Name', 'Abhi'), ('Age', 10), ('Class', 'First')])"
      ]
     },
     "execution_count": 27,
     "metadata": {},
     "output_type": "execute_result"
    }
   ],
   "source": [
    "dict1.items()"
   ]
  },
  {
   "cell_type": "code",
   "execution_count": 28,
   "id": "4ffd8ea1",
   "metadata": {},
   "outputs": [],
   "source": [
    "#adding a new key value pair\n",
    "dict1.update({'Fee':5000})"
   ]
  },
  {
   "cell_type": "code",
   "execution_count": 29,
   "id": "f6e96e3e",
   "metadata": {},
   "outputs": [
    {
     "data": {
      "text/plain": [
       "{'Name': 'Abhi', 'Age': 10, 'Class': 'First', 'Fee': 5000}"
      ]
     },
     "execution_count": 29,
     "metadata": {},
     "output_type": "execute_result"
    }
   ],
   "source": [
    "dict1"
   ]
  },
  {
   "cell_type": "code",
   "execution_count": 30,
   "id": "9af8a82c",
   "metadata": {},
   "outputs": [],
   "source": [
    "#updating existing key’s value\n",
    "dict1['Fee']=9500"
   ]
  },
  {
   "cell_type": "code",
   "execution_count": 31,
   "id": "a119dd84",
   "metadata": {},
   "outputs": [
    {
     "data": {
      "text/plain": [
       "{'Name': 'Abhi', 'Age': 10, 'Class': 'First', 'Fee': 9500}"
      ]
     },
     "execution_count": 31,
     "metadata": {},
     "output_type": "execute_result"
    }
   ],
   "source": [
    "dict1"
   ]
  },
  {
   "cell_type": "code",
   "execution_count": 32,
   "id": "280a6d9d",
   "metadata": {},
   "outputs": [],
   "source": [
    "#Make a dictionary naming colordict with key value pair\n",
    "#Rock:brown\n",
    "#Trees:green\n",
    "#Apple:red\n",
    "#Banana:yellow"
   ]
  },
  {
   "cell_type": "code",
   "execution_count": 33,
   "id": "e0f557ff",
   "metadata": {},
   "outputs": [
    {
     "data": {
      "text/plain": [
       "50"
      ]
     },
     "execution_count": 33,
     "metadata": {},
     "output_type": "execute_result"
    }
   ],
   "source": [
    "price = {\"apple\" : 100, \"orange\":50, \"pineapple\":70}\n",
    "price[\"orange\"]"
   ]
  },
  {
   "cell_type": "code",
   "execution_count": 34,
   "id": "2353388e",
   "metadata": {},
   "outputs": [
    {
     "data": {
      "text/plain": [
       "tuple"
      ]
     },
     "execution_count": 34,
     "metadata": {},
     "output_type": "execute_result"
    }
   ],
   "source": [
    "mytuple=(1,2,3)\n",
    "type(mytuple)"
   ]
  },
  {
   "cell_type": "code",
   "execution_count": 35,
   "id": "777a27e5",
   "metadata": {},
   "outputs": [
    {
     "data": {
      "text/plain": [
       "3"
      ]
     },
     "execution_count": 35,
     "metadata": {},
     "output_type": "execute_result"
    }
   ],
   "source": [
    "tup=('a','a','a','b')\n",
    "tup.count('a')"
   ]
  },
  {
   "cell_type": "code",
   "execution_count": 36,
   "id": "619bdfed",
   "metadata": {},
   "outputs": [
    {
     "data": {
      "text/plain": [
       "3"
      ]
     },
     "execution_count": 36,
     "metadata": {},
     "output_type": "execute_result"
    }
   ],
   "source": [
    "tup.index('b')"
   ]
  },
  {
   "cell_type": "code",
   "execution_count": 37,
   "id": "0f408883",
   "metadata": {},
   "outputs": [
    {
     "data": {
      "text/plain": [
       "set"
      ]
     },
     "execution_count": 37,
     "metadata": {},
     "output_type": "execute_result"
    }
   ],
   "source": [
    "myset=set()\n",
    "type(myset)"
   ]
  },
  {
   "cell_type": "code",
   "execution_count": 38,
   "id": "8e471114",
   "metadata": {},
   "outputs": [
    {
     "data": {
      "text/plain": [
       "{1}"
      ]
     },
     "execution_count": 38,
     "metadata": {},
     "output_type": "execute_result"
    }
   ],
   "source": [
    "myset.add(1)\n",
    "myset"
   ]
  },
  {
   "cell_type": "code",
   "execution_count": 39,
   "id": "b12accd6",
   "metadata": {},
   "outputs": [
    {
     "data": {
      "text/plain": [
       "{1, 2}"
      ]
     },
     "execution_count": 39,
     "metadata": {},
     "output_type": "execute_result"
    }
   ],
   "source": [
    "myset.add(2)\n",
    "myset"
   ]
  },
  {
   "cell_type": "code",
   "execution_count": 40,
   "id": "08dbf852",
   "metadata": {},
   "outputs": [
    {
     "data": {
      "text/plain": [
       "{1, 2}"
      ]
     },
     "execution_count": 40,
     "metadata": {},
     "output_type": "execute_result"
    }
   ],
   "source": [
    "myset.add(2)\n",
    "myset"
   ]
  },
  {
   "cell_type": "code",
   "execution_count": 41,
   "id": "e8e426a3",
   "metadata": {},
   "outputs": [
    {
     "data": {
      "text/plain": [
       "bool"
      ]
     },
     "execution_count": 41,
     "metadata": {},
     "output_type": "execute_result"
    }
   ],
   "source": [
    "b=False\n",
    "type(b)"
   ]
  },
  {
   "cell_type": "code",
   "execution_count": 42,
   "id": "71c13f9c",
   "metadata": {},
   "outputs": [
    {
     "data": {
      "text/plain": [
       "True"
      ]
     },
     "execution_count": 42,
     "metadata": {},
     "output_type": "execute_result"
    }
   ],
   "source": [
    "3>2 and 2>1"
   ]
  },
  {
   "cell_type": "code",
   "execution_count": 43,
   "id": "b61cc42e",
   "metadata": {},
   "outputs": [],
   "source": [
    "#Dictionary with integer keys\n",
    "intdict={10:\"C++\",20:\"Java\",30:\"Python\",40:\"Ruby\"}"
   ]
  },
  {
   "cell_type": "code",
   "execution_count": 44,
   "id": "607d0ce2",
   "metadata": {},
   "outputs": [
    {
     "data": {
      "text/plain": [
       "dict_keys([10, 20, 30, 40])"
      ]
     },
     "execution_count": 44,
     "metadata": {},
     "output_type": "execute_result"
    }
   ],
   "source": [
    "intdict.keys()"
   ]
  },
  {
   "cell_type": "code",
   "execution_count": 45,
   "id": "46622921",
   "metadata": {},
   "outputs": [
    {
     "data": {
      "text/plain": [
       "dict_values(['C++', 'Java', 'Python', 'Ruby'])"
      ]
     },
     "execution_count": 45,
     "metadata": {},
     "output_type": "execute_result"
    }
   ],
   "source": [
    "intdict.values()"
   ]
  },
  {
   "cell_type": "code",
   "execution_count": 46,
   "id": "c5c4f459",
   "metadata": {},
   "outputs": [
    {
     "data": {
      "text/plain": [
       "dict_items([(10, 'C++'), (20, 'Java'), (30, 'Python'), (40, 'Ruby')])"
      ]
     },
     "execution_count": 46,
     "metadata": {},
     "output_type": "execute_result"
    }
   ],
   "source": [
    "intdict.items()"
   ]
  },
  {
   "cell_type": "code",
   "execution_count": 47,
   "id": "7cc01e80",
   "metadata": {},
   "outputs": [],
   "source": [
    "#adding a new key to a dictionary\n",
    "intdict.update({50:'Rails'})"
   ]
  },
  {
   "cell_type": "code",
   "execution_count": 48,
   "id": "e9c17ef3",
   "metadata": {},
   "outputs": [
    {
     "data": {
      "text/plain": [
       "{10: 'C++', 20: 'Java', 30: 'Python', 40: 'Ruby', 50: 'Rails'}"
      ]
     },
     "execution_count": 48,
     "metadata": {},
     "output_type": "execute_result"
    }
   ],
   "source": [
    "intdict"
   ]
  },
  {
   "cell_type": "code",
   "execution_count": 49,
   "id": "4e8ce25f",
   "metadata": {},
   "outputs": [
    {
     "data": {
      "text/plain": [
       "{10: 'C++', 20: 'Java', 30: 'Python', 40: 'Csharp', 50: 'Rails'}"
      ]
     },
     "execution_count": 49,
     "metadata": {},
     "output_type": "execute_result"
    }
   ],
   "source": [
    "#updating a value in given key\n",
    "intdict[40]='Csharp'\n",
    "intdict"
   ]
  },
  {
   "cell_type": "code",
   "execution_count": 50,
   "id": "adca20ea",
   "metadata": {},
   "outputs": [],
   "source": [
    "# delete a key\n",
    "del intdict[50]"
   ]
  },
  {
   "cell_type": "code",
   "execution_count": 52,
   "id": "45e3be05",
   "metadata": {},
   "outputs": [
    {
     "data": {
      "text/plain": [
       "{10: 'C++', 20: 'Java', 30: 'Python', 40: 'Csharp'}"
      ]
     },
     "execution_count": 52,
     "metadata": {},
     "output_type": "execute_result"
    }
   ],
   "source": [
    "intdict"
   ]
  },
  {
   "cell_type": "code",
   "execution_count": 54,
   "id": "0d13c991",
   "metadata": {},
   "outputs": [
    {
     "data": {
      "text/plain": [
       "'Python'"
      ]
     },
     "execution_count": 54,
     "metadata": {},
     "output_type": "execute_result"
    }
   ],
   "source": [
    "#delete with pop\n",
    "intdict.pop(30)"
   ]
  },
  {
   "cell_type": "code",
   "execution_count": 55,
   "id": "67f525d9",
   "metadata": {},
   "outputs": [
    {
     "data": {
      "text/plain": [
       "{10: 'C++', 20: 'Java', 40: 'Csharp'}"
      ]
     },
     "execution_count": 55,
     "metadata": {},
     "output_type": "execute_result"
    }
   ],
   "source": [
    "intdict"
   ]
  },
  {
   "cell_type": "code",
   "execution_count": 56,
   "id": "5ffce28e",
   "metadata": {},
   "outputs": [
    {
     "data": {
      "text/plain": [
       "dict_items([(10, 'C++'), (20, 'Java'), (40, 'Csharp')])"
      ]
     },
     "execution_count": 56,
     "metadata": {},
     "output_type": "execute_result"
    }
   ],
   "source": [
    "intdict.items()"
   ]
  },
  {
   "cell_type": "code",
   "execution_count": 57,
   "id": "ad9963d5",
   "metadata": {},
   "outputs": [
    {
     "data": {
      "text/plain": [
       "{'id': [1, 2, 3],\n",
       " 'Name': ['Jack', 'John', 'Andrew'],\n",
       " 'grade': ['First', 'Second', 'Third']}"
      ]
     },
     "execution_count": 57,
     "metadata": {},
     "output_type": "execute_result"
    }
   ],
   "source": [
    "dict2={'id':[1,2,3], 'Name':['Jack', 'John', 'Andrew'], 'grade' : ['First', 'Second', 'Third']}\n",
    "dict2"
   ]
  },
  {
   "cell_type": "code",
   "execution_count": 58,
   "id": "8aebf00e",
   "metadata": {},
   "outputs": [],
   "source": [
    "#dictionary with multiple values\n",
    "newdict={1:['Red', 'Green', 'Blue'], 2:['White', 'Pink', 'Purple'], 3:['brown', 'yellow', 'light green']}"
   ]
  },
  {
   "cell_type": "code",
   "execution_count": 59,
   "id": "922b521a",
   "metadata": {},
   "outputs": [
    {
     "data": {
      "text/plain": [
       "{1: ['Red', 'Green', 'Blue'],\n",
       " 2: ['White', 'Pink', 'Purple'],\n",
       " 3: ['brown', 'yellow', 'light green']}"
      ]
     },
     "execution_count": 59,
     "metadata": {},
     "output_type": "execute_result"
    }
   ],
   "source": [
    "newdict"
   ]
  },
  {
   "cell_type": "code",
   "execution_count": 60,
   "id": "4538dcce",
   "metadata": {},
   "outputs": [
    {
     "data": {
      "text/plain": [
       "dict_keys([1, 2, 3])"
      ]
     },
     "execution_count": 60,
     "metadata": {},
     "output_type": "execute_result"
    }
   ],
   "source": [
    "newdict.keys()"
   ]
  },
  {
   "cell_type": "code",
   "execution_count": 61,
   "id": "f83a7f32",
   "metadata": {},
   "outputs": [
    {
     "data": {
      "text/plain": [
       "dict_values([['Red', 'Green', 'Blue'], ['White', 'Pink', 'Purple'], ['brown', 'yellow', 'light green']])"
      ]
     },
     "execution_count": 61,
     "metadata": {},
     "output_type": "execute_result"
    }
   ],
   "source": [
    "newdict.values()"
   ]
  },
  {
   "cell_type": "code",
   "execution_count": 62,
   "id": "024f3068",
   "metadata": {},
   "outputs": [
    {
     "data": {
      "text/plain": [
       "dict_items([(1, ['Red', 'Green', 'Blue']), (2, ['White', 'Pink', 'Purple']), (3, ['brown', 'yellow', 'light green'])])"
      ]
     },
     "execution_count": 62,
     "metadata": {},
     "output_type": "execute_result"
    }
   ],
   "source": [
    "newdict.items()"
   ]
  },
  {
   "cell_type": "code",
   "execution_count": 63,
   "id": "ce84b3b9",
   "metadata": {},
   "outputs": [],
   "source": [
    "newdict.clear()"
   ]
  },
  {
   "cell_type": "code",
   "execution_count": 64,
   "id": "3a5b3839",
   "metadata": {},
   "outputs": [
    {
     "data": {
      "text/plain": [
       "{}"
      ]
     },
     "execution_count": 64,
     "metadata": {},
     "output_type": "execute_result"
    }
   ],
   "source": [
    "newdict"
   ]
  },
  {
   "cell_type": "code",
   "execution_count": 65,
   "id": "73e1718c",
   "metadata": {},
   "outputs": [],
   "source": [
    "del newdict"
   ]
  },
  {
   "cell_type": "code",
   "execution_count": 66,
   "id": "b8892555",
   "metadata": {},
   "outputs": [
    {
     "ename": "NameError",
     "evalue": "name 'newdict' is not defined",
     "output_type": "error",
     "traceback": [
      "\u001b[1;31m---------------------------------------------------------------------------\u001b[0m",
      "\u001b[1;31mNameError\u001b[0m                                 Traceback (most recent call last)",
      "Input \u001b[1;32mIn [66]\u001b[0m, in \u001b[0;36m<cell line: 1>\u001b[1;34m()\u001b[0m\n\u001b[1;32m----> 1\u001b[0m \u001b[43mnewdict\u001b[49m\n",
      "\u001b[1;31mNameError\u001b[0m: name 'newdict' is not defined"
     ]
    }
   ],
   "source": [
    "newdict"
   ]
  },
  {
   "cell_type": "markdown",
   "id": "c3cd9596",
   "metadata": {},
   "source": [
    "SETS"
   ]
  },
  {
   "cell_type": "code",
   "execution_count": 67,
   "id": "b8457a1d",
   "metadata": {},
   "outputs": [
    {
     "data": {
      "text/plain": [
       "{22, 33, 56, 78, 90}"
      ]
     },
     "execution_count": 67,
     "metadata": {},
     "output_type": "execute_result"
    }
   ],
   "source": [
    "x = {22,33,56,78,90}\n",
    "x"
   ]
  },
  {
   "cell_type": "code",
   "execution_count": 68,
   "id": "5d5652c4",
   "metadata": {},
   "outputs": [
    {
     "data": {
      "text/plain": [
       "{33, 44, 55, 66, 77}"
      ]
     },
     "execution_count": 68,
     "metadata": {},
     "output_type": "execute_result"
    }
   ],
   "source": [
    "y=set([33,44,55,66,77])\n",
    "y"
   ]
  },
  {
   "cell_type": "code",
   "execution_count": 69,
   "id": "dfb09fb9",
   "metadata": {},
   "outputs": [
    {
     "data": {
      "text/plain": [
       "{22, 33, 56, 78, 90}"
      ]
     },
     "execution_count": 69,
     "metadata": {},
     "output_type": "execute_result"
    }
   ],
   "source": [
    "x={22,33,56,78,90,90,22}\n",
    "x"
   ]
  },
  {
   "cell_type": "code",
   "execution_count": 70,
   "id": "dbcb0bc1",
   "metadata": {},
   "outputs": [
    {
     "data": {
      "text/plain": [
       "set"
      ]
     },
     "execution_count": 70,
     "metadata": {},
     "output_type": "execute_result"
    }
   ],
   "source": [
    "days={\"Monday\", \"Tuesday\", \"Thursday\", \"Wednesday\"}\n",
    "type(days)"
   ]
  },
  {
   "cell_type": "code",
   "execution_count": 71,
   "id": "d918feff",
   "metadata": {},
   "outputs": [
    {
     "data": {
      "text/plain": [
       "{'Monday', 'Sunday', 'Thursday', 'Tuesday', 'Wednesday'}"
      ]
     },
     "execution_count": 71,
     "metadata": {},
     "output_type": "execute_result"
    }
   ],
   "source": [
    "days.add(\"Sunday\")\n",
    "days"
   ]
  },
  {
   "cell_type": "code",
   "execution_count": 72,
   "id": "0c0d607b",
   "metadata": {},
   "outputs": [
    {
     "ename": "TypeError",
     "evalue": "'set' object is not subscriptable",
     "output_type": "error",
     "traceback": [
      "\u001b[1;31m---------------------------------------------------------------------------\u001b[0m",
      "\u001b[1;31mTypeError\u001b[0m                                 Traceback (most recent call last)",
      "Input \u001b[1;32mIn [72]\u001b[0m, in \u001b[0;36m<cell line: 1>\u001b[1;34m()\u001b[0m\n\u001b[1;32m----> 1\u001b[0m \u001b[38;5;28mprint\u001b[39m(\u001b[43mdays\u001b[49m\u001b[43m[\u001b[49m\u001b[38;5;241;43m0\u001b[39;49m\u001b[43m]\u001b[49m)\n",
      "\u001b[1;31mTypeError\u001b[0m: 'set' object is not subscriptable"
     ]
    }
   ],
   "source": [
    "#set object doesnot support indexing\n",
    "print(days[0])"
   ]
  },
  {
   "cell_type": "code",
   "execution_count": 73,
   "id": "8ab40381",
   "metadata": {},
   "outputs": [
    {
     "ename": "TypeError",
     "evalue": "'set' object does not support item assignment",
     "output_type": "error",
     "traceback": [
      "\u001b[1;31m---------------------------------------------------------------------------\u001b[0m",
      "\u001b[1;31mTypeError\u001b[0m                                 Traceback (most recent call last)",
      "Input \u001b[1;32mIn [73]\u001b[0m, in \u001b[0;36m<cell line: 1>\u001b[1;34m()\u001b[0m\n\u001b[1;32m----> 1\u001b[0m days[\u001b[38;5;241m1\u001b[39m]\u001b[38;5;241m=\u001b[39m\u001b[38;5;124m\"\u001b[39m\u001b[38;5;124mJune\u001b[39m\u001b[38;5;124m\"\u001b[39m\n",
      "\u001b[1;31mTypeError\u001b[0m: 'set' object does not support item assignment"
     ]
    }
   ],
   "source": [
    "days[1]=\"June\""
   ]
  },
  {
   "cell_type": "code",
   "execution_count": 74,
   "id": "218798fc",
   "metadata": {},
   "outputs": [],
   "source": [
    "days.remove(\"Sunday\")"
   ]
  },
  {
   "cell_type": "code",
   "execution_count": 75,
   "id": "a3b7b900",
   "metadata": {},
   "outputs": [
    {
     "data": {
      "text/plain": [
       "{'Monday', 'Thursday', 'Tuesday', 'Wednesday'}"
      ]
     },
     "execution_count": 75,
     "metadata": {},
     "output_type": "execute_result"
    }
   ],
   "source": [
    "days"
   ]
  },
  {
   "cell_type": "code",
   "execution_count": 76,
   "id": "e4b51c4d",
   "metadata": {},
   "outputs": [
    {
     "data": {
      "text/plain": [
       "'Monday'"
      ]
     },
     "execution_count": 76,
     "metadata": {},
     "output_type": "execute_result"
    }
   ],
   "source": [
    "days.pop()"
   ]
  },
  {
   "cell_type": "code",
   "execution_count": 77,
   "id": "818d00f8",
   "metadata": {},
   "outputs": [
    {
     "data": {
      "text/plain": [
       "{'Thursday', 'Tuesday', 'Wednesday'}"
      ]
     },
     "execution_count": 77,
     "metadata": {},
     "output_type": "execute_result"
    }
   ],
   "source": [
    "days"
   ]
  },
  {
   "cell_type": "code",
   "execution_count": 78,
   "id": "31356c77",
   "metadata": {},
   "outputs": [
    {
     "data": {
      "text/plain": [
       "set()"
      ]
     },
     "execution_count": 78,
     "metadata": {},
     "output_type": "execute_result"
    }
   ],
   "source": [
    "days.clear()\n",
    "days"
   ]
  },
  {
   "cell_type": "markdown",
   "id": "ccd23206",
   "metadata": {},
   "source": [
    "sets over"
   ]
  },
  {
   "cell_type": "markdown",
   "id": "dafc3ef8",
   "metadata": {},
   "source": [
    "List"
   ]
  },
  {
   "cell_type": "code",
   "execution_count": 80,
   "id": "bf5097b7",
   "metadata": {},
   "outputs": [],
   "source": [
    "list1=[\"Tablet\", \"Laptop\", \"Mobile\", \"Desktop\", \"Processor\"]"
   ]
  },
  {
   "cell_type": "code",
   "execution_count": 81,
   "id": "10dc304e",
   "metadata": {},
   "outputs": [],
   "source": [
    "list1.append(\"Samsung\")"
   ]
  },
  {
   "cell_type": "code",
   "execution_count": 82,
   "id": "84368169",
   "metadata": {},
   "outputs": [
    {
     "data": {
      "text/plain": [
       "['Tablet', 'Laptop', 'Mobile', 'Desktop', 'Processor', 'Samsung']"
      ]
     },
     "execution_count": 82,
     "metadata": {},
     "output_type": "execute_result"
    }
   ],
   "source": [
    "list1"
   ]
  },
  {
   "cell_type": "code",
   "execution_count": 83,
   "id": "52e18708",
   "metadata": {},
   "outputs": [],
   "source": [
    "list1.append(\"Jio\")"
   ]
  },
  {
   "cell_type": "code",
   "execution_count": 84,
   "id": "4bf077b6",
   "metadata": {},
   "outputs": [
    {
     "data": {
      "text/plain": [
       "['Tablet', 'Laptop', 'Mobile', 'Desktop', 'Processor', 'Samsung', 'Jio']"
      ]
     },
     "execution_count": 84,
     "metadata": {},
     "output_type": "execute_result"
    }
   ],
   "source": [
    "list1"
   ]
  },
  {
   "cell_type": "code",
   "execution_count": 85,
   "id": "4e953750",
   "metadata": {},
   "outputs": [],
   "source": [
    "list1.insert(2, 'ApplePhone')"
   ]
  },
  {
   "cell_type": "code",
   "execution_count": 86,
   "id": "8ee5e562",
   "metadata": {},
   "outputs": [
    {
     "data": {
      "text/plain": [
       "['Tablet',\n",
       " 'Laptop',\n",
       " 'ApplePhone',\n",
       " 'Mobile',\n",
       " 'Desktop',\n",
       " 'Processor',\n",
       " 'Samsung',\n",
       " 'Jio']"
      ]
     },
     "execution_count": 86,
     "metadata": {},
     "output_type": "execute_result"
    }
   ],
   "source": [
    "list1"
   ]
  },
  {
   "cell_type": "code",
   "execution_count": 87,
   "id": "91e4a7ab",
   "metadata": {},
   "outputs": [],
   "source": [
    "list1.extend(['TeslaPi', 'Elonmusk'])"
   ]
  },
  {
   "cell_type": "code",
   "execution_count": 88,
   "id": "bcc9c56f",
   "metadata": {},
   "outputs": [
    {
     "data": {
      "text/plain": [
       "['Tablet',\n",
       " 'Laptop',\n",
       " 'ApplePhone',\n",
       " 'Mobile',\n",
       " 'Desktop',\n",
       " 'Processor',\n",
       " 'Samsung',\n",
       " 'Jio',\n",
       " 'TeslaPi',\n",
       " 'Elonmusk']"
      ]
     },
     "execution_count": 88,
     "metadata": {},
     "output_type": "execute_result"
    }
   ],
   "source": [
    "list1"
   ]
  },
  {
   "cell_type": "code",
   "execution_count": 90,
   "id": "26a1db96",
   "metadata": {},
   "outputs": [],
   "source": [
    "list1.sort()"
   ]
  },
  {
   "cell_type": "code",
   "execution_count": 91,
   "id": "0969360f",
   "metadata": {},
   "outputs": [
    {
     "data": {
      "text/plain": [
       "['ApplePhone',\n",
       " 'Desktop',\n",
       " 'Elonmusk',\n",
       " 'Jio',\n",
       " 'Laptop',\n",
       " 'Mobile',\n",
       " 'Processor',\n",
       " 'Samsung',\n",
       " 'Tablet',\n",
       " 'TeslaPi']"
      ]
     },
     "execution_count": 91,
     "metadata": {},
     "output_type": "execute_result"
    }
   ],
   "source": [
    "list1"
   ]
  },
  {
   "cell_type": "code",
   "execution_count": 92,
   "id": "5a496fff",
   "metadata": {},
   "outputs": [],
   "source": [
    "list1.reverse()"
   ]
  },
  {
   "cell_type": "code",
   "execution_count": 93,
   "id": "5989fd6e",
   "metadata": {},
   "outputs": [
    {
     "data": {
      "text/plain": [
       "['TeslaPi',\n",
       " 'Tablet',\n",
       " 'Samsung',\n",
       " 'Processor',\n",
       " 'Mobile',\n",
       " 'Laptop',\n",
       " 'Jio',\n",
       " 'Elonmusk',\n",
       " 'Desktop',\n",
       " 'ApplePhone']"
      ]
     },
     "execution_count": 93,
     "metadata": {},
     "output_type": "execute_result"
    }
   ],
   "source": [
    "list1"
   ]
  },
  {
   "cell_type": "code",
   "execution_count": 94,
   "id": "733faaaa",
   "metadata": {},
   "outputs": [
    {
     "data": {
      "text/plain": [
       "'ApplePhone'"
      ]
     },
     "execution_count": 94,
     "metadata": {},
     "output_type": "execute_result"
    }
   ],
   "source": [
    "list1.pop()"
   ]
  },
  {
   "cell_type": "code",
   "execution_count": 95,
   "id": "402b39a4",
   "metadata": {},
   "outputs": [
    {
     "data": {
      "text/plain": [
       "['TeslaPi',\n",
       " 'Tablet',\n",
       " 'Samsung',\n",
       " 'Processor',\n",
       " 'Mobile',\n",
       " 'Laptop',\n",
       " 'Jio',\n",
       " 'Elonmusk',\n",
       " 'Desktop']"
      ]
     },
     "execution_count": 95,
     "metadata": {},
     "output_type": "execute_result"
    }
   ],
   "source": [
    "list1"
   ]
  },
  {
   "cell_type": "code",
   "execution_count": 96,
   "id": "c7a74ad3",
   "metadata": {},
   "outputs": [
    {
     "data": {
      "text/plain": [
       "'Mobile'"
      ]
     },
     "execution_count": 96,
     "metadata": {},
     "output_type": "execute_result"
    }
   ],
   "source": [
    "list1.pop(4)"
   ]
  },
  {
   "cell_type": "code",
   "execution_count": 97,
   "id": "344d98a8",
   "metadata": {},
   "outputs": [
    {
     "data": {
      "text/plain": [
       "['TeslaPi',\n",
       " 'Tablet',\n",
       " 'Samsung',\n",
       " 'Processor',\n",
       " 'Laptop',\n",
       " 'Jio',\n",
       " 'Elonmusk',\n",
       " 'Desktop']"
      ]
     },
     "execution_count": 97,
     "metadata": {},
     "output_type": "execute_result"
    }
   ],
   "source": [
    "list1"
   ]
  },
  {
   "cell_type": "code",
   "execution_count": 98,
   "id": "3915aff8",
   "metadata": {},
   "outputs": [],
   "source": [
    "list1.remove('Jio')"
   ]
  },
  {
   "cell_type": "code",
   "execution_count": 99,
   "id": "51c9008a",
   "metadata": {},
   "outputs": [
    {
     "data": {
      "text/plain": [
       "['TeslaPi', 'Tablet', 'Samsung', 'Processor', 'Laptop', 'Elonmusk', 'Desktop']"
      ]
     },
     "execution_count": 99,
     "metadata": {},
     "output_type": "execute_result"
    }
   ],
   "source": [
    "list1"
   ]
  },
  {
   "cell_type": "code",
   "execution_count": 100,
   "id": "45e8ca4e",
   "metadata": {},
   "outputs": [
    {
     "data": {
      "text/plain": [
       "2"
      ]
     },
     "execution_count": 100,
     "metadata": {},
     "output_type": "execute_result"
    }
   ],
   "source": [
    "list1.index(\"Samsung\")"
   ]
  },
  {
   "cell_type": "code",
   "execution_count": 101,
   "id": "fccf2d98",
   "metadata": {},
   "outputs": [],
   "source": [
    "list1.clear()"
   ]
  },
  {
   "cell_type": "code",
   "execution_count": 102,
   "id": "049c81ad",
   "metadata": {},
   "outputs": [
    {
     "data": {
      "text/plain": [
       "[]"
      ]
     },
     "execution_count": 102,
     "metadata": {},
     "output_type": "execute_result"
    }
   ],
   "source": [
    "list1"
   ]
  },
  {
   "cell_type": "code",
   "execution_count": 103,
   "id": "e4d05017",
   "metadata": {},
   "outputs": [],
   "source": [
    "del list1"
   ]
  },
  {
   "cell_type": "code",
   "execution_count": 104,
   "id": "da8ec8db",
   "metadata": {},
   "outputs": [
    {
     "ename": "NameError",
     "evalue": "name 'list1' is not defined",
     "output_type": "error",
     "traceback": [
      "\u001b[1;31m---------------------------------------------------------------------------\u001b[0m",
      "\u001b[1;31mNameError\u001b[0m                                 Traceback (most recent call last)",
      "Input \u001b[1;32mIn [104]\u001b[0m, in \u001b[0;36m<cell line: 1>\u001b[1;34m()\u001b[0m\n\u001b[1;32m----> 1\u001b[0m \u001b[43mlist1\u001b[49m\n",
      "\u001b[1;31mNameError\u001b[0m: name 'list1' is not defined"
     ]
    }
   ],
   "source": [
    "list1"
   ]
  },
  {
   "cell_type": "code",
   "execution_count": null,
   "id": "9cdd10b9",
   "metadata": {},
   "outputs": [],
   "source": []
  },
  {
   "cell_type": "code",
   "execution_count": null,
   "id": "212f0a4c",
   "metadata": {},
   "outputs": [],
   "source": []
  }
 ],
 "metadata": {
  "kernelspec": {
   "display_name": "Python 3 (ipykernel)",
   "language": "python",
   "name": "python3"
  },
  "language_info": {
   "codemirror_mode": {
    "name": "ipython",
    "version": 3
   },
   "file_extension": ".py",
   "mimetype": "text/x-python",
   "name": "python",
   "nbconvert_exporter": "python",
   "pygments_lexer": "ipython3",
   "version": "3.9.12"
  }
 },
 "nbformat": 4,
 "nbformat_minor": 5
}
