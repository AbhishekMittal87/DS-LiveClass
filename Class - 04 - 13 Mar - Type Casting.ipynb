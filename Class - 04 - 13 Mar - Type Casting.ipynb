{
 "cells": [
  {
   "cell_type": "markdown",
   "id": "f82723b4",
   "metadata": {},
   "source": [
    "# Type Casting"
   ]
  },
  {
   "cell_type": "code",
   "execution_count": 2,
   "id": "8625bbc4",
   "metadata": {},
   "outputs": [
    {
     "data": {
      "text/plain": [
       "int"
      ]
     },
     "execution_count": 2,
     "metadata": {},
     "output_type": "execute_result"
    }
   ],
   "source": [
    "type(90)"
   ]
  },
  {
   "cell_type": "code",
   "execution_count": 3,
   "id": "aa487610",
   "metadata": {},
   "outputs": [
    {
     "data": {
      "text/plain": [
       "int"
      ]
     },
     "execution_count": 3,
     "metadata": {},
     "output_type": "execute_result"
    }
   ],
   "source": [
    "type(45)"
   ]
  },
  {
   "cell_type": "code",
   "execution_count": 4,
   "id": "f270c9b0",
   "metadata": {},
   "outputs": [
    {
     "data": {
      "text/plain": [
       "float"
      ]
     },
     "execution_count": 4,
     "metadata": {},
     "output_type": "execute_result"
    }
   ],
   "source": [
    "type(73.6)"
   ]
  },
  {
   "cell_type": "code",
   "execution_count": 5,
   "id": "c7b5e9de",
   "metadata": {},
   "outputs": [
    {
     "data": {
      "text/plain": [
       "float"
      ]
     },
     "execution_count": 5,
     "metadata": {},
     "output_type": "execute_result"
    }
   ],
   "source": [
    "type(46.9)"
   ]
  },
  {
   "cell_type": "code",
   "execution_count": 6,
   "id": "abf7383e",
   "metadata": {},
   "outputs": [
    {
     "data": {
      "text/plain": [
       "str"
      ]
     },
     "execution_count": 6,
     "metadata": {},
     "output_type": "execute_result"
    }
   ],
   "source": [
    "type('ABCD')"
   ]
  },
  {
   "cell_type": "code",
   "execution_count": 7,
   "id": "7b864d88",
   "metadata": {},
   "outputs": [
    {
     "data": {
      "text/plain": [
       "str"
      ]
     },
     "execution_count": 7,
     "metadata": {},
     "output_type": "execute_result"
    }
   ],
   "source": [
    "type('Mumbai')"
   ]
  },
  {
   "cell_type": "code",
   "execution_count": 8,
   "id": "f2695cc0",
   "metadata": {},
   "outputs": [],
   "source": [
    "p=65"
   ]
  },
  {
   "cell_type": "code",
   "execution_count": 9,
   "id": "0bc7c577",
   "metadata": {},
   "outputs": [
    {
     "data": {
      "text/plain": [
       "65"
      ]
     },
     "execution_count": 9,
     "metadata": {},
     "output_type": "execute_result"
    }
   ],
   "source": [
    "p"
   ]
  },
  {
   "cell_type": "code",
   "execution_count": 10,
   "id": "077aa5ce",
   "metadata": {},
   "outputs": [
    {
     "data": {
      "text/plain": [
       "int"
      ]
     },
     "execution_count": 10,
     "metadata": {},
     "output_type": "execute_result"
    }
   ],
   "source": [
    "type(p)"
   ]
  },
  {
   "cell_type": "code",
   "execution_count": 11,
   "id": "d204454f",
   "metadata": {},
   "outputs": [
    {
     "data": {
      "text/plain": [
       "65.0"
      ]
     },
     "execution_count": 11,
     "metadata": {},
     "output_type": "execute_result"
    }
   ],
   "source": [
    "float(p)"
   ]
  },
  {
   "cell_type": "code",
   "execution_count": 12,
   "id": "fade6cf6",
   "metadata": {},
   "outputs": [
    {
     "data": {
      "text/plain": [
       "int"
      ]
     },
     "execution_count": 12,
     "metadata": {},
     "output_type": "execute_result"
    }
   ],
   "source": [
    "j=79\n",
    "type(j)"
   ]
  },
  {
   "cell_type": "code",
   "execution_count": 13,
   "id": "ca1b0930",
   "metadata": {},
   "outputs": [],
   "source": [
    "k=float(j)"
   ]
  },
  {
   "cell_type": "code",
   "execution_count": 14,
   "id": "fa48f4d1",
   "metadata": {},
   "outputs": [
    {
     "data": {
      "text/plain": [
       "79.0"
      ]
     },
     "execution_count": 14,
     "metadata": {},
     "output_type": "execute_result"
    }
   ],
   "source": [
    "k"
   ]
  },
  {
   "cell_type": "code",
   "execution_count": 15,
   "id": "8f7e58a7",
   "metadata": {},
   "outputs": [
    {
     "data": {
      "text/plain": [
       "float"
      ]
     },
     "execution_count": 15,
     "metadata": {},
     "output_type": "execute_result"
    }
   ],
   "source": [
    "type(k)"
   ]
  },
  {
   "cell_type": "code",
   "execution_count": 16,
   "id": "4f8ea117",
   "metadata": {},
   "outputs": [],
   "source": [
    "x='20'"
   ]
  },
  {
   "cell_type": "code",
   "execution_count": 17,
   "id": "54c01953",
   "metadata": {},
   "outputs": [
    {
     "data": {
      "text/plain": [
       "str"
      ]
     },
     "execution_count": 17,
     "metadata": {},
     "output_type": "execute_result"
    }
   ],
   "source": [
    "type(x)"
   ]
  },
  {
   "cell_type": "code",
   "execution_count": 18,
   "id": "45410ca6",
   "metadata": {},
   "outputs": [],
   "source": [
    "y=int(x)"
   ]
  },
  {
   "cell_type": "code",
   "execution_count": 19,
   "id": "1a7a4bad",
   "metadata": {},
   "outputs": [
    {
     "data": {
      "text/plain": [
       "20"
      ]
     },
     "execution_count": 19,
     "metadata": {},
     "output_type": "execute_result"
    }
   ],
   "source": [
    "y"
   ]
  },
  {
   "cell_type": "code",
   "execution_count": 20,
   "id": "e12a9d02",
   "metadata": {},
   "outputs": [
    {
     "data": {
      "text/plain": [
       "int"
      ]
     },
     "execution_count": 20,
     "metadata": {},
     "output_type": "execute_result"
    }
   ],
   "source": [
    "type(y)"
   ]
  },
  {
   "cell_type": "code",
   "execution_count": 21,
   "id": "89364f54",
   "metadata": {},
   "outputs": [
    {
     "data": {
      "text/plain": [
       "47"
      ]
     },
     "execution_count": 21,
     "metadata": {},
     "output_type": "execute_result"
    }
   ],
   "source": [
    "int(47.9)"
   ]
  },
  {
   "cell_type": "code",
   "execution_count": 22,
   "id": "a6b69ec9",
   "metadata": {},
   "outputs": [
    {
     "name": "stdout",
     "output_type": "stream",
     "text": [
      "enter any number188\n"
     ]
    },
    {
     "data": {
      "text/plain": [
       "'88'"
      ]
     },
     "execution_count": 22,
     "metadata": {},
     "output_type": "execute_result"
    }
   ],
   "source": [
    "#input always give the string data\n",
    "a=input(\"enter any number1\")\n",
    "a"
   ]
  },
  {
   "cell_type": "code",
   "execution_count": 23,
   "id": "ab5b3818",
   "metadata": {},
   "outputs": [
    {
     "name": "stdout",
     "output_type": "stream",
     "text": [
      "enter any number2 10\n"
     ]
    },
    {
     "data": {
      "text/plain": [
       "'10'"
      ]
     },
     "execution_count": 23,
     "metadata": {},
     "output_type": "execute_result"
    }
   ],
   "source": [
    "b=input(\"enter any number2 \")\n",
    "b"
   ]
  },
  {
   "cell_type": "code",
   "execution_count": 24,
   "id": "0cacfca8",
   "metadata": {},
   "outputs": [
    {
     "data": {
      "text/plain": [
       "str"
      ]
     },
     "execution_count": 24,
     "metadata": {},
     "output_type": "execute_result"
    }
   ],
   "source": [
    "type(a)"
   ]
  },
  {
   "cell_type": "code",
   "execution_count": 25,
   "id": "ade11bf3",
   "metadata": {},
   "outputs": [
    {
     "data": {
      "text/plain": [
       "str"
      ]
     },
     "execution_count": 25,
     "metadata": {},
     "output_type": "execute_result"
    }
   ],
   "source": [
    "type(b)"
   ]
  },
  {
   "cell_type": "code",
   "execution_count": 26,
   "id": "4ad50404",
   "metadata": {},
   "outputs": [
    {
     "data": {
      "text/plain": [
       "'8810'"
      ]
     },
     "execution_count": 26,
     "metadata": {},
     "output_type": "execute_result"
    }
   ],
   "source": [
    "a+b"
   ]
  },
  {
   "cell_type": "code",
   "execution_count": 27,
   "id": "b3805086",
   "metadata": {},
   "outputs": [
    {
     "data": {
      "text/plain": [
       "98"
      ]
     },
     "execution_count": 27,
     "metadata": {},
     "output_type": "execute_result"
    }
   ],
   "source": [
    "int(a)+int(b)"
   ]
  },
  {
   "cell_type": "code",
   "execution_count": 1,
   "id": "a5cdcd51",
   "metadata": {},
   "outputs": [
    {
     "name": "stdout",
     "output_type": "stream",
     "text": [
      "Enter first number68\n"
     ]
    },
    {
     "data": {
      "text/plain": [
       "68"
      ]
     },
     "execution_count": 1,
     "metadata": {},
     "output_type": "execute_result"
    }
   ],
   "source": [
    "number1=int(input(\"Enter first number\"))\n",
    "number1"
   ]
  },
  {
   "cell_type": "code",
   "execution_count": 2,
   "id": "4c179080",
   "metadata": {},
   "outputs": [
    {
     "name": "stdout",
     "output_type": "stream",
     "text": [
      "Enter second number20\n"
     ]
    },
    {
     "data": {
      "text/plain": [
       "20"
      ]
     },
     "execution_count": 2,
     "metadata": {},
     "output_type": "execute_result"
    }
   ],
   "source": [
    "number2=int(input(\"Enter second number\"))\n",
    "number2"
   ]
  },
  {
   "cell_type": "code",
   "execution_count": 3,
   "id": "52aae500",
   "metadata": {},
   "outputs": [
    {
     "data": {
      "text/plain": [
       "int"
      ]
     },
     "execution_count": 3,
     "metadata": {},
     "output_type": "execute_result"
    }
   ],
   "source": [
    "type(number1)"
   ]
  },
  {
   "cell_type": "code",
   "execution_count": 4,
   "id": "1f2160d8",
   "metadata": {},
   "outputs": [
    {
     "data": {
      "text/plain": [
       "int"
      ]
     },
     "execution_count": 4,
     "metadata": {},
     "output_type": "execute_result"
    }
   ],
   "source": [
    "type(number2)"
   ]
  },
  {
   "cell_type": "code",
   "execution_count": 5,
   "id": "62f511a6",
   "metadata": {},
   "outputs": [
    {
     "data": {
      "text/plain": [
       "88"
      ]
     },
     "execution_count": 5,
     "metadata": {},
     "output_type": "execute_result"
    }
   ],
   "source": [
    "number1+number2"
   ]
  },
  {
   "cell_type": "markdown",
   "id": "257d926c",
   "metadata": {},
   "source": [
    "AREA OF RETANGLE"
   ]
  },
  {
   "cell_type": "code",
   "execution_count": 6,
   "id": "3f90efcd",
   "metadata": {},
   "outputs": [
    {
     "name": "stdout",
     "output_type": "stream",
     "text": [
      "Enter Length86\n"
     ]
    },
    {
     "data": {
      "text/plain": [
       "86"
      ]
     },
     "execution_count": 6,
     "metadata": {},
     "output_type": "execute_result"
    }
   ],
   "source": [
    "length=int(input(\"Enter Length\"))\n",
    "length"
   ]
  },
  {
   "cell_type": "code",
   "execution_count": 7,
   "id": "b9b9eeaf",
   "metadata": {},
   "outputs": [
    {
     "name": "stdout",
     "output_type": "stream",
     "text": [
      "Enter breadth22\n"
     ]
    },
    {
     "data": {
      "text/plain": [
       "22"
      ]
     },
     "execution_count": 7,
     "metadata": {},
     "output_type": "execute_result"
    }
   ],
   "source": [
    "breadth=int(input(\"Enter breadth\"))\n",
    "breadth"
   ]
  },
  {
   "cell_type": "code",
   "execution_count": 8,
   "id": "24fa60e1",
   "metadata": {},
   "outputs": [],
   "source": [
    "area=length*breadth"
   ]
  },
  {
   "cell_type": "code",
   "execution_count": 9,
   "id": "1c08523a",
   "metadata": {},
   "outputs": [
    {
     "name": "stdout",
     "output_type": "stream",
     "text": [
      "Area of rectangle=  1892\n"
     ]
    }
   ],
   "source": [
    "print(\"Area of rectangle= \",area)"
   ]
  },
  {
   "cell_type": "code",
   "execution_count": 10,
   "id": "c4926a94",
   "metadata": {},
   "outputs": [
    {
     "name": "stdout",
     "output_type": "stream",
     "text": [
      "Enter Length45\n",
      "45\n",
      "Enter breadth32\n",
      "32\n",
      "Area of rectangle=  1440\n"
     ]
    }
   ],
   "source": [
    "length=int(input(\"Enter Length\"))\n",
    "print(length)\n",
    "breadth=int(input(\"Enter breadth\"))\n",
    "print(breadth)\n",
    "area=length*breadth\n",
    "\n",
    "print(\"Area of rectangle= \",area)"
   ]
  },
  {
   "cell_type": "markdown",
   "id": "04ec1961",
   "metadata": {},
   "source": [
    "AREA OF CIRCLE"
   ]
  },
  {
   "cell_type": "code",
   "execution_count": 11,
   "id": "1bd920b5",
   "metadata": {},
   "outputs": [
    {
     "name": "stdout",
     "output_type": "stream",
     "text": [
      "enter radius32\n",
      "32\n",
      "enter pi value3.14\n",
      "3.14\n",
      "Area of circle= 3215.36\n"
     ]
    }
   ],
   "source": [
    "radius=int(input(\"enter radius\"))\n",
    "print(radius)\n",
    "\n",
    "pi=float(input(\"enter pi value\"))\n",
    "\n",
    "print(pi)\n",
    "\n",
    "areaofcircle=pi*(radius**2)\n",
    "\n",
    "print(\"Area of circle=\",areaofcircle)"
   ]
  },
  {
   "cell_type": "code",
   "execution_count": 13,
   "id": "67acbd92",
   "metadata": {},
   "outputs": [
    {
     "name": "stdout",
     "output_type": "stream",
     "text": [
      "enter radius5\n"
     ]
    }
   ],
   "source": [
    "r=int(input(\"enter radius\"))"
   ]
  },
  {
   "cell_type": "code",
   "execution_count": 15,
   "id": "2282677c",
   "metadata": {},
   "outputs": [
    {
     "name": "stdout",
     "output_type": "stream",
     "text": [
      "circumference of a circle= 31.400000000000002\n"
     ]
    }
   ],
   "source": [
    "#circumference (outer of circle)=2pi*r\n",
    "pi=3.14\n",
    "#r=5\n",
    "circ=2*pi*r\n",
    "print(\"circumference of a circle=\", circ)"
   ]
  },
  {
   "cell_type": "code",
   "execution_count": 16,
   "id": "0cd710de",
   "metadata": {},
   "outputs": [],
   "source": [
    "d=56.7894356"
   ]
  },
  {
   "cell_type": "code",
   "execution_count": 17,
   "id": "c4501052",
   "metadata": {},
   "outputs": [
    {
     "data": {
      "text/plain": [
       "56.7894356"
      ]
     },
     "execution_count": 17,
     "metadata": {},
     "output_type": "execute_result"
    }
   ],
   "source": [
    "d"
   ]
  },
  {
   "cell_type": "code",
   "execution_count": 18,
   "id": "8d6af209",
   "metadata": {},
   "outputs": [
    {
     "data": {
      "text/plain": [
       "63.89"
      ]
     },
     "execution_count": 18,
     "metadata": {},
     "output_type": "execute_result"
    }
   ],
   "source": [
    "round(63.8895647,2)"
   ]
  },
  {
   "cell_type": "code",
   "execution_count": 19,
   "id": "8c5bb291",
   "metadata": {},
   "outputs": [
    {
     "data": {
      "text/plain": [
       "31.4"
      ]
     },
     "execution_count": 19,
     "metadata": {},
     "output_type": "execute_result"
    }
   ],
   "source": [
    "round(circ,2)"
   ]
  },
  {
   "cell_type": "code",
   "execution_count": 20,
   "id": "f4fff9a7",
   "metadata": {},
   "outputs": [
    {
     "data": {
      "text/plain": [
       "56.79"
      ]
     },
     "execution_count": 20,
     "metadata": {},
     "output_type": "execute_result"
    }
   ],
   "source": [
    "round(d,2)"
   ]
  },
  {
   "cell_type": "code",
   "execution_count": 21,
   "id": "8148ee19",
   "metadata": {},
   "outputs": [
    {
     "name": "stdout",
     "output_type": "stream",
     "text": [
      "enter radius68\n"
     ]
    }
   ],
   "source": [
    "r=int(input(\"enter radius\"))"
   ]
  },
  {
   "cell_type": "code",
   "execution_count": 22,
   "id": "ba7c1ec5",
   "metadata": {},
   "outputs": [
    {
     "name": "stdout",
     "output_type": "stream",
     "text": [
      "circumference of a circle= 427.04\n"
     ]
    }
   ],
   "source": [
    "#circumf=2pi*r\n",
    "pi=3.14\n",
    "circ=2*pi*r\n",
    "print(\"circumference of a circle=\",circ)"
   ]
  },
  {
   "cell_type": "code",
   "execution_count": 23,
   "id": "83c084a1",
   "metadata": {},
   "outputs": [
    {
     "data": {
      "text/plain": [
       "427.04"
      ]
     },
     "execution_count": 23,
     "metadata": {},
     "output_type": "execute_result"
    }
   ],
   "source": [
    "round(circ,2)"
   ]
  },
  {
   "cell_type": "markdown",
   "id": "52d5f0b5",
   "metadata": {},
   "source": [
    "# Data Structures"
   ]
  },
  {
   "cell_type": "markdown",
   "id": "f3b8a1cb",
   "metadata": {},
   "source": [
    "List"
   ]
  },
  {
   "cell_type": "code",
   "execution_count": 24,
   "id": "57a95d03",
   "metadata": {},
   "outputs": [],
   "source": [
    "list1=[1,2,3,4,5]"
   ]
  },
  {
   "cell_type": "code",
   "execution_count": 25,
   "id": "97d4037c",
   "metadata": {},
   "outputs": [
    {
     "data": {
      "text/plain": [
       "[1, 2, 3, 4, 5]"
      ]
     },
     "execution_count": 25,
     "metadata": {},
     "output_type": "execute_result"
    }
   ],
   "source": [
    "list1"
   ]
  },
  {
   "cell_type": "code",
   "execution_count": 26,
   "id": "bf253dc8",
   "metadata": {},
   "outputs": [],
   "source": [
    "list2=[11,12,13,14,15,16]"
   ]
  },
  {
   "cell_type": "code",
   "execution_count": 27,
   "id": "5f0622a2",
   "metadata": {},
   "outputs": [
    {
     "data": {
      "text/plain": [
       "[11, 12, 13, 14, 15, 16]"
      ]
     },
     "execution_count": 27,
     "metadata": {},
     "output_type": "execute_result"
    }
   ],
   "source": [
    "list2"
   ]
  },
  {
   "cell_type": "code",
   "execution_count": 29,
   "id": "3f015202",
   "metadata": {},
   "outputs": [],
   "source": [
    "list3=[10,20,30,40]"
   ]
  },
  {
   "cell_type": "code",
   "execution_count": 30,
   "id": "a8d95ff8",
   "metadata": {},
   "outputs": [
    {
     "data": {
      "text/plain": [
       "[10, 20, 30, 40]"
      ]
     },
     "execution_count": 30,
     "metadata": {},
     "output_type": "execute_result"
    }
   ],
   "source": [
    "list3"
   ]
  },
  {
   "cell_type": "code",
   "execution_count": 31,
   "id": "146fc913",
   "metadata": {},
   "outputs": [],
   "source": [
    "list4=[23.4,78.2,55.7,34.9,11.9]"
   ]
  },
  {
   "cell_type": "code",
   "execution_count": 32,
   "id": "82e0786a",
   "metadata": {},
   "outputs": [
    {
     "data": {
      "text/plain": [
       "[23.4, 78.2, 55.7, 34.9, 11.9]"
      ]
     },
     "execution_count": 32,
     "metadata": {},
     "output_type": "execute_result"
    }
   ],
   "source": [
    "list4"
   ]
  },
  {
   "cell_type": "code",
   "execution_count": 33,
   "id": "16e88c4f",
   "metadata": {},
   "outputs": [],
   "source": [
    "list5=['A', 'B','C']"
   ]
  },
  {
   "cell_type": "code",
   "execution_count": 34,
   "id": "292a1f65",
   "metadata": {},
   "outputs": [
    {
     "data": {
      "text/plain": [
       "['A', 'B', 'C']"
      ]
     },
     "execution_count": 34,
     "metadata": {},
     "output_type": "execute_result"
    }
   ],
   "source": [
    "list5"
   ]
  },
  {
   "cell_type": "code",
   "execution_count": 35,
   "id": "7de30950",
   "metadata": {},
   "outputs": [],
   "source": [
    "list6=[20,'ABC',45,89.2,'Delhi',78.2,True]"
   ]
  },
  {
   "cell_type": "code",
   "execution_count": 36,
   "id": "b2d334bc",
   "metadata": {},
   "outputs": [
    {
     "data": {
      "text/plain": [
       "[20, 'ABC', 45, 89.2, 'Delhi', 78.2, True]"
      ]
     },
     "execution_count": 36,
     "metadata": {},
     "output_type": "execute_result"
    }
   ],
   "source": [
    "list6"
   ]
  },
  {
   "cell_type": "code",
   "execution_count": 37,
   "id": "76937910",
   "metadata": {},
   "outputs": [],
   "source": [
    "citylist=['Mumbai','Pune','Chennai','Banglore','Noida']"
   ]
  },
  {
   "cell_type": "code",
   "execution_count": 38,
   "id": "af5e3fd0",
   "metadata": {},
   "outputs": [
    {
     "data": {
      "text/plain": [
       "['Mumbai', 'Pune', 'Chennai', 'Banglore', 'Noida']"
      ]
     },
     "execution_count": 38,
     "metadata": {},
     "output_type": "execute_result"
    }
   ],
   "source": [
    "citylist"
   ]
  },
  {
   "cell_type": "code",
   "execution_count": 40,
   "id": "bf28f93d",
   "metadata": {},
   "outputs": [
    {
     "data": {
      "text/plain": [
       "['Sauce', 'Biscuit', 'Coke', 'Maggi']"
      ]
     },
     "execution_count": 40,
     "metadata": {},
     "output_type": "execute_result"
    }
   ],
   "source": [
    "foodlist=['Sauce', 'Biscuit', 'Coke', 'Maggi']\n",
    "foodlist"
   ]
  },
  {
   "cell_type": "code",
   "execution_count": 42,
   "id": "48d829a5",
   "metadata": {},
   "outputs": [
    {
     "data": {
      "text/plain": [
       "44.0"
      ]
     },
     "execution_count": 42,
     "metadata": {},
     "output_type": "execute_result"
    }
   ],
   "source": [
    "base=4\n",
    "height=22\n",
    "(1/2)*base*height #(0.5)"
   ]
  }
 ],
 "metadata": {
  "kernelspec": {
   "display_name": "Python 3 (ipykernel)",
   "language": "python",
   "name": "python3"
  },
  "language_info": {
   "codemirror_mode": {
    "name": "ipython",
    "version": 3
   },
   "file_extension": ".py",
   "mimetype": "text/x-python",
   "name": "python",
   "nbconvert_exporter": "python",
   "pygments_lexer": "ipython3",
   "version": "3.9.12"
  }
 },
 "nbformat": 4,
 "nbformat_minor": 5
}
