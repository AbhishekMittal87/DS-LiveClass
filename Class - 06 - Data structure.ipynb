{
 "cells": [
  {
   "cell_type": "code",
   "execution_count": 24,
   "id": "84ea6d06",
   "metadata": {},
   "outputs": [],
   "source": [
    "#data structure\n",
    "mydict={'key1':'value1','key2':'value2','key3':'value3'}"
   ]
  },
  {
   "cell_type": "code",
   "execution_count": 25,
   "id": "49d3c139",
   "metadata": {},
   "outputs": [],
   "source": [
    "mydict={'Empid':101,'Name':'AAA','dept':'Sales'}"
   ]
  },
  {
   "cell_type": "code",
   "execution_count": 27,
   "id": "2393cdd0",
   "metadata": {},
   "outputs": [
    {
     "data": {
      "text/plain": [
       "101"
      ]
     },
     "execution_count": 27,
     "metadata": {},
     "output_type": "execute_result"
    }
   ],
   "source": [
    "mydict['Empid']"
   ]
  },
  {
   "cell_type": "code",
   "execution_count": 28,
   "id": "0799e73c",
   "metadata": {},
   "outputs": [
    {
     "data": {
      "text/plain": [
       "'AAA'"
      ]
     },
     "execution_count": 28,
     "metadata": {},
     "output_type": "execute_result"
    }
   ],
   "source": [
    "mydict['Name'] "
   ]
  },
  {
   "cell_type": "code",
   "execution_count": 30,
   "id": "5f58e99d",
   "metadata": {},
   "outputs": [
    {
     "data": {
      "text/plain": [
       "'Sales'"
      ]
     },
     "execution_count": 30,
     "metadata": {},
     "output_type": "execute_result"
    }
   ],
   "source": [
    "mydict['dept']"
   ]
  },
  {
   "cell_type": "code",
   "execution_count": 32,
   "id": "2829b9f5",
   "metadata": {},
   "outputs": [],
   "source": [
    "#update data\n",
    "mydict['dept']='Marketing'"
   ]
  },
  {
   "cell_type": "code",
   "execution_count": 33,
   "id": "5a461025",
   "metadata": {},
   "outputs": [
    {
     "data": {
      "text/plain": [
       "'Marketing'"
      ]
     },
     "execution_count": 33,
     "metadata": {},
     "output_type": "execute_result"
    }
   ],
   "source": [
    "mydict['dept']"
   ]
  },
  {
   "cell_type": "code",
   "execution_count": 34,
   "id": "e8d2428b",
   "metadata": {},
   "outputs": [
    {
     "data": {
      "text/plain": [
       "{'Empid': 101, 'Name': 'AAA', 'dept': 'Marketing'}"
      ]
     },
     "execution_count": 34,
     "metadata": {},
     "output_type": "execute_result"
    }
   ],
   "source": [
    "mydict"
   ]
  },
  {
   "cell_type": "code",
   "execution_count": 35,
   "id": "d7c3de4e",
   "metadata": {},
   "outputs": [],
   "source": [
    "mydict={'Empid':101,'Name':'AAA','dept':'Marketing'}"
   ]
  },
  {
   "cell_type": "code",
   "execution_count": 36,
   "id": "9f6af9b0",
   "metadata": {},
   "outputs": [
    {
     "data": {
      "text/plain": [
       "{'Empid': 101, 'Name': 'AAA', 'dept': 'Marketing'}"
      ]
     },
     "execution_count": 36,
     "metadata": {},
     "output_type": "execute_result"
    }
   ],
   "source": [
    "mydict"
   ]
  },
  {
   "cell_type": "code",
   "execution_count": 37,
   "id": "5ec0033c",
   "metadata": {},
   "outputs": [
    {
     "data": {
      "text/plain": [
       "dict_keys(['Empid', 'Name', 'dept'])"
      ]
     },
     "execution_count": 37,
     "metadata": {},
     "output_type": "execute_result"
    }
   ],
   "source": [
    "mydict.keys()"
   ]
  },
  {
   "cell_type": "code",
   "execution_count": 38,
   "id": "7ae19b09",
   "metadata": {},
   "outputs": [
    {
     "data": {
      "text/plain": [
       "dict_values([101, 'AAA', 'Marketing'])"
      ]
     },
     "execution_count": 38,
     "metadata": {},
     "output_type": "execute_result"
    }
   ],
   "source": [
    "mydict.values()"
   ]
  },
  {
   "cell_type": "code",
   "execution_count": 39,
   "id": "e900746c",
   "metadata": {},
   "outputs": [
    {
     "data": {
      "text/plain": [
       "dict_items([('Empid', 101), ('Name', 'AAA'), ('dept', 'Marketing')])"
      ]
     },
     "execution_count": 39,
     "metadata": {},
     "output_type": "execute_result"
    }
   ],
   "source": [
    "mydict.items()"
   ]
  },
  {
   "cell_type": "code",
   "execution_count": 42,
   "id": "95f61eea",
   "metadata": {},
   "outputs": [],
   "source": [
    "dict1={'Name':'Abhi', 'Age':7, 'Class':'First'}"
   ]
  },
  {
   "cell_type": "code",
   "execution_count": 44,
   "id": "3855215b",
   "metadata": {},
   "outputs": [
    {
     "data": {
      "text/plain": [
       "{'Name': 'Abhi', 'Age': 7, 'Class': 'First'}"
      ]
     },
     "execution_count": 44,
     "metadata": {},
     "output_type": "execute_result"
    }
   ],
   "source": [
    "dict1"
   ]
  },
  {
   "cell_type": "code",
   "execution_count": 45,
   "id": "8753bf1d",
   "metadata": {},
   "outputs": [
    {
     "data": {
      "text/plain": [
       "'Abhi'"
      ]
     },
     "execution_count": 45,
     "metadata": {},
     "output_type": "execute_result"
    }
   ],
   "source": [
    "dict1['Name']"
   ]
  },
  {
   "cell_type": "code",
   "execution_count": 46,
   "id": "7793ab0e",
   "metadata": {},
   "outputs": [
    {
     "name": "stdout",
     "output_type": "stream",
     "text": [
      "7\n"
     ]
    }
   ],
   "source": [
    "print(dict1['Age'])"
   ]
  },
  {
   "cell_type": "code",
   "execution_count": 49,
   "id": "b1ce851b",
   "metadata": {},
   "outputs": [],
   "source": [
    "dict1['Age']=10"
   ]
  },
  {
   "cell_type": "code",
   "execution_count": 50,
   "id": "0f98a092",
   "metadata": {},
   "outputs": [
    {
     "data": {
      "text/plain": [
       "{'Name': 'Abhi', 'Age': 10, 'Class': 'First'}"
      ]
     },
     "execution_count": 50,
     "metadata": {},
     "output_type": "execute_result"
    }
   ],
   "source": [
    "dict1"
   ]
  },
  {
   "cell_type": "code",
   "execution_count": 51,
   "id": "39a698e5",
   "metadata": {},
   "outputs": [
    {
     "name": "stdout",
     "output_type": "stream",
     "text": [
      "First\n"
     ]
    }
   ],
   "source": [
    "print(dict1['Class'])"
   ]
  },
  {
   "cell_type": "code",
   "execution_count": 53,
   "id": "8551ee9d",
   "metadata": {},
   "outputs": [
    {
     "name": "stdout",
     "output_type": "stream",
     "text": [
      "dict['Name']: Abhi\n"
     ]
    }
   ],
   "source": [
    "print(\"dict['Name']:\",dict1['Name'])"
   ]
  },
  {
   "cell_type": "code",
   "execution_count": 55,
   "id": "1f6983ee",
   "metadata": {},
   "outputs": [
    {
     "data": {
      "text/plain": [
       "3"
      ]
     },
     "execution_count": 55,
     "metadata": {},
     "output_type": "execute_result"
    }
   ],
   "source": [
    "len(dict1)"
   ]
  },
  {
   "cell_type": "code",
   "execution_count": 56,
   "id": "41d615ab",
   "metadata": {},
   "outputs": [
    {
     "data": {
      "text/plain": [
       "dict_keys(['Name', 'Age', 'Class'])"
      ]
     },
     "execution_count": 56,
     "metadata": {},
     "output_type": "execute_result"
    }
   ],
   "source": [
    "dict1.keys()"
   ]
  },
  {
   "cell_type": "code",
   "execution_count": 57,
   "id": "c871926f",
   "metadata": {},
   "outputs": [
    {
     "data": {
      "text/plain": [
       "dict_values(['Abhi', 10, 'First'])"
      ]
     },
     "execution_count": 57,
     "metadata": {},
     "output_type": "execute_result"
    }
   ],
   "source": [
    "dict1.values()"
   ]
  },
  {
   "cell_type": "code",
   "execution_count": 58,
   "id": "e028d40a",
   "metadata": {},
   "outputs": [
    {
     "data": {
      "text/plain": [
       "dict_items([('Name', 'Abhi'), ('Age', 10), ('Class', 'First')])"
      ]
     },
     "execution_count": 58,
     "metadata": {},
     "output_type": "execute_result"
    }
   ],
   "source": [
    "dict1.items()"
   ]
  },
  {
   "cell_type": "code",
   "execution_count": 60,
   "id": "4ffd8ea1",
   "metadata": {},
   "outputs": [],
   "source": [
    "#adding a new key value pair\n",
    "dict1.update({'Fee':5000})"
   ]
  },
  {
   "cell_type": "code",
   "execution_count": 62,
   "id": "f6e96e3e",
   "metadata": {},
   "outputs": [
    {
     "data": {
      "text/plain": [
       "{'Name': 'Abhi', 'Age': 10, 'Class': 'First', 'Fee': 5000}"
      ]
     },
     "execution_count": 62,
     "metadata": {},
     "output_type": "execute_result"
    }
   ],
   "source": [
    "dict1"
   ]
  },
  {
   "cell_type": "code",
   "execution_count": 64,
   "id": "9af8a82c",
   "metadata": {},
   "outputs": [],
   "source": [
    "#updating existing key’s value\n",
    "dict1['Fee']=9500"
   ]
  },
  {
   "cell_type": "code",
   "execution_count": 65,
   "id": "a119dd84",
   "metadata": {},
   "outputs": [
    {
     "data": {
      "text/plain": [
       "{'Name': 'Abhi', 'Age': 10, 'Class': 'First', 'Fee': 9500}"
      ]
     },
     "execution_count": 65,
     "metadata": {},
     "output_type": "execute_result"
    }
   ],
   "source": [
    "dict1"
   ]
  },
  {
   "cell_type": "code",
   "execution_count": 72,
   "id": "280a6d9d",
   "metadata": {},
   "outputs": [],
   "source": [
    "#Make a dictionary naming colordict with key value pair\n",
    "#Rock:brown\n",
    "#Trees:green\n",
    "#Apple:red\n",
    "#Banana:yellow"
   ]
  },
  {
   "cell_type": "code",
   "execution_count": 76,
   "id": "e0f557ff",
   "metadata": {},
   "outputs": [
    {
     "data": {
      "text/plain": [
       "50"
      ]
     },
     "execution_count": 76,
     "metadata": {},
     "output_type": "execute_result"
    }
   ],
   "source": [
    "price = {\"apple\" : 100, \"orange\":50, \"pineapple\":70}\n",
    "price[\"orange\"]"
   ]
  },
  {
   "cell_type": "code",
   "execution_count": 77,
   "id": "2353388e",
   "metadata": {},
   "outputs": [
    {
     "data": {
      "text/plain": [
       "tuple"
      ]
     },
     "execution_count": 77,
     "metadata": {},
     "output_type": "execute_result"
    }
   ],
   "source": [
    "mytuple=(1,2,3)\n",
    "type(mytuple)"
   ]
  },
  {
   "cell_type": "code",
   "execution_count": 78,
   "id": "777a27e5",
   "metadata": {},
   "outputs": [
    {
     "data": {
      "text/plain": [
       "3"
      ]
     },
     "execution_count": 78,
     "metadata": {},
     "output_type": "execute_result"
    }
   ],
   "source": [
    "tup=('a','a','a','b')\n",
    "tup.count('a')"
   ]
  },
  {
   "cell_type": "code",
   "execution_count": 80,
   "id": "619bdfed",
   "metadata": {},
   "outputs": [
    {
     "data": {
      "text/plain": [
       "3"
      ]
     },
     "execution_count": 80,
     "metadata": {},
     "output_type": "execute_result"
    }
   ],
   "source": [
    "tup.index('b')"
   ]
  },
  {
   "cell_type": "code",
   "execution_count": 81,
   "id": "0f408883",
   "metadata": {},
   "outputs": [
    {
     "data": {
      "text/plain": [
       "set"
      ]
     },
     "execution_count": 81,
     "metadata": {},
     "output_type": "execute_result"
    }
   ],
   "source": [
    "myset=set()\n",
    "type(myset)"
   ]
  },
  {
   "cell_type": "code",
   "execution_count": 82,
   "id": "8e471114",
   "metadata": {},
   "outputs": [
    {
     "data": {
      "text/plain": [
       "{1}"
      ]
     },
     "execution_count": 82,
     "metadata": {},
     "output_type": "execute_result"
    }
   ],
   "source": [
    "myset.add(1)\n",
    "myset"
   ]
  },
  {
   "cell_type": "code",
   "execution_count": 83,
   "id": "b12accd6",
   "metadata": {},
   "outputs": [
    {
     "data": {
      "text/plain": [
       "{1, 2}"
      ]
     },
     "execution_count": 83,
     "metadata": {},
     "output_type": "execute_result"
    }
   ],
   "source": [
    "myset.add(2)\n",
    "myset"
   ]
  },
  {
   "cell_type": "code",
   "execution_count": 86,
   "id": "08dbf852",
   "metadata": {},
   "outputs": [
    {
     "data": {
      "text/plain": [
       "{1, 2}"
      ]
     },
     "execution_count": 86,
     "metadata": {},
     "output_type": "execute_result"
    }
   ],
   "source": [
    "myset.add(2)\n",
    "myset"
   ]
  },
  {
   "cell_type": "code",
   "execution_count": 88,
   "id": "e8e426a3",
   "metadata": {},
   "outputs": [
    {
     "data": {
      "text/plain": [
       "bool"
      ]
     },
     "execution_count": 88,
     "metadata": {},
     "output_type": "execute_result"
    }
   ],
   "source": [
    "b=False\n",
    "type(b)"
   ]
  },
  {
   "cell_type": "code",
   "execution_count": 89,
   "id": "71c13f9c",
   "metadata": {},
   "outputs": [
    {
     "data": {
      "text/plain": [
       "True"
      ]
     },
     "execution_count": 89,
     "metadata": {},
     "output_type": "execute_result"
    }
   ],
   "source": [
    "3>2 and 2>1"
   ]
  },
  {
   "cell_type": "code",
   "execution_count": 90,
   "id": "b61cc42e",
   "metadata": {},
   "outputs": [],
   "source": [
    "#Dictionary with integer keys\n",
    "intdict={10:\"C++\",20:\"Java\",30:\"Python\",40:\"Ruby\"}"
   ]
  },
  {
   "cell_type": "code",
   "execution_count": 91,
   "id": "607d0ce2",
   "metadata": {},
   "outputs": [
    {
     "data": {
      "text/plain": [
       "dict_keys([10, 20, 30, 40])"
      ]
     },
     "execution_count": 91,
     "metadata": {},
     "output_type": "execute_result"
    }
   ],
   "source": [
    "intdict.keys()"
   ]
  },
  {
   "cell_type": "code",
   "execution_count": 92,
   "id": "46622921",
   "metadata": {},
   "outputs": [
    {
     "data": {
      "text/plain": [
       "dict_values(['C++', 'Java', 'Python', 'Ruby'])"
      ]
     },
     "execution_count": 92,
     "metadata": {},
     "output_type": "execute_result"
    }
   ],
   "source": [
    "intdict.values()"
   ]
  },
  {
   "cell_type": "code",
   "execution_count": 93,
   "id": "c5c4f459",
   "metadata": {},
   "outputs": [
    {
     "data": {
      "text/plain": [
       "dict_items([(10, 'C++'), (20, 'Java'), (30, 'Python'), (40, 'Ruby')])"
      ]
     },
     "execution_count": 93,
     "metadata": {},
     "output_type": "execute_result"
    }
   ],
   "source": [
    "intdict.items()"
   ]
  },
  {
   "cell_type": "code",
   "execution_count": 94,
   "id": "7cc01e80",
   "metadata": {},
   "outputs": [],
   "source": [
    "#adding a new key to a dictionary\n",
    "intdict.update({50:'Rails'})"
   ]
  },
  {
   "cell_type": "code",
   "execution_count": 95,
   "id": "e9c17ef3",
   "metadata": {},
   "outputs": [
    {
     "data": {
      "text/plain": [
       "{10: 'C++', 20: 'Java', 30: 'Python', 40: 'Ruby', 50: 'Rails'}"
      ]
     },
     "execution_count": 95,
     "metadata": {},
     "output_type": "execute_result"
    }
   ],
   "source": [
    "intdict"
   ]
  },
  {
   "cell_type": "code",
   "execution_count": 96,
   "id": "4e8ce25f",
   "metadata": {},
   "outputs": [
    {
     "data": {
      "text/plain": [
       "{10: 'C++', 20: 'Java', 30: 'Python', 40: 'Csharp', 50: 'Rails'}"
      ]
     },
     "execution_count": 96,
     "metadata": {},
     "output_type": "execute_result"
    }
   ],
   "source": [
    "#updating a value in given key\n",
    "intdict[40]='Csharp'\n",
    "intdict"
   ]
  },
  {
   "cell_type": "code",
   "execution_count": 97,
   "id": "adca20ea",
   "metadata": {},
   "outputs": [
    {
     "data": {
      "text/plain": [
       "{10: 'C++', 20: 'Java', 30: 'Python', 40: 'Csharp'}"
      ]
     },
     "execution_count": 97,
     "metadata": {},
     "output_type": "execute_result"
    }
   ],
   "source": [
    "# delete a key\n",
    "del intdict[50]\n",
    "intdict"
   ]
  },
  {
   "cell_type": "code",
   "execution_count": 98,
   "id": "0d13c991",
   "metadata": {},
   "outputs": [
    {
     "ename": "TypeError",
     "evalue": "'builtin_function_or_method' object is not subscriptable",
     "output_type": "error",
     "traceback": [
      "\u001b[1;31m---------------------------------------------------------------------------\u001b[0m",
      "\u001b[1;31mTypeError\u001b[0m                                 Traceback (most recent call last)",
      "Input \u001b[1;32mIn [98]\u001b[0m, in \u001b[0;36m<cell line: 2>\u001b[1;34m()\u001b[0m\n\u001b[0;32m      1\u001b[0m \u001b[38;5;66;03m#delete with pop\u001b[39;00m\n\u001b[1;32m----> 2\u001b[0m \u001b[43mintdict\u001b[49m\u001b[38;5;241;43m.\u001b[39;49m\u001b[43mpop\u001b[49m\u001b[43m[\u001b[49m\u001b[38;5;241;43m30\u001b[39;49m\u001b[43m]\u001b[49m\n",
      "\u001b[1;31mTypeError\u001b[0m: 'builtin_function_or_method' object is not subscriptable"
     ]
    }
   ],
   "source": [
    "#delete with pop\n",
    "intdict.pop[30]"
   ]
  }
 ],
 "metadata": {
  "kernelspec": {
   "display_name": "Python 3 (ipykernel)",
   "language": "python",
   "name": "python3"
  },
  "language_info": {
   "codemirror_mode": {
    "name": "ipython",
    "version": 3
   },
   "file_extension": ".py",
   "mimetype": "text/x-python",
   "name": "python",
   "nbconvert_exporter": "python",
   "pygments_lexer": "ipython3",
   "version": "3.9.12"
  }
 },
 "nbformat": 4,
 "nbformat_minor": 5
}
