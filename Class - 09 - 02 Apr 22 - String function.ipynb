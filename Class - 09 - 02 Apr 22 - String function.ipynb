{
 "cells": [
  {
   "cell_type": "markdown",
   "id": "19673346",
   "metadata": {},
   "source": [
    "## String Function"
   ]
  },
  {
   "cell_type": "code",
   "execution_count": 1,
   "id": "33d73933",
   "metadata": {},
   "outputs": [],
   "source": [
    "#string function\n",
    "string1='computer'"
   ]
  },
  {
   "cell_type": "code",
   "execution_count": 2,
   "id": "4a397ada",
   "metadata": {},
   "outputs": [
    {
     "data": {
      "text/plain": [
       "'computer'"
      ]
     },
     "execution_count": 2,
     "metadata": {},
     "output_type": "execute_result"
    }
   ],
   "source": [
    "string1"
   ]
  },
  {
   "cell_type": "code",
   "execution_count": 3,
   "id": "0eea0136",
   "metadata": {},
   "outputs": [
    {
     "data": {
      "text/plain": [
       "'COMPUTER'"
      ]
     },
     "execution_count": 3,
     "metadata": {},
     "output_type": "execute_result"
    }
   ],
   "source": [
    "string1.upper()"
   ]
  },
  {
   "cell_type": "code",
   "execution_count": 5,
   "id": "4a5776be",
   "metadata": {},
   "outputs": [
    {
     "ename": "SyntaxError",
     "evalue": "invalid syntax (1707114657.py, line 1)",
     "output_type": "error",
     "traceback": [
      "\u001b[1;36m  Input \u001b[1;32mIn [5]\u001b[1;36m\u001b[0m\n\u001b[1;33m    first name='Abhishek'\u001b[0m\n\u001b[1;37m          ^\u001b[0m\n\u001b[1;31mSyntaxError\u001b[0m\u001b[1;31m:\u001b[0m invalid syntax\n"
     ]
    }
   ],
   "source": [
    "first name='Abhishek'"
   ]
  },
  {
   "cell_type": "code",
   "execution_count": 6,
   "id": "71401f1a",
   "metadata": {},
   "outputs": [],
   "source": [
    "first_name='Abhishek'"
   ]
  },
  {
   "cell_type": "code",
   "execution_count": 7,
   "id": "54f8e42c",
   "metadata": {},
   "outputs": [
    {
     "data": {
      "text/plain": [
       "'Abhishek'"
      ]
     },
     "execution_count": 7,
     "metadata": {},
     "output_type": "execute_result"
    }
   ],
   "source": [
    "first_name"
   ]
  },
  {
   "cell_type": "code",
   "execution_count": 8,
   "id": "d0a73ebd",
   "metadata": {},
   "outputs": [
    {
     "data": {
      "text/plain": [
       "'ABHISHEK'"
      ]
     },
     "execution_count": 8,
     "metadata": {},
     "output_type": "execute_result"
    }
   ],
   "source": [
    "first_name.upper()"
   ]
  },
  {
   "cell_type": "code",
   "execution_count": 9,
   "id": "caaee89d",
   "metadata": {},
   "outputs": [],
   "source": [
    "string2='DESKTOP'"
   ]
  },
  {
   "cell_type": "code",
   "execution_count": 10,
   "id": "aae00524",
   "metadata": {},
   "outputs": [
    {
     "data": {
      "text/plain": [
       "'DESKTOP'"
      ]
     },
     "execution_count": 10,
     "metadata": {},
     "output_type": "execute_result"
    }
   ],
   "source": [
    "string2"
   ]
  },
  {
   "cell_type": "code",
   "execution_count": 11,
   "id": "9088e21b",
   "metadata": {},
   "outputs": [
    {
     "data": {
      "text/plain": [
       "'desktop'"
      ]
     },
     "execution_count": 11,
     "metadata": {},
     "output_type": "execute_result"
    }
   ],
   "source": [
    "string2.lower()"
   ]
  },
  {
   "cell_type": "code",
   "execution_count": 12,
   "id": "60f29f01",
   "metadata": {},
   "outputs": [],
   "source": [
    "city='PUNE'"
   ]
  },
  {
   "cell_type": "code",
   "execution_count": 13,
   "id": "f73eaad0",
   "metadata": {},
   "outputs": [
    {
     "data": {
      "text/plain": [
       "'PUNE'"
      ]
     },
     "execution_count": 13,
     "metadata": {},
     "output_type": "execute_result"
    }
   ],
   "source": [
    "city"
   ]
  },
  {
   "cell_type": "code",
   "execution_count": 14,
   "id": "6414fa46",
   "metadata": {},
   "outputs": [
    {
     "data": {
      "text/plain": [
       "'pune'"
      ]
     },
     "execution_count": 14,
     "metadata": {},
     "output_type": "execute_result"
    }
   ],
   "source": [
    "city.lower()"
   ]
  },
  {
   "cell_type": "code",
   "execution_count": 15,
   "id": "ead25300",
   "metadata": {},
   "outputs": [],
   "source": [
    "city1=city.lower()"
   ]
  },
  {
   "cell_type": "code",
   "execution_count": 16,
   "id": "ab120420",
   "metadata": {},
   "outputs": [
    {
     "data": {
      "text/plain": [
       "'pune'"
      ]
     },
     "execution_count": 16,
     "metadata": {},
     "output_type": "execute_result"
    }
   ],
   "source": [
    "city1"
   ]
  },
  {
   "cell_type": "code",
   "execution_count": 17,
   "id": "57e91ed5",
   "metadata": {},
   "outputs": [
    {
     "data": {
      "text/plain": [
       "'computer'"
      ]
     },
     "execution_count": 17,
     "metadata": {},
     "output_type": "execute_result"
    }
   ],
   "source": [
    "string1"
   ]
  },
  {
   "cell_type": "code",
   "execution_count": 18,
   "id": "d0acd6c3",
   "metadata": {},
   "outputs": [],
   "source": [
    "a=string1.upper()"
   ]
  },
  {
   "cell_type": "code",
   "execution_count": 19,
   "id": "408035e1",
   "metadata": {},
   "outputs": [
    {
     "data": {
      "text/plain": [
       "'COMPUTER'"
      ]
     },
     "execution_count": 19,
     "metadata": {},
     "output_type": "execute_result"
    }
   ],
   "source": [
    "a"
   ]
  },
  {
   "cell_type": "code",
   "execution_count": 21,
   "id": "2f278741",
   "metadata": {},
   "outputs": [
    {
     "data": {
      "text/plain": [
       "'lEnOvO'"
      ]
     },
     "execution_count": 21,
     "metadata": {},
     "output_type": "execute_result"
    }
   ],
   "source": [
    "b=\"LeNoVo\"\n",
    "b.swapcase()"
   ]
  },
  {
   "cell_type": "code",
   "execution_count": 22,
   "id": "dcd5b2b1",
   "metadata": {},
   "outputs": [
    {
     "data": {
      "text/plain": [
       "'lenovo'"
      ]
     },
     "execution_count": 22,
     "metadata": {},
     "output_type": "execute_result"
    }
   ],
   "source": [
    "b.casefold()"
   ]
  },
  {
   "cell_type": "code",
   "execution_count": 23,
   "id": "0543a731",
   "metadata": {},
   "outputs": [
    {
     "data": {
      "text/plain": [
       "'LeNoVo'"
      ]
     },
     "execution_count": 23,
     "metadata": {},
     "output_type": "execute_result"
    }
   ],
   "source": [
    "b"
   ]
  },
  {
   "cell_type": "code",
   "execution_count": 24,
   "id": "ad5b79ee",
   "metadata": {},
   "outputs": [
    {
     "data": {
      "text/plain": [
       "'lEnOvO'"
      ]
     },
     "execution_count": 24,
     "metadata": {},
     "output_type": "execute_result"
    }
   ],
   "source": [
    "b.swapcase()"
   ]
  },
  {
   "cell_type": "code",
   "execution_count": 25,
   "id": "9e1f5dd2",
   "metadata": {},
   "outputs": [
    {
     "data": {
      "text/plain": [
       "'nEwYoRk'"
      ]
     },
     "execution_count": 25,
     "metadata": {},
     "output_type": "execute_result"
    }
   ],
   "source": [
    "p=\"NeWyOrK\"\n",
    "p.swapcase()"
   ]
  },
  {
   "cell_type": "code",
   "execution_count": 26,
   "id": "15838be5",
   "metadata": {},
   "outputs": [
    {
     "data": {
      "text/plain": [
       "['Data', 'Science', 'is', 'used', 'everywhere', 'in', 'industry']"
      ]
     },
     "execution_count": 26,
     "metadata": {},
     "output_type": "execute_result"
    }
   ],
   "source": [
    "Val=\"Data Science is used everywhere in industry\"\n",
    "Val.split()"
   ]
  },
  {
   "cell_type": "code",
   "execution_count": 27,
   "id": "d5de8949",
   "metadata": {},
   "outputs": [
    {
     "data": {
      "text/plain": [
       "'computer'"
      ]
     },
     "execution_count": 27,
     "metadata": {},
     "output_type": "execute_result"
    }
   ],
   "source": [
    "string1"
   ]
  },
  {
   "cell_type": "code",
   "execution_count": 28,
   "id": "9c450729",
   "metadata": {},
   "outputs": [
    {
     "data": {
      "text/plain": [
       "False"
      ]
     },
     "execution_count": 28,
     "metadata": {},
     "output_type": "execute_result"
    }
   ],
   "source": [
    "string1.isupper()"
   ]
  },
  {
   "cell_type": "code",
   "execution_count": 10,
   "id": "10cc9597",
   "metadata": {},
   "outputs": [
    {
     "data": {
      "text/plain": [
       "True"
      ]
     },
     "execution_count": 10,
     "metadata": {},
     "output_type": "execute_result"
    }
   ],
   "source": [
    "string1 = 'COMPUTER'\n",
    "string1.isupper()"
   ]
  },
  {
   "cell_type": "code",
   "execution_count": 9,
   "id": "817c058b",
   "metadata": {},
   "outputs": [
    {
     "data": {
      "text/plain": [
       "False"
      ]
     },
     "execution_count": 9,
     "metadata": {},
     "output_type": "execute_result"
    }
   ],
   "source": [
    "a='COMPUTER'\n",
    "a.islower()"
   ]
  },
  {
   "cell_type": "code",
   "execution_count": 29,
   "id": "d44b73a0",
   "metadata": {},
   "outputs": [
    {
     "data": {
      "text/plain": [
       "True"
      ]
     },
     "execution_count": 29,
     "metadata": {},
     "output_type": "execute_result"
    }
   ],
   "source": [
    "#alpha = alphabatic\n",
    "string1.isalpha()"
   ]
  },
  {
   "cell_type": "code",
   "execution_count": 30,
   "id": "5aac4484",
   "metadata": {},
   "outputs": [
    {
     "data": {
      "text/plain": [
       "False"
      ]
     },
     "execution_count": 30,
     "metadata": {},
     "output_type": "execute_result"
    }
   ],
   "source": [
    "string1.isnumeric()"
   ]
  },
  {
   "cell_type": "code",
   "execution_count": 31,
   "id": "416ffbf8",
   "metadata": {},
   "outputs": [
    {
     "data": {
      "text/plain": [
       "False"
      ]
     },
     "execution_count": 31,
     "metadata": {},
     "output_type": "execute_result"
    }
   ],
   "source": [
    "string1.isdigit()"
   ]
  },
  {
   "cell_type": "code",
   "execution_count": 37,
   "id": "e021131d",
   "metadata": {},
   "outputs": [],
   "source": [
    "s='ABCD123'"
   ]
  },
  {
   "cell_type": "code",
   "execution_count": 38,
   "id": "8e42e210",
   "metadata": {},
   "outputs": [
    {
     "data": {
      "text/plain": [
       "'ABCD123'"
      ]
     },
     "execution_count": 38,
     "metadata": {},
     "output_type": "execute_result"
    }
   ],
   "source": [
    "s"
   ]
  },
  {
   "cell_type": "code",
   "execution_count": 39,
   "id": "7de3fd27",
   "metadata": {},
   "outputs": [
    {
     "data": {
      "text/plain": [
       "True"
      ]
     },
     "execution_count": 39,
     "metadata": {},
     "output_type": "execute_result"
    }
   ],
   "source": [
    "#alnum = alphabatic numeric\n",
    "s.isalnum()"
   ]
  },
  {
   "cell_type": "code",
   "execution_count": 40,
   "id": "001b2d44",
   "metadata": {},
   "outputs": [
    {
     "data": {
      "text/plain": [
       "'computer'"
      ]
     },
     "execution_count": 40,
     "metadata": {},
     "output_type": "execute_result"
    }
   ],
   "source": [
    "string1"
   ]
  },
  {
   "cell_type": "code",
   "execution_count": 41,
   "id": "141b6f62",
   "metadata": {},
   "outputs": [
    {
     "data": {
      "text/plain": [
       "'Computer'"
      ]
     },
     "execution_count": 41,
     "metadata": {},
     "output_type": "execute_result"
    }
   ],
   "source": [
    "string1.capitalize()"
   ]
  },
  {
   "cell_type": "code",
   "execution_count": 42,
   "id": "758ea241",
   "metadata": {},
   "outputs": [
    {
     "data": {
      "text/plain": [
       "'DESKTOP'"
      ]
     },
     "execution_count": 42,
     "metadata": {},
     "output_type": "execute_result"
    }
   ],
   "source": [
    "string2"
   ]
  },
  {
   "cell_type": "code",
   "execution_count": 43,
   "id": "de4dbef0",
   "metadata": {},
   "outputs": [],
   "source": [
    "string3=\"data science is used everywhere in industry\""
   ]
  },
  {
   "cell_type": "code",
   "execution_count": 44,
   "id": "5ff8aaf0",
   "metadata": {},
   "outputs": [
    {
     "data": {
      "text/plain": [
       "'data science is used everywhere in industry'"
      ]
     },
     "execution_count": 44,
     "metadata": {},
     "output_type": "execute_result"
    }
   ],
   "source": [
    "string3"
   ]
  },
  {
   "cell_type": "code",
   "execution_count": 45,
   "id": "d83dc3dd",
   "metadata": {},
   "outputs": [
    {
     "data": {
      "text/plain": [
       "'Data Science Is Used Everywhere In Industry'"
      ]
     },
     "execution_count": 45,
     "metadata": {},
     "output_type": "execute_result"
    }
   ],
   "source": [
    "#title\n",
    "string3.title()"
   ]
  },
  {
   "cell_type": "code",
   "execution_count": 47,
   "id": "5d2f565f",
   "metadata": {},
   "outputs": [
    {
     "name": "stdout",
     "output_type": "stream",
     "text": [
      "The two strings are matching\n"
     ]
    }
   ],
   "source": [
    "#casefold ignores the matching of worlds by lowercase or uppercase\n",
    "string1=\"Tesla\"\n",
    "string2=\"tesla\"\n",
    "if string1.casefold()==string2.casefold():\n",
    "    print(\"The two strings are matching\")\n",
    "else:\n",
    "    print(\"The two strings are not matching\")"
   ]
  },
  {
   "cell_type": "code",
   "execution_count": 48,
   "id": "31d60733",
   "metadata": {},
   "outputs": [
    {
     "data": {
      "text/plain": [
       "'Desk top'"
      ]
     },
     "execution_count": 48,
     "metadata": {},
     "output_type": "execute_result"
    }
   ],
   "source": [
    "j = \"desk top\"\n",
    "j.capitalize()"
   ]
  },
  {
   "cell_type": "code",
   "execution_count": 49,
   "id": "40d8ca49",
   "metadata": {},
   "outputs": [
    {
     "data": {
      "text/plain": [
       "'Desk Top'"
      ]
     },
     "execution_count": 49,
     "metadata": {},
     "output_type": "execute_result"
    }
   ],
   "source": [
    "j.title()"
   ]
  },
  {
   "cell_type": "markdown",
   "id": "42040929",
   "metadata": {},
   "source": [
    "String format"
   ]
  },
  {
   "cell_type": "markdown",
   "id": "8585d2ec",
   "metadata": {},
   "source": [
    "Python ses C-style string formatting to create new, formatted strings. The \"%\" operator is used to format a set of variables enclosed in a \"tuple\" (a fixed size list), together with a format string, which contains normal text together with \"argument specifiers\", special symbols like \"%s\" and \"%d\"."
   ]
  },
  {
   "cell_type": "code",
   "execution_count": 50,
   "id": "fc8b96df",
   "metadata": {},
   "outputs": [
    {
     "name": "stdout",
     "output_type": "stream",
     "text": [
      "Hello, John!\n"
     ]
    }
   ],
   "source": [
    "#%s - % is string, %d - % is digit, %f - % - float\n",
    "#The prints out \"Hello, John!\"\n",
    "name = \"John\"\n",
    "print(\"Hello, %s!\" % name)"
   ]
  },
  {
   "cell_type": "code",
   "execution_count": 51,
   "id": "37e4c7a1",
   "metadata": {},
   "outputs": [
    {
     "name": "stdout",
     "output_type": "stream",
     "text": [
      "Hello, John !\n"
     ]
    }
   ],
   "source": [
    "print(\"Hello,\",name,\"!\")"
   ]
  },
  {
   "cell_type": "code",
   "execution_count": 53,
   "id": "4ff2434f",
   "metadata": {},
   "outputs": [
    {
     "name": "stdout",
     "output_type": "stream",
     "text": [
      "John is 23 years old.\n"
     ]
    }
   ],
   "source": [
    "#This prints out \"John is 23 years old.\"\n",
    "name = \"John\"\n",
    "age = 23\n",
    "print(\"%s is %d years old.\" % (name,age))"
   ]
  },
  {
   "cell_type": "code",
   "execution_count": 54,
   "id": "1ed372aa",
   "metadata": {},
   "outputs": [
    {
     "name": "stdout",
     "output_type": "stream",
     "text": [
      "I have apples and lemons\n"
     ]
    }
   ],
   "source": [
    "x=\"apples\"\n",
    "y=\"lemons\"\n",
    "z=\"I have %s and %s\" %(x,y)\n",
    "print(z)"
   ]
  },
  {
   "cell_type": "code",
   "execution_count": 56,
   "id": "7fcda9fa",
   "metadata": {},
   "outputs": [
    {
     "name": "stdout",
     "output_type": "stream",
     "text": [
      "his name is john he is 24 year old.\n"
     ]
    }
   ],
   "source": [
    "name='john'\n",
    "age=24\n",
    "print(\"his name is {} he is {} year old.\". format(name,age))"
   ]
  },
  {
   "cell_type": "code",
   "execution_count": 57,
   "id": "036f0c9a",
   "metadata": {},
   "outputs": [
    {
     "name": "stdout",
     "output_type": "stream",
     "text": [
      "spam and eggs\n",
      "eggs and spam\n"
     ]
    }
   ],
   "source": [
    "print('{0} and {1}'.format('spam', 'eggs'))\n",
    "print('{1} and {0}'.format('spam', 'eggs'))"
   ]
  }
 ],
 "metadata": {
  "kernelspec": {
   "display_name": "Python 3 (ipykernel)",
   "language": "python",
   "name": "python3"
  },
  "language_info": {
   "codemirror_mode": {
    "name": "ipython",
    "version": 3
   },
   "file_extension": ".py",
   "mimetype": "text/x-python",
   "name": "python",
   "nbconvert_exporter": "python",
   "pygments_lexer": "ipython3",
   "version": "3.9.12"
  }
 },
 "nbformat": 4,
 "nbformat_minor": 5
}
