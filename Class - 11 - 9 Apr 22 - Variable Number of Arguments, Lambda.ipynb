{
 "cells": [
  {
   "cell_type": "markdown",
   "id": "afd28567",
   "metadata": {},
   "source": [
    "Variable Number of Arguments"
   ]
  },
  {
   "cell_type": "code",
   "execution_count": 1,
   "id": "bf27d145",
   "metadata": {},
   "outputs": [],
   "source": [
    "#*args = wildcard(many arguments)\n",
    "def plus(*args):\n",
    "    return sum(args)"
   ]
  },
  {
   "cell_type": "code",
   "execution_count": 2,
   "id": "22a5f4c7",
   "metadata": {},
   "outputs": [
    {
     "data": {
      "text/plain": [
       "20"
      ]
     },
     "execution_count": 2,
     "metadata": {},
     "output_type": "execute_result"
    }
   ],
   "source": [
    "#calling a function\n",
    "plus(6,4,10)"
   ]
  },
  {
   "cell_type": "code",
   "execution_count": 3,
   "id": "bde8a855",
   "metadata": {},
   "outputs": [
    {
     "data": {
      "text/plain": [
       "14"
      ]
     },
     "execution_count": 3,
     "metadata": {},
     "output_type": "execute_result"
    }
   ],
   "source": [
    "plus(2,2,1,4,5)"
   ]
  },
  {
   "cell_type": "code",
   "execution_count": 4,
   "id": "93e43196",
   "metadata": {},
   "outputs": [],
   "source": [
    "def mu(*args):\n",
    "    return max(args)"
   ]
  },
  {
   "cell_type": "code",
   "execution_count": 5,
   "id": "0d4eb5f0",
   "metadata": {},
   "outputs": [
    {
     "data": {
      "text/plain": [
       "90"
      ]
     },
     "execution_count": 5,
     "metadata": {},
     "output_type": "execute_result"
    }
   ],
   "source": [
    "mu(9,90,78,45)"
   ]
  },
  {
   "cell_type": "code",
   "execution_count": 6,
   "id": "5c254bc3",
   "metadata": {},
   "outputs": [
    {
     "data": {
      "text/plain": [
       "80"
      ]
     },
     "execution_count": 6,
     "metadata": {},
     "output_type": "execute_result"
    }
   ],
   "source": [
    "mu(19,80)"
   ]
  },
  {
   "cell_type": "code",
   "execution_count": 7,
   "id": "33aafcb4",
   "metadata": {},
   "outputs": [],
   "source": [
    "def mi(*args):\n",
    "    return min(args)"
   ]
  },
  {
   "cell_type": "code",
   "execution_count": 8,
   "id": "8f1239b5",
   "metadata": {},
   "outputs": [
    {
     "data": {
      "text/plain": [
       "67"
      ]
     },
     "execution_count": 8,
     "metadata": {},
     "output_type": "execute_result"
    }
   ],
   "source": [
    "mi(67,83,96)"
   ]
  },
  {
   "cell_type": "code",
   "execution_count": 9,
   "id": "388c318e",
   "metadata": {},
   "outputs": [
    {
     "name": "stdout",
     "output_type": "stream",
     "text": [
      "15\n"
     ]
    }
   ],
   "source": [
    "def addthree(a,b,c):\n",
    "    print(a+b+c)\n",
    "addthree(5,8,2)"
   ]
  },
  {
   "cell_type": "code",
   "execution_count": 10,
   "id": "ae20e244",
   "metadata": {},
   "outputs": [
    {
     "name": "stdout",
     "output_type": "stream",
     "text": [
      "6\n"
     ]
    }
   ],
   "source": [
    "def sumfunction(a,b):\n",
    "\tresult=a+b\n",
    "\tprint(result)\n",
    "sumfunction(2,4)"
   ]
  },
  {
   "cell_type": "code",
   "execution_count": 11,
   "id": "0e490aff",
   "metadata": {},
   "outputs": [
    {
     "ename": "TypeError",
     "evalue": "sumfunction() takes 2 positional arguments but 3 were given",
     "output_type": "error",
     "traceback": [
      "\u001b[1;31m---------------------------------------------------------------------------\u001b[0m",
      "\u001b[1;31mTypeError\u001b[0m                                 Traceback (most recent call last)",
      "Input \u001b[1;32mIn [11]\u001b[0m, in \u001b[0;36m<cell line: 1>\u001b[1;34m()\u001b[0m\n\u001b[1;32m----> 1\u001b[0m \u001b[43msumfunction\u001b[49m\u001b[43m(\u001b[49m\u001b[38;5;241;43m8\u001b[39;49m\u001b[43m,\u001b[49m\u001b[38;5;241;43m6\u001b[39;49m\u001b[43m,\u001b[49m\u001b[38;5;241;43m2\u001b[39;49m\u001b[43m)\u001b[49m\n",
      "\u001b[1;31mTypeError\u001b[0m: sumfunction() takes 2 positional arguments but 3 were given"
     ]
    }
   ],
   "source": [
    "sumfunction(8,6,2)"
   ]
  },
  {
   "cell_type": "code",
   "execution_count": null,
   "id": "175b1182",
   "metadata": {},
   "outputs": [],
   "source": [
    "def sumfunction(a,b,c):\n",
    "\tresult=a+b+c\n",
    "\tprint(result)"
   ]
  },
  {
   "cell_type": "code",
   "execution_count": null,
   "id": "40cc4da9",
   "metadata": {},
   "outputs": [],
   "source": [
    "sumfunction(8,6,2)"
   ]
  },
  {
   "cell_type": "code",
   "execution_count": null,
   "id": "0f6e3daf",
   "metadata": {},
   "outputs": [],
   "source": [
    "def sumfunc(a,b):\n",
    "    result=a+b\n",
    "    print(result)"
   ]
  },
  {
   "cell_type": "code",
   "execution_count": 12,
   "id": "552a4a98",
   "metadata": {},
   "outputs": [
    {
     "name": "stdout",
     "output_type": "stream",
     "text": [
      "6\n"
     ]
    },
    {
     "ename": "NameError",
     "evalue": "name 'Sumfunction' is not defined",
     "output_type": "error",
     "traceback": [
      "\u001b[1;31m---------------------------------------------------------------------------\u001b[0m",
      "\u001b[1;31mNameError\u001b[0m                                 Traceback (most recent call last)",
      "Input \u001b[1;32mIn [12]\u001b[0m, in \u001b[0;36m<cell line: 5>\u001b[1;34m()\u001b[0m\n\u001b[0;32m      3\u001b[0m \t\u001b[38;5;28mprint\u001b[39m(result)\n\u001b[0;32m      4\u001b[0m sumfunction(\u001b[38;5;241m2\u001b[39m,\u001b[38;5;241m4\u001b[39m)\n\u001b[1;32m----> 5\u001b[0m \u001b[43mSumfunction\u001b[49m(\u001b[38;5;241m8\u001b[39m,\u001b[38;5;241m6\u001b[39m,\u001b[38;5;241m2\u001b[39m)\n",
      "\u001b[1;31mNameError\u001b[0m: name 'Sumfunction' is not defined"
     ]
    }
   ],
   "source": [
    "def sumfunction(a,b):\n",
    "\tresult=a+b\n",
    "\tprint(result)\n",
    "sumfunction(2,4)\n",
    "Sumfunction(8,6,2)#because 3 functions"
   ]
  },
  {
   "cell_type": "code",
   "execution_count": 13,
   "id": "cd5f422a",
   "metadata": {},
   "outputs": [
    {
     "name": "stdout",
     "output_type": "stream",
     "text": [
      "16\n"
     ]
    }
   ],
   "source": [
    "def sumfunction1(a,b,c):\n",
    "    result=a+b+c\n",
    "    print(result)\n",
    "sumfunction1(8,6,2)"
   ]
  },
  {
   "cell_type": "code",
   "execution_count": 14,
   "id": "05020cd1",
   "metadata": {},
   "outputs": [],
   "source": [
    "#if you want use variable numbers use *args\n",
    "def plus(*args):\n",
    "    return sum(args)"
   ]
  },
  {
   "cell_type": "code",
   "execution_count": 15,
   "id": "0c4ecf43",
   "metadata": {},
   "outputs": [
    {
     "data": {
      "text/plain": [
       "42"
      ]
     },
     "execution_count": 15,
     "metadata": {},
     "output_type": "execute_result"
    }
   ],
   "source": [
    "plus(8,5,9,8,7,2,3)"
   ]
  },
  {
   "cell_type": "code",
   "execution_count": 16,
   "id": "cac23540",
   "metadata": {},
   "outputs": [],
   "source": [
    "#s=s+n or s+=n\n",
    "def sumfunc(*numbers):\n",
    "    s=0\n",
    "    for n in numbers:\n",
    "        s+=n\n",
    "    return s"
   ]
  },
  {
   "cell_type": "code",
   "execution_count": 17,
   "id": "d94d5731",
   "metadata": {},
   "outputs": [
    {
     "name": "stdout",
     "output_type": "stream",
     "text": [
      "3\n"
     ]
    }
   ],
   "source": [
    "print(sumfunc(1,2))"
   ]
  },
  {
   "cell_type": "code",
   "execution_count": 18,
   "id": "b0a0cb02",
   "metadata": {},
   "outputs": [
    {
     "name": "stdout",
     "output_type": "stream",
     "text": [
      "6\n"
     ]
    }
   ],
   "source": [
    "print(sumfunc(1,2,3))"
   ]
  },
  {
   "cell_type": "code",
   "execution_count": 19,
   "id": "67830f02",
   "metadata": {},
   "outputs": [
    {
     "name": "stdout",
     "output_type": "stream",
     "text": [
      "10\n"
     ]
    }
   ],
   "source": [
    "print(sumfunc(1,2,3,4))"
   ]
  },
  {
   "cell_type": "markdown",
   "id": "4e4131f3",
   "metadata": {},
   "source": [
    "Anonymous Function Lambda"
   ]
  },
  {
   "cell_type": "markdown",
   "id": "84252d7e",
   "metadata": {},
   "source": [
    "A lambda function is a small function containing a single expression. Lambda functions can also act as anonymous functions where they don't require any name. These are very helpful when we have to perform small tasks with less code.\n",
    "\n"
   ]
  },
  {
   "cell_type": "code",
   "execution_count": 20,
   "id": "d7ad9b65",
   "metadata": {},
   "outputs": [
    {
     "data": {
      "text/plain": [
       "10"
      ]
     },
     "execution_count": 20,
     "metadata": {},
     "output_type": "execute_result"
    }
   ],
   "source": [
    "test = lambda x:x*2\n",
    "test(5)"
   ]
  },
  {
   "cell_type": "code",
   "execution_count": 21,
   "id": "a3f2142e",
   "metadata": {},
   "outputs": [
    {
     "data": {
      "text/plain": [
       "16"
      ]
     },
     "execution_count": 21,
     "metadata": {},
     "output_type": "execute_result"
    }
   ],
   "source": [
    "test(8)"
   ]
  },
  {
   "cell_type": "code",
   "execution_count": 22,
   "id": "e9d6398f",
   "metadata": {},
   "outputs": [
    {
     "data": {
      "text/plain": [
       "7"
      ]
     },
     "execution_count": 22,
     "metadata": {},
     "output_type": "execute_result"
    }
   ],
   "source": [
    "test1add=lambda x,y :x+y\n",
    "test1add(3,4)"
   ]
  },
  {
   "cell_type": "code",
   "execution_count": 23,
   "id": "993ae6fa",
   "metadata": {},
   "outputs": [
    {
     "data": {
      "text/plain": [
       "6"
      ]
     },
     "execution_count": 23,
     "metadata": {},
     "output_type": "execute_result"
    }
   ],
   "source": [
    "m=lambda x,y,z:x+y+z\n",
    "m(1,2,3)"
   ]
  },
  {
   "cell_type": "code",
   "execution_count": 24,
   "id": "f375dcac",
   "metadata": {},
   "outputs": [
    {
     "data": {
      "text/plain": [
       "16"
      ]
     },
     "execution_count": 24,
     "metadata": {},
     "output_type": "execute_result"
    }
   ],
   "source": [
    "#find square\n",
    "square = lambda x:x**2\n",
    "square(4)"
   ]
  },
  {
   "cell_type": "code",
   "execution_count": 25,
   "id": "caea19c4",
   "metadata": {},
   "outputs": [
    {
     "data": {
      "text/plain": [
       "8.0"
      ]
     },
     "execution_count": 25,
     "metadata": {},
     "output_type": "execute_result"
    }
   ],
   "source": [
    "#find squareroot\n",
    "sqroot = lambda x:x**(1/2)\n",
    "sqroot(64)"
   ]
  },
  {
   "cell_type": "code",
   "execution_count": 26,
   "id": "66e89120",
   "metadata": {},
   "outputs": [
    {
     "data": {
      "text/plain": [
       "64"
      ]
     },
     "execution_count": 26,
     "metadata": {},
     "output_type": "execute_result"
    }
   ],
   "source": [
    "#find cube\n",
    "cube=lambda x:x**3\n",
    "cube(4)"
   ]
  },
  {
   "cell_type": "code",
   "execution_count": 27,
   "id": "8083b12d",
   "metadata": {},
   "outputs": [
    {
     "data": {
      "text/plain": [
       "3.0"
      ]
     },
     "execution_count": 27,
     "metadata": {},
     "output_type": "execute_result"
    }
   ],
   "source": [
    "#find cube root\n",
    "cbroot = lambda x:x**(1/3)\n",
    "cbroot(27)"
   ]
  },
  {
   "cell_type": "code",
   "execution_count": 48,
   "id": "2dacc3ba",
   "metadata": {},
   "outputs": [
    {
     "name": "stdout",
     "output_type": "stream",
     "text": [
      "Value of total : 15\n",
      "Value of total : 70\n"
     ]
    }
   ],
   "source": [
    "addvar = lambda arg1, arg2:arg1 + arg2;\n",
    "#Now you can call sum as a function\n",
    "print(\"Value of total :\", addvar(5,10))\n",
    "print(\"Value of total :\", addvar(30,40))"
   ]
  },
  {
   "cell_type": "code",
   "execution_count": 43,
   "id": "49a4a42e",
   "metadata": {},
   "outputs": [],
   "source": [
    "#Converting temperature in fahrenheit\n",
    "def fahrenheit(T):\n",
    "    return((9/5)*T + 32)"
   ]
  },
  {
   "cell_type": "code",
   "execution_count": 44,
   "id": "565bc5fe",
   "metadata": {},
   "outputs": [
    {
     "data": {
      "text/plain": [
       "95.0"
      ]
     },
     "execution_count": 44,
     "metadata": {},
     "output_type": "execute_result"
    }
   ],
   "source": [
    "f=fahrenheit(35)\n",
    "f"
   ]
  },
  {
   "cell_type": "code",
   "execution_count": 45,
   "id": "1bae0c8b",
   "metadata": {},
   "outputs": [],
   "source": [
    "#Converting temperature in Celcius\n",
    "def celcius(T):\n",
    "    return((5/9)*(T - 32))"
   ]
  },
  {
   "cell_type": "code",
   "execution_count": 46,
   "id": "1d2f6651",
   "metadata": {},
   "outputs": [
    {
     "data": {
      "text/plain": [
       "35.0"
      ]
     },
     "execution_count": 46,
     "metadata": {},
     "output_type": "execute_result"
    }
   ],
   "source": [
    "ce=celcius(95)\n",
    "ce"
   ]
  },
  {
   "cell_type": "code",
   "execution_count": 53,
   "id": "cc8b3836",
   "metadata": {},
   "outputs": [],
   "source": [
    "def testin():\n",
    "    x=int(input(\"Enter x\"))\n",
    "    t=lambda x:x**2\n",
    "    print(t(x))"
   ]
  },
  {
   "cell_type": "code",
   "execution_count": 54,
   "id": "9c03525e",
   "metadata": {},
   "outputs": [
    {
     "name": "stdout",
     "output_type": "stream",
     "text": [
      "Enter x4\n",
      "16\n"
     ]
    }
   ],
   "source": [
    "testin()"
   ]
  },
  {
   "cell_type": "code",
   "execution_count": 49,
   "id": "42751a8e",
   "metadata": {},
   "outputs": [
    {
     "data": {
      "text/plain": [
       "101.12"
      ]
     },
     "execution_count": 49,
     "metadata": {},
     "output_type": "execute_result"
    }
   ],
   "source": [
    "#lambda with fahrenheit\n",
    "F= lambda x:(9/5)*x + 32;\n",
    "F(38.4)"
   ]
  },
  {
   "cell_type": "code",
   "execution_count": 50,
   "id": "78e93fa2",
   "metadata": {},
   "outputs": [],
   "source": [
    "#map in lambda ......>it applies on list"
   ]
  },
  {
   "cell_type": "code",
   "execution_count": 51,
   "id": "22578fdb",
   "metadata": {},
   "outputs": [],
   "source": [
    "mylist=[1,2,3,4]\n",
    "#map(lambda x : x*2, mylist)"
   ]
  },
  {
   "cell_type": "code",
   "execution_count": 52,
   "id": "78ecfcf9",
   "metadata": {},
   "outputs": [
    {
     "data": {
      "text/plain": [
       "[2, 4, 6, 8]"
      ]
     },
     "execution_count": 52,
     "metadata": {},
     "output_type": "execute_result"
    }
   ],
   "source": [
    "list(map(lambda x : x*2,mylist))"
   ]
  },
  {
   "cell_type": "code",
   "execution_count": null,
   "id": "0a58876d",
   "metadata": {},
   "outputs": [],
   "source": []
  }
 ],
 "metadata": {
  "kernelspec": {
   "display_name": "Python 3 (ipykernel)",
   "language": "python",
   "name": "python3"
  },
  "language_info": {
   "codemirror_mode": {
    "name": "ipython",
    "version": 3
   },
   "file_extension": ".py",
   "mimetype": "text/x-python",
   "name": "python",
   "nbconvert_exporter": "python",
   "pygments_lexer": "ipython3",
   "version": "3.9.12"
  }
 },
 "nbformat": 4,
 "nbformat_minor": 5
}
