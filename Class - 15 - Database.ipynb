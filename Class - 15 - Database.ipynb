{
 "cells": [
  {
   "cell_type": "code",
   "execution_count": 14,
   "id": "7fcacb40",
   "metadata": {},
   "outputs": [],
   "source": [
    "import sqlite3"
   ]
  },
  {
   "cell_type": "code",
   "execution_count": 15,
   "id": "157b83b1",
   "metadata": {},
   "outputs": [],
   "source": [
    "#Working with database using sql (structured query language)\n",
    "#1.Create a connection object.\n",
    "#2.From the connection object, create a cursor object.\n",
    "#3.Using the cursor object, call the execute method with create table query as the parameter."
   ]
  },
  {
   "cell_type": "code",
   "execution_count": 54,
   "id": "892e39af",
   "metadata": {},
   "outputs": [],
   "source": [
    "#create database\n",
    "#student _database will be created in jupyter notebook home\n",
    "#First connection object\n",
    "db=sqlite3.connect(\"student_database.db\")"
   ]
  },
  {
   "cell_type": "code",
   "execution_count": 55,
   "id": "efaf7ee7",
   "metadata": {},
   "outputs": [],
   "source": [
    "#Cursor\n",
    "#A cursor in SQL is a temporary work area created in system memory when a SQL statement is executed.\n",
    "#A SQL cursor is a set of rows together with a pointer that identifies a current row. \n",
    "#It is a database object to retrieve data from a result set on row at a time."
   ]
  },
  {
   "cell_type": "code",
   "execution_count": 56,
   "id": "f6cf5770",
   "metadata": {},
   "outputs": [],
   "source": [
    "#create cursor object from connection \n",
    "cur=db.cursor()"
   ]
  },
  {
   "cell_type": "code",
   "execution_count": 57,
   "id": "0abf21d8",
   "metadata": {},
   "outputs": [],
   "source": [
    "#Create table in student_database\n",
    "#SQL data types –\n",
    "#Integer –numeric values\n",
    "#Real – decimal values\n",
    "#Text ----character values\n",
    "#Char(20) ----character values"
   ]
  },
  {
   "cell_type": "code",
   "execution_count": 58,
   "id": "56fae911",
   "metadata": {},
   "outputs": [
    {
     "data": {
      "text/plain": [
       "<sqlite3.Cursor at 0x275fc74ace0>"
      ]
     },
     "execution_count": 58,
     "metadata": {},
     "output_type": "execute_result"
    }
   ],
   "source": [
    "cur.execute(\"create table student (id int primary key, name text, marks int)\")"
   ]
  },
  {
   "cell_type": "code",
   "execution_count": 59,
   "id": "56eea584",
   "metadata": {},
   "outputs": [],
   "source": [
    "#Insert data in student table\n",
    "cur.execute(\"insert into student(id,name,marks)values(1,'John',90)\")\n",
    "db.commit()"
   ]
  },
  {
   "cell_type": "code",
   "execution_count": 60,
   "id": "e8f9fa5c",
   "metadata": {},
   "outputs": [
    {
     "name": "stdout",
     "output_type": "stream",
     "text": [
      "1 Record(s)inserted\n"
     ]
    }
   ],
   "source": [
    "print(cur.rowcount,\"Record(s)inserted\")"
   ]
  },
  {
   "cell_type": "code",
   "execution_count": 61,
   "id": "1b4e7273",
   "metadata": {},
   "outputs": [],
   "source": [
    "cur.execute(\"insert into student(id,name,marks)values(2,'Teena',100)\")\n",
    "db.commit()"
   ]
  },
  {
   "cell_type": "code",
   "execution_count": 62,
   "id": "03e8806b",
   "metadata": {},
   "outputs": [
    {
     "name": "stdout",
     "output_type": "stream",
     "text": [
      "(1, 'John', 90)\n",
      "(2, 'Teena', 100)\n"
     ]
    }
   ],
   "source": [
    "results=cur.execute(\"select * from student\")\n",
    "for row in results:\n",
    "    print(row)"
   ]
  },
  {
   "cell_type": "code",
   "execution_count": 63,
   "id": "dfc7981f",
   "metadata": {},
   "outputs": [],
   "source": [
    "cur.execute(\"insert into student values(3, 'Andrew', 70)\")\n",
    "db.commit()"
   ]
  },
  {
   "cell_type": "code",
   "execution_count": 64,
   "id": "aedac51c",
   "metadata": {},
   "outputs": [
    {
     "name": "stdout",
     "output_type": "stream",
     "text": [
      "(1, 'John', 90)\n",
      "(2, 'Teena', 100)\n",
      "(3, 'Andrew', 70)\n"
     ]
    }
   ],
   "source": [
    "results=cur.execute(\"select * from student\")\n",
    "for row in results:\n",
    "    print(row)"
   ]
  },
  {
   "cell_type": "code",
   "execution_count": 65,
   "id": "7d0aa71c",
   "metadata": {},
   "outputs": [],
   "source": [
    "cur.execute(\"insert into student values(4, 'Dorsey', 56)\")\n",
    "db.commit()"
   ]
  },
  {
   "cell_type": "code",
   "execution_count": 66,
   "id": "bf3d39c2",
   "metadata": {},
   "outputs": [],
   "source": [
    "cur.execute(\"insert into student values(5, 'David', 45)\")\n",
    "db.commit()"
   ]
  },
  {
   "cell_type": "code",
   "execution_count": 67,
   "id": "0b701f84",
   "metadata": {},
   "outputs": [],
   "source": [
    "cur.execute(\"insert into student values(6, 'Kim', 70)\")\n",
    "db.commit()"
   ]
  },
  {
   "cell_type": "code",
   "execution_count": 68,
   "id": "bb6148fe",
   "metadata": {},
   "outputs": [
    {
     "name": "stdout",
     "output_type": "stream",
     "text": [
      "(1, 'John', 90)\n",
      "(2, 'Teena', 100)\n",
      "(3, 'Andrew', 70)\n",
      "(4, 'Dorsey', 56)\n",
      "(5, 'David', 45)\n",
      "(6, 'Kim', 70)\n"
     ]
    }
   ],
   "source": [
    "results=cur.execute(\"select * from student\")\n",
    "for row in results:\n",
    "    print(row)"
   ]
  },
  {
   "cell_type": "code",
   "execution_count": 69,
   "id": "ba00c888",
   "metadata": {},
   "outputs": [
    {
     "name": "stdout",
     "output_type": "stream",
     "text": [
      "2 Record * from student\n"
     ]
    }
   ],
   "source": [
    "#multiple record insertion\n",
    "cur.execute(\"insert into student values(7, 'Kiara', 75),(8,'Jack',94)\")\n",
    "db.commit()\n",
    "#count of records inserted\n",
    "print(cur.rowcount,\"Record * from student\")"
   ]
  },
  {
   "cell_type": "code",
   "execution_count": 70,
   "id": "65dfb637",
   "metadata": {},
   "outputs": [
    {
     "name": "stdout",
     "output_type": "stream",
     "text": [
      "(1, 'John', 90)\n",
      "(2, 'Teena', 100)\n",
      "(3, 'Andrew', 70)\n",
      "(4, 'Dorsey', 56)\n",
      "(5, 'David', 45)\n",
      "(6, 'Kim', 70)\n",
      "(7, 'Kiara', 75)\n",
      "(8, 'Jack', 94)\n"
     ]
    }
   ],
   "source": [
    "results=cur.execute(\"select * from student\")\n",
    "for row in results:\n",
    "    print(row)"
   ]
  },
  {
   "cell_type": "code",
   "execution_count": 71,
   "id": "c7bce889",
   "metadata": {},
   "outputs": [],
   "source": [
    "#Database will be created in the given location\n",
    "db1=sqlite3.connect(\"C:/Users/Admin/studentdb.db\")"
   ]
  },
  {
   "cell_type": "code",
   "execution_count": 72,
   "id": "2360c959",
   "metadata": {},
   "outputs": [],
   "source": [
    "cur1=db1.cursor()"
   ]
  },
  {
   "cell_type": "code",
   "execution_count": 73,
   "id": "e9e79151",
   "metadata": {},
   "outputs": [
    {
     "data": {
      "text/plain": [
       "<sqlite3.Cursor at 0x275fc6cf2d0>"
      ]
     },
     "execution_count": 73,
     "metadata": {},
     "output_type": "execute_result"
    }
   ],
   "source": [
    "cur1.execute(\"create table employee (id int, name text, age int)\")"
   ]
  },
  {
   "cell_type": "code",
   "execution_count": 74,
   "id": "082890c8",
   "metadata": {},
   "outputs": [
    {
     "data": {
      "text/plain": [
       "<sqlite3.Cursor at 0x275fc6cf2d0>"
      ]
     },
     "execution_count": 74,
     "metadata": {},
     "output_type": "execute_result"
    }
   ],
   "source": [
    "cur1.execute(\"insert into employee values(1, 'Melina', 32)\")"
   ]
  },
  {
   "cell_type": "code",
   "execution_count": 75,
   "id": "1c4b13a6",
   "metadata": {},
   "outputs": [
    {
     "name": "stdout",
     "output_type": "stream",
     "text": [
      "1 Record(s) inserted\n"
     ]
    }
   ],
   "source": [
    "print(cur1.rowcount, \"Record(s) inserted\")"
   ]
  },
  {
   "cell_type": "code",
   "execution_count": 76,
   "id": "5e1a42ba",
   "metadata": {},
   "outputs": [],
   "source": [
    "results=cur1.execute(\"select * from employee\")"
   ]
  },
  {
   "cell_type": "code",
   "execution_count": 77,
   "id": "de9eed2d",
   "metadata": {},
   "outputs": [
    {
     "name": "stdout",
     "output_type": "stream",
     "text": [
      "(1, 'Melina', 32)\n"
     ]
    }
   ],
   "source": [
    "for row in results:\n",
    "    print(row)"
   ]
  },
  {
   "cell_type": "code",
   "execution_count": 78,
   "id": "67b5b6b0",
   "metadata": {},
   "outputs": [
    {
     "name": "stdout",
     "output_type": "stream",
     "text": [
      "(1, 'John', 90)\n",
      "(2, 'Teena', 100)\n",
      "(3, 'Andrew', 70)\n",
      "(4, 'Dorsey', 56)\n",
      "(5, 'David', 45)\n",
      "(6, 'Kim', 70)\n",
      "(7, 'Kiara', 75)\n",
      "(8, 'Jack', 94)\n"
     ]
    }
   ],
   "source": [
    "#Working with original database---- student database\n",
    "#Accessing data stored in SQLite using Python\n",
    "results=cur.execute('select * from student')\n",
    "for i in results:\n",
    "    print(i)"
   ]
  },
  {
   "cell_type": "code",
   "execution_count": 79,
   "id": "58414da8",
   "metadata": {},
   "outputs": [
    {
     "name": "stdout",
     "output_type": "stream",
     "text": [
      "(1, 'John')\n",
      "(2, 'Teena')\n",
      "(3, 'Andrew')\n",
      "(4, 'Dorsey')\n",
      "(5, 'David')\n",
      "(6, 'Kim')\n",
      "(7, 'Kiara')\n",
      "(8, 'Jack')\n"
     ]
    }
   ],
   "source": [
    "results=cur.execute('select id, name from student')\n",
    "for i in results:\n",
    "    print(i)"
   ]
  },
  {
   "cell_type": "code",
   "execution_count": 80,
   "id": "550c4775",
   "metadata": {},
   "outputs": [
    {
     "name": "stdout",
     "output_type": "stream",
     "text": [
      "(1, 90)\n",
      "(2, 100)\n",
      "(3, 70)\n",
      "(4, 56)\n",
      "(5, 45)\n",
      "(6, 70)\n",
      "(7, 75)\n",
      "(8, 94)\n"
     ]
    }
   ],
   "source": [
    "results=cur.execute('select id, marks from student')\n",
    "for i in results:\n",
    "    print(i)"
   ]
  },
  {
   "cell_type": "code",
   "execution_count": 81,
   "id": "2cdf194d",
   "metadata": {},
   "outputs": [
    {
     "name": "stdout",
     "output_type": "stream",
     "text": [
      "(1, 'John', 90)\n",
      "(2, 'Teena', 100)\n",
      "(3, 'Andrew', 70)\n",
      "(4, 'Dorsey', 56)\n",
      "(5, 'David', 45)\n",
      "(6, 'Kim', 70)\n",
      "(7, 'Kiara', 75)\n",
      "(8, 'Jack', 94)\n"
     ]
    }
   ],
   "source": [
    "results=cur.execute('select * from student')\n",
    "for i in results:\n",
    "    print(i)"
   ]
  },
  {
   "cell_type": "code",
   "execution_count": null,
   "id": "cbf20c6d",
   "metadata": {},
   "outputs": [],
   "source": []
  }
 ],
 "metadata": {
  "kernelspec": {
   "display_name": "Python 3 (ipykernel)",
   "language": "python",
   "name": "python3"
  },
  "language_info": {
   "codemirror_mode": {
    "name": "ipython",
    "version": 3
   },
   "file_extension": ".py",
   "mimetype": "text/x-python",
   "name": "python",
   "nbconvert_exporter": "python",
   "pygments_lexer": "ipython3",
   "version": "3.9.12"
  }
 },
 "nbformat": 4,
 "nbformat_minor": 5
}
