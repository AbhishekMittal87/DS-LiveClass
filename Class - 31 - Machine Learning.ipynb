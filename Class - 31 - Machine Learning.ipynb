{
 "cells": [
  {
   "cell_type": "markdown",
   "id": "c18e3682",
   "metadata": {},
   "source": [
    "# Machine Learning"
   ]
  },
  {
   "cell_type": "markdown",
   "id": "a75275ff",
   "metadata": {},
   "source": [
    "What is Machine Learning?\n",
    "Aspect of AI: creates knowledge\n",
    "Definition:\n",
    "Changes in [a] system that enable [it] to do the same task or tasks drawn from the same population more efficiently and more effectively the next time.(Simon 1983)\n",
    "There are two ways that a system can improve:\n",
    "1.By acquiring new knowledge\n",
    "Acquiring new facts\n",
    "Acquiring new skills\n",
    "2.By adapting its behavior\n",
    "Solving problems more accurately\n",
    "Solving problems more efficiently\n"
   ]
  },
  {
   "cell_type": "markdown",
   "id": "928b7337",
   "metadata": {},
   "source": [
    "Regression Introduction\n",
    "Basic idea:\n",
    "Use data to identify relationships\n",
    "Among variables and use these relationships to make predictions\n",
    "\n",
    "Regression analysis is a set of statistical processes for estimating the relationships among variables.\n",
    "Regression analysis describes the relationship between two (or more) variables.\n",
    "It includes many techniques for modeling and analyzing several variables, when the focus is on the relationship between a dependent variable and one or more independent variables (or ‘predictors’)\n",
    "Regression analysis helps one understand hwo the typical valueof the dependent variable (or ‘criterion variable’) changes when any one of the independent variables is varied, while the other independent variables are held fixed.\n"
   ]
  },
  {
   "cell_type": "markdown",
   "id": "bdf80416",
   "metadata": {},
   "source": [
    "Regression analysis is widely used for prediction and forecasting.\n",
    "Regression analysis is also used to understand which among the independent variables are related to the dependent variable, and to explore the forms of these relationships.\n",
    "\n",
    "Regression analysis can be used to infer causal relationsihips between the independent and dependent variables.\n",
    "\n",
    "Types of Regression Models\n",
    "1\tLinear\n",
    "2\tMultiple Linear\n"
   ]
  },
  {
   "cell_type": "markdown",
   "id": "ddee03a5",
   "metadata": {},
   "source": [
    "Linear Regression\n",
    "Linear regression uses one independent variable to explain or predict the outcome of the dependent variable Y\n",
    "Linear regression: Y = a + bX + e\n",
    "Where:\n",
    "Multiple Linear Regression\n",
    "Multiple regression uses two or more independent variables to product the outcome\n",
    "Multiple regression: Y=a + b1x1 + b2x2 + b3x3 + …. + bx + e\n",
    "Where\n",
    "Y = the variable that you are trying to predict (dependent variable)\n",
    "X = the variable that you are using to predict Y (independent variable)\n",
    "a = the intercept\n",
    "b = the slope\n",
    "e = the regression residual error\n"
   ]
  },
  {
   "cell_type": "markdown",
   "id": "3c9caa10",
   "metadata": {},
   "source": [
    "Linear regression\n",
    "Linear dependence constant rate of increase of one variable with respect to another (as opposed to e.g., diminishing returns)\n",
    "Examples:\n",
    "Income and educational level\n",
    "Demand for electricity and the weather\n",
    "Home sales and interest rates\n",
    "1Our focus:\n",
    "1aGain understanding of the mechanics\n",
    "The regression line\n",
    "Regression error\n",
    "Learn how to interpret and use the results.\n",
    "Learn how to refuge a regression analysis."
   ]
  },
  {
   "cell_type": "code",
   "execution_count": null,
   "id": "0aa4aa3c",
   "metadata": {},
   "outputs": [],
   "source": []
  },
  {
   "cell_type": "code",
   "execution_count": null,
   "id": "7e45d9fd",
   "metadata": {},
   "outputs": [],
   "source": []
  },
  {
   "cell_type": "code",
   "execution_count": null,
   "id": "8f8a65cf",
   "metadata": {},
   "outputs": [],
   "source": []
  }
 ],
 "metadata": {
  "kernelspec": {
   "display_name": "Python 3 (ipykernel)",
   "language": "python",
   "name": "python3"
  },
  "language_info": {
   "codemirror_mode": {
    "name": "ipython",
    "version": 3
   },
   "file_extension": ".py",
   "mimetype": "text/x-python",
   "name": "python",
   "nbconvert_exporter": "python",
   "pygments_lexer": "ipython3",
   "version": "3.9.12"
  }
 },
 "nbformat": 4,
 "nbformat_minor": 5
}
